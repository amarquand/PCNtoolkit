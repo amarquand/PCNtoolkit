{
 "cells": [
  {
   "cell_type": "code",
   "execution_count": 16,
   "metadata": {},
   "outputs": [],
   "source": [
    "import matplotlib.pyplot as plt\n",
    "import numpy as np\n",
    "import pandas as pd\n",
    "\n",
    "from pcntoolkit import BLR, BsplineBasisFunction, LinearBasisFunction, NormativeModel, NormData, load_fcon1000"
   ]
  },
  {
   "cell_type": "code",
   "execution_count": 68,
   "metadata": {},
   "outputs": [],
   "source": [
    "import os\n",
    "from typing import Any, Dict, List, Literal\n",
    "\n",
    "import matplotlib.pyplot as plt\n",
    "import numpy as np\n",
    "import pandas as pd\n",
    "import seaborn as sns\n",
    "from matplotlib.font_manager import FontProperties\n",
    "\n",
    "from pcntoolkit import NormativeModel, NormData\n",
    "\n",
    "\n",
    "def plot_centiles(\n",
    "    model: \"NormativeModel\",\n",
    "    centiles: List[float] | np.ndarray | None = None,\n",
    "    covariate: str | None = None,\n",
    "    covariate_range: tuple[float, float] = (None, None),  # type: ignore\n",
    "    batch_effects: Dict[str, List[str]] | None | Literal[\"all\"] = None,\n",
    "    scatter_data: NormData | None = None,\n",
    "    harmonize_data: bool = True,\n",
    "    hue_data: str = \"site\",\n",
    "    markers_data: str = \"sex\",\n",
    "    show_other_data: bool = False,\n",
    "    show_thrivelines: bool = False,\n",
    "    z_thrive: float = 0.0,\n",
    "    save_dir: str | None = None,\n",
    "    show_centile_labels: bool = True,\n",
    "    show_legend: bool = True,\n",
    "    plt_kwargs: dict | None = None,\n",
    "    **kwargs: Any,\n",
    ") -> None:\n",
    "    \"\"\"Generate centile plots for response variables with optional data overlay.\n",
    "\n",
    "    This function creates visualization of centile curves for all response variables\n",
    "    in the dataset. It can optionally show the actual data points overlaid on the\n",
    "    centile curves, with customizable styling based on categorical variables.\n",
    "\n",
    "    Parameters\n",
    "    ----------\n",
    "    model: NormativeModel\n",
    "        The model to plot the centiles for.\n",
    "    centiles: List[float] | np.ndarray | None, optional\n",
    "        The centiles to plot. If None, the default centiles will be used.\n",
    "    covariate: str | None, optional\n",
    "        The covariate to plot on the x-axis. If None, the first covariate in the model will be used.\n",
    "    covariate_range: tuple[float, float], optional\n",
    "        The range of the covariate to plot on the x-axis. If None, the range of the covariate that was in the train data will be used.\n",
    "    batch_effects: Dict[str, List[str]] | None | Literal[\"all\"], optional\n",
    "        The batch effects to plot the centiles for. If None, the batch effect that appears first in alphabetical order will be used.\n",
    "    scatter_data: NormData | None, optional\n",
    "        Data to scatter on top of the centiles.\n",
    "    harmonize_data: bool, optional\n",
    "        Whether to harmonize the scatter data before plotting. Data will be harmonized to the batch effect for which the centiles were computed.\n",
    "    hue_data: str, optional\n",
    "        The column to use for color coding the data. If None, the data will not be color coded.\n",
    "    markers_data: str, optional\n",
    "        The column to use for marker styling the data. If None, the data will not be marker styled.\n",
    "    show_other_data: bool, optional\n",
    "        Whether to scatter data belonging to groups not in batch_effects.\n",
    "    save_dir: str | None, optional\n",
    "        The directory to save the plot to. If None, the plot will not be saved.\n",
    "    show_centile_labels: bool, optional\n",
    "        Whether to show the centile labels on the plot.\n",
    "    show_legend: bool, optional\n",
    "        Whether to show the legend on the plot.\n",
    "    plt_kwargs: dict, optional\n",
    "        Additional keyword arguments for the plot.\n",
    "    **kwargs: Any, optional\n",
    "        Additional keyword arguments for the model.compute_centiles method.\n",
    "\n",
    "    Returns\n",
    "    -------\n",
    "    None\n",
    "        Displays the plot using matplotlib.\n",
    "    \"\"\"\n",
    "    if covariate is None:\n",
    "        covariate = model.covariates[0]\n",
    "        assert isinstance(covariate, str)\n",
    "\n",
    "    cov_min = covariate_range[0] or model.covariate_ranges[covariate][\"min\"]\n",
    "    cov_max = covariate_range[1] or model.covariate_ranges[covariate][\"max\"]\n",
    "    covariate_range = (cov_min, cov_max)\n",
    "\n",
    "    if batch_effects == \"all\":\n",
    "        batch_effects = model.unique_batch_effects\n",
    "    elif batch_effects is None:\n",
    "        batch_effects = {k: [v[0]] for k, v in model.unique_batch_effects.items()}\n",
    "\n",
    "    if plt_kwargs is None:\n",
    "        plt_kwargs = {}\n",
    "    palette = plt_kwargs.pop(\"cmap\", \"viridis\")\n",
    "\n",
    "    # Create some synthetic data with a single batch effect\n",
    "    # The plotted covariate is just a linspace\n",
    "    centile_covariates = np.linspace(covariate_range[0], covariate_range[1], 150)\n",
    "    centile_df = pd.DataFrame({covariate: centile_covariates})\n",
    "\n",
    "    # TODO: use the mean here\n",
    "    # Any other covariates are taken to be the midpoint between the observed min and max\n",
    "    for cov in model.covariates:\n",
    "        if cov != covariate:\n",
    "            minc = model.covariate_ranges[cov][\"min\"]\n",
    "            maxc = model.covariate_ranges[cov][\"max\"]\n",
    "            centile_df[cov] = (minc + maxc) / 2\n",
    "\n",
    "    # Batch effects are the first ones in the highlighted batch effects\n",
    "    for be, v in batch_effects.items():\n",
    "        centile_df[be] = v[0]\n",
    "    # Response vars are all 0, we don't need them\n",
    "    for rv in model.response_vars:\n",
    "        centile_df[rv] = 0\n",
    "    centile_data = NormData.from_dataframe(\n",
    "        \"centile\",\n",
    "        dataframe=centile_df,\n",
    "        covariates=model.covariates,\n",
    "        response_vars=model.response_vars,\n",
    "        batch_effects=list(batch_effects.keys()),\n",
    "    )  # type:ignore\n",
    "\n",
    "    if not hasattr(centile_data, \"centiles\"):\n",
    "        model.compute_centiles(centile_data, centiles=centiles, **kwargs)\n",
    "    if scatter_data and show_thrivelines:\n",
    "        model.compute_thrivelines(scatter_data, z_thrive=z_thrive)\n",
    "\n",
    "    if not model.has_batch_effect:\n",
    "        batch_effects = {}\n",
    "\n",
    "    if harmonize_data and scatter_data:\n",
    "        if model.has_batch_effect:\n",
    "            reference_batch_effect = {k: v[0] for k, v in batch_effects.items()}\n",
    "            model.harmonize(scatter_data, reference_batch_effect=reference_batch_effect)\n",
    "        else:\n",
    "            model.harmonize(scatter_data)\n",
    "\n",
    "    for response_var in model.response_vars:\n",
    "        _plot_centiles(\n",
    "            centile_data=centile_data,\n",
    "            response_var=response_var,\n",
    "            covariate=covariate,\n",
    "            covariate_range=covariate_range,\n",
    "            batch_effects=batch_effects,\n",
    "            scatter_data=scatter_data,\n",
    "            harmonize_data=harmonize_data,\n",
    "            hue_data=hue_data,\n",
    "            markers_data=markers_data,\n",
    "            show_other_data=show_other_data,\n",
    "            show_thrivelines=show_thrivelines,\n",
    "            palette=palette,\n",
    "            save_dir=save_dir,\n",
    "            show_centile_labels=show_centile_labels,\n",
    "            show_legend=show_legend,\n",
    "            plt_kwargs=plt_kwargs,\n",
    "        )\n",
    "\n",
    "\n",
    "def _plot_centiles(\n",
    "    centile_data: NormData,\n",
    "    response_var: str,\n",
    "    covariate: str = None,  # type: ignore\n",
    "    covariate_range: tuple[float, float] = (None, None),  # type: ignore\n",
    "    batch_effects: Dict[str, List[str]] = None,  # type: ignore\n",
    "    scatter_data: NormData | None = None,\n",
    "    harmonize_data: bool = True,\n",
    "    hue_data: str = \"site\",\n",
    "    markers_data: str = \"sex\",\n",
    "    show_other_data: bool = False,\n",
    "    show_thrivelines: bool = False,\n",
    "    palette: str = \"viridis\",\n",
    "    save_dir: str | None = None,\n",
    "    show_centile_labels: bool = True,\n",
    "    show_legend: bool = True,\n",
    "    plt_kwargs: dict = None,  # type: ignore\n",
    ") -> None:\n",
    "    sns.set_style(\"whitegrid\")\n",
    "    plt.figure(**plt_kwargs)\n",
    "    cmap = plt.get_cmap(palette)\n",
    "\n",
    "    filter_dict = {\n",
    "        \"covariates\": covariate,\n",
    "        \"response_vars\": response_var,\n",
    "    }\n",
    "\n",
    "    filtered = centile_data.sel(filter_dict)\n",
    "\n",
    "    for centile in centile_data.coords[\"centile\"][::-1]:\n",
    "        d_mean = abs(centile - 0.5)\n",
    "        if d_mean == 0:\n",
    "            thickness = 2\n",
    "        else:\n",
    "            thickness = 1\n",
    "        if d_mean <= 0.25:\n",
    "            style = \"-\"\n",
    "\n",
    "        elif d_mean <= 0.475:\n",
    "            style = \"--\"\n",
    "        else:\n",
    "            style = \":\"\n",
    "\n",
    "        sns.lineplot(\n",
    "            x=filtered.X,\n",
    "            y=filtered.centiles.sel(centile=centile),\n",
    "            # color=cmap(centile),\n",
    "            color=\"black\",\n",
    "            linestyle=style,\n",
    "            linewidth=thickness,\n",
    "            zorder=2,\n",
    "            legend=\"brief\",\n",
    "        )\n",
    "        color = cmap(centile)\n",
    "        font = FontProperties()\n",
    "        font.set_weight(\"bold\")\n",
    "        if show_centile_labels:\n",
    "            plt.text(\n",
    "                s=centile.item(),\n",
    "                x=filtered.X[0] - 1,\n",
    "                y=filtered.centiles.sel(centile=centile)[0],\n",
    "                color=\"black\",\n",
    "                horizontalalignment=\"right\",\n",
    "                verticalalignment=\"center\",\n",
    "                fontproperties=font,\n",
    "            )\n",
    "            plt.text(\n",
    "                s=centile.item(),\n",
    "                x=filtered.X[-1] + 1,\n",
    "                y=filtered.centiles.sel(centile=centile)[-1],\n",
    "                color=\"black\",\n",
    "                horizontalalignment=\"left\",\n",
    "                verticalalignment=\"center\",\n",
    "                fontproperties=font,\n",
    "            )\n",
    "\n",
    "    minx, maxx = plt.xlim()\n",
    "    plt.xlim(minx - 0.1 * (maxx - minx), maxx + 0.1 * (maxx - minx))\n",
    "\n",
    "    if scatter_data:\n",
    "        scatter_filter = scatter_data.sel(filter_dict)\n",
    "        df = scatter_filter.to_dataframe()\n",
    "        scatter_data_name = \"Y_harmonized\" if harmonize_data else \"Y\"\n",
    "        thriveline_data_name = \"thrive_Y_harmonized\" if harmonize_data else \"thrive_Y\"\n",
    "        columns = [(\"X\", covariate), (scatter_data_name, response_var)]\n",
    "        columns.extend([(\"batch_effects\", be.item()) for be in scatter_data.batch_effect_dims])\n",
    "        df = df[columns]\n",
    "        df.columns = [c[1] for c in df.columns]\n",
    "        if batch_effects == {}:\n",
    "            sns.scatterplot(\n",
    "                df,\n",
    "                x=covariate,\n",
    "                y=response_var,\n",
    "                label=scatter_data.name,\n",
    "                color=\"black\",\n",
    "                s=20,\n",
    "                alpha=0.6,\n",
    "                zorder=1,\n",
    "                linewidth=0,\n",
    "            )\n",
    "            if show_thrivelines:\n",
    "                plt.plot(scatter_filter.thrive_X.to_numpy().T, scatter_filter[thriveline_data_name].to_numpy().T)\n",
    "        else:\n",
    "            idx = np.full(len(df), True)\n",
    "            for j in batch_effects:\n",
    "                idx = np.logical_and(\n",
    "                    idx,\n",
    "                    df[j].isin(batch_effects[j]),\n",
    "                )\n",
    "            be_df = df[idx]\n",
    "            scatter = sns.scatterplot(\n",
    "                data=be_df,\n",
    "                x=covariate,\n",
    "                y=response_var,\n",
    "                hue=hue_data if hue_data in df else None,\n",
    "                style=markers_data if markers_data in df else None,\n",
    "                s=30,\n",
    "                alpha=0.8,\n",
    "                zorder=1,\n",
    "                linewidth=0,\n",
    "            )\n",
    "            if show_thrivelines:\n",
    "                plt.plot(scatter_filter.thrive_X.to_numpy().T, scatter_filter[thriveline_data_name].to_numpy().T)\n",
    "\n",
    "            if show_other_data:\n",
    "                non_be_df = df[~idx]\n",
    "                non_be_df[\"marker\"] = [\"Other data\"] * len(non_be_df)\n",
    "                sns.scatterplot(\n",
    "                    data=non_be_df,\n",
    "                    x=covariate,\n",
    "                    y=response_var,\n",
    "                    color=\"black\",\n",
    "                    style=\"marker\",\n",
    "                    linewidth=0,\n",
    "                    s=20,\n",
    "                    alpha=0.4,\n",
    "                    zorder=0,\n",
    "                )\n",
    "\n",
    "            if show_legend:\n",
    "                legend = scatter.get_legend()\n",
    "                if legend:\n",
    "                    handles = legend.legend_handles\n",
    "                    labels = [t.get_text() for t in legend.get_texts()]\n",
    "                    plt.legend(\n",
    "                        handles,\n",
    "                        labels,\n",
    "                        title_fontsize=10,\n",
    "                    )\n",
    "            else:\n",
    "                plt.legend().remove()\n",
    "\n",
    "    title = f\"Centiles of {response_var}\"\n",
    "    if scatter_data:\n",
    "        if harmonize_data:\n",
    "            plotname = f\"centiles_{response_var}_{scatter_data.name}_harmonized\"\n",
    "            title = f\"{title}\\n With harmonized {scatter_data.name} data\"\n",
    "        else:\n",
    "            plotname = f\"centiles_{response_var}_{scatter_data.name}\"\n",
    "            title = f\"{title}\\n With raw {scatter_data.name} data\"\n",
    "    else:\n",
    "        plotname = f\"centiles_{response_var}\"\n",
    "\n",
    "    plt.title(title)\n",
    "    plt.xlabel(covariate)\n",
    "    plt.ylabel(response_var)\n",
    "    plt.ylim(500, 2500)\n",
    "    if save_dir:\n",
    "        plt.savefig(os.path.join(save_dir, f\"{plotname}.png\"), dpi=300)\n",
    "    else:\n",
    "        plt.show(block=False)\n",
    "    plt.close()"
   ]
  },
  {
   "cell_type": "code",
   "execution_count": 69,
   "metadata": {},
   "outputs": [
    {
     "name": "stdout",
     "output_type": "stream",
     "text": [
      "Process: 10589 - 2025-06-18 15:35:38 - Dataset \"fcon1000\" created.\n",
      "    - 1078 observations\n",
      "    - 1078 unique subjects\n",
      "    - 1 covariates\n",
      "    - 217 response variables\n",
      "    - 2 batch effects:\n",
      "    \tsex (2)\n",
      "\tsite (23)\n",
      "    \n"
     ]
    }
   ],
   "source": [
    "# Download an example dataset\n",
    "norm_data: NormData = load_fcon1000()\n",
    "\n",
    "# Select only a few features\n",
    "features_to_model = [\n",
    "    \"WM-hypointensities\",\n",
    "    \"Right-Lateral-Ventricle\",\n",
    "    \"Right-Amygdala\",\n",
    "    \"CortexVol\",\n",
    "]\n",
    "norm_data = norm_data.sel({\"response_vars\": features_to_model})\n",
    "\n",
    "# Split into train and test sets\n",
    "train, test = norm_data.train_test_split()"
   ]
  },
  {
   "cell_type": "code",
   "execution_count": 70,
   "metadata": {},
   "outputs": [],
   "source": [
    "model = NormativeModel.load(\"/Users/stijndeboer/Projects/PCN/PCNtoolkit/examples/resources/hbr/save_dir\")"
   ]
  },
  {
   "cell_type": "code",
   "execution_count": 82,
   "metadata": {},
   "outputs": [
    {
     "name": "stderr",
     "output_type": "stream",
     "text": [
      "/opt/anaconda3/envs/uv_refactor/lib/python3.12/site-packages/pcntoolkit/util/output.py:216: UserWarning: Process: 10589 - 2025-06-18 15:38:04 - remove_Nan is set to False. Ensure your data does not contain NaNs in critical columns, or handle them appropriately.\n",
      "  warnings.warn(message)\n",
      "Sampling: []\n"
     ]
    },
    {
     "name": "stdout",
     "output_type": "stream",
     "text": [
      "Process: 10589 - 2025-06-18 15:38:04 - Dataset \"centile\" created.\n",
      "    - 150 observations\n",
      "    - 150 unique subjects\n",
      "    - 1 covariates\n",
      "    - 4 response variables\n",
      "    - 2 batch effects:\n",
      "    \tsex (1)\n",
      "\tsite (1)\n",
      "    \n",
      "Process: 10589 - 2025-06-18 15:38:04 - Computing centiles for 4 response variables.\n",
      "Process: 10589 - 2025-06-18 15:38:04 - Computing centiles for CortexVol.\n"
     ]
    },
    {
     "name": "stderr",
     "output_type": "stream",
     "text": [
      "Sampling: []\n",
      "Sampling: []\n",
      "Sampling: []\n",
      "Sampling: []\n",
      "Sampling: []\n"
     ]
    },
    {
     "name": "stdout",
     "output_type": "stream",
     "text": [
      "Process: 10589 - 2025-06-18 15:38:05 - Computing centiles for Right-Lateral-Ventricle.\n"
     ]
    },
    {
     "name": "stderr",
     "output_type": "stream",
     "text": [
      "Sampling: []\n",
      "Sampling: []\n",
      "Sampling: []\n",
      "Sampling: []\n",
      "Sampling: []\n"
     ]
    },
    {
     "name": "stdout",
     "output_type": "stream",
     "text": [
      "Process: 10589 - 2025-06-18 15:38:06 - Computing centiles for WM-hypointensities.\n"
     ]
    },
    {
     "name": "stderr",
     "output_type": "stream",
     "text": [
      "Sampling: []\n",
      "Sampling: []\n",
      "Sampling: []\n",
      "Sampling: []\n",
      "Sampling: []\n"
     ]
    },
    {
     "name": "stdout",
     "output_type": "stream",
     "text": [
      "Process: 10589 - 2025-06-18 15:38:07 - Computing centiles for Right-Amygdala.\n"
     ]
    },
    {
     "name": "stderr",
     "output_type": "stream",
     "text": [
      "Sampling: []\n",
      "Sampling: []\n",
      "Sampling: []\n",
      "Sampling: []\n"
     ]
    }
   ],
   "source": [
    "plot_centiles(\n",
    "    model,\n",
    "    covariate_range=(10, 80),\n",
    "    covariate=\"age\",  # Which covariate to plot on the x-axis\n",
    "    show_centile_labels=True,\n",
    "    # harmonize_data=True,  # Set this to False to see the difference\n",
    "    show_legend=False,  # Don't show the legend because it crowds the plot\n",
    "    save_dir=\"/Users/stijndeboer/Projects/PCN/PCNtoolkit/examples/resources/plots_for_presentation/1\",\n",
    ")"
   ]
  },
  {
   "cell_type": "code",
   "execution_count": 83,
   "metadata": {},
   "outputs": [
    {
     "name": "stderr",
     "output_type": "stream",
     "text": [
      "/opt/anaconda3/envs/uv_refactor/lib/python3.12/site-packages/pcntoolkit/util/output.py:216: UserWarning: Process: 10589 - 2025-06-18 15:38:09 - remove_Nan is set to False. Ensure your data does not contain NaNs in critical columns, or handle them appropriately.\n",
      "  warnings.warn(message)\n",
      "Sampling: []\n"
     ]
    },
    {
     "name": "stdout",
     "output_type": "stream",
     "text": [
      "Process: 10589 - 2025-06-18 15:38:09 - Dataset \"centile\" created.\n",
      "    - 150 observations\n",
      "    - 150 unique subjects\n",
      "    - 1 covariates\n",
      "    - 4 response variables\n",
      "    - 2 batch effects:\n",
      "    \tsex (1)\n",
      "\tsite (1)\n",
      "    \n",
      "Process: 10589 - 2025-06-18 15:38:09 - Computing centiles for 4 response variables.\n",
      "Process: 10589 - 2025-06-18 15:38:09 - Computing centiles for CortexVol.\n"
     ]
    },
    {
     "name": "stderr",
     "output_type": "stream",
     "text": [
      "Sampling: []\n",
      "Sampling: []\n",
      "Sampling: []\n",
      "Sampling: []\n",
      "Sampling: []\n"
     ]
    },
    {
     "name": "stdout",
     "output_type": "stream",
     "text": [
      "Process: 10589 - 2025-06-18 15:38:10 - Computing centiles for Right-Lateral-Ventricle.\n"
     ]
    },
    {
     "name": "stderr",
     "output_type": "stream",
     "text": [
      "Sampling: []\n",
      "Sampling: []\n",
      "Sampling: []\n",
      "Sampling: []\n",
      "Sampling: []\n"
     ]
    },
    {
     "name": "stdout",
     "output_type": "stream",
     "text": [
      "Process: 10589 - 2025-06-18 15:38:11 - Computing centiles for WM-hypointensities.\n"
     ]
    },
    {
     "name": "stderr",
     "output_type": "stream",
     "text": [
      "Sampling: []\n",
      "Sampling: []\n",
      "Sampling: []\n",
      "Sampling: []\n",
      "Sampling: []\n"
     ]
    },
    {
     "name": "stdout",
     "output_type": "stream",
     "text": [
      "Process: 10589 - 2025-06-18 15:38:13 - Computing centiles for Right-Amygdala.\n"
     ]
    },
    {
     "name": "stderr",
     "output_type": "stream",
     "text": [
      "Sampling: []\n",
      "Sampling: []\n",
      "Sampling: []\n",
      "Sampling: []\n",
      "/var/folders/m8/vtbcb7c96ms3mbjny3b70h3w0000gp/T/ipykernel_10589/920352495.py:282: SettingWithCopyWarning: \n",
      "A value is trying to be set on a copy of a slice from a DataFrame.\n",
      "Try using .loc[row_indexer,col_indexer] = value instead\n",
      "\n",
      "See the caveats in the documentation: https://pandas.pydata.org/pandas-docs/stable/user_guide/indexing.html#returning-a-view-versus-a-copy\n",
      "  non_be_df[\"marker\"] = [\"Other data\"] * len(non_be_df)\n",
      "/var/folders/m8/vtbcb7c96ms3mbjny3b70h3w0000gp/T/ipykernel_10589/920352495.py:282: SettingWithCopyWarning: \n",
      "A value is trying to be set on a copy of a slice from a DataFrame.\n",
      "Try using .loc[row_indexer,col_indexer] = value instead\n",
      "\n",
      "See the caveats in the documentation: https://pandas.pydata.org/pandas-docs/stable/user_guide/indexing.html#returning-a-view-versus-a-copy\n",
      "  non_be_df[\"marker\"] = [\"Other data\"] * len(non_be_df)\n",
      "/var/folders/m8/vtbcb7c96ms3mbjny3b70h3w0000gp/T/ipykernel_10589/920352495.py:282: SettingWithCopyWarning: \n",
      "A value is trying to be set on a copy of a slice from a DataFrame.\n",
      "Try using .loc[row_indexer,col_indexer] = value instead\n",
      "\n",
      "See the caveats in the documentation: https://pandas.pydata.org/pandas-docs/stable/user_guide/indexing.html#returning-a-view-versus-a-copy\n",
      "  non_be_df[\"marker\"] = [\"Other data\"] * len(non_be_df)\n",
      "/var/folders/m8/vtbcb7c96ms3mbjny3b70h3w0000gp/T/ipykernel_10589/920352495.py:282: SettingWithCopyWarning: \n",
      "A value is trying to be set on a copy of a slice from a DataFrame.\n",
      "Try using .loc[row_indexer,col_indexer] = value instead\n",
      "\n",
      "See the caveats in the documentation: https://pandas.pydata.org/pandas-docs/stable/user_guide/indexing.html#returning-a-view-versus-a-copy\n",
      "  non_be_df[\"marker\"] = [\"Other data\"] * len(non_be_df)\n"
     ]
    }
   ],
   "source": [
    "# synthetic = model.synthesize(n_samples=5000, covariate_range_per_batch_effect=True)  # <- will fill in the missing Y data\n",
    "# synthetic.name = \"fcon1000\"\n",
    "plot_centiles(\n",
    "    model,\n",
    "    covariate_range=(10, 80),\n",
    "    covariate=\"age\",  # Which covariate to plot on the x-axis\n",
    "    scatter_data=norm_data,  # Scatter the train data points\n",
    "    # batch_effects=\"all\",  # You can set this to \"all\" to show all batch effects\n",
    "    show_other_data=True,  # Show data points that do not match any batch effects\n",
    "    show_centile_labels=True,\n",
    "    harmonize_data=False,\n",
    "    # harmonize_data=True,  # Set this to False to see the difference\n",
    "    show_legend=False,  # Don't show the legend because it crowds the plot\n",
    "    save_dir=\"/Users/stijndeboer/Projects/PCN/PCNtoolkit/examples/resources/plots_for_presentation/2\",\n",
    ")"
   ]
  },
  {
   "cell_type": "code",
   "execution_count": 84,
   "metadata": {},
   "outputs": [
    {
     "name": "stderr",
     "output_type": "stream",
     "text": [
      "/opt/anaconda3/envs/uv_refactor/lib/python3.12/site-packages/pcntoolkit/util/output.py:216: UserWarning: Process: 10589 - 2025-06-18 15:38:14 - remove_Nan is set to False. Ensure your data does not contain NaNs in critical columns, or handle them appropriately.\n",
      "  warnings.warn(message)\n",
      "Sampling: []\n"
     ]
    },
    {
     "name": "stdout",
     "output_type": "stream",
     "text": [
      "Process: 10589 - 2025-06-18 15:38:14 - Dataset \"centile\" created.\n",
      "    - 150 observations\n",
      "    - 150 unique subjects\n",
      "    - 1 covariates\n",
      "    - 4 response variables\n",
      "    - 2 batch effects:\n",
      "    \tsex (1)\n",
      "\tsite (1)\n",
      "    \n",
      "Process: 10589 - 2025-06-18 15:38:14 - Computing centiles for 4 response variables.\n",
      "Process: 10589 - 2025-06-18 15:38:14 - Computing centiles for CortexVol.\n"
     ]
    },
    {
     "name": "stderr",
     "output_type": "stream",
     "text": [
      "Sampling: []\n",
      "Sampling: []\n",
      "Sampling: []\n",
      "Sampling: []\n",
      "Sampling: []\n"
     ]
    },
    {
     "name": "stdout",
     "output_type": "stream",
     "text": [
      "Process: 10589 - 2025-06-18 15:38:16 - Computing centiles for Right-Lateral-Ventricle.\n"
     ]
    },
    {
     "name": "stderr",
     "output_type": "stream",
     "text": [
      "Sampling: []\n",
      "Sampling: []\n",
      "Sampling: []\n",
      "Sampling: []\n",
      "Sampling: []\n"
     ]
    },
    {
     "name": "stdout",
     "output_type": "stream",
     "text": [
      "Process: 10589 - 2025-06-18 15:38:17 - Computing centiles for WM-hypointensities.\n"
     ]
    },
    {
     "name": "stderr",
     "output_type": "stream",
     "text": [
      "Sampling: []\n",
      "Sampling: []\n",
      "Sampling: []\n",
      "Sampling: []\n"
     ]
    },
    {
     "name": "stdout",
     "output_type": "stream",
     "text": [
      "Process: 10589 - 2025-06-18 15:38:18 - Computing centiles for Right-Amygdala.\n"
     ]
    },
    {
     "name": "stderr",
     "output_type": "stream",
     "text": [
      "Sampling: []\n",
      "Sampling: []\n",
      "Sampling: []\n",
      "Sampling: []\n",
      "Sampling: []\n"
     ]
    }
   ],
   "source": [
    "plot_centiles(\n",
    "    model,\n",
    "    covariate_range=(10, 80),\n",
    "    covariate=\"age\",  # Which covariate to plot on the x-axis\n",
    "    scatter_data=norm_data,  # Scatter the train data points\n",
    "    batch_effects=\"all\",  # You can set this to \"all\" to show all batch effects\n",
    "    show_other_data=True,  # Show data points that do not match any batch effects\n",
    "    show_centile_labels=True,\n",
    "    harmonize_data=False,\n",
    "    # harmonize_data=True,  # Set this to False to see the difference\n",
    "    show_legend=False,  # Don't show the legend because it crowds the plot\n",
    "    save_dir=\"/Users/stijndeboer/Projects/PCN/PCNtoolkit/examples/resources/plots_for_presentation/3\",\n",
    ")"
   ]
  },
  {
   "cell_type": "code",
   "execution_count": 85,
   "metadata": {},
   "outputs": [
    {
     "name": "stderr",
     "output_type": "stream",
     "text": [
      "/opt/anaconda3/envs/uv_refactor/lib/python3.12/site-packages/pcntoolkit/util/output.py:216: UserWarning: Process: 10589 - 2025-06-18 15:38:20 - remove_Nan is set to False. Ensure your data does not contain NaNs in critical columns, or handle them appropriately.\n",
      "  warnings.warn(message)\n",
      "Sampling: []\n"
     ]
    },
    {
     "name": "stdout",
     "output_type": "stream",
     "text": [
      "Process: 10589 - 2025-06-18 15:38:20 - Dataset \"centile\" created.\n",
      "    - 150 observations\n",
      "    - 150 unique subjects\n",
      "    - 1 covariates\n",
      "    - 4 response variables\n",
      "    - 2 batch effects:\n",
      "    \tsex (1)\n",
      "\tsite (1)\n",
      "    \n",
      "Process: 10589 - 2025-06-18 15:38:20 - Computing centiles for 4 response variables.\n",
      "Process: 10589 - 2025-06-18 15:38:20 - Computing centiles for CortexVol.\n"
     ]
    },
    {
     "name": "stderr",
     "output_type": "stream",
     "text": [
      "Sampling: []\n",
      "Sampling: []\n",
      "Sampling: []\n",
      "Sampling: []\n",
      "Sampling: []\n"
     ]
    },
    {
     "name": "stdout",
     "output_type": "stream",
     "text": [
      "Process: 10589 - 2025-06-18 15:38:21 - Computing centiles for Right-Lateral-Ventricle.\n"
     ]
    },
    {
     "name": "stderr",
     "output_type": "stream",
     "text": [
      "Sampling: []\n",
      "Sampling: []\n",
      "Sampling: []\n",
      "Sampling: []\n",
      "Sampling: []\n"
     ]
    },
    {
     "name": "stdout",
     "output_type": "stream",
     "text": [
      "Process: 10589 - 2025-06-18 15:38:23 - Computing centiles for WM-hypointensities.\n"
     ]
    },
    {
     "name": "stderr",
     "output_type": "stream",
     "text": [
      "Sampling: []\n",
      "Sampling: []\n",
      "Sampling: []\n",
      "Sampling: []\n",
      "Sampling: []\n"
     ]
    },
    {
     "name": "stdout",
     "output_type": "stream",
     "text": [
      "Process: 10589 - 2025-06-18 15:38:24 - Computing centiles for Right-Amygdala.\n"
     ]
    },
    {
     "name": "stderr",
     "output_type": "stream",
     "text": [
      "Sampling: []\n",
      "Sampling: []\n",
      "Sampling: []\n",
      "Sampling: []\n",
      "Sampling: []\n"
     ]
    },
    {
     "name": "stdout",
     "output_type": "stream",
     "text": [
      "Process: 10589 - 2025-06-18 15:38:25 - Harmonizing data on 4 response variables.\n",
      "Process: 10589 - 2025-06-18 15:38:25 - Harmonizing data for Right-Amygdala.\n"
     ]
    },
    {
     "name": "stderr",
     "output_type": "stream",
     "text": [
      "Sampling: []\n",
      "Sampling: []\n"
     ]
    },
    {
     "name": "stdout",
     "output_type": "stream",
     "text": [
      "Process: 10589 - 2025-06-18 15:38:26 - Harmonizing data for Right-Lateral-Ventricle.\n"
     ]
    },
    {
     "name": "stderr",
     "output_type": "stream",
     "text": [
      "Sampling: []\n",
      "Sampling: []\n"
     ]
    },
    {
     "name": "stdout",
     "output_type": "stream",
     "text": [
      "Process: 10589 - 2025-06-18 15:38:27 - Harmonizing data for WM-hypointensities.\n"
     ]
    },
    {
     "name": "stderr",
     "output_type": "stream",
     "text": [
      "Sampling: []\n",
      "Sampling: []\n"
     ]
    },
    {
     "name": "stdout",
     "output_type": "stream",
     "text": [
      "Process: 10589 - 2025-06-18 15:38:28 - Harmonizing data for CortexVol.\n"
     ]
    },
    {
     "name": "stderr",
     "output_type": "stream",
     "text": [
      "Sampling: []\n"
     ]
    }
   ],
   "source": [
    "plot_centiles(\n",
    "    model,\n",
    "    covariate_range=(10, 80),\n",
    "    covariate=\"age\",  # Which covariate to plot on the x-axis\n",
    "    scatter_data=norm_data,  # Scatter the train data points\n",
    "    batch_effects=\"all\",  # You can set this to \"all\" to show all batch effects\n",
    "    show_other_data=True,  # Show data points that do not match any batch effects\n",
    "    show_centile_labels=True,\n",
    "    harmonize_data=True,\n",
    "    # harmonize_data=True,  # Set this to False to see the difference\n",
    "    show_legend=False,  # Don't show the legend because it crowds the plot\n",
    "    save_dir=\"/Users/stijndeboer/Projects/PCN/PCNtoolkit/examples/resources/plots_for_presentation/4\",\n",
    ")"
   ]
  },
  {
   "cell_type": "code",
   "execution_count": 86,
   "metadata": {},
   "outputs": [
    {
     "data": {
      "text/html": [
       "<div><svg style=\"position: absolute; width: 0; height: 0; overflow: hidden\">\n",
       "<defs>\n",
       "<symbol id=\"icon-database\" viewBox=\"0 0 32 32\">\n",
       "<path d=\"M16 0c-8.837 0-16 2.239-16 5v4c0 2.761 7.163 5 16 5s16-2.239 16-5v-4c0-2.761-7.163-5-16-5z\"></path>\n",
       "<path d=\"M16 17c-8.837 0-16-2.239-16-5v6c0 2.761 7.163 5 16 5s16-2.239 16-5v-6c0 2.761-7.163 5-16 5z\"></path>\n",
       "<path d=\"M16 26c-8.837 0-16-2.239-16-5v6c0 2.761 7.163 5 16 5s16-2.239 16-5v-6c0 2.761-7.163 5-16 5z\"></path>\n",
       "</symbol>\n",
       "<symbol id=\"icon-file-text2\" viewBox=\"0 0 32 32\">\n",
       "<path d=\"M28.681 7.159c-0.694-0.947-1.662-2.053-2.724-3.116s-2.169-2.030-3.116-2.724c-1.612-1.182-2.393-1.319-2.841-1.319h-15.5c-1.378 0-2.5 1.121-2.5 2.5v27c0 1.378 1.122 2.5 2.5 2.5h23c1.378 0 2.5-1.122 2.5-2.5v-19.5c0-0.448-0.137-1.23-1.319-2.841zM24.543 5.457c0.959 0.959 1.712 1.825 2.268 2.543h-4.811v-4.811c0.718 0.556 1.584 1.309 2.543 2.268zM28 29.5c0 0.271-0.229 0.5-0.5 0.5h-23c-0.271 0-0.5-0.229-0.5-0.5v-27c0-0.271 0.229-0.5 0.5-0.5 0 0 15.499-0 15.5 0v7c0 0.552 0.448 1 1 1h7v19.5z\"></path>\n",
       "<path d=\"M23 26h-14c-0.552 0-1-0.448-1-1s0.448-1 1-1h14c0.552 0 1 0.448 1 1s-0.448 1-1 1z\"></path>\n",
       "<path d=\"M23 22h-14c-0.552 0-1-0.448-1-1s0.448-1 1-1h14c0.552 0 1 0.448 1 1s-0.448 1-1 1z\"></path>\n",
       "<path d=\"M23 18h-14c-0.552 0-1-0.448-1-1s0.448-1 1-1h14c0.552 0 1 0.448 1 1s-0.448 1-1 1z\"></path>\n",
       "</symbol>\n",
       "</defs>\n",
       "</svg>\n",
       "<style>/* CSS stylesheet for displaying xarray objects in jupyterlab.\n",
       " *\n",
       " */\n",
       "\n",
       ":root {\n",
       "  --xr-font-color0: var(--jp-content-font-color0, rgba(0, 0, 0, 1));\n",
       "  --xr-font-color2: var(--jp-content-font-color2, rgba(0, 0, 0, 0.54));\n",
       "  --xr-font-color3: var(--jp-content-font-color3, rgba(0, 0, 0, 0.38));\n",
       "  --xr-border-color: var(--jp-border-color2, #e0e0e0);\n",
       "  --xr-disabled-color: var(--jp-layout-color3, #bdbdbd);\n",
       "  --xr-background-color: var(--jp-layout-color0, white);\n",
       "  --xr-background-color-row-even: var(--jp-layout-color1, white);\n",
       "  --xr-background-color-row-odd: var(--jp-layout-color2, #eeeeee);\n",
       "}\n",
       "\n",
       "html[theme=\"dark\"],\n",
       "html[data-theme=\"dark\"],\n",
       "body[data-theme=\"dark\"],\n",
       "body.vscode-dark {\n",
       "  --xr-font-color0: rgba(255, 255, 255, 1);\n",
       "  --xr-font-color2: rgba(255, 255, 255, 0.54);\n",
       "  --xr-font-color3: rgba(255, 255, 255, 0.38);\n",
       "  --xr-border-color: #1f1f1f;\n",
       "  --xr-disabled-color: #515151;\n",
       "  --xr-background-color: #111111;\n",
       "  --xr-background-color-row-even: #111111;\n",
       "  --xr-background-color-row-odd: #313131;\n",
       "}\n",
       "\n",
       ".xr-wrap {\n",
       "  display: block !important;\n",
       "  min-width: 300px;\n",
       "  max-width: 700px;\n",
       "}\n",
       "\n",
       ".xr-text-repr-fallback {\n",
       "  /* fallback to plain text repr when CSS is not injected (untrusted notebook) */\n",
       "  display: none;\n",
       "}\n",
       "\n",
       ".xr-header {\n",
       "  padding-top: 6px;\n",
       "  padding-bottom: 6px;\n",
       "  margin-bottom: 4px;\n",
       "  border-bottom: solid 1px var(--xr-border-color);\n",
       "}\n",
       "\n",
       ".xr-header > div,\n",
       ".xr-header > ul {\n",
       "  display: inline;\n",
       "  margin-top: 0;\n",
       "  margin-bottom: 0;\n",
       "}\n",
       "\n",
       ".xr-obj-type,\n",
       ".xr-array-name {\n",
       "  margin-left: 2px;\n",
       "  margin-right: 10px;\n",
       "}\n",
       "\n",
       ".xr-obj-type {\n",
       "  color: var(--xr-font-color2);\n",
       "}\n",
       "\n",
       ".xr-sections {\n",
       "  padding-left: 0 !important;\n",
       "  display: grid;\n",
       "  grid-template-columns: 150px auto auto 1fr 0 20px 0 20px;\n",
       "}\n",
       "\n",
       ".xr-section-item {\n",
       "  display: contents;\n",
       "}\n",
       "\n",
       ".xr-section-item input {\n",
       "  display: inline-block;\n",
       "  opacity: 0;\n",
       "  height: 0;\n",
       "}\n",
       "\n",
       ".xr-section-item input + label {\n",
       "  color: var(--xr-disabled-color);\n",
       "}\n",
       "\n",
       ".xr-section-item input:enabled + label {\n",
       "  cursor: pointer;\n",
       "  color: var(--xr-font-color2);\n",
       "}\n",
       "\n",
       ".xr-section-item input:focus + label {\n",
       "  border: 2px solid var(--xr-font-color0);\n",
       "}\n",
       "\n",
       ".xr-section-item input:enabled + label:hover {\n",
       "  color: var(--xr-font-color0);\n",
       "}\n",
       "\n",
       ".xr-section-summary {\n",
       "  grid-column: 1;\n",
       "  color: var(--xr-font-color2);\n",
       "  font-weight: 500;\n",
       "}\n",
       "\n",
       ".xr-section-summary > span {\n",
       "  display: inline-block;\n",
       "  padding-left: 0.5em;\n",
       "}\n",
       "\n",
       ".xr-section-summary-in:disabled + label {\n",
       "  color: var(--xr-font-color2);\n",
       "}\n",
       "\n",
       ".xr-section-summary-in + label:before {\n",
       "  display: inline-block;\n",
       "  content: \"►\";\n",
       "  font-size: 11px;\n",
       "  width: 15px;\n",
       "  text-align: center;\n",
       "}\n",
       "\n",
       ".xr-section-summary-in:disabled + label:before {\n",
       "  color: var(--xr-disabled-color);\n",
       "}\n",
       "\n",
       ".xr-section-summary-in:checked + label:before {\n",
       "  content: \"▼\";\n",
       "}\n",
       "\n",
       ".xr-section-summary-in:checked + label > span {\n",
       "  display: none;\n",
       "}\n",
       "\n",
       ".xr-section-summary,\n",
       ".xr-section-inline-details {\n",
       "  padding-top: 4px;\n",
       "  padding-bottom: 4px;\n",
       "}\n",
       "\n",
       ".xr-section-inline-details {\n",
       "  grid-column: 2 / -1;\n",
       "}\n",
       "\n",
       ".xr-section-details {\n",
       "  display: none;\n",
       "  grid-column: 1 / -1;\n",
       "  margin-bottom: 5px;\n",
       "}\n",
       "\n",
       ".xr-section-summary-in:checked ~ .xr-section-details {\n",
       "  display: contents;\n",
       "}\n",
       "\n",
       ".xr-array-wrap {\n",
       "  grid-column: 1 / -1;\n",
       "  display: grid;\n",
       "  grid-template-columns: 20px auto;\n",
       "}\n",
       "\n",
       ".xr-array-wrap > label {\n",
       "  grid-column: 1;\n",
       "  vertical-align: top;\n",
       "}\n",
       "\n",
       ".xr-preview {\n",
       "  color: var(--xr-font-color3);\n",
       "}\n",
       "\n",
       ".xr-array-preview,\n",
       ".xr-array-data {\n",
       "  padding: 0 5px !important;\n",
       "  grid-column: 2;\n",
       "}\n",
       "\n",
       ".xr-array-data,\n",
       ".xr-array-in:checked ~ .xr-array-preview {\n",
       "  display: none;\n",
       "}\n",
       "\n",
       ".xr-array-in:checked ~ .xr-array-data,\n",
       ".xr-array-preview {\n",
       "  display: inline-block;\n",
       "}\n",
       "\n",
       ".xr-dim-list {\n",
       "  display: inline-block !important;\n",
       "  list-style: none;\n",
       "  padding: 0 !important;\n",
       "  margin: 0;\n",
       "}\n",
       "\n",
       ".xr-dim-list li {\n",
       "  display: inline-block;\n",
       "  padding: 0;\n",
       "  margin: 0;\n",
       "}\n",
       "\n",
       ".xr-dim-list:before {\n",
       "  content: \"(\";\n",
       "}\n",
       "\n",
       ".xr-dim-list:after {\n",
       "  content: \")\";\n",
       "}\n",
       "\n",
       ".xr-dim-list li:not(:last-child):after {\n",
       "  content: \",\";\n",
       "  padding-right: 5px;\n",
       "}\n",
       "\n",
       ".xr-has-index {\n",
       "  font-weight: bold;\n",
       "}\n",
       "\n",
       ".xr-var-list,\n",
       ".xr-var-item {\n",
       "  display: contents;\n",
       "}\n",
       "\n",
       ".xr-var-item > div,\n",
       ".xr-var-item label,\n",
       ".xr-var-item > .xr-var-name span {\n",
       "  background-color: var(--xr-background-color-row-even);\n",
       "  margin-bottom: 0;\n",
       "}\n",
       "\n",
       ".xr-var-item > .xr-var-name:hover span {\n",
       "  padding-right: 5px;\n",
       "}\n",
       "\n",
       ".xr-var-list > li:nth-child(odd) > div,\n",
       ".xr-var-list > li:nth-child(odd) > label,\n",
       ".xr-var-list > li:nth-child(odd) > .xr-var-name span {\n",
       "  background-color: var(--xr-background-color-row-odd);\n",
       "}\n",
       "\n",
       ".xr-var-name {\n",
       "  grid-column: 1;\n",
       "}\n",
       "\n",
       ".xr-var-dims {\n",
       "  grid-column: 2;\n",
       "}\n",
       "\n",
       ".xr-var-dtype {\n",
       "  grid-column: 3;\n",
       "  text-align: right;\n",
       "  color: var(--xr-font-color2);\n",
       "}\n",
       "\n",
       ".xr-var-preview {\n",
       "  grid-column: 4;\n",
       "}\n",
       "\n",
       ".xr-index-preview {\n",
       "  grid-column: 2 / 5;\n",
       "  color: var(--xr-font-color2);\n",
       "}\n",
       "\n",
       ".xr-var-name,\n",
       ".xr-var-dims,\n",
       ".xr-var-dtype,\n",
       ".xr-preview,\n",
       ".xr-attrs dt {\n",
       "  white-space: nowrap;\n",
       "  overflow: hidden;\n",
       "  text-overflow: ellipsis;\n",
       "  padding-right: 10px;\n",
       "}\n",
       "\n",
       ".xr-var-name:hover,\n",
       ".xr-var-dims:hover,\n",
       ".xr-var-dtype:hover,\n",
       ".xr-attrs dt:hover {\n",
       "  overflow: visible;\n",
       "  width: auto;\n",
       "  z-index: 1;\n",
       "}\n",
       "\n",
       ".xr-var-attrs,\n",
       ".xr-var-data,\n",
       ".xr-index-data {\n",
       "  display: none;\n",
       "  background-color: var(--xr-background-color) !important;\n",
       "  padding-bottom: 5px !important;\n",
       "}\n",
       "\n",
       ".xr-var-attrs-in:checked ~ .xr-var-attrs,\n",
       ".xr-var-data-in:checked ~ .xr-var-data,\n",
       ".xr-index-data-in:checked ~ .xr-index-data {\n",
       "  display: block;\n",
       "}\n",
       "\n",
       ".xr-var-data > table {\n",
       "  float: right;\n",
       "}\n",
       "\n",
       ".xr-var-name span,\n",
       ".xr-var-data,\n",
       ".xr-index-name div,\n",
       ".xr-index-data,\n",
       ".xr-attrs {\n",
       "  padding-left: 25px !important;\n",
       "}\n",
       "\n",
       ".xr-attrs,\n",
       ".xr-var-attrs,\n",
       ".xr-var-data,\n",
       ".xr-index-data {\n",
       "  grid-column: 1 / -1;\n",
       "}\n",
       "\n",
       "dl.xr-attrs {\n",
       "  padding: 0;\n",
       "  margin: 0;\n",
       "  display: grid;\n",
       "  grid-template-columns: 125px auto;\n",
       "}\n",
       "\n",
       ".xr-attrs dt,\n",
       ".xr-attrs dd {\n",
       "  padding: 0;\n",
       "  margin: 0;\n",
       "  float: left;\n",
       "  padding-right: 10px;\n",
       "  width: auto;\n",
       "}\n",
       "\n",
       ".xr-attrs dt {\n",
       "  font-weight: normal;\n",
       "  grid-column: 1;\n",
       "}\n",
       "\n",
       ".xr-attrs dt:hover span {\n",
       "  display: inline-block;\n",
       "  background: var(--xr-background-color);\n",
       "  padding-right: 10px;\n",
       "}\n",
       "\n",
       ".xr-attrs dd {\n",
       "  grid-column: 2;\n",
       "  white-space: pre-wrap;\n",
       "  word-break: break-all;\n",
       "}\n",
       "\n",
       ".xr-icon-database,\n",
       ".xr-icon-file-text2,\n",
       ".xr-no-icon {\n",
       "  display: inline-block;\n",
       "  vertical-align: middle;\n",
       "  width: 1em;\n",
       "  height: 1.5em !important;\n",
       "  stroke-width: 0;\n",
       "  stroke: currentColor;\n",
       "  fill: currentColor;\n",
       "}\n",
       "</style><pre class='xr-text-repr-fallback'>&lt;xarray.NormData&gt; Size: 242kB\n",
       "Dimensions:            (observations: 1078, response_vars: 4, covariates: 1,\n",
       "                        batch_effect_dims: 2)\n",
       "Coordinates:\n",
       "  * observations       (observations) int64 9kB 0 1 2 3 ... 1074 1075 1076 1077\n",
       "  * response_vars      (response_vars) &lt;U34 544B &#x27;WM-hypointensities&#x27; ... &#x27;Co...\n",
       "  * covariates         (covariates) &lt;U3 12B &#x27;age&#x27;\n",
       "  * batch_effect_dims  (batch_effect_dims) &lt;U4 32B &#x27;sex&#x27; &#x27;site&#x27;\n",
       "Data variables:\n",
       "    subjects           (observations) object 9kB &#x27;AnnArbor_a_sub04111&#x27; ... &#x27;S...\n",
       "    Y                  (observations, response_vars) float64 34kB 1.687e+03 ....\n",
       "    X                  (observations, covariates) float64 9kB 25.63 ... 23.0\n",
       "    batch_effects      (observations, batch_effect_dims) &lt;U17 147kB &#x27;M&#x27; ... &#x27;...\n",
       "    Y_harmonized       (observations, response_vars) float64 34kB 1.521e+03 ....\n",
       "Attributes:\n",
       "    real_ids:                       True\n",
       "    is_scaled:                      False\n",
       "    name:                           fcon1000\n",
       "    unique_batch_effects:           {&#x27;sex&#x27;: [&#x27;F&#x27;, &#x27;M&#x27;], &#x27;site&#x27;: [&#x27;AnnArbor_a&#x27;...\n",
       "    batch_effect_counts:            {&#x27;sex&#x27;: {&#x27;F&#x27;: 589, &#x27;M&#x27;: 489}, &#x27;site&#x27;: {&#x27;A...\n",
       "    batch_effect_covariate_ranges:  {&#x27;sex&#x27;: {&#x27;F&#x27;: {&#x27;age&#x27;: {&#x27;min&#x27;: 7.88, &#x27;max&#x27;...\n",
       "    covariate_ranges:               {&#x27;age&#x27;: {&#x27;min&#x27;: 7.88, &#x27;max&#x27;: 85.0}}</pre><div class='xr-wrap' style='display:none'><div class='xr-header'><div class='xr-obj-type'>xarray.NormData</div></div><ul class='xr-sections'><li class='xr-section-item'><input id='section-9acbdf6d-57ac-4534-876e-9ddce4e0f6f9' class='xr-section-summary-in' type='checkbox' disabled ><label for='section-9acbdf6d-57ac-4534-876e-9ddce4e0f6f9' class='xr-section-summary'  title='Expand/collapse section'>Dimensions:</label><div class='xr-section-inline-details'><ul class='xr-dim-list'><li><span class='xr-has-index'>observations</span>: 1078</li><li><span class='xr-has-index'>response_vars</span>: 4</li><li><span class='xr-has-index'>covariates</span>: 1</li><li><span class='xr-has-index'>batch_effect_dims</span>: 2</li></ul></div><div class='xr-section-details'></div></li><li class='xr-section-item'><input id='section-34e28fb7-0ec9-45ef-b02c-a50fe4b14c8f' class='xr-section-summary-in' type='checkbox'  checked><label for='section-34e28fb7-0ec9-45ef-b02c-a50fe4b14c8f' class='xr-section-summary' >Coordinates: <span>(4)</span></label><div class='xr-section-inline-details'></div><div class='xr-section-details'><ul class='xr-var-list'><li class='xr-var-item'><div class='xr-var-name'><span class='xr-has-index'>observations</span></div><div class='xr-var-dims'>(observations)</div><div class='xr-var-dtype'>int64</div><div class='xr-var-preview xr-preview'>0 1 2 3 4 ... 1074 1075 1076 1077</div><input id='attrs-cea2b578-a076-462e-8efb-6b349624252c' class='xr-var-attrs-in' type='checkbox' disabled><label for='attrs-cea2b578-a076-462e-8efb-6b349624252c' title='Show/Hide attributes'><svg class='icon xr-icon-file-text2'><use xlink:href='#icon-file-text2'></use></svg></label><input id='data-dc4df1ba-0c3f-490a-a87c-82dc1f55d910' class='xr-var-data-in' type='checkbox'><label for='data-dc4df1ba-0c3f-490a-a87c-82dc1f55d910' title='Show/Hide data repr'><svg class='icon xr-icon-database'><use xlink:href='#icon-database'></use></svg></label><div class='xr-var-attrs'><dl class='xr-attrs'></dl></div><div class='xr-var-data'><pre>array([   0,    1,    2, ..., 1075, 1076, 1077])</pre></div></li><li class='xr-var-item'><div class='xr-var-name'><span class='xr-has-index'>response_vars</span></div><div class='xr-var-dims'>(response_vars)</div><div class='xr-var-dtype'>&lt;U34</div><div class='xr-var-preview xr-preview'>&#x27;WM-hypointensities&#x27; ... &#x27;Cortex...</div><input id='attrs-5449ec49-d272-4bb5-9349-082fabccfd2a' class='xr-var-attrs-in' type='checkbox' disabled><label for='attrs-5449ec49-d272-4bb5-9349-082fabccfd2a' title='Show/Hide attributes'><svg class='icon xr-icon-file-text2'><use xlink:href='#icon-file-text2'></use></svg></label><input id='data-2dad6e59-b179-41f5-9461-6422c618e468' class='xr-var-data-in' type='checkbox'><label for='data-2dad6e59-b179-41f5-9461-6422c618e468' title='Show/Hide data repr'><svg class='icon xr-icon-database'><use xlink:href='#icon-database'></use></svg></label><div class='xr-var-attrs'><dl class='xr-attrs'></dl></div><div class='xr-var-data'><pre>array([&#x27;WM-hypointensities&#x27;, &#x27;Right-Lateral-Ventricle&#x27;, &#x27;Right-Amygdala&#x27;,\n",
       "       &#x27;CortexVol&#x27;], dtype=&#x27;&lt;U34&#x27;)</pre></div></li><li class='xr-var-item'><div class='xr-var-name'><span class='xr-has-index'>covariates</span></div><div class='xr-var-dims'>(covariates)</div><div class='xr-var-dtype'>&lt;U3</div><div class='xr-var-preview xr-preview'>&#x27;age&#x27;</div><input id='attrs-1f52af2d-0f69-4246-8c60-38bd216b88c4' class='xr-var-attrs-in' type='checkbox' disabled><label for='attrs-1f52af2d-0f69-4246-8c60-38bd216b88c4' title='Show/Hide attributes'><svg class='icon xr-icon-file-text2'><use xlink:href='#icon-file-text2'></use></svg></label><input id='data-fe66c4dc-ae30-40e7-9ba4-55939fe6cd88' class='xr-var-data-in' type='checkbox'><label for='data-fe66c4dc-ae30-40e7-9ba4-55939fe6cd88' title='Show/Hide data repr'><svg class='icon xr-icon-database'><use xlink:href='#icon-database'></use></svg></label><div class='xr-var-attrs'><dl class='xr-attrs'></dl></div><div class='xr-var-data'><pre>array([&#x27;age&#x27;], dtype=&#x27;&lt;U3&#x27;)</pre></div></li><li class='xr-var-item'><div class='xr-var-name'><span class='xr-has-index'>batch_effect_dims</span></div><div class='xr-var-dims'>(batch_effect_dims)</div><div class='xr-var-dtype'>&lt;U4</div><div class='xr-var-preview xr-preview'>&#x27;sex&#x27; &#x27;site&#x27;</div><input id='attrs-3a91bac0-fdb4-40f0-9091-05d9304ed632' class='xr-var-attrs-in' type='checkbox' disabled><label for='attrs-3a91bac0-fdb4-40f0-9091-05d9304ed632' title='Show/Hide attributes'><svg class='icon xr-icon-file-text2'><use xlink:href='#icon-file-text2'></use></svg></label><input id='data-847b90d9-9057-48e4-a972-fb60b67fddde' class='xr-var-data-in' type='checkbox'><label for='data-847b90d9-9057-48e4-a972-fb60b67fddde' title='Show/Hide data repr'><svg class='icon xr-icon-database'><use xlink:href='#icon-database'></use></svg></label><div class='xr-var-attrs'><dl class='xr-attrs'></dl></div><div class='xr-var-data'><pre>array([&#x27;sex&#x27;, &#x27;site&#x27;], dtype=&#x27;&lt;U4&#x27;)</pre></div></li></ul></div></li><li class='xr-section-item'><input id='section-3ebae1de-d014-426f-b5fa-66bc151748c9' class='xr-section-summary-in' type='checkbox'  checked><label for='section-3ebae1de-d014-426f-b5fa-66bc151748c9' class='xr-section-summary' >Data variables: <span>(5)</span></label><div class='xr-section-inline-details'></div><div class='xr-section-details'><ul class='xr-var-list'><li class='xr-var-item'><div class='xr-var-name'><span>subjects</span></div><div class='xr-var-dims'>(observations)</div><div class='xr-var-dtype'>object</div><div class='xr-var-preview xr-preview'>&#x27;AnnArbor_a_sub04111&#x27; ... &#x27;Saint...</div><input id='attrs-99d1fab7-4d7b-40cc-9653-16059ebe1bff' class='xr-var-attrs-in' type='checkbox' disabled><label for='attrs-99d1fab7-4d7b-40cc-9653-16059ebe1bff' title='Show/Hide attributes'><svg class='icon xr-icon-file-text2'><use xlink:href='#icon-file-text2'></use></svg></label><input id='data-31df57a2-ccd8-4bfa-a775-23ec26b49e9f' class='xr-var-data-in' type='checkbox'><label for='data-31df57a2-ccd8-4bfa-a775-23ec26b49e9f' title='Show/Hide data repr'><svg class='icon xr-icon-database'><use xlink:href='#icon-database'></use></svg></label><div class='xr-var-attrs'><dl class='xr-attrs'></dl></div><div class='xr-var-data'><pre>array([&#x27;AnnArbor_a_sub04111&#x27;, &#x27;AnnArbor_a_sub04619&#x27;,\n",
       "       &#x27;AnnArbor_a_sub13636&#x27;, ..., &#x27;SaintLouis_sub95967&#x27;,\n",
       "       &#x27;SaintLouis_sub97935&#x27;, &#x27;SaintLouis_sub99965&#x27;], dtype=object)</pre></div></li><li class='xr-var-item'><div class='xr-var-name'><span>Y</span></div><div class='xr-var-dims'>(observations, response_vars)</div><div class='xr-var-dtype'>float64</div><div class='xr-var-preview xr-preview'>1.687e+03 3.906e+03 ... 4.638e+05</div><input id='attrs-b1ad3501-bf8b-4938-a2ae-7988ebe6fe36' class='xr-var-attrs-in' type='checkbox' disabled><label for='attrs-b1ad3501-bf8b-4938-a2ae-7988ebe6fe36' title='Show/Hide attributes'><svg class='icon xr-icon-file-text2'><use xlink:href='#icon-file-text2'></use></svg></label><input id='data-64ee606d-46e6-417f-8ec4-1df0a1c55e7b' class='xr-var-data-in' type='checkbox'><label for='data-64ee606d-46e6-417f-8ec4-1df0a1c55e7b' title='Show/Hide data repr'><svg class='icon xr-icon-database'><use xlink:href='#icon-database'></use></svg></label><div class='xr-var-attrs'><dl class='xr-attrs'></dl></div><div class='xr-var-data'><pre>array([[1.68670000e+03, 3.90590000e+03, 1.24160000e+03, 4.46861118e+05],\n",
       "       [1.37110000e+03, 9.50330000e+03, 1.47980000e+03, 5.32003625e+05],\n",
       "       [1.41480000e+03, 9.70240000e+03, 1.68280000e+03, 4.75051320e+05],\n",
       "       ...,\n",
       "       [1.06100000e+03, 9.09200000e+03, 1.81310000e+03, 5.36279364e+05],\n",
       "       [4.48300000e+02, 4.55260000e+03, 1.53860000e+03, 4.61674842e+05],\n",
       "       [5.09100000e+02, 3.38090000e+03, 1.60610000e+03, 4.63793416e+05]])</pre></div></li><li class='xr-var-item'><div class='xr-var-name'><span>X</span></div><div class='xr-var-dims'>(observations, covariates)</div><div class='xr-var-dtype'>float64</div><div class='xr-var-preview xr-preview'>25.63 18.34 29.2 ... 27.0 29.0 23.0</div><input id='attrs-6736cd18-1d16-47f9-ada9-c4f6e24b7bfe' class='xr-var-attrs-in' type='checkbox' disabled><label for='attrs-6736cd18-1d16-47f9-ada9-c4f6e24b7bfe' title='Show/Hide attributes'><svg class='icon xr-icon-file-text2'><use xlink:href='#icon-file-text2'></use></svg></label><input id='data-6016faaf-4837-4a00-b068-1e24b04a6149' class='xr-var-data-in' type='checkbox'><label for='data-6016faaf-4837-4a00-b068-1e24b04a6149' title='Show/Hide data repr'><svg class='icon xr-icon-database'><use xlink:href='#icon-database'></use></svg></label><div class='xr-var-attrs'><dl class='xr-attrs'></dl></div><div class='xr-var-data'><pre>array([[25.63],\n",
       "       [18.34],\n",
       "       [29.2 ],\n",
       "       ...,\n",
       "       [27.  ],\n",
       "       [29.  ],\n",
       "       [23.  ]])</pre></div></li><li class='xr-var-item'><div class='xr-var-name'><span>batch_effects</span></div><div class='xr-var-dims'>(observations, batch_effect_dims)</div><div class='xr-var-dtype'>&lt;U17</div><div class='xr-var-preview xr-preview'>&#x27;M&#x27; &#x27;AnnArbor_a&#x27; ... &#x27;SaintLouis&#x27;</div><input id='attrs-f7ee9aab-9d34-4e4f-82e8-32a74af102ce' class='xr-var-attrs-in' type='checkbox' disabled><label for='attrs-f7ee9aab-9d34-4e4f-82e8-32a74af102ce' title='Show/Hide attributes'><svg class='icon xr-icon-file-text2'><use xlink:href='#icon-file-text2'></use></svg></label><input id='data-7a788b93-0dd1-4066-9b01-798d47f3c28d' class='xr-var-data-in' type='checkbox'><label for='data-7a788b93-0dd1-4066-9b01-798d47f3c28d' title='Show/Hide data repr'><svg class='icon xr-icon-database'><use xlink:href='#icon-database'></use></svg></label><div class='xr-var-attrs'><dl class='xr-attrs'></dl></div><div class='xr-var-data'><pre>array([[&#x27;M&#x27;, &#x27;AnnArbor_a&#x27;],\n",
       "       [&#x27;M&#x27;, &#x27;AnnArbor_a&#x27;],\n",
       "       [&#x27;M&#x27;, &#x27;AnnArbor_a&#x27;],\n",
       "       ...,\n",
       "       [&#x27;M&#x27;, &#x27;SaintLouis&#x27;],\n",
       "       [&#x27;F&#x27;, &#x27;SaintLouis&#x27;],\n",
       "       [&#x27;F&#x27;, &#x27;SaintLouis&#x27;]], dtype=&#x27;&lt;U17&#x27;)</pre></div></li><li class='xr-var-item'><div class='xr-var-name'><span>Y_harmonized</span></div><div class='xr-var-dims'>(observations, response_vars)</div><div class='xr-var-dtype'>float64</div><div class='xr-var-preview xr-preview'>1.521e+03 2.612e+03 ... 4.226e+05</div><input id='attrs-433f144e-2604-4059-bf8e-44a4d7e8383a' class='xr-var-attrs-in' type='checkbox' disabled><label for='attrs-433f144e-2604-4059-bf8e-44a4d7e8383a' title='Show/Hide attributes'><svg class='icon xr-icon-file-text2'><use xlink:href='#icon-file-text2'></use></svg></label><input id='data-03a7ae52-15b9-48b4-acb1-3f8622ccd8aa' class='xr-var-data-in' type='checkbox'><label for='data-03a7ae52-15b9-48b4-acb1-3f8622ccd8aa' title='Show/Hide data repr'><svg class='icon xr-icon-database'><use xlink:href='#icon-database'></use></svg></label><div class='xr-var-attrs'><dl class='xr-attrs'></dl></div><div class='xr-var-data'><pre>array([[  1521.35329944,   2611.96005006,   1008.6890209 ,\n",
       "        395430.33607247],\n",
       "       [  1204.36841761,   8220.75190661,   1247.13984774,\n",
       "        480676.92524313],\n",
       "       [  1248.72281731,   8418.46084963,   1450.64051811,\n",
       "        423660.57287229],\n",
       "       ...,\n",
       "       [  1773.87694028,   7723.69790864,   1368.3129986 ,\n",
       "        443755.63307374],\n",
       "       [  1325.6579684 ,   4466.40498074,   1325.99813402,\n",
       "        420456.24624241],\n",
       "       [  1386.94954869,   3296.0924113 ,   1393.76175262,\n",
       "        422604.22492441]])</pre></div></li></ul></div></li><li class='xr-section-item'><input id='section-d0137f6d-89dc-49c8-9039-01eb28e967e4' class='xr-section-summary-in' type='checkbox'  ><label for='section-d0137f6d-89dc-49c8-9039-01eb28e967e4' class='xr-section-summary' >Indexes: <span>(4)</span></label><div class='xr-section-inline-details'></div><div class='xr-section-details'><ul class='xr-var-list'><li class='xr-var-item'><div class='xr-index-name'><div>observations</div></div><div class='xr-index-preview'>PandasIndex</div><input type='checkbox' disabled/><label></label><input id='index-99ddb3f1-fa90-443d-a436-c6eb6b5bdc81' class='xr-index-data-in' type='checkbox'/><label for='index-99ddb3f1-fa90-443d-a436-c6eb6b5bdc81' title='Show/Hide index repr'><svg class='icon xr-icon-database'><use xlink:href='#icon-database'></use></svg></label><div class='xr-index-data'><pre>PandasIndex(Index([   0,    1,    2,    3,    4,    5,    6,    7,    8,    9,\n",
       "       ...\n",
       "       1068, 1069, 1070, 1071, 1072, 1073, 1074, 1075, 1076, 1077],\n",
       "      dtype=&#x27;int64&#x27;, name=&#x27;observations&#x27;, length=1078))</pre></div></li><li class='xr-var-item'><div class='xr-index-name'><div>response_vars</div></div><div class='xr-index-preview'>PandasIndex</div><input type='checkbox' disabled/><label></label><input id='index-d16baf75-8a4c-40e2-957e-164b6ba58b23' class='xr-index-data-in' type='checkbox'/><label for='index-d16baf75-8a4c-40e2-957e-164b6ba58b23' title='Show/Hide index repr'><svg class='icon xr-icon-database'><use xlink:href='#icon-database'></use></svg></label><div class='xr-index-data'><pre>PandasIndex(Index([&#x27;WM-hypointensities&#x27;, &#x27;Right-Lateral-Ventricle&#x27;, &#x27;Right-Amygdala&#x27;,\n",
       "       &#x27;CortexVol&#x27;],\n",
       "      dtype=&#x27;object&#x27;, name=&#x27;response_vars&#x27;))</pre></div></li><li class='xr-var-item'><div class='xr-index-name'><div>covariates</div></div><div class='xr-index-preview'>PandasIndex</div><input type='checkbox' disabled/><label></label><input id='index-63a794cf-4d72-45e0-9aa7-03271182d1e7' class='xr-index-data-in' type='checkbox'/><label for='index-63a794cf-4d72-45e0-9aa7-03271182d1e7' title='Show/Hide index repr'><svg class='icon xr-icon-database'><use xlink:href='#icon-database'></use></svg></label><div class='xr-index-data'><pre>PandasIndex(Index([&#x27;age&#x27;], dtype=&#x27;object&#x27;, name=&#x27;covariates&#x27;))</pre></div></li><li class='xr-var-item'><div class='xr-index-name'><div>batch_effect_dims</div></div><div class='xr-index-preview'>PandasIndex</div><input type='checkbox' disabled/><label></label><input id='index-944a4013-bbb2-408f-875b-1611ff6ae980' class='xr-index-data-in' type='checkbox'/><label for='index-944a4013-bbb2-408f-875b-1611ff6ae980' title='Show/Hide index repr'><svg class='icon xr-icon-database'><use xlink:href='#icon-database'></use></svg></label><div class='xr-index-data'><pre>PandasIndex(Index([&#x27;sex&#x27;, &#x27;site&#x27;], dtype=&#x27;object&#x27;, name=&#x27;batch_effect_dims&#x27;))</pre></div></li></ul></div></li><li class='xr-section-item'><input id='section-906eb7b5-4d6c-409a-ad20-78da00b362e8' class='xr-section-summary-in' type='checkbox'  checked><label for='section-906eb7b5-4d6c-409a-ad20-78da00b362e8' class='xr-section-summary' >Attributes: <span>(7)</span></label><div class='xr-section-inline-details'></div><div class='xr-section-details'><dl class='xr-attrs'><dt><span>real_ids :</span></dt><dd>True</dd><dt><span>is_scaled :</span></dt><dd>False</dd><dt><span>name :</span></dt><dd>fcon1000</dd><dt><span>unique_batch_effects :</span></dt><dd>{&#x27;sex&#x27;: [&#x27;F&#x27;, &#x27;M&#x27;], &#x27;site&#x27;: [&#x27;AnnArbor_a&#x27;, &#x27;AnnArbor_b&#x27;, &#x27;Atlanta&#x27;, &#x27;Baltimore&#x27;, &#x27;Bangor&#x27;, &#x27;Beijing_Zang&#x27;, &#x27;Berlin_Margulies&#x27;, &#x27;Cambridge_Buckner&#x27;, &#x27;Cleveland&#x27;, &#x27;ICBM&#x27;, &#x27;Leiden_2180&#x27;, &#x27;Leiden_2200&#x27;, &#x27;Milwaukee_b&#x27;, &#x27;Munchen&#x27;, &#x27;NewYork_a&#x27;, &#x27;NewYork_a_ADHD&#x27;, &#x27;Newark&#x27;, &#x27;Oulu&#x27;, &#x27;Oxford&#x27;, &#x27;PaloAlto&#x27;, &#x27;Pittsburgh&#x27;, &#x27;Queensland&#x27;, &#x27;SaintLouis&#x27;]}</dd><dt><span>batch_effect_counts :</span></dt><dd>{&#x27;sex&#x27;: {&#x27;F&#x27;: 589, &#x27;M&#x27;: 489}, &#x27;site&#x27;: {&#x27;AnnArbor_a&#x27;: 24, &#x27;AnnArbor_b&#x27;: 32, &#x27;Atlanta&#x27;: 28, &#x27;Baltimore&#x27;: 23, &#x27;Bangor&#x27;: 20, &#x27;Beijing_Zang&#x27;: 198, &#x27;Berlin_Margulies&#x27;: 26, &#x27;Cambridge_Buckner&#x27;: 198, &#x27;Cleveland&#x27;: 31, &#x27;ICBM&#x27;: 85, &#x27;Leiden_2180&#x27;: 12, &#x27;Leiden_2200&#x27;: 19, &#x27;Milwaukee_b&#x27;: 46, &#x27;Munchen&#x27;: 15, &#x27;NewYork_a&#x27;: 83, &#x27;NewYork_a_ADHD&#x27;: 25, &#x27;Newark&#x27;: 19, &#x27;Oulu&#x27;: 102, &#x27;Oxford&#x27;: 22, &#x27;PaloAlto&#x27;: 17, &#x27;Pittsburgh&#x27;: 3, &#x27;Queensland&#x27;: 19, &#x27;SaintLouis&#x27;: 31}}</dd><dt><span>batch_effect_covariate_ranges :</span></dt><dd>{&#x27;sex&#x27;: {&#x27;F&#x27;: {&#x27;age&#x27;: {&#x27;min&#x27;: 7.88, &#x27;max&#x27;: 85.0}}, &#x27;M&#x27;: {&#x27;age&#x27;: {&#x27;min&#x27;: 9.21, &#x27;max&#x27;: 78.0}}}, &#x27;site&#x27;: {&#x27;AnnArbor_a&#x27;: {&#x27;age&#x27;: {&#x27;min&#x27;: 13.41, &#x27;max&#x27;: 40.98}}, &#x27;AnnArbor_b&#x27;: {&#x27;age&#x27;: {&#x27;min&#x27;: 19.0, &#x27;max&#x27;: 79.0}}, &#x27;Atlanta&#x27;: {&#x27;age&#x27;: {&#x27;min&#x27;: 22.0, &#x27;max&#x27;: 57.0}}, &#x27;Baltimore&#x27;: {&#x27;age&#x27;: {&#x27;min&#x27;: 20.0, &#x27;max&#x27;: 40.0}}, &#x27;Bangor&#x27;: {&#x27;age&#x27;: {&#x27;min&#x27;: 19.0, &#x27;max&#x27;: 38.0}}, &#x27;Beijing_Zang&#x27;: {&#x27;age&#x27;: {&#x27;min&#x27;: 18.0, &#x27;max&#x27;: 26.0}}, &#x27;Berlin_Margulies&#x27;: {&#x27;age&#x27;: {&#x27;min&#x27;: 23.0, &#x27;max&#x27;: 44.0}}, &#x27;Cambridge_Buckner&#x27;: {&#x27;age&#x27;: {&#x27;min&#x27;: 18.0, &#x27;max&#x27;: 30.0}}, &#x27;Cleveland&#x27;: {&#x27;age&#x27;: {&#x27;min&#x27;: 24.0, &#x27;max&#x27;: 60.0}}, &#x27;ICBM&#x27;: {&#x27;age&#x27;: {&#x27;min&#x27;: 19.0, &#x27;max&#x27;: 85.0}}, &#x27;Leiden_2180&#x27;: {&#x27;age&#x27;: {&#x27;min&#x27;: 20.0, &#x27;max&#x27;: 27.0}}, &#x27;Leiden_2200&#x27;: {&#x27;age&#x27;: {&#x27;min&#x27;: 18.0, &#x27;max&#x27;: 28.0}}, &#x27;Milwaukee_b&#x27;: {&#x27;age&#x27;: {&#x27;min&#x27;: 44.0, &#x27;max&#x27;: 65.0}}, &#x27;Munchen&#x27;: {&#x27;age&#x27;: {&#x27;min&#x27;: 63.0, &#x27;max&#x27;: 74.0}}, &#x27;NewYork_a&#x27;: {&#x27;age&#x27;: {&#x27;min&#x27;: 7.88, &#x27;max&#x27;: 49.16}}, &#x27;NewYork_a_ADHD&#x27;: {&#x27;age&#x27;: {&#x27;min&#x27;: 20.69, &#x27;max&#x27;: 50.9}}, &#x27;Newark&#x27;: {&#x27;age&#x27;: {&#x27;min&#x27;: 21.0, &#x27;max&#x27;: 39.0}}, &#x27;Oulu&#x27;: {&#x27;age&#x27;: {&#x27;min&#x27;: 20.0, &#x27;max&#x27;: 23.0}}, &#x27;Oxford&#x27;: {&#x27;age&#x27;: {&#x27;min&#x27;: 20.0, &#x27;max&#x27;: 35.0}}, &#x27;PaloAlto&#x27;: {&#x27;age&#x27;: {&#x27;min&#x27;: 22.0, &#x27;max&#x27;: 46.0}}, &#x27;Pittsburgh&#x27;: {&#x27;age&#x27;: {&#x27;min&#x27;: 25.0, &#x27;max&#x27;: 47.0}}, &#x27;Queensland&#x27;: {&#x27;age&#x27;: {&#x27;min&#x27;: 20.0, &#x27;max&#x27;: 34.0}}, &#x27;SaintLouis&#x27;: {&#x27;age&#x27;: {&#x27;min&#x27;: 21.0, &#x27;max&#x27;: 29.0}}}}</dd><dt><span>covariate_ranges :</span></dt><dd>{&#x27;age&#x27;: {&#x27;min&#x27;: 7.88, &#x27;max&#x27;: 85.0}}</dd></dl></div></li></ul></div></div>"
      ],
      "text/plain": [
       "<xarray.NormData> Size: 242kB\n",
       "Dimensions:            (observations: 1078, response_vars: 4, covariates: 1,\n",
       "                        batch_effect_dims: 2)\n",
       "Coordinates:\n",
       "  * observations       (observations) int64 9kB 0 1 2 3 ... 1074 1075 1076 1077\n",
       "  * response_vars      (response_vars) <U34 544B 'WM-hypointensities' ... 'Co...\n",
       "  * covariates         (covariates) <U3 12B 'age'\n",
       "  * batch_effect_dims  (batch_effect_dims) <U4 32B 'sex' 'site'\n",
       "Data variables:\n",
       "    subjects           (observations) object 9kB 'AnnArbor_a_sub04111' ... 'S...\n",
       "    Y                  (observations, response_vars) float64 34kB 1.687e+03 ....\n",
       "    X                  (observations, covariates) float64 9kB 25.63 ... 23.0\n",
       "    batch_effects      (observations, batch_effect_dims) <U17 147kB 'M' ... '...\n",
       "    Y_harmonized       (observations, response_vars) float64 34kB 1.521e+03 ....\n",
       "Attributes:\n",
       "    real_ids:                       True\n",
       "    is_scaled:                      False\n",
       "    name:                           fcon1000\n",
       "    unique_batch_effects:           {'sex': ['F', 'M'], 'site': ['AnnArbor_a'...\n",
       "    batch_effect_counts:            {'sex': {'F': 589, 'M': 489}, 'site': {'A...\n",
       "    batch_effect_covariate_ranges:  {'sex': {'F': {'age': {'min': 7.88, 'max'...\n",
       "    covariate_ranges:               {'age': {'min': 7.88, 'max': 85.0}}"
      ]
     },
     "execution_count": 86,
     "metadata": {},
     "output_type": "execute_result"
    }
   ],
   "source": [
    "norm_data"
   ]
  },
  {
   "cell_type": "code",
   "execution_count": 87,
   "metadata": {},
   "outputs": [
    {
     "name": "stderr",
     "output_type": "stream",
     "text": [
      "/opt/anaconda3/envs/uv_refactor/lib/python3.12/site-packages/pcntoolkit/util/output.py:216: UserWarning: Process: 10589 - 2025-06-18 15:38:29 - remove_Nan is set to False. Ensure your data does not contain NaNs in critical columns, or handle them appropriately.\n",
      "  warnings.warn(message)\n",
      "Sampling: []\n"
     ]
    },
    {
     "name": "stdout",
     "output_type": "stream",
     "text": [
      "Process: 10589 - 2025-06-18 15:38:29 - Dataset \"centile\" created.\n",
      "    - 150 observations\n",
      "    - 150 unique subjects\n",
      "    - 1 covariates\n",
      "    - 4 response variables\n",
      "    - 2 batch effects:\n",
      "    \tsex (1)\n",
      "\tsite (1)\n",
      "    \n",
      "Process: 10589 - 2025-06-18 15:38:29 - Computing centiles for 4 response variables.\n",
      "Process: 10589 - 2025-06-18 15:38:29 - Computing centiles for CortexVol.\n"
     ]
    },
    {
     "name": "stderr",
     "output_type": "stream",
     "text": [
      "Sampling: []\n",
      "Sampling: []\n",
      "Sampling: []\n",
      "Sampling: []\n",
      "Sampling: []\n"
     ]
    },
    {
     "name": "stdout",
     "output_type": "stream",
     "text": [
      "Process: 10589 - 2025-06-18 15:38:30 - Computing centiles for Right-Lateral-Ventricle.\n"
     ]
    },
    {
     "name": "stderr",
     "output_type": "stream",
     "text": [
      "Sampling: []\n",
      "Sampling: []\n",
      "Sampling: []\n",
      "Sampling: []\n",
      "Sampling: []\n"
     ]
    },
    {
     "name": "stdout",
     "output_type": "stream",
     "text": [
      "Process: 10589 - 2025-06-18 15:38:32 - Computing centiles for WM-hypointensities.\n"
     ]
    },
    {
     "name": "stderr",
     "output_type": "stream",
     "text": [
      "Sampling: []\n",
      "Sampling: []\n",
      "Sampling: []\n",
      "Sampling: []\n",
      "Sampling: []\n"
     ]
    },
    {
     "name": "stdout",
     "output_type": "stream",
     "text": [
      "Process: 10589 - 2025-06-18 15:38:33 - Computing centiles for Right-Amygdala.\n"
     ]
    },
    {
     "name": "stderr",
     "output_type": "stream",
     "text": [
      "Sampling: []\n",
      "Sampling: []\n",
      "Sampling: []\n",
      "Sampling: []\n",
      "Sampling: []\n"
     ]
    },
    {
     "name": "stdout",
     "output_type": "stream",
     "text": [
      "Process: 10589 - 2025-06-18 15:38:34 - Harmonizing data on 4 response variables.\n",
      "Process: 10589 - 2025-06-18 15:38:34 - Harmonizing data for Right-Amygdala.\n"
     ]
    },
    {
     "name": "stderr",
     "output_type": "stream",
     "text": [
      "Sampling: []\n",
      "Sampling: []\n"
     ]
    },
    {
     "name": "stdout",
     "output_type": "stream",
     "text": [
      "Process: 10589 - 2025-06-18 15:38:35 - Harmonizing data for Right-Lateral-Ventricle.\n"
     ]
    },
    {
     "name": "stderr",
     "output_type": "stream",
     "text": [
      "Sampling: []\n",
      "Sampling: []\n"
     ]
    },
    {
     "name": "stdout",
     "output_type": "stream",
     "text": [
      "Process: 10589 - 2025-06-18 15:38:36 - Harmonizing data for WM-hypointensities.\n"
     ]
    },
    {
     "name": "stderr",
     "output_type": "stream",
     "text": [
      "Sampling: []\n",
      "Sampling: []\n"
     ]
    },
    {
     "name": "stdout",
     "output_type": "stream",
     "text": [
      "Process: 10589 - 2025-06-18 15:38:37 - Harmonizing data for CortexVol.\n"
     ]
    },
    {
     "name": "stderr",
     "output_type": "stream",
     "text": [
      "Sampling: []\n"
     ]
    }
   ],
   "source": [
    "plot_centiles(\n",
    "    model,\n",
    "    covariate_range=(10, 80),\n",
    "    covariate=\"age\",  # Which covariate to plot on the x-axis\n",
    "    scatter_data=norm_data,  # Scatter the train data points\n",
    "    batch_effects={\"sex\": [\"M\", \"F\"], \"site\": [\"AnnArbor_a\"]},  # You can set this to \"all\" to show all batch effects\n",
    "    show_other_data=False,  # Show data points that do not match any batch effects\n",
    "    show_centile_labels=True,\n",
    "    harmonize_data=True,\n",
    "    # harmonize_data=True,  # Set this to False to see the difference\n",
    "    show_legend=False,  # Don't show the legend because it crowds the plot\n",
    "    save_dir=\"/Users/stijndeboer/Projects/PCN/PCNtoolkit/examples/resources/plots_for_presentation/5\",\n",
    ")"
   ]
  },
  {
   "cell_type": "code",
   "execution_count": 88,
   "metadata": {},
   "outputs": [
    {
     "name": "stderr",
     "output_type": "stream",
     "text": [
      "/opt/anaconda3/envs/uv_refactor/lib/python3.12/site-packages/pcntoolkit/util/output.py:216: UserWarning: Process: 10589 - 2025-06-18 15:38:39 - remove_Nan is set to False. Ensure your data does not contain NaNs in critical columns, or handle them appropriately.\n",
      "  warnings.warn(message)\n",
      "Sampling: []\n"
     ]
    },
    {
     "name": "stdout",
     "output_type": "stream",
     "text": [
      "Process: 10589 - 2025-06-18 15:38:39 - Dataset \"centile\" created.\n",
      "    - 150 observations\n",
      "    - 150 unique subjects\n",
      "    - 1 covariates\n",
      "    - 4 response variables\n",
      "    - 2 batch effects:\n",
      "    \tsex (1)\n",
      "\tsite (1)\n",
      "    \n",
      "Process: 10589 - 2025-06-18 15:38:39 - Computing centiles for 4 response variables.\n",
      "Process: 10589 - 2025-06-18 15:38:39 - Computing centiles for CortexVol.\n"
     ]
    },
    {
     "name": "stderr",
     "output_type": "stream",
     "text": [
      "Sampling: []\n",
      "Sampling: []\n",
      "Sampling: []\n",
      "Sampling: []\n",
      "Sampling: []\n"
     ]
    },
    {
     "name": "stdout",
     "output_type": "stream",
     "text": [
      "Process: 10589 - 2025-06-18 15:38:40 - Computing centiles for Right-Lateral-Ventricle.\n"
     ]
    },
    {
     "name": "stderr",
     "output_type": "stream",
     "text": [
      "Sampling: []\n",
      "Sampling: []\n",
      "Sampling: []\n",
      "Sampling: []\n",
      "Sampling: []\n"
     ]
    },
    {
     "name": "stdout",
     "output_type": "stream",
     "text": [
      "Process: 10589 - 2025-06-18 15:38:41 - Computing centiles for WM-hypointensities.\n"
     ]
    },
    {
     "name": "stderr",
     "output_type": "stream",
     "text": [
      "Sampling: []\n",
      "Sampling: []\n",
      "Sampling: []\n",
      "Sampling: []\n",
      "Sampling: []\n"
     ]
    },
    {
     "name": "stdout",
     "output_type": "stream",
     "text": [
      "Process: 10589 - 2025-06-18 15:38:42 - Computing centiles for Right-Amygdala.\n"
     ]
    },
    {
     "name": "stderr",
     "output_type": "stream",
     "text": [
      "Sampling: []\n",
      "Sampling: []\n",
      "Sampling: []\n",
      "Sampling: []\n",
      "Sampling: []\n"
     ]
    },
    {
     "name": "stdout",
     "output_type": "stream",
     "text": [
      "Process: 10589 - 2025-06-18 15:38:44 - Harmonizing data on 4 response variables.\n",
      "Process: 10589 - 2025-06-18 15:38:44 - Harmonizing data for Right-Amygdala.\n"
     ]
    },
    {
     "name": "stderr",
     "output_type": "stream",
     "text": [
      "Sampling: []\n",
      "Sampling: []\n"
     ]
    },
    {
     "name": "stdout",
     "output_type": "stream",
     "text": [
      "Process: 10589 - 2025-06-18 15:38:45 - Harmonizing data for Right-Lateral-Ventricle.\n"
     ]
    },
    {
     "name": "stderr",
     "output_type": "stream",
     "text": [
      "Sampling: []\n",
      "Sampling: []\n"
     ]
    },
    {
     "name": "stdout",
     "output_type": "stream",
     "text": [
      "Process: 10589 - 2025-06-18 15:38:46 - Harmonizing data for WM-hypointensities.\n"
     ]
    },
    {
     "name": "stderr",
     "output_type": "stream",
     "text": [
      "Sampling: []\n",
      "Sampling: []\n"
     ]
    },
    {
     "name": "stdout",
     "output_type": "stream",
     "text": [
      "Process: 10589 - 2025-06-18 15:38:47 - Harmonizing data for CortexVol.\n"
     ]
    },
    {
     "name": "stderr",
     "output_type": "stream",
     "text": [
      "Sampling: []\n"
     ]
    }
   ],
   "source": [
    "plot_centiles(\n",
    "    model,\n",
    "    covariate_range=(10, 80),\n",
    "    covariate=\"age\",  # Which covariate to plot on the x-axis\n",
    "    scatter_data=norm_data,  # Scatter the train data points\n",
    "    batch_effects={\n",
    "        \"sex\": [\"M\", \"F\"],\n",
    "        \"site\": [\n",
    "            \"AnnArbor_a\",\n",
    "            \"Beijing_Zang\",\n",
    "        ],\n",
    "    },  # You can set this to \"all\" to show all batch effects\n",
    "    show_other_data=False,  # Show data points that do not match any batch effects\n",
    "    show_centile_labels=True,\n",
    "    harmonize_data=True,\n",
    "    # harmonize_data=True,  # Set this to False to see the difference\n",
    "    show_legend=False,  # Don't show the legend because it crowds the plot\n",
    "    save_dir=\"/Users/stijndeboer/Projects/PCN/PCNtoolkit/examples/resources/plots_for_presentation/6\",\n",
    ")"
   ]
  },
  {
   "cell_type": "code",
   "execution_count": 89,
   "metadata": {},
   "outputs": [
    {
     "name": "stderr",
     "output_type": "stream",
     "text": [
      "/opt/anaconda3/envs/uv_refactor/lib/python3.12/site-packages/pcntoolkit/util/output.py:216: UserWarning: Process: 10589 - 2025-06-18 15:38:48 - remove_Nan is set to False. Ensure your data does not contain NaNs in critical columns, or handle them appropriately.\n",
      "  warnings.warn(message)\n",
      "Sampling: []\n"
     ]
    },
    {
     "name": "stdout",
     "output_type": "stream",
     "text": [
      "Process: 10589 - 2025-06-18 15:38:48 - Dataset \"centile\" created.\n",
      "    - 150 observations\n",
      "    - 150 unique subjects\n",
      "    - 1 covariates\n",
      "    - 4 response variables\n",
      "    - 2 batch effects:\n",
      "    \tsex (1)\n",
      "\tsite (1)\n",
      "    \n",
      "Process: 10589 - 2025-06-18 15:38:48 - Computing centiles for 4 response variables.\n",
      "Process: 10589 - 2025-06-18 15:38:48 - Computing centiles for CortexVol.\n"
     ]
    },
    {
     "name": "stderr",
     "output_type": "stream",
     "text": [
      "Sampling: []\n",
      "Sampling: []\n",
      "Sampling: []\n",
      "Sampling: []\n",
      "Sampling: []\n"
     ]
    },
    {
     "name": "stdout",
     "output_type": "stream",
     "text": [
      "Process: 10589 - 2025-06-18 15:38:49 - Computing centiles for Right-Lateral-Ventricle.\n"
     ]
    },
    {
     "name": "stderr",
     "output_type": "stream",
     "text": [
      "Sampling: []\n",
      "Sampling: []\n",
      "Sampling: []\n",
      "Sampling: []\n",
      "Sampling: []\n"
     ]
    },
    {
     "name": "stdout",
     "output_type": "stream",
     "text": [
      "Process: 10589 - 2025-06-18 15:38:50 - Computing centiles for WM-hypointensities.\n"
     ]
    },
    {
     "name": "stderr",
     "output_type": "stream",
     "text": [
      "Sampling: []\n",
      "Sampling: []\n",
      "Sampling: []\n",
      "Sampling: []\n",
      "Sampling: []\n"
     ]
    },
    {
     "name": "stdout",
     "output_type": "stream",
     "text": [
      "Process: 10589 - 2025-06-18 15:38:52 - Computing centiles for Right-Amygdala.\n"
     ]
    },
    {
     "name": "stderr",
     "output_type": "stream",
     "text": [
      "Sampling: []\n",
      "Sampling: []\n",
      "Sampling: []\n",
      "Sampling: []\n",
      "Sampling: []\n"
     ]
    },
    {
     "name": "stdout",
     "output_type": "stream",
     "text": [
      "Process: 10589 - 2025-06-18 15:38:53 - Harmonizing data on 4 response variables.\n",
      "Process: 10589 - 2025-06-18 15:38:53 - Harmonizing data for Right-Amygdala.\n"
     ]
    },
    {
     "name": "stderr",
     "output_type": "stream",
     "text": [
      "Sampling: []\n",
      "Sampling: []\n"
     ]
    },
    {
     "name": "stdout",
     "output_type": "stream",
     "text": [
      "Process: 10589 - 2025-06-18 15:38:54 - Harmonizing data for Right-Lateral-Ventricle.\n"
     ]
    },
    {
     "name": "stderr",
     "output_type": "stream",
     "text": [
      "Sampling: []\n",
      "Sampling: []\n"
     ]
    },
    {
     "name": "stdout",
     "output_type": "stream",
     "text": [
      "Process: 10589 - 2025-06-18 15:38:55 - Harmonizing data for WM-hypointensities.\n"
     ]
    },
    {
     "name": "stderr",
     "output_type": "stream",
     "text": [
      "Sampling: []\n",
      "Sampling: []\n"
     ]
    },
    {
     "name": "stdout",
     "output_type": "stream",
     "text": [
      "Process: 10589 - 2025-06-18 15:38:56 - Harmonizing data for CortexVol.\n"
     ]
    },
    {
     "name": "stderr",
     "output_type": "stream",
     "text": [
      "Sampling: []\n"
     ]
    }
   ],
   "source": [
    "plot_centiles(\n",
    "    model,\n",
    "    covariate_range=(10, 80),\n",
    "    covariate=\"age\",  # Which covariate to plot on the x-axis\n",
    "    scatter_data=norm_data,  # Scatter the train data points\n",
    "    batch_effects={\n",
    "        \"sex\": [\"M\", \"F\"],\n",
    "        \"site\": [\n",
    "            \"AnnArbor_a\",\n",
    "            \"Beijing_Zang\",\n",
    "            \"Cambridge_Buckner\",\n",
    "        ],\n",
    "    },  # You can set this to \"all\" to show all batch effects\n",
    "    show_other_data=False,  # Show data points that do not match any batch effects\n",
    "    show_centile_labels=True,\n",
    "    harmonize_data=True,\n",
    "    # harmonize_data=True,  # Set this to False to see the difference\n",
    "    show_legend=False,  # Don't show the legend because it crowds the plot\n",
    "    save_dir=\"/Users/stijndeboer/Projects/PCN/PCNtoolkit/examples/resources/plots_for_presentation/7\",\n",
    ")"
   ]
  },
  {
   "cell_type": "code",
   "execution_count": 90,
   "metadata": {},
   "outputs": [
    {
     "name": "stderr",
     "output_type": "stream",
     "text": [
      "/opt/anaconda3/envs/uv_refactor/lib/python3.12/site-packages/pcntoolkit/util/output.py:216: UserWarning: Process: 10589 - 2025-06-18 15:38:57 - remove_Nan is set to False. Ensure your data does not contain NaNs in critical columns, or handle them appropriately.\n",
      "  warnings.warn(message)\n",
      "Sampling: []\n"
     ]
    },
    {
     "name": "stdout",
     "output_type": "stream",
     "text": [
      "Process: 10589 - 2025-06-18 15:38:57 - Dataset \"centile\" created.\n",
      "    - 150 observations\n",
      "    - 150 unique subjects\n",
      "    - 1 covariates\n",
      "    - 4 response variables\n",
      "    - 2 batch effects:\n",
      "    \tsex (1)\n",
      "\tsite (1)\n",
      "    \n",
      "Process: 10589 - 2025-06-18 15:38:57 - Computing centiles for 4 response variables.\n",
      "Process: 10589 - 2025-06-18 15:38:57 - Computing centiles for CortexVol.\n"
     ]
    },
    {
     "name": "stderr",
     "output_type": "stream",
     "text": [
      "Sampling: []\n",
      "Sampling: []\n",
      "Sampling: []\n",
      "Sampling: []\n",
      "Sampling: []\n"
     ]
    },
    {
     "name": "stdout",
     "output_type": "stream",
     "text": [
      "Process: 10589 - 2025-06-18 15:38:58 - Computing centiles for Right-Lateral-Ventricle.\n"
     ]
    },
    {
     "name": "stderr",
     "output_type": "stream",
     "text": [
      "Sampling: []\n",
      "Sampling: []\n",
      "Sampling: []\n",
      "Sampling: []\n",
      "Sampling: []\n"
     ]
    },
    {
     "name": "stdout",
     "output_type": "stream",
     "text": [
      "Process: 10589 - 2025-06-18 15:39:00 - Computing centiles for WM-hypointensities.\n"
     ]
    },
    {
     "name": "stderr",
     "output_type": "stream",
     "text": [
      "Sampling: []\n",
      "Sampling: []\n",
      "Sampling: []\n",
      "Sampling: []\n",
      "Sampling: []\n"
     ]
    },
    {
     "name": "stdout",
     "output_type": "stream",
     "text": [
      "Process: 10589 - 2025-06-18 15:39:01 - Computing centiles for Right-Amygdala.\n"
     ]
    },
    {
     "name": "stderr",
     "output_type": "stream",
     "text": [
      "Sampling: []\n",
      "Sampling: []\n",
      "Sampling: []\n",
      "Sampling: []\n",
      "Sampling: []\n"
     ]
    },
    {
     "name": "stdout",
     "output_type": "stream",
     "text": [
      "Process: 10589 - 2025-06-18 15:39:02 - Harmonizing data on 4 response variables.\n",
      "Process: 10589 - 2025-06-18 15:39:02 - Harmonizing data for Right-Amygdala.\n"
     ]
    },
    {
     "name": "stderr",
     "output_type": "stream",
     "text": [
      "Sampling: []\n",
      "Sampling: []\n"
     ]
    },
    {
     "name": "stdout",
     "output_type": "stream",
     "text": [
      "Process: 10589 - 2025-06-18 15:39:03 - Harmonizing data for Right-Lateral-Ventricle.\n"
     ]
    },
    {
     "name": "stderr",
     "output_type": "stream",
     "text": [
      "Sampling: []\n",
      "Sampling: []\n"
     ]
    },
    {
     "name": "stdout",
     "output_type": "stream",
     "text": [
      "Process: 10589 - 2025-06-18 15:39:04 - Harmonizing data for WM-hypointensities.\n"
     ]
    },
    {
     "name": "stderr",
     "output_type": "stream",
     "text": [
      "Sampling: []\n",
      "Sampling: []\n"
     ]
    },
    {
     "name": "stdout",
     "output_type": "stream",
     "text": [
      "Process: 10589 - 2025-06-18 15:39:05 - Harmonizing data for CortexVol.\n"
     ]
    },
    {
     "name": "stderr",
     "output_type": "stream",
     "text": [
      "Sampling: []\n"
     ]
    }
   ],
   "source": [
    "plot_centiles(\n",
    "    model,\n",
    "    covariate_range=(10, 80),\n",
    "    covariate=\"age\",  # Which covariate to plot on the x-axis\n",
    "    scatter_data=norm_data,  # Scatter the train data points\n",
    "    batch_effects={\n",
    "        \"sex\": [\"M\", \"F\"],\n",
    "        \"site\": [\n",
    "            \"AnnArbor_a\",\n",
    "            \"Beijing_Zang\",\n",
    "            \"Cambridge_Buckner\",\n",
    "            \"Milwaukee_b\",\n",
    "        ],\n",
    "    },  # You can set this to \"all\" to show all batch effects\n",
    "    show_other_data=False,  # Show data points that do not match any batch effects\n",
    "    show_centile_labels=True,\n",
    "    harmonize_data=True,\n",
    "    # harmonize_data=True,  # Set this to False to see the difference\n",
    "    show_legend=False,  # Don't show the legend because it crowds the plot\n",
    "    save_dir=\"/Users/stijndeboer/Projects/PCN/PCNtoolkit/examples/resources/plots_for_presentation/8\",\n",
    ")"
   ]
  },
  {
   "cell_type": "code",
   "execution_count": null,
   "metadata": {},
   "outputs": [],
   "source": []
  },
  {
   "cell_type": "code",
   "execution_count": null,
   "metadata": {},
   "outputs": [],
   "source": []
  }
 ],
 "metadata": {
  "kernelspec": {
   "display_name": "ptk",
   "language": "python",
   "name": "python3"
  },
  "language_info": {
   "codemirror_mode": {
    "name": "ipython",
    "version": 3
   },
   "file_extension": ".py",
   "mimetype": "text/x-python",
   "name": "python",
   "nbconvert_exporter": "python",
   "pygments_lexer": "ipython3",
   "version": "3.12.0"
  }
 },
 "nbformat": 4,
 "nbformat_minor": 2
}
