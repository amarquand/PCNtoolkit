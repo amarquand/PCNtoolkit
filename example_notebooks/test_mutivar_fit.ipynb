{
 "cells": [
  {
   "cell_type": "code",
   "execution_count": 1,
   "metadata": {},
   "outputs": [
    {
     "data": {
      "text/plain": [
       "array([ 0.03916306,  9.96345733, -0.01278288])"
      ]
     },
     "execution_count": 1,
     "metadata": {},
     "output_type": "execute_result"
    }
   ],
   "source": [
    "import numpy as np\n",
    "import scipy.stats as stats\n",
    "\n",
    "rand = np.random.randn(1000, 3)\n",
    "rand[:, 1] += 10\n",
    "\n",
    "f = stats.norm.fit(rand)\n",
    "\n",
    "meansvars = [stats.norm.fit(rand[:, i]) for i in range(3)]\n",
    "means, vars = np.array(meansvars).T\n",
    "means"
   ]
  },
  {
   "cell_type": "code",
   "execution_count": 5,
   "metadata": {},
   "outputs": [
    {
     "ename": "RecursionError",
     "evalue": "maximum recursion depth exceeded",
     "output_type": "error",
     "traceback": [
      "\u001b[0;31m---------------------------------------------------------------------------\u001b[0m",
      "\u001b[0;31mRecursionError\u001b[0m                            Traceback (most recent call last)",
      "Cell \u001b[0;32mIn[5], line 9\u001b[0m\n\u001b[1;32m      7\u001b[0m \u001b[38;5;66;03m# d = pm.Data(\"data\", data)\u001b[39;00m\n\u001b[1;32m      8\u001b[0m pm_y \u001b[38;5;241m=\u001b[39m pm\u001b[38;5;241m.\u001b[39mData(\u001b[38;5;124m\"\u001b[39m\u001b[38;5;124my\u001b[39m\u001b[38;5;124m\"\u001b[39m, y)\n\u001b[0;32m----> 9\u001b[0m pm\u001b[38;5;241m.\u001b[39mNormal(\u001b[38;5;124m\"\u001b[39m\u001b[38;5;124mN2\u001b[39m\u001b[38;5;124m\"\u001b[39m, \u001b[43ms\u001b[49m\u001b[43m[\u001b[49m\u001b[38;5;124;43m\"\u001b[39;49m\u001b[38;5;124;43ma\u001b[39;49m\u001b[38;5;124;43m\"\u001b[39;49m\u001b[43m,\u001b[49m\u001b[43m \u001b[49m\u001b[38;5;124;43m\"\u001b[39;49m\u001b[38;5;124;43mb\u001b[39;49m\u001b[38;5;124;43m\"\u001b[39;49m\u001b[43m,\u001b[49m\u001b[43m \u001b[49m\u001b[38;5;124;43m\"\u001b[39;49m\u001b[38;5;124;43mb\u001b[39;49m\u001b[38;5;124;43m\"\u001b[39;49m\u001b[43m,\u001b[49m\u001b[43m \u001b[49m\u001b[38;5;124;43m\"\u001b[39;49m\u001b[38;5;124;43ma\u001b[39;49m\u001b[38;5;124;43m\"\u001b[39;49m\u001b[43m]\u001b[49m, \u001b[38;5;241m1\u001b[39m, observed\u001b[38;5;241m=\u001b[39mpm_y)\n\u001b[1;32m     10\u001b[0m pm\u001b[38;5;241m.\u001b[39msample()\n",
      "File \u001b[0;32m/opt/anaconda3/envs/param2/lib/python3.12/site-packages/pytensor/tensor/variable.py:490\u001b[0m, in \u001b[0;36m_tensor_py_operators.__getitem__\u001b[0;34m(self, args)\u001b[0m\n\u001b[1;32m    482\u001b[0m     index_dim_count \u001b[38;5;241m+\u001b[39m\u001b[38;5;241m=\u001b[39m arg\u001b[38;5;241m.\u001b[39mndim\n\u001b[1;32m    483\u001b[0m \u001b[38;5;28;01melse\u001b[39;00m:\n\u001b[1;32m    484\u001b[0m     \u001b[38;5;66;03m# Python arrays can contain a mixture of bools and integers,\u001b[39;00m\n\u001b[1;32m    485\u001b[0m     \u001b[38;5;66;03m# which requires complex rules to handle all special cases.\u001b[39;00m\n\u001b[0;32m   (...)\u001b[0m\n\u001b[1;32m    488\u001b[0m     \u001b[38;5;66;03m# indexing, it is safe to throw an error if we encounter\u001b[39;00m\n\u001b[1;32m    489\u001b[0m     \u001b[38;5;66;03m# any of these difficult cases.\u001b[39;00m\n\u001b[0;32m--> 490\u001b[0m     \u001b[38;5;28;01mif\u001b[39;00m \u001b[43mincludes_bool\u001b[49m\u001b[43m(\u001b[49m\u001b[43marg\u001b[49m\u001b[43m)\u001b[49m:\n\u001b[1;32m    491\u001b[0m         \u001b[38;5;28;01mraise\u001b[39;00m \u001b[38;5;167;01mTypeError\u001b[39;00m(\n\u001b[1;32m    492\u001b[0m             \u001b[38;5;124m\"\u001b[39m\u001b[38;5;124mTensorType does not support Python bools \u001b[39m\u001b[38;5;124m\"\u001b[39m\n\u001b[1;32m    493\u001b[0m             \u001b[38;5;124m\"\u001b[39m\u001b[38;5;124mfor indexing, such as tensor[[True, False]]. \u001b[39m\u001b[38;5;124m\"\u001b[39m\n\u001b[0;32m   (...)\u001b[0m\n\u001b[1;32m    496\u001b[0m             \u001b[38;5;124m\"\u001b[39m\u001b[38;5;124mtensor[numpy.array([True, False])].\u001b[39m\u001b[38;5;124m\"\u001b[39m\n\u001b[1;32m    497\u001b[0m         )\n\u001b[1;32m    498\u001b[0m     index_dim_count \u001b[38;5;241m+\u001b[39m\u001b[38;5;241m=\u001b[39m \u001b[38;5;241m1\u001b[39m\n",
      "File \u001b[0;32m/opt/anaconda3/envs/param2/lib/python3.12/site-packages/pytensor/tensor/variable.py:458\u001b[0m, in \u001b[0;36m_tensor_py_operators.__getitem__.<locals>.includes_bool\u001b[0;34m(args_el)\u001b[0m\n\u001b[1;32m    456\u001b[0m \u001b[38;5;28;01mif\u001b[39;00m \u001b[38;5;129;01mnot\u001b[39;00m \u001b[38;5;28misinstance\u001b[39m(args_el, Variable) \u001b[38;5;129;01mand\u001b[39;00m \u001b[38;5;28misinstance\u001b[39m(args_el, Iterable):\n\u001b[1;32m    457\u001b[0m     \u001b[38;5;28;01mfor\u001b[39;00m el \u001b[38;5;129;01min\u001b[39;00m args_el:\n\u001b[0;32m--> 458\u001b[0m         \u001b[38;5;28;01mif\u001b[39;00m \u001b[43mincludes_bool\u001b[49m\u001b[43m(\u001b[49m\u001b[43mel\u001b[49m\u001b[43m)\u001b[49m:\n\u001b[1;32m    459\u001b[0m             \u001b[38;5;28;01mreturn\u001b[39;00m \u001b[38;5;28;01mTrue\u001b[39;00m\n\u001b[1;32m    460\u001b[0m \u001b[38;5;28;01mreturn\u001b[39;00m \u001b[38;5;28;01mFalse\u001b[39;00m\n",
      "File \u001b[0;32m/opt/anaconda3/envs/param2/lib/python3.12/site-packages/pytensor/tensor/variable.py:458\u001b[0m, in \u001b[0;36m_tensor_py_operators.__getitem__.<locals>.includes_bool\u001b[0;34m(args_el)\u001b[0m\n\u001b[1;32m    456\u001b[0m \u001b[38;5;28;01mif\u001b[39;00m \u001b[38;5;129;01mnot\u001b[39;00m \u001b[38;5;28misinstance\u001b[39m(args_el, Variable) \u001b[38;5;129;01mand\u001b[39;00m \u001b[38;5;28misinstance\u001b[39m(args_el, Iterable):\n\u001b[1;32m    457\u001b[0m     \u001b[38;5;28;01mfor\u001b[39;00m el \u001b[38;5;129;01min\u001b[39;00m args_el:\n\u001b[0;32m--> 458\u001b[0m         \u001b[38;5;28;01mif\u001b[39;00m \u001b[43mincludes_bool\u001b[49m\u001b[43m(\u001b[49m\u001b[43mel\u001b[49m\u001b[43m)\u001b[49m:\n\u001b[1;32m    459\u001b[0m             \u001b[38;5;28;01mreturn\u001b[39;00m \u001b[38;5;28;01mTrue\u001b[39;00m\n\u001b[1;32m    460\u001b[0m \u001b[38;5;28;01mreturn\u001b[39;00m \u001b[38;5;28;01mFalse\u001b[39;00m\n",
      "    \u001b[0;31m[... skipping similar frames: _tensor_py_operators.__getitem__.<locals>.includes_bool at line 458 (9972 times)]\u001b[0m\n",
      "File \u001b[0;32m/opt/anaconda3/envs/param2/lib/python3.12/site-packages/pytensor/tensor/variable.py:458\u001b[0m, in \u001b[0;36m_tensor_py_operators.__getitem__.<locals>.includes_bool\u001b[0;34m(args_el)\u001b[0m\n\u001b[1;32m    456\u001b[0m \u001b[38;5;28;01mif\u001b[39;00m \u001b[38;5;129;01mnot\u001b[39;00m \u001b[38;5;28misinstance\u001b[39m(args_el, Variable) \u001b[38;5;129;01mand\u001b[39;00m \u001b[38;5;28misinstance\u001b[39m(args_el, Iterable):\n\u001b[1;32m    457\u001b[0m     \u001b[38;5;28;01mfor\u001b[39;00m el \u001b[38;5;129;01min\u001b[39;00m args_el:\n\u001b[0;32m--> 458\u001b[0m         \u001b[38;5;28;01mif\u001b[39;00m \u001b[43mincludes_bool\u001b[49m\u001b[43m(\u001b[49m\u001b[43mel\u001b[49m\u001b[43m)\u001b[49m:\n\u001b[1;32m    459\u001b[0m             \u001b[38;5;28;01mreturn\u001b[39;00m \u001b[38;5;28;01mTrue\u001b[39;00m\n\u001b[1;32m    460\u001b[0m \u001b[38;5;28;01mreturn\u001b[39;00m \u001b[38;5;28;01mFalse\u001b[39;00m\n",
      "File \u001b[0;32m/opt/anaconda3/envs/param2/lib/python3.12/site-packages/pytensor/tensor/variable.py:456\u001b[0m, in \u001b[0;36m_tensor_py_operators.__getitem__.<locals>.includes_bool\u001b[0;34m(args_el)\u001b[0m\n\u001b[1;32m    452\u001b[0m \u001b[38;5;28;01mif\u001b[39;00m \u001b[38;5;28misinstance\u001b[39m(args_el, np\u001b[38;5;241m.\u001b[39mbool_ \u001b[38;5;241m|\u001b[39m \u001b[38;5;28mbool\u001b[39m) \u001b[38;5;129;01mor\u001b[39;00m (\n\u001b[1;32m    453\u001b[0m     \u001b[38;5;28mhasattr\u001b[39m(args_el, \u001b[38;5;124m\"\u001b[39m\u001b[38;5;124mdtype\u001b[39m\u001b[38;5;124m\"\u001b[39m) \u001b[38;5;129;01mand\u001b[39;00m args_el\u001b[38;5;241m.\u001b[39mdtype \u001b[38;5;241m==\u001b[39m \u001b[38;5;124m\"\u001b[39m\u001b[38;5;124mbool\u001b[39m\u001b[38;5;124m\"\u001b[39m\n\u001b[1;32m    454\u001b[0m ):\n\u001b[1;32m    455\u001b[0m     \u001b[38;5;28;01mreturn\u001b[39;00m \u001b[38;5;28;01mTrue\u001b[39;00m\n\u001b[0;32m--> 456\u001b[0m \u001b[38;5;28;01mif\u001b[39;00m \u001b[38;5;129;01mnot\u001b[39;00m \u001b[38;5;28;43misinstance\u001b[39;49m\u001b[43m(\u001b[49m\u001b[43margs_el\u001b[49m\u001b[43m,\u001b[49m\u001b[43m \u001b[49m\u001b[43mVariable\u001b[49m\u001b[43m)\u001b[49m \u001b[38;5;129;01mand\u001b[39;00m \u001b[38;5;28misinstance\u001b[39m(args_el, Iterable):\n\u001b[1;32m    457\u001b[0m     \u001b[38;5;28;01mfor\u001b[39;00m el \u001b[38;5;129;01min\u001b[39;00m args_el:\n\u001b[1;32m    458\u001b[0m         \u001b[38;5;28;01mif\u001b[39;00m includes_bool(el):\n",
      "\u001b[0;31mRecursionError\u001b[0m: maximum recursion depth exceeded"
     ]
    }
   ],
   "source": [
    "import pymc as pm\n",
    "\n",
    "data = [\"a\", \"b\", \"b\", \"a\"]\n",
    "y = [0, 1, 1.2, 0.3]\n",
    "with pm.Model(coords={\"test\": [\"a\", \"b\"]}) as model:\n",
    "    s = pm.Normal(\"N\", 0, 1, dims=\"test\")\n",
    "    d = pm.Data(\"data\", data)\n",
    "    pm_y = pm.Data(\"y\", y)\n",
    "    pm.Normal(\"N2\", s[d], 1, observed=pm_y)\n",
    "    pm.sample()"
   ]
  },
  {
   "cell_type": "code",
   "execution_count": null,
   "metadata": {},
   "outputs": [],
   "source": []
  }
 ],
 "metadata": {
  "kernelspec": {
   "display_name": "param2",
   "language": "python",
   "name": "python3"
  },
  "language_info": {
   "codemirror_mode": {
    "name": "ipython",
    "version": 3
   },
   "file_extension": ".py",
   "mimetype": "text/x-python",
   "name": "python",
   "nbconvert_exporter": "python",
   "pygments_lexer": "ipython3",
   "version": "3.12.0"
  }
 },
 "nbformat": 4,
 "nbformat_minor": 2
}
