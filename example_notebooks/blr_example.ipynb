{
 "cells": [
  {
   "cell_type": "code",
   "execution_count": 1,
   "metadata": {
    "notebookRunGroups": {
     "groupValue": "1"
    }
   },
   "outputs": [],
   "source": [
    "import numpy as np\n",
    "import pandas as pd\n",
    "\n",
    "from pcntoolkit import BLRConf, NormConf, NormData\n",
    "from pcntoolkit.normative_model.norm_factory import (\n",
    "    create_normative_model,\n",
    "    load_normative_model,\n",
    ")"
   ]
  },
  {
   "cell_type": "code",
   "execution_count": 2,
   "metadata": {
    "notebookRunGroups": {
     "groupValue": "1"
    }
   },
   "outputs": [],
   "source": [
    "# First download the dataset from github\n",
    "# fcon=pd.read_csv(\"https://raw.githubusercontent.com/pcn-toolkit/pcn-toolkit/master/resources/data/fcon1000.csv\")\n",
    "data = pd.read_csv(\"resources/data/fcon1000.csv\")"
   ]
  },
  {
   "cell_type": "code",
   "execution_count": 3,
   "metadata": {
    "notebookRunGroups": {
     "groupValue": "1"
    }
   },
   "outputs": [],
   "source": [
    "data[\"sex \"] = np.where(data[\"sex\"] == 1, [\"male\"], [\"female\"])"
   ]
  },
  {
   "cell_type": "code",
   "execution_count": 4,
   "metadata": {
    "notebookRunGroups": {
     "groupValue": "1"
    }
   },
   "outputs": [],
   "source": [
    "# Group the data by site and sex\n",
    "site_counts = data.groupby([\"site\", \"sex\"]).size().reset_index(name=\"counts\")\n",
    "\n",
    "# Get the sites with only one sex present\n",
    "sex_count_per_site = site_counts[\"site\"].value_counts()\n",
    "sites_with_one_sex = sex_count_per_site[sex_count_per_site == 1]\n",
    "sites_with_one_sex.index\n",
    "\n",
    "# remove the sites with less than 10 samples\n",
    "data = data[~data[\"site\"].isin(sites_with_one_sex.index)]\n",
    "\n",
    "\n",
    "# find the sites that have less than 10 samples\n",
    "site_counts = site_counts[site_counts[\"counts\"] < 10]\n",
    "\n",
    "# remove the sites with less than 10 samples\n",
    "data = data[~data[\"site\"].isin(site_counts[\"site\"])]"
   ]
  },
  {
   "cell_type": "markdown",
   "metadata": {},
   "source": [
    "We find the seven largest sites, which we will use for train and transfer. Two of those are randomly selected for transfering later."
   ]
  },
  {
   "cell_type": "code",
   "execution_count": 5,
   "metadata": {
    "notebookRunGroups": {
     "groupValue": "1"
    }
   },
   "outputs": [],
   "source": [
    "site_counts = data.groupby([\"site\"]).size().reset_index(name=\"counts\")\n",
    "site_counts = site_counts.sort_values(\"counts\", ascending=False)\n",
    "site_counts = site_counts.head(7)\n",
    "site_counts\n",
    "\n",
    "np.random.seed(45)\n",
    "# randomly select 2 sites from the top 7 sites for transfering\n",
    "transfer_sites = site_counts.sample(2)[\"site\"]\n",
    "transfer_data = data[data[\"site\"].isin(transfer_sites)]\n",
    "\n",
    "# The remaining sites are used for training the model\n",
    "fit_sites = site_counts[~site_counts.isin(transfer_sites)][\"site\"]\n",
    "fit_sites.dropna(inplace=True)\n",
    "fit_data = data[data[\"site\"].isin(fit_sites)]"
   ]
  },
  {
   "cell_type": "markdown",
   "metadata": {},
   "source": [
    "Next, we load the data into `NormData` objects. All functions in the PCNtoolkit expect the data to be provided as instances of the `NormData` class. The class manages all preprocessing, basis expansions, and dimensions. "
   ]
  },
  {
   "cell_type": "code",
   "execution_count": 6,
   "metadata": {
    "notebookRunGroups": {
     "groupValue": "1"
    },
    "scrolled": true
   },
   "outputs": [],
   "source": [
    "covariates = [\"age\"]\n",
    "batch_effects = [\"sex\", \"site\"]\n",
    "response_vars = [\"rh_MeanThickness_thickness\", \"WM-hypointensities\"]\n",
    "\n",
    "# Create a normdata object from the downloaded data\n",
    "normdata = NormData.from_dataframe(\n",
    "    name=\"fit\",  # name of the dataset\n",
    "    dataframe=fit_data,  # pandas dataframe\n",
    "    covariates=covariates,\n",
    "    batch_effects=batch_effects,\n",
    "    response_vars=response_vars,\n",
    ")\n",
    "\n",
    "# Create a transfer data object from the downloaded data\n",
    "transfer_data = NormData.from_dataframe(\n",
    "    name=\"transfer\",\n",
    "    dataframe=transfer_data,\n",
    "    covariates=covariates,\n",
    "    batch_effects=batch_effects,\n",
    "    response_vars=response_vars,\n",
    ")"
   ]
  },
  {
   "cell_type": "markdown",
   "metadata": {},
   "source": [
    "The NormData object has a number of useful attributes and functions, inherited from the `xarray.Dataset` class. A convenience function `select_batch_effects` is also available for quick filtering by site or sex(in this case). "
   ]
  },
  {
   "cell_type": "markdown",
   "metadata": {},
   "source": [
    "Splitting the data into train and test splits is also easy:"
   ]
  },
  {
   "cell_type": "code",
   "execution_count": 7,
   "metadata": {
    "notebookRunGroups": {
     "groupValue": "1"
    },
    "scrolled": true
   },
   "outputs": [],
   "source": [
    "# Split data into training and test sets\n",
    "# the splits are automatically stratified on the batch_effects\n",
    "train, test = normdata.train_test_split(\n",
    "    splits=[0.8, 0.2], split_names=[\"train\", \"test\"]\n",
    ")\n",
    "transfer_train, transfer_test = transfer_data.train_test_split(\n",
    "    splits=[0.8, 0.2], split_names=[\"transfer_train\", \"transfer_test\"]\n",
    ")"
   ]
  },
  {
   "cell_type": "markdown",
   "metadata": {},
   "source": [
    "## Configure the normative model\n",
    "\n",
    "The normative model will be configured using a `NormConf` object, containing save and log paths and the preprocessing configurations, and a `RegConf` object, specific to the regression model type. Our `NormConf` configuration contains canonical paths, a standardization step for both the input as as the output data, and a Bspline basis expansion."
   ]
  },
  {
   "cell_type": "code",
   "execution_count": 8,
   "metadata": {
    "notebookRunGroups": {
     "groupValue": "1"
    }
   },
   "outputs": [
    {
     "name": "stdout",
     "output_type": "stream",
     "text": [
      "Configuration of normative model is valid.\n"
     ]
    }
   ],
   "source": [
    "# Create a NormConf object\n",
    "norm_conf = NormConf(\n",
    "    savemodel=True,\n",
    "    save_dir=\"resources/save_dir\",\n",
    "    log_dir=\"resources/log_dir\",\n",
    "    inscaler=\"standardize\",\n",
    "    outscaler=\"standardize\",\n",
    "    basis_function=\"bspline\",\n",
    "    order=3,\n",
    "    nknots=5,\n",
    ")"
   ]
  },
  {
   "cell_type": "markdown",
   "metadata": {},
   "source": [
    "## Configure the regression model\n"
   ]
  },
  {
   "cell_type": "code",
   "execution_count": 9,
   "metadata": {
    "notebookRunGroups": {
     "groupValue": "1"
    }
   },
   "outputs": [
    {
     "name": "stdout",
     "output_type": "stream",
     "text": [
      "Configuration of regression model is valid.\n"
     ]
    }
   ],
   "source": [
    "blr_conf = BLRConf()"
   ]
  },
  {
   "cell_type": "markdown",
   "metadata": {},
   "source": [
    "## Combine normative and hbr conf in normative model\n"
   ]
  },
  {
   "cell_type": "code",
   "execution_count": 10,
   "metadata": {
    "notebookRunGroups": {
     "groupValue": "1"
    }
   },
   "outputs": [
    {
     "data": {
      "text/plain": [
       "<pcntoolkit.normative_model.norm_blr.NormBLR at 0x2a9de8980>"
      ]
     },
     "execution_count": 10,
     "metadata": {},
     "output_type": "execute_result"
    }
   ],
   "source": [
    "# Using the factory method\n",
    "norm_hbr = create_normative_model(norm_conf, blr_conf)\n",
    "norm_hbr"
   ]
  },
  {
   "cell_type": "markdown",
   "metadata": {},
   "source": [
    "## Fit the model"
   ]
  },
  {
   "cell_type": "code",
   "execution_count": 11,
   "metadata": {},
   "outputs": [
    {
     "name": "stdout",
     "output_type": "stream",
     "text": [
      "Going to fit 2 models\n",
      "Fitting model for rh_MeanThickness_thickness\n",
      "Fitting model for WM-hypointensities\n"
     ]
    }
   ],
   "source": [
    "norm_hbr.fit(train)"
   ]
  },
  {
   "cell_type": "code",
   "execution_count": 12,
   "metadata": {},
   "outputs": [
    {
     "data": {
      "text/plain": [
       "{'name': 'rh_MeanThickness_thickness',\n",
       " 'reg_conf': {'n_iter': 300,\n",
       "  'tol': 1e-05,\n",
       "  'ard': False,\n",
       "  'optimizer': 'l-bfgs-b',\n",
       "  'l_bfgs_b_l': 0.1,\n",
       "  'l_bfgs_b_epsilon': 0.1,\n",
       "  'l_bfgs_b_norm': 'l2'},\n",
       " 'is_fitted': True,\n",
       " 'is_from_dict': False,\n",
       " 'hyp': [4.967396627028862, -1.8049401865714831],\n",
       " 'nlZ': -491.563099413988,\n",
       " 'N': 476,\n",
       " 'D': 8,\n",
       " 'lambda_n_vec': [143.65241931672438,\n",
       "  143.65241931672438,\n",
       "  143.65241931672438,\n",
       "  143.65241931672438,\n",
       "  143.65241931672438,\n",
       "  143.65241931672438,\n",
       "  143.65241931672438,\n",
       "  143.65241931672438,\n",
       "  143.65241931672438,\n",
       "  143.65241931672438,\n",
       "  143.65241931672438,\n",
       "  143.65241931672438,\n",
       "  143.65241931672438,\n",
       "  143.65241931672438,\n",
       "  143.65241931672438,\n",
       "  143.65241931672438,\n",
       "  143.65241931672438,\n",
       "  143.65241931672438,\n",
       "  143.65241931672438,\n",
       "  143.65241931672438,\n",
       "  143.65241931672438,\n",
       "  143.65241931672438,\n",
       "  143.65241931672438,\n",
       "  143.65241931672438,\n",
       "  143.65241931672438,\n",
       "  143.65241931672438,\n",
       "  143.65241931672438,\n",
       "  143.65241931672438,\n",
       "  143.65241931672438,\n",
       "  143.65241931672438,\n",
       "  143.65241931672438,\n",
       "  143.65241931672438,\n",
       "  143.65241931672438,\n",
       "  143.65241931672438,\n",
       "  143.65241931672438,\n",
       "  143.65241931672438,\n",
       "  143.65241931672438,\n",
       "  143.65241931672438,\n",
       "  143.65241931672438,\n",
       "  143.65241931672438,\n",
       "  143.65241931672438,\n",
       "  143.65241931672438,\n",
       "  143.65241931672438,\n",
       "  143.65241931672438,\n",
       "  143.65241931672438,\n",
       "  143.65241931672438,\n",
       "  143.65241931672438,\n",
       "  143.65241931672438,\n",
       "  143.65241931672438,\n",
       "  143.65241931672438,\n",
       "  143.65241931672438,\n",
       "  143.65241931672438,\n",
       "  143.65241931672438,\n",
       "  143.65241931672438,\n",
       "  143.65241931672438,\n",
       "  143.65241931672438,\n",
       "  143.65241931672438,\n",
       "  143.65241931672438,\n",
       "  143.65241931672438,\n",
       "  143.65241931672438,\n",
       "  143.65241931672438,\n",
       "  143.65241931672438,\n",
       "  143.65241931672438,\n",
       "  143.65241931672438,\n",
       "  143.65241931672438,\n",
       "  143.65241931672438,\n",
       "  143.65241931672438,\n",
       "  143.65241931672438,\n",
       "  143.65241931672438,\n",
       "  143.65241931672438,\n",
       "  143.65241931672438,\n",
       "  143.65241931672438,\n",
       "  143.65241931672438,\n",
       "  143.65241931672438,\n",
       "  143.65241931672438,\n",
       "  143.65241931672438,\n",
       "  143.65241931672438,\n",
       "  143.65241931672438,\n",
       "  143.65241931672438,\n",
       "  143.65241931672438,\n",
       "  143.65241931672438,\n",
       "  143.65241931672438,\n",
       "  143.65241931672438,\n",
       "  143.65241931672438,\n",
       "  143.65241931672438,\n",
       "  143.65241931672438,\n",
       "  143.65241931672438,\n",
       "  143.65241931672438,\n",
       "  143.65241931672438,\n",
       "  143.65241931672438,\n",
       "  143.65241931672438,\n",
       "  143.65241931672438,\n",
       "  143.65241931672438,\n",
       "  143.65241931672438,\n",
       "  143.65241931672438,\n",
       "  143.65241931672438,\n",
       "  143.65241931672438,\n",
       "  143.65241931672438,\n",
       "  143.65241931672438,\n",
       "  143.65241931672438,\n",
       "  143.65241931672438,\n",
       "  143.65241931672438,\n",
       "  143.65241931672438,\n",
       "  143.65241931672438,\n",
       "  143.65241931672438,\n",
       "  143.65241931672438,\n",
       "  143.65241931672438,\n",
       "  143.65241931672438,\n",
       "  143.65241931672438,\n",
       "  143.65241931672438,\n",
       "  143.65241931672438,\n",
       "  143.65241931672438,\n",
       "  143.65241931672438,\n",
       "  143.65241931672438,\n",
       "  143.65241931672438,\n",
       "  143.65241931672438,\n",
       "  143.65241931672438,\n",
       "  143.65241931672438,\n",
       "  143.65241931672438,\n",
       "  143.65241931672438,\n",
       "  143.65241931672438,\n",
       "  143.65241931672438,\n",
       "  143.65241931672438,\n",
       "  143.65241931672438,\n",
       "  143.65241931672438,\n",
       "  143.65241931672438,\n",
       "  143.65241931672438,\n",
       "  143.65241931672438,\n",
       "  143.65241931672438,\n",
       "  143.65241931672438,\n",
       "  143.65241931672438,\n",
       "  143.65241931672438,\n",
       "  143.65241931672438,\n",
       "  143.65241931672438,\n",
       "  143.65241931672438,\n",
       "  143.65241931672438,\n",
       "  143.65241931672438,\n",
       "  143.65241931672438,\n",
       "  143.65241931672438,\n",
       "  143.65241931672438,\n",
       "  143.65241931672438,\n",
       "  143.65241931672438,\n",
       "  143.65241931672438,\n",
       "  143.65241931672438,\n",
       "  143.65241931672438,\n",
       "  143.65241931672438,\n",
       "  143.65241931672438,\n",
       "  143.65241931672438,\n",
       "  143.65241931672438,\n",
       "  143.65241931672438,\n",
       "  143.65241931672438,\n",
       "  143.65241931672438,\n",
       "  143.65241931672438,\n",
       "  143.65241931672438,\n",
       "  143.65241931672438,\n",
       "  143.65241931672438,\n",
       "  143.65241931672438,\n",
       "  143.65241931672438,\n",
       "  143.65241931672438,\n",
       "  143.65241931672438,\n",
       "  143.65241931672438,\n",
       "  143.65241931672438,\n",
       "  143.65241931672438,\n",
       "  143.65241931672438,\n",
       "  143.65241931672438,\n",
       "  143.65241931672438,\n",
       "  143.65241931672438,\n",
       "  143.65241931672438,\n",
       "  143.65241931672438,\n",
       "  143.65241931672438,\n",
       "  143.65241931672438,\n",
       "  143.65241931672438,\n",
       "  143.65241931672438,\n",
       "  143.65241931672438,\n",
       "  143.65241931672438,\n",
       "  143.65241931672438,\n",
       "  143.65241931672438,\n",
       "  143.65241931672438,\n",
       "  143.65241931672438,\n",
       "  143.65241931672438,\n",
       "  143.65241931672438,\n",
       "  143.65241931672438,\n",
       "  143.65241931672438,\n",
       "  143.65241931672438,\n",
       "  143.65241931672438,\n",
       "  143.65241931672438,\n",
       "  143.65241931672438,\n",
       "  143.65241931672438,\n",
       "  143.65241931672438,\n",
       "  143.65241931672438,\n",
       "  143.65241931672438,\n",
       "  143.65241931672438,\n",
       "  143.65241931672438,\n",
       "  143.65241931672438,\n",
       "  143.65241931672438,\n",
       "  143.65241931672438,\n",
       "  143.65241931672438,\n",
       "  143.65241931672438,\n",
       "  143.65241931672438,\n",
       "  143.65241931672438,\n",
       "  143.65241931672438,\n",
       "  143.65241931672438,\n",
       "  143.65241931672438,\n",
       "  143.65241931672438,\n",
       "  143.65241931672438,\n",
       "  143.65241931672438,\n",
       "  143.65241931672438,\n",
       "  143.65241931672438,\n",
       "  143.65241931672438,\n",
       "  143.65241931672438,\n",
       "  143.65241931672438,\n",
       "  143.65241931672438,\n",
       "  143.65241931672438,\n",
       "  143.65241931672438,\n",
       "  143.65241931672438,\n",
       "  143.65241931672438,\n",
       "  143.65241931672438,\n",
       "  143.65241931672438,\n",
       "  143.65241931672438,\n",
       "  143.65241931672438,\n",
       "  143.65241931672438,\n",
       "  143.65241931672438,\n",
       "  143.65241931672438,\n",
       "  143.65241931672438,\n",
       "  143.65241931672438,\n",
       "  143.65241931672438,\n",
       "  143.65241931672438,\n",
       "  143.65241931672438,\n",
       "  143.65241931672438,\n",
       "  143.65241931672438,\n",
       "  143.65241931672438,\n",
       "  143.65241931672438,\n",
       "  143.65241931672438,\n",
       "  143.65241931672438,\n",
       "  143.65241931672438,\n",
       "  143.65241931672438,\n",
       "  143.65241931672438,\n",
       "  143.65241931672438,\n",
       "  143.65241931672438,\n",
       "  143.65241931672438,\n",
       "  143.65241931672438,\n",
       "  143.65241931672438,\n",
       "  143.65241931672438,\n",
       "  143.65241931672438,\n",
       "  143.65241931672438,\n",
       "  143.65241931672438,\n",
       "  143.65241931672438,\n",
       "  143.65241931672438,\n",
       "  143.65241931672438,\n",
       "  143.65241931672438,\n",
       "  143.65241931672438,\n",
       "  143.65241931672438,\n",
       "  143.65241931672438,\n",
       "  143.65241931672438,\n",
       "  143.65241931672438,\n",
       "  143.65241931672438,\n",
       "  143.65241931672438,\n",
       "  143.65241931672438,\n",
       "  143.65241931672438,\n",
       "  143.65241931672438,\n",
       "  143.65241931672438,\n",
       "  143.65241931672438,\n",
       "  143.65241931672438,\n",
       "  143.65241931672438,\n",
       "  143.65241931672438,\n",
       "  143.65241931672438,\n",
       "  143.65241931672438,\n",
       "  143.65241931672438,\n",
       "  143.65241931672438,\n",
       "  143.65241931672438,\n",
       "  143.65241931672438,\n",
       "  143.65241931672438,\n",
       "  143.65241931672438,\n",
       "  143.65241931672438,\n",
       "  143.65241931672438,\n",
       "  143.65241931672438,\n",
       "  143.65241931672438,\n",
       "  143.65241931672438,\n",
       "  143.65241931672438,\n",
       "  143.65241931672438,\n",
       "  143.65241931672438,\n",
       "  143.65241931672438,\n",
       "  143.65241931672438,\n",
       "  143.65241931672438,\n",
       "  143.65241931672438,\n",
       "  143.65241931672438,\n",
       "  143.65241931672438,\n",
       "  143.65241931672438,\n",
       "  143.65241931672438,\n",
       "  143.65241931672438,\n",
       "  143.65241931672438,\n",
       "  143.65241931672438,\n",
       "  143.65241931672438,\n",
       "  143.65241931672438,\n",
       "  143.65241931672438,\n",
       "  143.65241931672438,\n",
       "  143.65241931672438,\n",
       "  143.65241931672438,\n",
       "  143.65241931672438,\n",
       "  143.65241931672438,\n",
       "  143.65241931672438,\n",
       "  143.65241931672438,\n",
       "  143.65241931672438,\n",
       "  143.65241931672438,\n",
       "  143.65241931672438,\n",
       "  143.65241931672438,\n",
       "  143.65241931672438,\n",
       "  143.65241931672438,\n",
       "  143.65241931672438,\n",
       "  143.65241931672438,\n",
       "  143.65241931672438,\n",
       "  143.65241931672438,\n",
       "  143.65241931672438,\n",
       "  143.65241931672438,\n",
       "  143.65241931672438,\n",
       "  143.65241931672438,\n",
       "  143.65241931672438,\n",
       "  143.65241931672438,\n",
       "  143.65241931672438,\n",
       "  143.65241931672438,\n",
       "  143.65241931672438,\n",
       "  143.65241931672438,\n",
       "  143.65241931672438,\n",
       "  143.65241931672438,\n",
       "  143.65241931672438,\n",
       "  143.65241931672438,\n",
       "  143.65241931672438,\n",
       "  143.65241931672438,\n",
       "  143.65241931672438,\n",
       "  143.65241931672438,\n",
       "  143.65241931672438,\n",
       "  143.65241931672438,\n",
       "  143.65241931672438,\n",
       "  143.65241931672438,\n",
       "  143.65241931672438,\n",
       "  143.65241931672438,\n",
       "  143.65241931672438,\n",
       "  143.65241931672438,\n",
       "  143.65241931672438,\n",
       "  143.65241931672438,\n",
       "  143.65241931672438,\n",
       "  143.65241931672438,\n",
       "  143.65241931672438,\n",
       "  143.65241931672438,\n",
       "  143.65241931672438,\n",
       "  143.65241931672438,\n",
       "  143.65241931672438,\n",
       "  143.65241931672438,\n",
       "  143.65241931672438,\n",
       "  143.65241931672438,\n",
       "  143.65241931672438,\n",
       "  143.65241931672438,\n",
       "  143.65241931672438,\n",
       "  143.65241931672438,\n",
       "  143.65241931672438,\n",
       "  143.65241931672438,\n",
       "  143.65241931672438,\n",
       "  143.65241931672438,\n",
       "  143.65241931672438,\n",
       "  143.65241931672438,\n",
       "  143.65241931672438,\n",
       "  143.65241931672438,\n",
       "  143.65241931672438,\n",
       "  143.65241931672438,\n",
       "  143.65241931672438,\n",
       "  143.65241931672438,\n",
       "  143.65241931672438,\n",
       "  143.65241931672438,\n",
       "  143.65241931672438,\n",
       "  143.65241931672438,\n",
       "  143.65241931672438,\n",
       "  143.65241931672438,\n",
       "  143.65241931672438,\n",
       "  143.65241931672438,\n",
       "  143.65241931672438,\n",
       "  143.65241931672438,\n",
       "  143.65241931672438,\n",
       "  143.65241931672438,\n",
       "  143.65241931672438,\n",
       "  143.65241931672438,\n",
       "  143.65241931672438,\n",
       "  143.65241931672438,\n",
       "  143.65241931672438,\n",
       "  143.65241931672438,\n",
       "  143.65241931672438,\n",
       "  143.65241931672438,\n",
       "  143.65241931672438,\n",
       "  143.65241931672438,\n",
       "  143.65241931672438,\n",
       "  143.65241931672438,\n",
       "  143.65241931672438,\n",
       "  143.65241931672438,\n",
       "  143.65241931672438,\n",
       "  143.65241931672438,\n",
       "  143.65241931672438,\n",
       "  143.65241931672438,\n",
       "  143.65241931672438,\n",
       "  143.65241931672438,\n",
       "  143.65241931672438,\n",
       "  143.65241931672438,\n",
       "  143.65241931672438,\n",
       "  143.65241931672438,\n",
       "  143.65241931672438,\n",
       "  143.65241931672438,\n",
       "  143.65241931672438,\n",
       "  143.65241931672438,\n",
       "  143.65241931672438,\n",
       "  143.65241931672438,\n",
       "  143.65241931672438,\n",
       "  143.65241931672438,\n",
       "  143.65241931672438,\n",
       "  143.65241931672438,\n",
       "  143.65241931672438,\n",
       "  143.65241931672438,\n",
       "  143.65241931672438,\n",
       "  143.65241931672438,\n",
       "  143.65241931672438,\n",
       "  143.65241931672438,\n",
       "  143.65241931672438,\n",
       "  143.65241931672438,\n",
       "  143.65241931672438,\n",
       "  143.65241931672438,\n",
       "  143.65241931672438,\n",
       "  143.65241931672438,\n",
       "  143.65241931672438,\n",
       "  143.65241931672438,\n",
       "  143.65241931672438,\n",
       "  143.65241931672438,\n",
       "  143.65241931672438,\n",
       "  143.65241931672438,\n",
       "  143.65241931672438,\n",
       "  143.65241931672438,\n",
       "  143.65241931672438,\n",
       "  143.65241931672438,\n",
       "  143.65241931672438,\n",
       "  143.65241931672438,\n",
       "  143.65241931672438,\n",
       "  143.65241931672438,\n",
       "  143.65241931672438,\n",
       "  143.65241931672438,\n",
       "  143.65241931672438,\n",
       "  143.65241931672438,\n",
       "  143.65241931672438,\n",
       "  143.65241931672438,\n",
       "  143.65241931672438,\n",
       "  143.65241931672438,\n",
       "  143.65241931672438,\n",
       "  143.65241931672438,\n",
       "  143.65241931672438,\n",
       "  143.65241931672438,\n",
       "  143.65241931672438,\n",
       "  143.65241931672438,\n",
       "  143.65241931672438,\n",
       "  143.65241931672438,\n",
       "  143.65241931672438,\n",
       "  143.65241931672438,\n",
       "  143.65241931672438,\n",
       "  143.65241931672438,\n",
       "  143.65241931672438,\n",
       "  143.65241931672438,\n",
       "  143.65241931672438,\n",
       "  143.65241931672438,\n",
       "  143.65241931672438,\n",
       "  143.65241931672438,\n",
       "  143.65241931672438,\n",
       "  143.65241931672438,\n",
       "  143.65241931672438,\n",
       "  143.65241931672438,\n",
       "  143.65241931672438,\n",
       "  143.65241931672438,\n",
       "  143.65241931672438,\n",
       "  143.65241931672438,\n",
       "  143.65241931672438,\n",
       "  143.65241931672438,\n",
       "  143.65241931672438,\n",
       "  143.65241931672438],\n",
       " 'Sigma_a': [[5.501056620313956, 0.0, 0.0, 0.0, 0.0, 0.0, 0.0, 0.0],\n",
       "  [0.0, 5.501056620313956, 0.0, 0.0, 0.0, 0.0, 0.0, 0.0],\n",
       "  [0.0, 0.0, 5.501056620313956, 0.0, 0.0, 0.0, 0.0, 0.0],\n",
       "  [0.0, 0.0, 0.0, 5.501056620313956, 0.0, 0.0, 0.0, 0.0],\n",
       "  [0.0, 0.0, 0.0, 0.0, 5.501056620313956, 0.0, 0.0, 0.0],\n",
       "  [0.0, 0.0, 0.0, 0.0, 0.0, 5.501056620313956, 0.0, 0.0],\n",
       "  [0.0, 0.0, 0.0, 0.0, 0.0, 0.0, 5.501056620313956, 0.0],\n",
       "  [0.0, 0.0, 0.0, 0.0, 0.0, 0.0, 0.0, 5.501056620313956]],\n",
       " 'Lambda_a': [[0.1817832589301595, 0.0, 0.0, 0.0, 0.0, 0.0, 0.0, 0.0],\n",
       "  [0.0, 0.1817832589301595, 0.0, 0.0, 0.0, 0.0, 0.0, 0.0],\n",
       "  [0.0, 0.0, 0.1817832589301595, 0.0, 0.0, 0.0, 0.0, 0.0],\n",
       "  [0.0, 0.0, 0.0, 0.1817832589301595, 0.0, 0.0, 0.0, 0.0],\n",
       "  [0.0, 0.0, 0.0, 0.0, 0.1817832589301595, 0.0, 0.0, 0.0],\n",
       "  [0.0, 0.0, 0.0, 0.0, 0.0, 0.1817832589301595, 0.0, 0.0],\n",
       "  [0.0, 0.0, 0.0, 0.0, 0.0, 0.0, 0.1817832589301595, 0.0],\n",
       "  [0.0, 0.0, 0.0, 0.0, 0.0, 0.0, 0.0, 0.1817832589301595]],\n",
       " 'beta': [0.16448429465252778],\n",
       " 'm': [0.23676118002585367,\n",
       "  3.652897636238535,\n",
       "  3.3173003716978817,\n",
       "  2.4967707802977857,\n",
       "  2.2190876061151807,\n",
       "  1.6541945554974928,\n",
       "  1.0970525039264556,\n",
       "  0.6472440322834986],\n",
       " 'A': [[68378.73337801939,\n",
       "   -79.76132842705258,\n",
       "   -5090.370261466751,\n",
       "   -11022.550040326643,\n",
       "   2735.8970492200897,\n",
       "   8686.133844467338,\n",
       "   4495.828289607055,\n",
       "   274.8224469259963],\n",
       "  [-79.76132842705256,\n",
       "   3.3727916147708257,\n",
       "   34.67566257645054,\n",
       "   24.957661018698488,\n",
       "   3.1037334238677206,\n",
       "   0.0,\n",
       "   0.0,\n",
       "   0.0],\n",
       "  [-5090.370261466751,\n",
       "   34.67566257645054,\n",
       "   2500.310308766751,\n",
       "   6416.257798465086,\n",
       "   2253.364626335059,\n",
       "   5.879144650115996,\n",
       "   0.0,\n",
       "   0.0],\n",
       "  [-11022.550040326643,\n",
       "   24.95766101869849,\n",
       "   6416.257798465085,\n",
       "   20151.29554709305,\n",
       "   8390.363882512689,\n",
       "   149.9939885762359,\n",
       "   1.2575902833881019,\n",
       "   0.0],\n",
       "  [2735.8970492200897,\n",
       "   3.103733423867721,\n",
       "   2253.3646263350583,\n",
       "   8390.363882512689,\n",
       "   5480.4125092232425,\n",
       "   1070.9536000323856,\n",
       "   148.8442537576847,\n",
       "   2.6763302248626575],\n",
       "  [8686.133844467337,\n",
       "   0.0,\n",
       "   5.879144650115996,\n",
       "   149.9939885762359,\n",
       "   1070.9536000323856,\n",
       "   1449.2372789436813,\n",
       "   578.3530555969611,\n",
       "   24.357118166214672],\n",
       "  [4495.828289607056,\n",
       "   0.0,\n",
       "   0.0,\n",
       "   1.2575902833881019,\n",
       "   148.8442537576847,\n",
       "   578.353055596961,\n",
       "   503.8467596990041,\n",
       "   38.40929453562062],\n",
       "  [274.8224469259963,\n",
       "   0.0,\n",
       "   0.0,\n",
       "   0.0,\n",
       "   2.6763302248626575,\n",
       "   24.357118166214672,\n",
       "   38.409294535620624,\n",
       "   4.453401922074384]]}"
      ]
     },
     "execution_count": 12,
     "metadata": {},
     "output_type": "execute_result"
    }
   ],
   "source": [
    "a = norm_hbr.regression_models[\"rh_MeanThickness_thickness\"]\n",
    "a.to_dict()"
   ]
  },
  {
   "cell_type": "code",
   "execution_count": 13,
   "metadata": {},
   "outputs": [
    {
     "data": {
      "text/plain": [
       "<pcntoolkit.regression_model.blr.blr.BLR at 0x2a97195b0>"
      ]
     },
     "execution_count": 13,
     "metadata": {},
     "output_type": "execute_result"
    }
   ],
   "source": [
    "norm_hbr.current_regression_model"
   ]
  },
  {
   "cell_type": "markdown",
   "metadata": {},
   "source": [
    "## Save the model"
   ]
  },
  {
   "cell_type": "code",
   "execution_count": 14,
   "metadata": {},
   "outputs": [],
   "source": [
    "# The results are saved in the save_dir specified in the norm_conf\n",
    "norm_hbr.save()"
   ]
  },
  {
   "cell_type": "markdown",
   "metadata": {},
   "source": [
    "## Inspecting the model "
   ]
  },
  {
   "cell_type": "markdown",
   "metadata": {},
   "source": [
    "## Load the norm_hbr model from disk"
   ]
  },
  {
   "cell_type": "code",
   "execution_count": 15,
   "metadata": {
    "notebookRunGroups": {
     "groupValue": ""
    }
   },
   "outputs": [
    {
     "name": "stdout",
     "output_type": "stream",
     "text": [
      "Configuration of normative model is valid.\n",
      "Configuration of normative model is valid.\n",
      "Configuration of regression model is valid.\n",
      "Configuration of regression model is valid.\n",
      "Configuration of regression model is valid.\n"
     ]
    }
   ],
   "source": [
    "norm_hbr = load_normative_model(\"resources/save_dir\")"
   ]
  },
  {
   "cell_type": "code",
   "execution_count": 16,
   "metadata": {},
   "outputs": [
    {
     "data": {
      "text/plain": [
       "{'savemodel': True,\n",
       " 'saveresults': False,\n",
       " 'log_dir': 'resources/log_dir',\n",
       " 'save_dir': 'resources/save_dir',\n",
       " 'basis_function': 'bspline',\n",
       " 'basis_column': 0,\n",
       " 'order': 3,\n",
       " 'nknots': 5,\n",
       " 'inscaler': 'standardize',\n",
       " 'outscaler': 'standardize',\n",
       " 'perform_cv': False,\n",
       " 'cv_folds': 0,\n",
       " 'normative_model_name': 'NormBLR'}"
      ]
     },
     "execution_count": 16,
     "metadata": {},
     "output_type": "execute_result"
    }
   ],
   "source": [
    "norm_hbr.norm_conf.to_dict()"
   ]
  },
  {
   "cell_type": "markdown",
   "metadata": {},
   "source": [
    "## Predict on the test set\n"
   ]
  },
  {
   "cell_type": "code",
   "execution_count": 17,
   "metadata": {},
   "outputs": [
    {
     "name": "stdout",
     "output_type": "stream",
     "text": [
      "Going to predict 2 models\n",
      "Predicting model for rh_MeanThickness_thickness\n",
      "Predicting model for WM-hypointensities\n",
      "Computing zscores for rh_MeanThickness_thickness\n",
      "Computing zscores for WM-hypointensities\n",
      "Computing centiles for rh_MeanThickness_thickness\n",
      "Computing centiles for WM-hypointensities\n"
     ]
    },
    {
     "name": "stderr",
     "output_type": "stream",
     "text": [
      "/opt/anaconda3/envs/dev_refactor/lib/python3.12/site-packages/pcntoolkit/util/evaluator.py:204: RuntimeWarning: invalid value encountered in log\n",
      "  nll = -np.mean(y * np.log(yhat) + (1 - y) * np.log(1 - yhat))\n"
     ]
    }
   ],
   "source": [
    "norm_hbr.predict(test)"
   ]
  },
  {
   "cell_type": "markdown",
   "metadata": {},
   "source": [
    "## Evaluation\n",
    "Calling `predict` will extend the `NormData` object with a number of useful arrays.\n",
    "1. `measures`: DataArray, which contains a number of evaluation statistics. \n",
    "1. `zscores`: the predicted z-scores for each datapoint.  \n",
    "1. `centiles`: the predicted centiles of variation evaluated at each covariate in the dataset. \n"
   ]
  },
  {
   "cell_type": "code",
   "execution_count": 18,
   "metadata": {},
   "outputs": [
    {
     "data": {
      "text/html": [
       "<div>\n",
       "<style scoped>\n",
       "    .dataframe tbody tr th:only-of-type {\n",
       "        vertical-align: middle;\n",
       "    }\n",
       "\n",
       "    .dataframe tbody tr th {\n",
       "        vertical-align: top;\n",
       "    }\n",
       "\n",
       "    .dataframe thead th {\n",
       "        text-align: right;\n",
       "    }\n",
       "</style>\n",
       "<table border=\"1\" class=\"dataframe\">\n",
       "  <thead>\n",
       "    <tr style=\"text-align: right;\">\n",
       "      <th></th>\n",
       "      <th></th>\n",
       "      <th>measures</th>\n",
       "    </tr>\n",
       "    <tr>\n",
       "      <th>response_vars</th>\n",
       "      <th>statistics</th>\n",
       "      <th></th>\n",
       "    </tr>\n",
       "  </thead>\n",
       "  <tbody>\n",
       "    <tr>\n",
       "      <th rowspan=\"6\" valign=\"top\">rh_MeanThickness_thickness</th>\n",
       "      <th>Rho</th>\n",
       "      <td>3.242277e-01</td>\n",
       "    </tr>\n",
       "    <tr>\n",
       "      <th>RMSE</th>\n",
       "      <td>2.564322e-01</td>\n",
       "    </tr>\n",
       "    <tr>\n",
       "      <th>SMSE</th>\n",
       "      <td>1.173234e+01</td>\n",
       "    </tr>\n",
       "    <tr>\n",
       "      <th>ExpV</th>\n",
       "      <td>6.725286e-02</td>\n",
       "    </tr>\n",
       "    <tr>\n",
       "      <th>NLL</th>\n",
       "      <td>NaN</td>\n",
       "    </tr>\n",
       "    <tr>\n",
       "      <th>ShapiroW</th>\n",
       "      <td>9.576049e-01</td>\n",
       "    </tr>\n",
       "    <tr>\n",
       "      <th rowspan=\"6\" valign=\"top\">WM-hypointensities</th>\n",
       "      <th>Rho</th>\n",
       "      <td>5.758805e-04</td>\n",
       "    </tr>\n",
       "    <tr>\n",
       "      <th>RMSE</th>\n",
       "      <td>1.054876e+06</td>\n",
       "    </tr>\n",
       "    <tr>\n",
       "      <th>SMSE</th>\n",
       "      <td>1.100860e+06</td>\n",
       "    </tr>\n",
       "    <tr>\n",
       "      <th>ExpV</th>\n",
       "      <td>-8.683131e+04</td>\n",
       "    </tr>\n",
       "    <tr>\n",
       "      <th>NLL</th>\n",
       "      <td>NaN</td>\n",
       "    </tr>\n",
       "    <tr>\n",
       "      <th>ShapiroW</th>\n",
       "      <td>3.557492e-01</td>\n",
       "    </tr>\n",
       "  </tbody>\n",
       "</table>\n",
       "</div>"
      ],
      "text/plain": [
       "                                           measures\n",
       "response_vars              statistics              \n",
       "rh_MeanThickness_thickness Rho         3.242277e-01\n",
       "                           RMSE        2.564322e-01\n",
       "                           SMSE        1.173234e+01\n",
       "                           ExpV        6.725286e-02\n",
       "                           NLL                  NaN\n",
       "                           ShapiroW    9.576049e-01\n",
       "WM-hypointensities         Rho         5.758805e-04\n",
       "                           RMSE        1.054876e+06\n",
       "                           SMSE        1.100860e+06\n",
       "                           ExpV       -8.683131e+04\n",
       "                           NLL                  NaN\n",
       "                           ShapiroW    3.557492e-01"
      ]
     },
     "metadata": {},
     "output_type": "display_data"
    }
   ],
   "source": [
    "display(test.measures.to_dataframe())"
   ]
  },
  {
   "cell_type": "markdown",
   "metadata": {},
   "source": [
    "Datasets with a zscores DataArray will have the `.plot_qq()` function available:"
   ]
  },
  {
   "cell_type": "code",
   "execution_count": 19,
   "metadata": {},
   "outputs": [
    {
     "data": {
      "image/png": "[encoded data removed]",
      "text/plain": [
       "<Figure size 640x480 with 1 Axes>"
      ]
     },
     "metadata": {},
     "output_type": "display_data"
    },
    {
     "data": {
      "image/png": "[encoded data removed]",
      "text/plain": [
       "<Figure size 640x480 with 1 Axes>"
      ]
     },
     "metadata": {},
     "output_type": "display_data"
    }
   ],
   "source": [
    "test.plot_qq(bound=2)  # Convenience function that plots the qq plot of the zscores"
   ]
  },
  {
   "cell_type": "markdown",
   "metadata": {},
   "source": [
    "And `plot_centiles()` can be called as a function of the model. A synthetic dataset is created internally, so we need to pass the original dataset (`test` in this case) as a template. We also need to pass which covariate is to be plotted on the x-axis, and the batch-effects for which the centiles are to be plotted. \n",
    "\n",
    "The lines correspond to the CDF values of: [0.05, 0.1587, 0.25, 0.5, 0.75, 0.8413, 0.95]. \n",
    "\n",
    "The CDF values of 0.1587 and 0.8413 respectively correspond to a standard deviation of -1 and 1.\n"
   ]
  },
  {
   "cell_type": "code",
   "execution_count": 20,
   "metadata": {},
   "outputs": [
    {
     "name": "stdout",
     "output_type": "stream",
     "text": [
      "Computing centiles for rh_MeanThickness_thickness\n",
      "Computing centiles for WM-hypointensities\n"
     ]
    },
    {
     "data": {
      "image/png": "[encoded data removed]",
      "text/plain": [
       "<Figure size 640x480 with 1 Axes>"
      ]
     },
     "metadata": {},
     "output_type": "display_data"
    },
    {
     "data": {
      "image/png": "[encoded data removed]",
      "text/plain": [
       "<Figure size 640x480 with 1 Axes>"
      ]
     },
     "metadata": {},
     "output_type": "display_data"
    }
   ],
   "source": [
    "# test.centiles # the centiles\n",
    "norm_hbr.plot_centiles(\n",
    "    test, covariate=\"age\", batch_effects={\"sex\": [0], \"site\": [\"ICBM\"]}, show_data=True\n",
    ")"
   ]
  },
  {
   "cell_type": "code",
   "execution_count": null,
   "metadata": {},
   "outputs": [],
   "source": []
  }
 ],
 "metadata": {
  "kernelspec": {
   "display_name": "dev_refactor",
   "language": "python",
   "name": "python3"
  },
  "language_info": {
   "codemirror_mode": {
    "name": "ipython",
    "version": 3
   },
   "file_extension": ".py",
   "mimetype": "text/x-python",
   "name": "python",
   "nbconvert_exporter": "python",
   "pygments_lexer": "ipython3",
   "version": "3.12.7"
  }
 },
 "nbformat": 4,
 "nbformat_minor": 4
}
