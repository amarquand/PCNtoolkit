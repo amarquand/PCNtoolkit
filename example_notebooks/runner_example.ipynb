{
 "cells": [
  {
   "cell_type": "markdown",
   "metadata": {},
   "source": [
    "# Runner example\n",
    "\n",
    "This notebook will go through the options of the runner class. We will show how to fit and evaluate a model in parallel, and how to do cross-validation. \n",
    "\n",
    "We will also demonstrate how to transfer and extend a HBR model using the runner.\n"
   ]
  },
  {
   "cell_type": "markdown",
   "metadata": {},
   "source": [
    "### Imports"
   ]
  },
  {
   "cell_type": "code",
   "execution_count": 1,
   "metadata": {
    "notebookRunGroups": {
     "groupValue": "1"
    }
   },
   "outputs": [],
   "source": [
    "import pandas as pd\n",
    "import os\n",
    "from pcntoolkit.dataio.norm_data import NormData\n",
    "from pcntoolkit.normative_model.norm_conf import NormConf\n",
    "from pcntoolkit.normative_model.norm_blr import NormBLR\n",
    "from pcntoolkit.regression_model.blr.blr_conf import BLRConf\n",
    "from pcntoolkit.normative_model.norm_hbr import NormHBR\n",
    "from pcntoolkit.regression_model.hbr.hbr_conf import HBRConf\n",
    "\n",
    "from pcntoolkit.util.runner import Runner\n",
    "from pcntoolkit.util.plotter import plot_centiles, plot_qq\n",
    "\n",
    "os.makedirs(\"resources/data\", exist_ok=True)"
   ]
  },
  {
   "cell_type": "markdown",
   "metadata": {},
   "source": [
    "# Load data"
   ]
  },
  {
   "cell_type": "markdown",
   "metadata": {},
   "source": [
    "First we download a small example dataset from github. Saving this dataset on your local device (under 'resources/data/fcon1000.csv' for example) saves time and bandwidth if you re-run this notebook."
   ]
  },
  {
   "cell_type": "code",
   "execution_count": 2,
   "metadata": {
    "notebookRunGroups": {
     "groupValue": "1"
    }
   },
   "outputs": [],
   "source": [
    "# If you are running this notebook for the first time, you need to download the dataset from github.\n",
    "# If you have already downloaded the dataset, you can comment out the following line\n",
    "\n",
    "pd.read_csv(\n",
    "    \"https://raw.githubusercontent.com/predictive-clinical-neuroscience/PCNtoolkit-demo/refs/heads/main/data/fcon1000.csv\"\n",
    ").to_csv(\"resources/data/fcon1000.csv\", index=False)\n",
    "data = pd.read_csv(\"resources/data/fcon1000.csv\")\n",
    "covariates = [\"age\"]\n",
    "batch_effects = [\"sex\", \"site\"]\n",
    "response_vars = [\"rh_MeanThickness_thickness\", \"WM-hypointensities\"]\n",
    "norm_data = NormData.from_dataframe(\n",
    "    name=\"full\",\n",
    "    dataframe=data,\n",
    "    covariates=[\"age\"],\n",
    "    batch_effects=[\"sex\", \"site\"],\n",
    "    response_vars=[\"rh_MeanThickness_thickness\", \"WM-hypointensities\"],\n",
    ")\n",
    "\n",
    "# Leave two sites out for doing transfer and extend later\n",
    "transfer_sites = [\"Milwaukee_b\", \"Oulu\"]\n",
    "transfer_data, fit_data = norm_data.split_batch_effects({\"site\": transfer_sites}, names=(\"transfer\", \"fit\"))\n",
    "\n",
    "# Split into train and test sets\n",
    "train, test = fit_data.train_test_split()\n",
    "transfer_train, transfer_test = transfer_data.train_test_split()"
   ]
  },
  {
   "cell_type": "markdown",
   "metadata": {},
   "source": [
    "## Configure the normative model\n",
    "\n",
    "The normative model will be configured using a `NormConf` object, containing save and log paths and the preprocessing configurations, and a `RegConf` object, specific to the regression model type. \n",
    "\n",
    "Our `NormConf` object configures:\n",
    "- a save path paths and whether to save the model and results\n",
    "- a standardization step for both the covariates (inscaler) and the response vars (outscaler)\n",
    "- a Bspline basis expansion of order 3 with 5 knots"
   ]
  },
  {
   "cell_type": "code",
   "execution_count": 3,
   "metadata": {
    "notebookRunGroups": {
     "groupValue": "1"
    }
   },
   "outputs": [
    {
     "name": "stdout",
     "output_type": "stream",
     "text": [
      "Process: 81940 - Configuration of normative model is valid.\n"
     ]
    }
   ],
   "source": [
    "# Create a NormConf object\n",
    "norm_conf = NormConf(\n",
    "    savemodel=True,\n",
    "    saveresults=True,\n",
    "    save_dir=\"resources/blr/save_dir\",\n",
    "    inscaler=\"standardize\",\n",
    "    outscaler=\"standardize\",\n",
    "    basis_function=\"bspline\",\n",
    "    basis_function_kwargs={\"order\": 3, \"nknots\": 5},\n",
    ")"
   ]
  },
  {
   "cell_type": "markdown",
   "metadata": {},
   "source": [
    "## Configure the regression model\n"
   ]
  },
  {
   "cell_type": "code",
   "execution_count": 4,
   "metadata": {
    "notebookRunGroups": {
     "groupValue": "1"
    }
   },
   "outputs": [
    {
     "name": "stdout",
     "output_type": "stream",
     "text": [
      "Process: 81940 - Configuration of regression model is valid.\n"
     ]
    }
   ],
   "source": [
    "blr_conf = BLRConf(\n",
    "    optimizer=\"l-bfgs-b\",\n",
    "    n_iter=200,\n",
    "    heteroskedastic=True,\n",
    "    intercept=True,\n",
    "    random_intercept=False,\n",
    "    random_intercept_var=False,\n",
    "    warp=\"WarpSinhArcsinh\",\n",
    "    warp_reparam=True,\n",
    ")"
   ]
  },
  {
   "cell_type": "markdown",
   "metadata": {},
   "source": [
    "## Combine normative and blr conf in normative model\n",
    "We can either use the NormBLR constructor, or the factory method to create a normative BLR model"
   ]
  },
  {
   "cell_type": "code",
   "execution_count": 5,
   "metadata": {
    "notebookRunGroups": {
     "groupValue": "1"
    }
   },
   "outputs": [],
   "source": [
    "# Using the constructor\n",
    "new_model = NormBLR(norm_conf=norm_conf, reg_conf=blr_conf)"
   ]
  },
  {
   "cell_type": "markdown",
   "metadata": {},
   "source": [
    "## Fit the model\n",
    "Normally we would just call 'fit_predict' on the model directly, but because we want to use the runner to do cross-validation in parallel, we need to first create a runner object. "
   ]
  },
  {
   "cell_type": "code",
   "execution_count": 6,
   "metadata": {},
   "outputs": [
    {
     "name": "stdout",
     "output_type": "stream",
     "text": [
      "Process: 81940 - No python path specified. Using interpreter path of current process: /opt/anaconda3/envs/dev_refactor_2/bin/python\n"
     ]
    }
   ],
   "source": [
    "runner = Runner(\n",
    "    cross_validate=False,\n",
    "    cv_folds=3,\n",
    "    parallelize=True,\n",
    "    job_type=\"local\",  # or \"slurm\" if you are on a slurm cluster\n",
    "    n_jobs=2,\n",
    "    log_dir=\"resources/runner_output/log_dir\",\n",
    "    temp_dir=\"resources/runner_output/temp_dir\",\n",
    ")\n",
    "# Local parallelization might not work on login nodes due to resource restrictions"
   ]
  },
  {
   "cell_type": "markdown",
   "metadata": {},
   "source": [
    "The runner object will now fit the model in parallel, and save the results in save directories that it will create for each fold."
   ]
  },
  {
   "cell_type": "code",
   "execution_count": 7,
   "metadata": {},
   "outputs": [
    {
     "name": "stdout",
     "output_type": "stream",
     "text": [
      "Process: 81940 - Saving runner state to /Users/stijndeboer/Projects/PCN/PCNtoolkit/example_notebooks/resources/runner_output/temp_dir/runner_state_deea300c-f86d-4026-bb6e-2ede22e293d9.json\n"
     ]
    }
   ],
   "source": [
    "runner.fit(new_model, train, observe=False)"
   ]
  },
  {
   "cell_type": "markdown",
   "metadata": {},
   "source": [
    "### Loading a fold model\n",
    "We can load a model for a specific fold by calling `load_model` on the runner object. This will return a `NormBLR` object, which we can inspect and use to predict on new data.\n"
   ]
  },
  {
   "cell_type": "code",
   "execution_count": 8,
   "metadata": {},
   "outputs": [
    {
     "name": "stdout",
     "output_type": "stream",
     "text": [
      "Process: 81940 - Configuration of normative model is valid.\n",
      "Process: 81940 - Configuration of normative model is valid.\n",
      "Process: 81940 - Configuration of regression model is valid.\n",
      "Process: 81940 - Configuration of regression model is valid.\n",
      "Process: 81940 - Configuration of regression model is valid.\n",
      "Process: 81940 - Configuration of regression model is valid.\n"
     ]
    },
    {
     "data": {
      "text/plain": [
       "<pcntoolkit.normative_model.norm_blr.NormBLR at 0x30cdd5d00>"
      ]
     },
     "metadata": {},
     "output_type": "display_data"
    }
   ],
   "source": [
    "fitted_model = runner.load_model()\n",
    "display(fitted_model)"
   ]
  },
  {
   "cell_type": "markdown",
   "metadata": {},
   "source": [
    "## Inspecting the model \n",
    "\n",
    "The norm_blr model contains a collection of regression models, one for each response variable. We can inspect those models individually by calling `norm_blr.regression_models.get(\"{responsevar}\")`"
   ]
  },
  {
   "cell_type": "code",
   "execution_count": 9,
   "metadata": {},
   "outputs": [
    {
     "data": {
      "text/plain": [
       "{'_name': 'rh_MeanThickness_thickness',\n",
       " '_reg_conf': BLRConf(n_iter=1000, tol=1e-05, ard=False, optimizer='l-bfgs-b', l_bfgs_b_l=0.1, l_bfgs_b_epsilon=0.1, l_bfgs_b_norm='l2', intercept=False, random_intercept=True, heteroskedastic=True, intercept_var=False, random_intercept_var=True, warp='WarpSinhArcsinh', warp_reparam=True),\n",
       " 'is_fitted': True,\n",
       " '_is_from_dict': True,\n",
       " 'hyp': array([ 0.00275367,  0.40499485,  0.79214528,  0.34666029, -0.00341635,\n",
       "        -0.08250692, -0.01156862,  0.57189289,  0.67819094, -0.0062148 ,\n",
       "         0.11877658,  0.04186673, -0.03880499,  0.01406969,  0.30263215,\n",
       "         0.14585986,  0.31664726,  0.05159738, -0.1665349 ,  0.09486714,\n",
       "         0.07174736, -0.0141461 ,  0.17822482,  0.07423025,  0.12777867,\n",
       "         0.02032843, -0.09425552,  0.00299096, -0.07749857,  0.06868653,\n",
       "        -0.29133875, -0.25087432, -0.01897682, -0.08225674,  0.0140547 ,\n",
       "         0.01121146, -0.00391743, -0.1026433 , -0.00478926,  0.00903358,\n",
       "         0.01066819, -0.00549573,  0.01289144,  0.00266866,  0.0155582 ,\n",
       "        -0.00829133,  0.01682837,  0.01111201,  0.01413894,  0.0144543 ,\n",
       "         0.00640424,  0.00852809,  0.00274277,  0.01153867,  0.01660889,\n",
       "         0.01629583,  0.00279132,  0.01567978,  0.01417125,  0.00497842,\n",
       "         0.00091703,  0.0034631 ]),\n",
       " 'nlZ': 581.4696624012886,\n",
       " 'N': 496,\n",
       " 'D': 30,\n",
       " 'lambda_n_vec': None,\n",
       " 'Sigma_a': array([[1.01915802, 0.        , 0.        , 0.        , 0.        ,\n",
       "         0.        , 0.        , 0.        , 0.        , 0.        ,\n",
       "         0.        , 0.        , 0.        , 0.        , 0.        ,\n",
       "         0.        , 0.        , 0.        , 0.        , 0.        ,\n",
       "         0.        , 0.        , 0.        , 0.        , 0.        ,\n",
       "         0.        , 0.        , 0.        , 0.        , 0.        ],\n",
       "        [0.        , 1.08573453, 0.        , 0.        , 0.        ,\n",
       "         0.        , 0.        , 0.        , 0.        , 0.        ,\n",
       "         0.        , 0.        , 0.        , 0.        , 0.        ,\n",
       "         0.        , 0.        , 0.        , 0.        , 0.        ,\n",
       "         0.        , 0.        , 0.        , 0.        , 0.        ,\n",
       "         0.        , 0.        , 0.        , 0.        , 0.        ],\n",
       "        [0.        , 0.        , 0.9860436 , 0.        , 0.        ,\n",
       "         0.        , 0.        , 0.        , 0.        , 0.        ,\n",
       "         0.        , 0.        , 0.        , 0.        , 0.        ,\n",
       "         0.        , 0.        , 0.        , 0.        , 0.        ,\n",
       "         0.        , 0.        , 0.        , 0.        , 0.        ,\n",
       "         0.        , 0.        , 0.        , 0.        , 0.        ],\n",
       "        [0.        , 0.        , 0.        , 0.98885116, 0.        ,\n",
       "         0.        , 0.        , 0.        , 0.        , 0.        ,\n",
       "         0.        , 0.        , 0.        , 0.        , 0.        ,\n",
       "         0.        , 0.        , 0.        , 0.        , 0.        ,\n",
       "         0.        , 0.        , 0.        , 0.        , 0.        ,\n",
       "         0.        , 0.        , 0.        , 0.        , 0.        ],\n",
       "        [0.        , 0.        , 0.        , 0.        , 1.00392512,\n",
       "         0.        , 0.        , 0.        , 0.        , 0.        ,\n",
       "         0.        , 0.        , 0.        , 0.        , 0.        ,\n",
       "         0.        , 0.        , 0.        , 0.        , 0.        ,\n",
       "         0.        , 0.        , 0.        , 0.        , 0.        ,\n",
       "         0.        , 0.        , 0.        , 0.        , 0.        ],\n",
       "        [0.        , 0.        , 0.        , 0.        , 0.        ,\n",
       "         1.10809609, 0.        , 0.        , 0.        , 0.        ,\n",
       "         0.        , 0.        , 0.        , 0.        , 0.        ,\n",
       "         0.        , 0.        , 0.        , 0.        , 0.        ,\n",
       "         0.        , 0.        , 0.        , 0.        , 0.        ,\n",
       "         0.        , 0.        , 0.        , 0.        , 0.        ],\n",
       "        [0.        , 0.        , 0.        , 0.        , 0.        ,\n",
       "         0.        , 1.00480075, 0.        , 0.        , 0.        ,\n",
       "         0.        , 0.        , 0.        , 0.        , 0.        ,\n",
       "         0.        , 0.        , 0.        , 0.        , 0.        ,\n",
       "         0.        , 0.        , 0.        , 0.        , 0.        ,\n",
       "         0.        , 0.        , 0.        , 0.        , 0.        ],\n",
       "        [0.        , 0.        , 0.        , 0.        , 0.        ,\n",
       "         0.        , 0.        , 0.9910071 , 0.        , 0.        ,\n",
       "         0.        , 0.        , 0.        , 0.        , 0.        ,\n",
       "         0.        , 0.        , 0.        , 0.        , 0.        ,\n",
       "         0.        , 0.        , 0.        , 0.        , 0.        ,\n",
       "         0.        , 0.        , 0.        , 0.        , 0.        ],\n",
       "        [0.        , 0.        , 0.        , 0.        , 0.        ,\n",
       "         0.        , 0.        , 0.        , 0.98938852, 0.        ,\n",
       "         0.        , 0.        , 0.        , 0.        , 0.        ,\n",
       "         0.        , 0.        , 0.        , 0.        , 0.        ,\n",
       "         0.        , 0.        , 0.        , 0.        , 0.        ,\n",
       "         0.        , 0.        , 0.        , 0.        , 0.        ],\n",
       "        [0.        , 0.        , 0.        , 0.        , 0.        ,\n",
       "         0.        , 0.        , 0.        , 0.        , 1.00551086,\n",
       "         0.        , 0.        , 0.        , 0.        , 0.        ,\n",
       "         0.        , 0.        , 0.        , 0.        , 0.        ,\n",
       "         0.        , 0.        , 0.        , 0.        , 0.        ,\n",
       "         0.        , 0.        , 0.        , 0.        , 0.        ],\n",
       "        [0.        , 0.        , 0.        , 0.        , 0.        ,\n",
       "         0.        , 0.        , 0.        , 0.        , 0.        ,\n",
       "         0.9871913 , 0.        , 0.        , 0.        , 0.        ,\n",
       "         0.        , 0.        , 0.        , 0.        , 0.        ,\n",
       "         0.        , 0.        , 0.        , 0.        , 0.        ,\n",
       "         0.        , 0.        , 0.        , 0.        , 0.        ],\n",
       "        [0.        , 0.        , 0.        , 0.        , 0.        ,\n",
       "         0.        , 0.        , 0.        , 0.        , 0.        ,\n",
       "         0.        , 0.9973349 , 0.        , 0.        , 0.        ,\n",
       "         0.        , 0.        , 0.        , 0.        , 0.        ,\n",
       "         0.        , 0.        , 0.        , 0.        , 0.        ,\n",
       "         0.        , 0.        , 0.        , 0.        , 0.        ],\n",
       "        [0.        , 0.        , 0.        , 0.        , 0.        ,\n",
       "         0.        , 0.        , 0.        , 0.        , 0.        ,\n",
       "         0.        , 0.        , 0.98456221, 0.        , 0.        ,\n",
       "         0.        , 0.        , 0.        , 0.        , 0.        ,\n",
       "         0.        , 0.        , 0.        , 0.        , 0.        ,\n",
       "         0.        , 0.        , 0.        , 0.        , 0.        ],\n",
       "        [0.        , 0.        , 0.        , 0.        , 0.        ,\n",
       "         0.        , 0.        , 0.        , 0.        , 0.        ,\n",
       "         0.        , 0.        , 0.        , 1.0083258 , 0.        ,\n",
       "         0.        , 0.        , 0.        , 0.        , 0.        ,\n",
       "         0.        , 0.        , 0.        , 0.        , 0.        ,\n",
       "         0.        , 0.        , 0.        , 0.        , 0.        ],\n",
       "        [0.        , 0.        , 0.        , 0.        , 0.        ,\n",
       "         0.        , 0.        , 0.        , 0.        , 0.        ,\n",
       "         0.        , 0.        , 0.        , 0.        , 0.98331243,\n",
       "         0.        , 0.        , 0.        , 0.        , 0.        ,\n",
       "         0.        , 0.        , 0.        , 0.        , 0.        ,\n",
       "         0.        , 0.        , 0.        , 0.        , 0.        ],\n",
       "        [0.        , 0.        , 0.        , 0.        , 0.        ,\n",
       "         0.        , 0.        , 0.        , 0.        , 0.        ,\n",
       "         0.        , 0.        , 0.        , 0.        , 0.        ,\n",
       "         0.9889495 , 0.        , 0.        , 0.        , 0.        ,\n",
       "         0.        , 0.        , 0.        , 0.        , 0.        ,\n",
       "         0.        , 0.        , 0.        , 0.        , 0.        ],\n",
       "        [0.        , 0.        , 0.        , 0.        , 0.        ,\n",
       "         0.        , 0.        , 0.        , 0.        , 0.        ,\n",
       "         0.        , 0.        , 0.        , 0.        , 0.        ,\n",
       "         0.        , 0.98596054, 0.        , 0.        , 0.        ,\n",
       "         0.        , 0.        , 0.        , 0.        , 0.        ,\n",
       "         0.        , 0.        , 0.        , 0.        , 0.        ],\n",
       "        [0.        , 0.        , 0.        , 0.        , 0.        ,\n",
       "         0.        , 0.        , 0.        , 0.        , 0.        ,\n",
       "         0.        , 0.        , 0.        , 0.        , 0.        ,\n",
       "         0.        , 0.        , 0.98564966, 0.        , 0.        ,\n",
       "         0.        , 0.        , 0.        , 0.        , 0.        ,\n",
       "         0.        , 0.        , 0.        , 0.        , 0.        ],\n",
       "        [0.        , 0.        , 0.        , 0.        , 0.        ,\n",
       "         0.        , 0.        , 0.        , 0.        , 0.        ,\n",
       "         0.        , 0.        , 0.        , 0.        , 0.        ,\n",
       "         0.        , 0.        , 0.        , 0.99361623, 0.        ,\n",
       "         0.        , 0.        , 0.        , 0.        , 0.        ,\n",
       "         0.        , 0.        , 0.        , 0.        , 0.        ],\n",
       "        [0.        , 0.        , 0.        , 0.        , 0.        ,\n",
       "         0.        , 0.        , 0.        , 0.        , 0.        ,\n",
       "         0.        , 0.        , 0.        , 0.        , 0.        ,\n",
       "         0.        , 0.        , 0.        , 0.        , 0.99150817,\n",
       "         0.        , 0.        , 0.        , 0.        , 0.        ,\n",
       "         0.        , 0.        , 0.        , 0.        , 0.        ],\n",
       "        [0.        , 0.        , 0.        , 0.        , 0.        ,\n",
       "         0.        , 0.        , 0.        , 0.        , 0.        ,\n",
       "         0.        , 0.        , 0.        , 0.        , 0.        ,\n",
       "         0.        , 0.        , 0.        , 0.        , 0.        ,\n",
       "         0.99726099, 0.        , 0.        , 0.        , 0.        ,\n",
       "         0.        , 0.        , 0.        , 0.        , 0.        ],\n",
       "        [0.        , 0.        , 0.        , 0.        , 0.        ,\n",
       "         0.        , 0.        , 0.        , 0.        , 0.        ,\n",
       "         0.        , 0.        , 0.        , 0.        , 0.        ,\n",
       "         0.        , 0.        , 0.        , 0.        , 0.        ,\n",
       "         0.        , 0.98852765, 0.        , 0.        , 0.        ,\n",
       "         0.        , 0.        , 0.        , 0.        , 0.        ],\n",
       "        [0.        , 0.        , 0.        , 0.        , 0.        ,\n",
       "         0.        , 0.        , 0.        , 0.        , 0.        ,\n",
       "         0.        , 0.        , 0.        , 0.        , 0.        ,\n",
       "         0.        , 0.        , 0.        , 0.        , 0.        ,\n",
       "         0.        , 0.        , 0.98352828, 0.        , 0.        ,\n",
       "         0.        , 0.        , 0.        , 0.        , 0.        ],\n",
       "        [0.        , 0.        , 0.        , 0.        , 0.        ,\n",
       "         0.        , 0.        , 0.        , 0.        , 0.        ,\n",
       "         0.        , 0.        , 0.        , 0.        , 0.        ,\n",
       "         0.        , 0.        , 0.        , 0.        , 0.        ,\n",
       "         0.        , 0.        , 0.        , 0.98383623, 0.        ,\n",
       "         0.        , 0.        , 0.        , 0.        , 0.        ],\n",
       "        [0.        , 0.        , 0.        , 0.        , 0.        ,\n",
       "         0.        , 0.        , 0.        , 0.        , 0.        ,\n",
       "         0.        , 0.        , 0.        , 0.        , 0.        ,\n",
       "         0.        , 0.        , 0.        , 0.        , 0.        ,\n",
       "         0.        , 0.        , 0.        , 0.        , 0.99721257,\n",
       "         0.        , 0.        , 0.        , 0.        , 0.        ],\n",
       "        [0.        , 0.        , 0.        , 0.        , 0.        ,\n",
       "         0.        , 0.        , 0.        , 0.        , 0.        ,\n",
       "         0.        , 0.        , 0.        , 0.        , 0.        ,\n",
       "         0.        , 0.        , 0.        , 0.        , 0.        ,\n",
       "         0.        , 0.        , 0.        , 0.        , 0.        ,\n",
       "         0.98444251, 0.        , 0.        , 0.        , 0.        ],\n",
       "        [0.        , 0.        , 0.        , 0.        , 0.        ,\n",
       "         0.        , 0.        , 0.        , 0.        , 0.        ,\n",
       "         0.        , 0.        , 0.        , 0.        , 0.        ,\n",
       "         0.        , 0.        , 0.        , 0.        , 0.        ,\n",
       "         0.        , 0.        , 0.        , 0.        , 0.        ,\n",
       "         0.        , 0.98592869, 0.        , 0.        , 0.        ],\n",
       "        [0.        , 0.        , 0.        , 0.        , 0.        ,\n",
       "         0.        , 0.        , 0.        , 0.        , 0.        ,\n",
       "         0.        , 0.        , 0.        , 0.        , 0.        ,\n",
       "         0.        , 0.        , 0.        , 0.        , 0.        ,\n",
       "         0.        , 0.        , 0.        , 0.        , 0.        ,\n",
       "         0.        , 0.        , 0.99503395, 0.        , 0.        ],\n",
       "        [0.        , 0.        , 0.        , 0.        , 0.        ,\n",
       "         0.        , 0.        , 0.        , 0.        , 0.        ,\n",
       "         0.        , 0.        , 0.        , 0.        , 0.        ,\n",
       "         0.        , 0.        , 0.        , 0.        , 0.        ,\n",
       "         0.        , 0.        , 0.        , 0.        , 0.        ,\n",
       "         0.        , 0.        , 0.        , 0.99908339, 0.        ],\n",
       "        [0.        , 0.        , 0.        , 0.        , 0.        ,\n",
       "         0.        , 0.        , 0.        , 0.        , 0.        ,\n",
       "         0.        , 0.        , 0.        , 0.        , 0.        ,\n",
       "         0.        , 0.        , 0.        , 0.        , 0.        ,\n",
       "         0.        , 0.        , 0.        , 0.        , 0.        ,\n",
       "         0.        , 0.        , 0.        , 0.        , 0.90170929]]),\n",
       " 'Lambda_a': array([[0.98120211, 0.        , 0.        , 0.        , 0.        ,\n",
       "         0.        , 0.        , 0.        , 0.        , 0.        ,\n",
       "         0.        , 0.        , 0.        , 0.        , 0.        ,\n",
       "         0.        , 0.        , 0.        , 0.        , 0.        ,\n",
       "         0.        , 0.        , 0.        , 0.        , 0.        ,\n",
       "         0.        , 0.        , 0.        , 0.        , 0.        ],\n",
       "        [0.        , 0.92103546, 0.        , 0.        , 0.        ,\n",
       "         0.        , 0.        , 0.        , 0.        , 0.        ,\n",
       "         0.        , 0.        , 0.        , 0.        , 0.        ,\n",
       "         0.        , 0.        , 0.        , 0.        , 0.        ,\n",
       "         0.        , 0.        , 0.        , 0.        , 0.        ,\n",
       "         0.        , 0.        , 0.        , 0.        , 0.        ],\n",
       "        [0.        , 0.        , 1.01415393, 0.        , 0.        ,\n",
       "         0.        , 0.        , 0.        , 0.        , 0.        ,\n",
       "         0.        , 0.        , 0.        , 0.        , 0.        ,\n",
       "         0.        , 0.        , 0.        , 0.        , 0.        ,\n",
       "         0.        , 0.        , 0.        , 0.        , 0.        ,\n",
       "         0.        , 0.        , 0.        , 0.        , 0.        ],\n",
       "        [0.        , 0.        , 0.        , 1.01127454, 0.        ,\n",
       "         0.        , 0.        , 0.        , 0.        , 0.        ,\n",
       "         0.        , 0.        , 0.        , 0.        , 0.        ,\n",
       "         0.        , 0.        , 0.        , 0.        , 0.        ,\n",
       "         0.        , 0.        , 0.        , 0.        , 0.        ,\n",
       "         0.        , 0.        , 0.        , 0.        , 0.        ],\n",
       "        [0.        , 0.        , 0.        , 0.        , 0.99609023,\n",
       "         0.        , 0.        , 0.        , 0.        , 0.        ,\n",
       "         0.        , 0.        , 0.        , 0.        , 0.        ,\n",
       "         0.        , 0.        , 0.        , 0.        , 0.        ,\n",
       "         0.        , 0.        , 0.        , 0.        , 0.        ,\n",
       "         0.        , 0.        , 0.        , 0.        , 0.        ],\n",
       "        [0.        , 0.        , 0.        , 0.        , 0.        ,\n",
       "         0.90244882, 0.        , 0.        , 0.        , 0.        ,\n",
       "         0.        , 0.        , 0.        , 0.        , 0.        ,\n",
       "         0.        , 0.        , 0.        , 0.        , 0.        ,\n",
       "         0.        , 0.        , 0.        , 0.        , 0.        ,\n",
       "         0.        , 0.        , 0.        , 0.        , 0.        ],\n",
       "        [0.        , 0.        , 0.        , 0.        , 0.        ,\n",
       "         0.        , 0.99522219, 0.        , 0.        , 0.        ,\n",
       "         0.        , 0.        , 0.        , 0.        , 0.        ,\n",
       "         0.        , 0.        , 0.        , 0.        , 0.        ,\n",
       "         0.        , 0.        , 0.        , 0.        , 0.        ,\n",
       "         0.        , 0.        , 0.        , 0.        , 0.        ],\n",
       "        [0.        , 0.        , 0.        , 0.        , 0.        ,\n",
       "         0.        , 0.        , 1.00907451, 0.        , 0.        ,\n",
       "         0.        , 0.        , 0.        , 0.        , 0.        ,\n",
       "         0.        , 0.        , 0.        , 0.        , 0.        ,\n",
       "         0.        , 0.        , 0.        , 0.        , 0.        ,\n",
       "         0.        , 0.        , 0.        , 0.        , 0.        ],\n",
       "        [0.        , 0.        , 0.        , 0.        , 0.        ,\n",
       "         0.        , 0.        , 0.        , 1.01072529, 0.        ,\n",
       "         0.        , 0.        , 0.        , 0.        , 0.        ,\n",
       "         0.        , 0.        , 0.        , 0.        , 0.        ,\n",
       "         0.        , 0.        , 0.        , 0.        , 0.        ,\n",
       "         0.        , 0.        , 0.        , 0.        , 0.        ],\n",
       "        [0.        , 0.        , 0.        , 0.        , 0.        ,\n",
       "         0.        , 0.        , 0.        , 0.        , 0.99451934,\n",
       "         0.        , 0.        , 0.        , 0.        , 0.        ,\n",
       "         0.        , 0.        , 0.        , 0.        , 0.        ,\n",
       "         0.        , 0.        , 0.        , 0.        , 0.        ,\n",
       "         0.        , 0.        , 0.        , 0.        , 0.        ],\n",
       "        [0.        , 0.        , 0.        , 0.        , 0.        ,\n",
       "         0.        , 0.        , 0.        , 0.        , 0.        ,\n",
       "         1.01297489, 0.        , 0.        , 0.        , 0.        ,\n",
       "         0.        , 0.        , 0.        , 0.        , 0.        ,\n",
       "         0.        , 0.        , 0.        , 0.        , 0.        ,\n",
       "         0.        , 0.        , 0.        , 0.        , 0.        ],\n",
       "        [0.        , 0.        , 0.        , 0.        , 0.        ,\n",
       "         0.        , 0.        , 0.        , 0.        , 0.        ,\n",
       "         0.        , 1.00267222, 0.        , 0.        , 0.        ,\n",
       "         0.        , 0.        , 0.        , 0.        , 0.        ,\n",
       "         0.        , 0.        , 0.        , 0.        , 0.        ,\n",
       "         0.        , 0.        , 0.        , 0.        , 0.        ],\n",
       "        [0.        , 0.        , 0.        , 0.        , 0.        ,\n",
       "         0.        , 0.        , 0.        , 0.        , 0.        ,\n",
       "         0.        , 0.        , 1.01567985, 0.        , 0.        ,\n",
       "         0.        , 0.        , 0.        , 0.        , 0.        ,\n",
       "         0.        , 0.        , 0.        , 0.        , 0.        ,\n",
       "         0.        , 0.        , 0.        , 0.        , 0.        ],\n",
       "        [0.        , 0.        , 0.        , 0.        , 0.        ,\n",
       "         0.        , 0.        , 0.        , 0.        , 0.        ,\n",
       "         0.        , 0.        , 0.        , 0.99174295, 0.        ,\n",
       "         0.        , 0.        , 0.        , 0.        , 0.        ,\n",
       "         0.        , 0.        , 0.        , 0.        , 0.        ,\n",
       "         0.        , 0.        , 0.        , 0.        , 0.        ],\n",
       "        [0.        , 0.        , 0.        , 0.        , 0.        ,\n",
       "         0.        , 0.        , 0.        , 0.        , 0.        ,\n",
       "         0.        , 0.        , 0.        , 0.        , 1.01697077,\n",
       "         0.        , 0.        , 0.        , 0.        , 0.        ,\n",
       "         0.        , 0.        , 0.        , 0.        , 0.        ,\n",
       "         0.        , 0.        , 0.        , 0.        , 0.        ],\n",
       "        [0.        , 0.        , 0.        , 0.        , 0.        ,\n",
       "         0.        , 0.        , 0.        , 0.        , 0.        ,\n",
       "         0.        , 0.        , 0.        , 0.        , 0.        ,\n",
       "         1.01117398, 0.        , 0.        , 0.        , 0.        ,\n",
       "         0.        , 0.        , 0.        , 0.        , 0.        ,\n",
       "         0.        , 0.        , 0.        , 0.        , 0.        ],\n",
       "        [0.        , 0.        , 0.        , 0.        , 0.        ,\n",
       "         0.        , 0.        , 0.        , 0.        , 0.        ,\n",
       "         0.        , 0.        , 0.        , 0.        , 0.        ,\n",
       "         0.        , 1.01423937, 0.        , 0.        , 0.        ,\n",
       "         0.        , 0.        , 0.        , 0.        , 0.        ,\n",
       "         0.        , 0.        , 0.        , 0.        , 0.        ],\n",
       "        [0.        , 0.        , 0.        , 0.        , 0.        ,\n",
       "         0.        , 0.        , 0.        , 0.        , 0.        ,\n",
       "         0.        , 0.        , 0.        , 0.        , 0.        ,\n",
       "         0.        , 0.        , 1.01455927, 0.        , 0.        ,\n",
       "         0.        , 0.        , 0.        , 0.        , 0.        ,\n",
       "         0.        , 0.        , 0.        , 0.        , 0.        ],\n",
       "        [0.        , 0.        , 0.        , 0.        , 0.        ,\n",
       "         0.        , 0.        , 0.        , 0.        , 0.        ,\n",
       "         0.        , 0.        , 0.        , 0.        , 0.        ,\n",
       "         0.        , 0.        , 0.        , 1.00642479, 0.        ,\n",
       "         0.        , 0.        , 0.        , 0.        , 0.        ,\n",
       "         0.        , 0.        , 0.        , 0.        , 0.        ],\n",
       "        [0.        , 0.        , 0.        , 0.        , 0.        ,\n",
       "         0.        , 0.        , 0.        , 0.        , 0.        ,\n",
       "         0.        , 0.        , 0.        , 0.        , 0.        ,\n",
       "         0.        , 0.        , 0.        , 0.        , 1.00856456,\n",
       "         0.        , 0.        , 0.        , 0.        , 0.        ,\n",
       "         0.        , 0.        , 0.        , 0.        , 0.        ],\n",
       "        [0.        , 0.        , 0.        , 0.        , 0.        ,\n",
       "         0.        , 0.        , 0.        , 0.        , 0.        ,\n",
       "         0.        , 0.        , 0.        , 0.        , 0.        ,\n",
       "         0.        , 0.        , 0.        , 0.        , 0.        ,\n",
       "         1.00274653, 0.        , 0.        , 0.        , 0.        ,\n",
       "         0.        , 0.        , 0.        , 0.        , 0.        ],\n",
       "        [0.        , 0.        , 0.        , 0.        , 0.        ,\n",
       "         0.        , 0.        , 0.        , 0.        , 0.        ,\n",
       "         0.        , 0.        , 0.        , 0.        , 0.        ,\n",
       "         0.        , 0.        , 0.        , 0.        , 0.        ,\n",
       "         0.        , 1.0116055 , 0.        , 0.        , 0.        ,\n",
       "         0.        , 0.        , 0.        , 0.        , 0.        ],\n",
       "        [0.        , 0.        , 0.        , 0.        , 0.        ,\n",
       "         0.        , 0.        , 0.        , 0.        , 0.        ,\n",
       "         0.        , 0.        , 0.        , 0.        , 0.        ,\n",
       "         0.        , 0.        , 0.        , 0.        , 0.        ,\n",
       "         0.        , 0.        , 1.01674758, 0.        , 0.        ,\n",
       "         0.        , 0.        , 0.        , 0.        , 0.        ],\n",
       "        [0.        , 0.        , 0.        , 0.        , 0.        ,\n",
       "         0.        , 0.        , 0.        , 0.        , 0.        ,\n",
       "         0.        , 0.        , 0.        , 0.        , 0.        ,\n",
       "         0.        , 0.        , 0.        , 0.        , 0.        ,\n",
       "         0.        , 0.        , 0.        , 1.01642933, 0.        ,\n",
       "         0.        , 0.        , 0.        , 0.        , 0.        ],\n",
       "        [0.        , 0.        , 0.        , 0.        , 0.        ,\n",
       "         0.        , 0.        , 0.        , 0.        , 0.        ,\n",
       "         0.        , 0.        , 0.        , 0.        , 0.        ,\n",
       "         0.        , 0.        , 0.        , 0.        , 0.        ,\n",
       "         0.        , 0.        , 0.        , 0.        , 1.00279522,\n",
       "         0.        , 0.        , 0.        , 0.        , 0.        ],\n",
       "        [0.        , 0.        , 0.        , 0.        , 0.        ,\n",
       "         0.        , 0.        , 0.        , 0.        , 0.        ,\n",
       "         0.        , 0.        , 0.        , 0.        , 0.        ,\n",
       "         0.        , 0.        , 0.        , 0.        , 0.        ,\n",
       "         0.        , 0.        , 0.        , 0.        , 0.        ,\n",
       "         1.01580335, 0.        , 0.        , 0.        , 0.        ],\n",
       "        [0.        , 0.        , 0.        , 0.        , 0.        ,\n",
       "         0.        , 0.        , 0.        , 0.        , 0.        ,\n",
       "         0.        , 0.        , 0.        , 0.        , 0.        ,\n",
       "         0.        , 0.        , 0.        , 0.        , 0.        ,\n",
       "         0.        , 0.        , 0.        , 0.        , 0.        ,\n",
       "         0.        , 1.01427213, 0.        , 0.        , 0.        ],\n",
       "        [0.        , 0.        , 0.        , 0.        , 0.        ,\n",
       "         0.        , 0.        , 0.        , 0.        , 0.        ,\n",
       "         0.        , 0.        , 0.        , 0.        , 0.        ,\n",
       "         0.        , 0.        , 0.        , 0.        , 0.        ,\n",
       "         0.        , 0.        , 0.        , 0.        , 0.        ,\n",
       "         0.        , 0.        , 1.00499083, 0.        , 0.        ],\n",
       "        [0.        , 0.        , 0.        , 0.        , 0.        ,\n",
       "         0.        , 0.        , 0.        , 0.        , 0.        ,\n",
       "         0.        , 0.        , 0.        , 0.        , 0.        ,\n",
       "         0.        , 0.        , 0.        , 0.        , 0.        ,\n",
       "         0.        , 0.        , 0.        , 0.        , 0.        ,\n",
       "         0.        , 0.        , 0.        , 1.00091745, 0.        ],\n",
       "        [0.        , 0.        , 0.        , 0.        , 0.        ,\n",
       "         0.        , 0.        , 0.        , 0.        , 0.        ,\n",
       "         0.        , 0.        , 0.        , 0.        , 0.        ,\n",
       "         0.        , 0.        , 0.        , 0.        , 0.        ,\n",
       "         0.        , 0.        , 0.        , 0.        , 0.        ,\n",
       "         0.        , 0.        , 0.        , 0.        , 1.10900487]]),\n",
       " 'hyp0': None,\n",
       " 'n_hyp': 0,\n",
       " 'var_D': 0,\n",
       " 'alpha': None,\n",
       " 'beta': None,\n",
       " 'gamma': None,\n",
       " 'm': array([ 1.10850295,  1.6406709 , -0.14671429, -0.33020147, -0.73831256,\n",
       "        -1.93587355, -0.47158329, -0.44876979, -0.37881155, -0.83011866,\n",
       "        -0.28567636, -0.61320695, -0.15508864, -0.88004376, -0.06209928,\n",
       "         0.4158665 , -0.27737283, -0.26340308,  0.56105025,  0.49342396,\n",
       "         0.61752234,  0.30140163,  0.05092194,  0.00218437, -0.66407117,\n",
       "         0.15363062, -0.27279431, -0.49657902,  0.65693534,  0.63411535]),\n",
       " 'A': array([[2.11655070e+00, 4.96790666e+00, 3.07940044e+00, 4.15004077e-01,\n",
       "         0.00000000e+00, 0.00000000e+00, 0.00000000e+00, 3.15912838e+00,\n",
       "         6.43853139e+00, 9.48382527e-01, 8.89876279e-02, 6.45122342e-04,\n",
       "         5.71947557e-04, 4.30870837e-02, 1.03282316e+00, 8.64554383e-06,\n",
       "         1.53999485e+00, 0.00000000e+00, 3.53171493e-02, 2.69662700e-02,\n",
       "         7.90829597e-02, 0.00000000e+00, 5.77641158e+00, 5.04914842e-03,\n",
       "         2.17840641e-03, 1.06801433e-02, 5.48658720e-04, 0.00000000e+00,\n",
       "         1.46054324e-05, 6.90988126e-03],\n",
       "        [4.96790666e+00, 1.67881163e+02, 2.60622378e+02, 6.34495437e+01,\n",
       "         1.05758298e-01, 0.00000000e+00, 0.00000000e+00, 2.62583670e+02,\n",
       "         2.33522044e+02, 1.69336867e+01, 9.64567580e+00, 7.30871522e+00,\n",
       "         4.67395450e+00, 9.57494238e+00, 1.58332946e+02, 6.32613677e+00,\n",
       "         1.64599662e+02, 2.58351170e+00, 9.68774037e+00, 7.83103071e+00,\n",
       "         1.21922121e+01, 0.00000000e+00, 4.55442080e+01, 4.33762867e+00,\n",
       "         9.87498153e+00, 5.30131605e+00, 3.47718344e+00, 0.00000000e+00,\n",
       "         5.78463829e+00, 1.20955445e+01],\n",
       "        [3.07940044e+00, 2.60622378e+02, 5.10056820e+02, 1.68880399e+02,\n",
       "         4.28965922e+00, 2.92339843e-02, 0.00000000e+00, 4.96150066e+02,\n",
       "         4.49793671e+02, 1.97689532e+01, 1.66396677e+01, 2.34622303e+01,\n",
       "         2.01453115e+01, 1.89462855e+01, 2.68468111e+02, 2.99778343e+01,\n",
       "         2.60686949e+02, 1.55701235e+01, 3.17571310e+01, 1.57682283e+01,\n",
       "         2.00699168e+01, 1.65115452e-02, 7.29729583e+01, 1.94314639e+01,\n",
       "         2.29359606e+01, 2.33843234e+01, 1.22042814e+01, 4.35559817e-01,\n",
       "         1.85362504e+01, 3.47656849e+01],\n",
       "        [4.15004077e-01, 6.34495437e+01, 1.68880399e+02, 1.20175432e+02,\n",
       "         2.45744734e+01, 1.98970520e+00, 2.29467562e-02, 1.82205758e+02,\n",
       "         1.96290471e+02, 5.96812622e+00, 7.26710414e+00, 1.52357418e+01,\n",
       "         1.27755428e+01, 7.33277930e+00, 6.36474225e+01, 1.81095182e+01,\n",
       "         6.00303380e+01, 2.25300919e+01, 4.08846068e+01, 4.37565887e+00,\n",
       "         4.86384102e+00, 3.70855280e+00, 3.94246321e+01, 1.94620810e+01,\n",
       "         6.69802333e+00, 1.31803553e+01, 1.09415665e+01, 1.87350317e+00,\n",
       "         7.86092243e+00, 1.23258212e+01],\n",
       "        [0.00000000e+00, 1.05758298e-01, 4.28965922e+00, 2.45744734e+01,\n",
       "         2.41086145e+01, 6.23095729e+00, 2.30392216e-01, 2.77608277e+01,\n",
       "         3.07829370e+01, 2.35150346e-01, 9.86819641e+00, 3.42787382e+00,\n",
       "         4.58745652e-01, 2.35352764e-01, 3.51727525e-03, 4.44999203e-01,\n",
       "         3.38499604e-02, 8.68297441e+00, 1.78625927e+01, 2.75355852e-03,\n",
       "         5.45840846e-03, 9.02536978e+00, 3.75419851e+00, 2.37799031e+00,\n",
       "         1.27166613e-03, 2.15993793e-01, 1.30415084e+00, 5.03623683e-01,\n",
       "         8.43263243e-02, 1.53753204e-02],\n",
       "        [0.00000000e+00, 0.00000000e+00, 2.92339843e-02, 1.98970520e+00,\n",
       "         6.23095729e+00, 5.67356843e+00, 4.96325426e-01, 8.29593357e+00,\n",
       "         5.22140794e+00, 0.00000000e+00, 6.28264509e+00, 9.49914224e-02,\n",
       "         0.00000000e+00, 0.00000000e+00, 0.00000000e+00, 0.00000000e+00,\n",
       "         0.00000000e+00, 2.87381206e-01, 3.87609203e+00, 0.00000000e+00,\n",
       "         0.00000000e+00, 2.97362073e+00, 1.37904741e-03, 1.22202322e-03,\n",
       "         0.00000000e+00, 0.00000000e+00, 0.00000000e+00, 9.97153820e-06,\n",
       "         0.00000000e+00, 0.00000000e+00],\n",
       "        [0.00000000e+00, 0.00000000e+00, 0.00000000e+00, 2.29467562e-02,\n",
       "         2.30392216e-01, 4.96325426e-01, 1.14620901e+00, 8.79367123e-01,\n",
       "         2.12840996e-02, 0.00000000e+00, 2.95363860e-01, 0.00000000e+00,\n",
       "         0.00000000e+00, 0.00000000e+00, 0.00000000e+00, 0.00000000e+00,\n",
       "         0.00000000e+00, 0.00000000e+00, 5.91355804e-01, 0.00000000e+00,\n",
       "         0.00000000e+00, 1.39315587e-02, 0.00000000e+00, 0.00000000e+00,\n",
       "         0.00000000e+00, 0.00000000e+00, 0.00000000e+00, 0.00000000e+00,\n",
       "         0.00000000e+00, 0.00000000e+00],\n",
       "        [3.15912838e+00, 2.62583670e+02, 4.96150066e+02, 1.82205758e+02,\n",
       "         2.77608277e+01, 8.29593357e+00, 8.79367123e-01, 9.82043826e+02,\n",
       "         0.00000000e+00, 6.51224147e+00, 2.45229268e+01, 2.53939998e+01,\n",
       "         2.44111609e+01, 0.00000000e+00, 2.90653768e+02, 2.62874517e+01,\n",
       "         2.88964322e+02, 3.07352729e+01, 5.25426359e+01, 0.00000000e+00,\n",
       "         1.39659455e+01, 7.45448644e+00, 8.17386902e+01, 7.05962654e+00,\n",
       "         1.87266906e+01, 1.64597003e+01, 2.16695576e+01, 0.00000000e+00,\n",
       "         1.22136337e+01, 3.17226408e+01],\n",
       "        [6.43853139e+00, 2.33522044e+02, 4.49793671e+02, 1.96290471e+02,\n",
       "         3.07829370e+01, 5.22140794e+00, 2.12840996e-02, 0.00000000e+00,\n",
       "         9.23081071e+02, 3.73420575e+01, 2.55647138e+01, 2.41361979e+01,\n",
       "         1.36429655e+01, 3.61324471e+01, 2.00831052e+02, 2.85710454e+01,\n",
       "         1.97926471e+02, 1.89188098e+01, 5.21522000e+01, 2.80046377e+01,\n",
       "         2.32445658e+01, 8.28349997e+00, 8.57350973e+01, 3.85558085e+01,\n",
       "         2.07857250e+01, 2.56329684e+01, 6.25817329e+00, 2.81269664e+00,\n",
       "         2.00525183e+01, 2.74866951e+01],\n",
       "        [9.48382527e-01, 1.69336867e+01, 1.97689532e+01, 5.96812622e+00,\n",
       "         2.35150346e-01, 0.00000000e+00, 0.00000000e+00, 6.51224147e+00,\n",
       "         3.73420575e+01, 4.48488183e+01, 0.00000000e+00, 0.00000000e+00,\n",
       "         0.00000000e+00, 0.00000000e+00, 0.00000000e+00, 0.00000000e+00,\n",
       "         0.00000000e+00, 0.00000000e+00, 0.00000000e+00, 0.00000000e+00,\n",
       "         0.00000000e+00, 0.00000000e+00, 0.00000000e+00, 0.00000000e+00,\n",
       "         0.00000000e+00, 0.00000000e+00, 0.00000000e+00, 0.00000000e+00,\n",
       "         0.00000000e+00, 0.00000000e+00],\n",
       "        [8.89876279e-02, 9.64567580e+00, 1.66396677e+01, 7.26710414e+00,\n",
       "         9.86819641e+00, 6.28264509e+00, 2.95363860e-01, 2.45229268e+01,\n",
       "         2.55647138e+01, 0.00000000e+00, 5.11006155e+01, 0.00000000e+00,\n",
       "         0.00000000e+00, 0.00000000e+00, 0.00000000e+00, 0.00000000e+00,\n",
       "         0.00000000e+00, 0.00000000e+00, 0.00000000e+00, 0.00000000e+00,\n",
       "         0.00000000e+00, 0.00000000e+00, 0.00000000e+00, 0.00000000e+00,\n",
       "         0.00000000e+00, 0.00000000e+00, 0.00000000e+00, 0.00000000e+00,\n",
       "         0.00000000e+00, 0.00000000e+00],\n",
       "        [6.45122342e-04, 7.30871522e+00, 2.34622303e+01, 1.52357418e+01,\n",
       "         3.42787382e+00, 9.49914224e-02, 0.00000000e+00, 2.53939998e+01,\n",
       "         2.41361979e+01, 0.00000000e+00, 0.00000000e+00, 5.05328699e+01,\n",
       "         0.00000000e+00, 0.00000000e+00, 0.00000000e+00, 0.00000000e+00,\n",
       "         0.00000000e+00, 0.00000000e+00, 0.00000000e+00, 0.00000000e+00,\n",
       "         0.00000000e+00, 0.00000000e+00, 0.00000000e+00, 0.00000000e+00,\n",
       "         0.00000000e+00, 0.00000000e+00, 0.00000000e+00, 0.00000000e+00,\n",
       "         0.00000000e+00, 0.00000000e+00],\n",
       "        [5.71947557e-04, 4.67395450e+00, 2.01453115e+01, 1.27755428e+01,\n",
       "         4.58745652e-01, 0.00000000e+00, 0.00000000e+00, 2.44111609e+01,\n",
       "         1.36429655e+01, 0.00000000e+00, 0.00000000e+00, 0.00000000e+00,\n",
       "         3.90698062e+01, 0.00000000e+00, 0.00000000e+00, 0.00000000e+00,\n",
       "         0.00000000e+00, 0.00000000e+00, 0.00000000e+00, 0.00000000e+00,\n",
       "         0.00000000e+00, 0.00000000e+00, 0.00000000e+00, 0.00000000e+00,\n",
       "         0.00000000e+00, 0.00000000e+00, 0.00000000e+00, 0.00000000e+00,\n",
       "         0.00000000e+00, 0.00000000e+00],\n",
       "        [4.30870837e-02, 9.57494238e+00, 1.89462855e+01, 7.33277930e+00,\n",
       "         2.35352764e-01, 0.00000000e+00, 0.00000000e+00, 0.00000000e+00,\n",
       "         3.61324471e+01, 0.00000000e+00, 0.00000000e+00, 0.00000000e+00,\n",
       "         0.00000000e+00, 3.71241900e+01, 0.00000000e+00, 0.00000000e+00,\n",
       "         0.00000000e+00, 0.00000000e+00, 0.00000000e+00, 0.00000000e+00,\n",
       "         0.00000000e+00, 0.00000000e+00, 0.00000000e+00, 0.00000000e+00,\n",
       "         0.00000000e+00, 0.00000000e+00, 0.00000000e+00, 0.00000000e+00,\n",
       "         0.00000000e+00, 0.00000000e+00],\n",
       "        [1.03282316e+00, 1.58332946e+02, 2.68468111e+02, 6.36474225e+01,\n",
       "         3.51727525e-03, 0.00000000e+00, 0.00000000e+00, 2.90653768e+02,\n",
       "         2.00831052e+02, 0.00000000e+00, 0.00000000e+00, 0.00000000e+00,\n",
       "         0.00000000e+00, 0.00000000e+00, 4.92501791e+02, 0.00000000e+00,\n",
       "         0.00000000e+00, 0.00000000e+00, 0.00000000e+00, 0.00000000e+00,\n",
       "         0.00000000e+00, 0.00000000e+00, 0.00000000e+00, 0.00000000e+00,\n",
       "         0.00000000e+00, 0.00000000e+00, 0.00000000e+00, 0.00000000e+00,\n",
       "         0.00000000e+00, 0.00000000e+00],\n",
       "        [8.64554383e-06, 6.32613677e+00, 2.99778343e+01, 1.81095182e+01,\n",
       "         4.44999203e-01, 0.00000000e+00, 0.00000000e+00, 2.62874517e+01,\n",
       "         2.85710454e+01, 0.00000000e+00, 0.00000000e+00, 0.00000000e+00,\n",
       "         0.00000000e+00, 0.00000000e+00, 0.00000000e+00, 5.58696711e+01,\n",
       "         0.00000000e+00, 0.00000000e+00, 0.00000000e+00, 0.00000000e+00,\n",
       "         0.00000000e+00, 0.00000000e+00, 0.00000000e+00, 0.00000000e+00,\n",
       "         0.00000000e+00, 0.00000000e+00, 0.00000000e+00, 0.00000000e+00,\n",
       "         0.00000000e+00, 0.00000000e+00],\n",
       "        [1.53999485e+00, 1.64599662e+02, 2.60686949e+02, 6.00303380e+01,\n",
       "         3.38499604e-02, 0.00000000e+00, 0.00000000e+00, 2.88964322e+02,\n",
       "         1.97926471e+02, 0.00000000e+00, 0.00000000e+00, 0.00000000e+00,\n",
       "         0.00000000e+00, 0.00000000e+00, 0.00000000e+00, 0.00000000e+00,\n",
       "         4.87905033e+02, 0.00000000e+00, 0.00000000e+00, 0.00000000e+00,\n",
       "         0.00000000e+00, 0.00000000e+00, 0.00000000e+00, 0.00000000e+00,\n",
       "         0.00000000e+00, 0.00000000e+00, 0.00000000e+00, 0.00000000e+00,\n",
       "         0.00000000e+00, 0.00000000e+00],\n",
       "        [0.00000000e+00, 2.58351170e+00, 1.55701235e+01, 2.25300919e+01,\n",
       "         8.68297441e+00, 2.87381206e-01, 0.00000000e+00, 3.07352729e+01,\n",
       "         1.89188098e+01, 0.00000000e+00, 0.00000000e+00, 0.00000000e+00,\n",
       "         0.00000000e+00, 0.00000000e+00, 0.00000000e+00, 0.00000000e+00,\n",
       "         0.00000000e+00, 5.06686420e+01, 0.00000000e+00, 0.00000000e+00,\n",
       "         0.00000000e+00, 0.00000000e+00, 0.00000000e+00, 0.00000000e+00,\n",
       "         0.00000000e+00, 0.00000000e+00, 0.00000000e+00, 0.00000000e+00,\n",
       "         0.00000000e+00, 0.00000000e+00],\n",
       "        [3.53171493e-02, 9.68774037e+00, 3.17571310e+01, 4.08846068e+01,\n",
       "         1.78625927e+01, 3.87609203e+00, 5.91355804e-01, 5.25426359e+01,\n",
       "         5.21522000e+01, 0.00000000e+00, 0.00000000e+00, 0.00000000e+00,\n",
       "         0.00000000e+00, 0.00000000e+00, 0.00000000e+00, 0.00000000e+00,\n",
       "         0.00000000e+00, 0.00000000e+00, 1.05701261e+02, 0.00000000e+00,\n",
       "         0.00000000e+00, 0.00000000e+00, 0.00000000e+00, 0.00000000e+00,\n",
       "         0.00000000e+00, 0.00000000e+00, 0.00000000e+00, 0.00000000e+00,\n",
       "         0.00000000e+00, 0.00000000e+00],\n",
       "        [2.69662700e-02, 7.83103071e+00, 1.57682283e+01, 4.37565887e+00,\n",
       "         2.75355852e-03, 0.00000000e+00, 0.00000000e+00, 0.00000000e+00,\n",
       "         2.80046377e+01, 0.00000000e+00, 0.00000000e+00, 0.00000000e+00,\n",
       "         0.00000000e+00, 0.00000000e+00, 0.00000000e+00, 0.00000000e+00,\n",
       "         0.00000000e+00, 0.00000000e+00, 0.00000000e+00, 2.90132023e+01,\n",
       "         0.00000000e+00, 0.00000000e+00, 0.00000000e+00, 0.00000000e+00,\n",
       "         0.00000000e+00, 0.00000000e+00, 0.00000000e+00, 0.00000000e+00,\n",
       "         0.00000000e+00, 0.00000000e+00],\n",
       "        [7.90829597e-02, 1.21922121e+01, 2.00699168e+01, 4.86384102e+00,\n",
       "         5.45840846e-03, 0.00000000e+00, 0.00000000e+00, 1.39659455e+01,\n",
       "         2.32445658e+01, 0.00000000e+00, 0.00000000e+00, 0.00000000e+00,\n",
       "         0.00000000e+00, 0.00000000e+00, 0.00000000e+00, 0.00000000e+00,\n",
       "         0.00000000e+00, 0.00000000e+00, 0.00000000e+00, 0.00000000e+00,\n",
       "         3.82132579e+01, 0.00000000e+00, 0.00000000e+00, 0.00000000e+00,\n",
       "         0.00000000e+00, 0.00000000e+00, 0.00000000e+00, 0.00000000e+00,\n",
       "         0.00000000e+00, 0.00000000e+00],\n",
       "        [0.00000000e+00, 0.00000000e+00, 1.65115452e-02, 3.70855280e+00,\n",
       "         9.02536978e+00, 2.97362073e+00, 1.39315587e-02, 7.45448644e+00,\n",
       "         8.28349997e+00, 0.00000000e+00, 0.00000000e+00, 0.00000000e+00,\n",
       "         0.00000000e+00, 0.00000000e+00, 0.00000000e+00, 0.00000000e+00,\n",
       "         0.00000000e+00, 0.00000000e+00, 0.00000000e+00, 0.00000000e+00,\n",
       "         0.00000000e+00, 1.67495919e+01, 0.00000000e+00, 0.00000000e+00,\n",
       "         0.00000000e+00, 0.00000000e+00, 0.00000000e+00, 0.00000000e+00,\n",
       "         0.00000000e+00, 0.00000000e+00],\n",
       "        [5.77641158e+00, 4.55442080e+01, 7.29729583e+01, 3.94246321e+01,\n",
       "         3.75419851e+00, 1.37904741e-03, 0.00000000e+00, 8.17386902e+01,\n",
       "         8.57350973e+01, 0.00000000e+00, 0.00000000e+00, 0.00000000e+00,\n",
       "         0.00000000e+00, 0.00000000e+00, 0.00000000e+00, 0.00000000e+00,\n",
       "         0.00000000e+00, 0.00000000e+00, 0.00000000e+00, 0.00000000e+00,\n",
       "         0.00000000e+00, 0.00000000e+00, 1.68490535e+02, 0.00000000e+00,\n",
       "         0.00000000e+00, 0.00000000e+00, 0.00000000e+00, 0.00000000e+00,\n",
       "         0.00000000e+00, 0.00000000e+00],\n",
       "        [5.04914842e-03, 4.33762867e+00, 1.94314639e+01, 1.94620810e+01,\n",
       "         2.37799031e+00, 1.22202322e-03, 0.00000000e+00, 7.05962654e+00,\n",
       "         3.85558085e+01, 0.00000000e+00, 0.00000000e+00, 0.00000000e+00,\n",
       "         0.00000000e+00, 0.00000000e+00, 0.00000000e+00, 0.00000000e+00,\n",
       "         0.00000000e+00, 0.00000000e+00, 0.00000000e+00, 0.00000000e+00,\n",
       "         0.00000000e+00, 0.00000000e+00, 0.00000000e+00, 4.66318644e+01,\n",
       "         0.00000000e+00, 0.00000000e+00, 0.00000000e+00, 0.00000000e+00,\n",
       "         0.00000000e+00, 0.00000000e+00],\n",
       "        [2.17840641e-03, 9.87498153e+00, 2.29359606e+01, 6.69802333e+00,\n",
       "         1.27166613e-03, 0.00000000e+00, 0.00000000e+00, 1.87266906e+01,\n",
       "         2.07857250e+01, 0.00000000e+00, 0.00000000e+00, 0.00000000e+00,\n",
       "         0.00000000e+00, 0.00000000e+00, 0.00000000e+00, 0.00000000e+00,\n",
       "         0.00000000e+00, 0.00000000e+00, 0.00000000e+00, 0.00000000e+00,\n",
       "         0.00000000e+00, 0.00000000e+00, 0.00000000e+00, 0.00000000e+00,\n",
       "         4.05152108e+01, 0.00000000e+00, 0.00000000e+00, 0.00000000e+00,\n",
       "         0.00000000e+00, 0.00000000e+00],\n",
       "        [1.06801433e-02, 5.30131605e+00, 2.33843234e+01, 1.31803553e+01,\n",
       "         2.15993793e-01, 0.00000000e+00, 0.00000000e+00, 1.64597003e+01,\n",
       "         2.56329684e+01, 0.00000000e+00, 0.00000000e+00, 0.00000000e+00,\n",
       "         0.00000000e+00, 0.00000000e+00, 0.00000000e+00, 0.00000000e+00,\n",
       "         0.00000000e+00, 0.00000000e+00, 0.00000000e+00, 0.00000000e+00,\n",
       "         0.00000000e+00, 0.00000000e+00, 0.00000000e+00, 0.00000000e+00,\n",
       "         0.00000000e+00, 4.31084720e+01, 0.00000000e+00, 0.00000000e+00,\n",
       "         0.00000000e+00, 0.00000000e+00],\n",
       "        [5.48658720e-04, 3.47718344e+00, 1.22042814e+01, 1.09415665e+01,\n",
       "         1.30415084e+00, 0.00000000e+00, 0.00000000e+00, 2.16695576e+01,\n",
       "         6.25817329e+00, 0.00000000e+00, 0.00000000e+00, 0.00000000e+00,\n",
       "         0.00000000e+00, 0.00000000e+00, 0.00000000e+00, 0.00000000e+00,\n",
       "         0.00000000e+00, 0.00000000e+00, 0.00000000e+00, 0.00000000e+00,\n",
       "         0.00000000e+00, 0.00000000e+00, 0.00000000e+00, 0.00000000e+00,\n",
       "         0.00000000e+00, 0.00000000e+00, 2.89420030e+01, 0.00000000e+00,\n",
       "         0.00000000e+00, 0.00000000e+00],\n",
       "        [0.00000000e+00, 0.00000000e+00, 4.35559817e-01, 1.87350317e+00,\n",
       "         5.03623683e-01, 9.97153820e-06, 0.00000000e+00, 0.00000000e+00,\n",
       "         2.81269664e+00, 0.00000000e+00, 0.00000000e+00, 0.00000000e+00,\n",
       "         0.00000000e+00, 0.00000000e+00, 0.00000000e+00, 0.00000000e+00,\n",
       "         0.00000000e+00, 0.00000000e+00, 0.00000000e+00, 0.00000000e+00,\n",
       "         0.00000000e+00, 0.00000000e+00, 0.00000000e+00, 0.00000000e+00,\n",
       "         0.00000000e+00, 0.00000000e+00, 0.00000000e+00, 3.81768747e+00,\n",
       "         0.00000000e+00, 0.00000000e+00],\n",
       "        [1.46054324e-05, 5.78463829e+00, 1.85362504e+01, 7.86092243e+00,\n",
       "         8.43263243e-02, 0.00000000e+00, 0.00000000e+00, 1.22136337e+01,\n",
       "         2.00525183e+01, 0.00000000e+00, 0.00000000e+00, 0.00000000e+00,\n",
       "         0.00000000e+00, 0.00000000e+00, 0.00000000e+00, 0.00000000e+00,\n",
       "         0.00000000e+00, 0.00000000e+00, 0.00000000e+00, 0.00000000e+00,\n",
       "         0.00000000e+00, 0.00000000e+00, 0.00000000e+00, 0.00000000e+00,\n",
       "         0.00000000e+00, 0.00000000e+00, 0.00000000e+00, 0.00000000e+00,\n",
       "         3.32670695e+01, 0.00000000e+00],\n",
       "        [6.90988126e-03, 1.20955445e+01, 3.47656849e+01, 1.23258212e+01,\n",
       "         1.53753204e-02, 0.00000000e+00, 0.00000000e+00, 3.17226408e+01,\n",
       "         2.74866951e+01, 0.00000000e+00, 0.00000000e+00, 0.00000000e+00,\n",
       "         0.00000000e+00, 0.00000000e+00, 0.00000000e+00, 0.00000000e+00,\n",
       "         0.00000000e+00, 0.00000000e+00, 0.00000000e+00, 0.00000000e+00,\n",
       "         0.00000000e+00, 0.00000000e+00, 0.00000000e+00, 0.00000000e+00,\n",
       "         0.00000000e+00, 0.00000000e+00, 0.00000000e+00, 0.00000000e+00,\n",
       "         0.00000000e+00, 6.03183407e+01]]),\n",
       " 'dnlZ': None,\n",
       " 'ys': None,\n",
       " 's2': None,\n",
       " 'warp': <pcntoolkit.regression_model.blr.warp.WarpSinhArcsinh at 0x31bed31d0>,\n",
       " 'warp_reparam': True,\n",
       " 'warp_params': 2,\n",
       " 'n_gamma': 2}"
      ]
     },
     "execution_count": 9,
     "metadata": {},
     "output_type": "execute_result"
    }
   ],
   "source": [
    "single_hbr_model = fitted_model.regression_models.get(\"rh_MeanThickness_thickness\")  # type: ignore\n",
    "single_hbr_model.__dict__"
   ]
  },
  {
   "cell_type": "markdown",
   "metadata": {},
   "source": [
    "## Evaluation\n",
    "Calling `predict` will extend the predict_data object with a number of useful arrays.\n",
    "1. `measures`: DataArray, which contains a number of evaluation statistics. \n",
    "1. `zscores`: the predicted z-scores for each datapoint.  \n",
    "1. `centiles`: the predicted centiles of variation evaluated at each covariate in the dataset. \n"
   ]
  },
  {
   "cell_type": "code",
   "execution_count": 11,
   "metadata": {},
   "outputs": [
    {
     "name": "stderr",
     "output_type": "stream",
     "text": [
      "/opt/anaconda3/envs/dev_refactor_2/lib/python3.12/site-packages/sklearn/model_selection/_split.py:805: UserWarning: The least populated class in y has only 1 members, which is less than n_splits=3.\n",
      "  warnings.warn(\n",
      "/opt/anaconda3/envs/dev_refactor_2/lib/python3.12/site-packages/sklearn/model_selection/_split.py:805: UserWarning: The least populated class in y has only 1 members, which is less than n_splits=3.\n",
      "  warnings.warn(\n"
     ]
    },
    {
     "name": "stdout",
     "output_type": "stream",
     "text": [
      "Configuration of normative model is valid.\n",
      "Configuration of normative model is valid.\n",
      "Configuration of regression model is valid.\n",
      "Configuration of regression model is valid.\n",
      "Configuration of regression model is valid.\n",
      "Configuration of regression model is valid.\n",
      "Configuration of normative model is valid.\n",
      "Configuration of normative model is valid.\n",
      "Configuration of regression model is valid.\n",
      "Configuration of regression model is valid.\n",
      "Configuration of regression model is valid.\n",
      "Configuration of regression model is valid.\n",
      "Process: 47486 - Predicting 1 response variables\n",
      "Process: 47486 - Predicting rh_MeanThickness_thickness\n",
      "Process: 47485 - Predicting 1 response variables\n",
      "Process: 47485 - Predicting WM-hypointensities\n",
      "Process: 47486 - Computing logp for 1 response variables\n",
      "Process: 47486 - Computing logp for rh_MeanThickness_thickness\n",
      "Process: 47485 - Computing logp for 1 response variables\n",
      "Process: 47485 - Computing logp for WM-hypointensities\n",
      "Process: 47486 - Computing zscores for 1 response variables\n",
      "Process: 47486 - Computing zscores for rh_MeanThickness_thickness\n",
      "Process: 47485 - Computing zscores for 1 response variables\n",
      "Process: 47485 - Computing zscores for WM-hypointensities\n",
      "Process: 47486 - Computing centiles for 1 response variables\n",
      "Process: 47486 - Computing centiles for rh_MeanThickness_thickness\n",
      "Process: 47485 - Computing centiles for 1 response variables\n",
      "Process: 47485 - Computing centiles for WM-hypointensities\n",
      "Process: 47486 - Computing centiles for 1 response variables\n",
      "Process: 47486 - Computing centiles for rh_MeanThickness_thickness\n",
      "Process: 47485 - Computing centiles for 1 response variables\n",
      "Process: 47485 - Computing centiles for WM-hypointensities\n",
      "Results and plots saved to /Users/stijndeboer/Projects/PCN/PCNtoolkit/example_notebooks/resources/blr/save_dir/folds/fold_0/results and /Users/stijndeboer/Projects/PCN/PCNtoolkit/example_notebooks/resources/blr/save_dir/folds/fold_0/plots\n",
      "Results and plots saved to /Users/stijndeboer/Projects/PCN/PCNtoolkit/example_notebooks/resources/blr/save_dir/folds/fold_0/results and /Users/stijndeboer/Projects/PCN/PCNtoolkit/example_notebooks/resources/blr/save_dir/folds/fold_0/plots\n",
      "Model saved to /Users/stijndeboer/Projects/PCN/PCNtoolkit/example_notebooks/resources/blr/save_dir/folds/fold_0/model\n",
      "Configuration of normative model is valid.\n",
      "Configuration of normative model is valid.\n",
      "Configuration of regression model is valid.\n",
      "Configuration of regression model is valid.\n",
      "Configuration of regression model is valid.\n",
      "Configuration of regression model is valid.\n",
      "Model saved to /Users/stijndeboer/Projects/PCN/PCNtoolkit/example_notebooks/resources/blr/save_dir/folds/fold_0/model\n",
      "Configuration of normative model is valid.\n",
      "Configuration of normative model is valid.\n",
      "Configuration of regression model is valid.\n",
      "Configuration of regression model is valid.\n",
      "Configuration of regression model is valid.\n",
      "Configuration of regression model is valid.\n",
      "Process: 47486 - Predicting 1 response variables\n",
      "Process: 47486 - Predicting rh_MeanThickness_thickness\n",
      "Process: 47485 - Predicting 1 response variables\n",
      "Process: 47485 - Predicting WM-hypointensities\n",
      "Process: 47485 - Computing logp for 1 response variables\n",
      "Process: 47485 - Computing logp for WM-hypointensities\n",
      "Process: 47486 - Computing logp for 1 response variables\n",
      "Process: 47486 - Computing logp for rh_MeanThickness_thickness\n",
      "Process: 47485 - Computing zscores for 1 response variables\n",
      "Process: 47485 - Computing zscores for WM-hypointensities\n",
      "Process: 47486 - Computing zscores for 1 response variables\n",
      "Process: 47486 - Computing zscores for rh_MeanThickness_thickness\n",
      "Process: 47485 - Computing centiles for 1 response variables\n",
      "Process: 47485 - Computing centiles for WM-hypointensities\n",
      "Process: 47486 - Computing centiles for 1 response variables\n",
      "Process: 47486 - Computing centiles for rh_MeanThickness_thickness\n",
      "Process: 47485 - Computing centiles for 1 response variables\n",
      "Process: 47485 - Computing centiles for WM-hypointensities\n",
      "Process: 47486 - Computing centiles for 1 response variables\n",
      "Process: 47486 - Computing centiles for rh_MeanThickness_thickness\n",
      "Results and plots saved to /Users/stijndeboer/Projects/PCN/PCNtoolkit/example_notebooks/resources/blr/save_dir/folds/fold_1/results and /Users/stijndeboer/Projects/PCN/PCNtoolkit/example_notebooks/resources/blr/save_dir/folds/fold_1/plots\n",
      "Model saved to /Users/stijndeboer/Projects/PCN/PCNtoolkit/example_notebooks/resources/blr/save_dir/folds/fold_1/model\n",
      "Configuration of normative model is valid.\n",
      "Configuration of normative model is valid.\n",
      "Configuration of regression model is valid.\n",
      "Configuration of regression model is valid.\n",
      "Configuration of regression model is valid.\n",
      "Configuration of regression model is valid.\n",
      "Process: 47486 - Predicting 1 response variables\n",
      "Process: 47486 - Predicting rh_MeanThickness_thickness\n",
      "Process: 47486 - Computing logp for 1 response variables\n",
      "Process: 47486 - Computing logp for rh_MeanThickness_thickness\n",
      "Results and plots saved to /Users/stijndeboer/Projects/PCN/PCNtoolkit/example_notebooks/resources/blr/save_dir/folds/fold_1/results and /Users/stijndeboer/Projects/PCN/PCNtoolkit/example_notebooks/resources/blr/save_dir/folds/fold_1/plots\n",
      "Process: 47486 - Computing zscores for 1 response variables\n",
      "Process: 47486 - Computing zscores for rh_MeanThickness_thickness\n",
      "Model saved to /Users/stijndeboer/Projects/PCN/PCNtoolkit/example_notebooks/resources/blr/save_dir/folds/fold_1/model\n",
      "Configuration of normative model is valid.\n",
      "Configuration of normative model is valid.\n",
      "Configuration of regression model is valid.\n",
      "Configuration of regression model is valid.\n",
      "Configuration of regression model is valid.\n",
      "Configuration of regression model is valid.\n",
      "Process: 47486 - Computing centiles for 1 response variables\n",
      "Process: 47486 - Computing centiles for rh_MeanThickness_thickness\n",
      "Process: 47485 - Predicting 1 response variables\n",
      "Process: 47485 - Predicting WM-hypointensities\n",
      "Process: 47485 - Computing logp for 1 response variables\n",
      "Process: 47485 - Computing logp for WM-hypointensities\n",
      "Process: 47485 - Computing zscores for 1 response variables\n",
      "Process: 47485 - Computing zscores for WM-hypointensities\n",
      "Process: 47485 - Computing centiles for 1 response variables\n",
      "Process: 47485 - Computing centiles for WM-hypointensities\n",
      "Process: 47486 - Computing centiles for 1 response variables\n",
      "Process: 47486 - Computing centiles for rh_MeanThickness_thickness\n",
      "Process: 47485 - Computing centiles for 1 response variables\n",
      "Process: 47485 - Computing centiles for WM-hypointensities\n",
      "Results and plots saved to /Users/stijndeboer/Projects/PCN/PCNtoolkit/example_notebooks/resources/blr/save_dir/folds/fold_2/results and /Users/stijndeboer/Projects/PCN/PCNtoolkit/example_notebooks/resources/blr/save_dir/folds/fold_2/plots\n",
      "Results and plots saved to /Users/stijndeboer/Projects/PCN/PCNtoolkit/example_notebooks/resources/blr/save_dir/folds/fold_2/results and /Users/stijndeboer/Projects/PCN/PCNtoolkit/example_notebooks/resources/blr/save_dir/folds/fold_2/plots\n",
      "Model saved to /Users/stijndeboer/Projects/PCN/PCNtoolkit/example_notebooks/resources/blr/save_dir/folds/fold_2/model\n",
      "Model saved to /Users/stijndeboer/Projects/PCN/PCNtoolkit/example_notebooks/resources/blr/save_dir/folds/fold_2/model\n",
      "\n",
      "All jobs completed!\n"
     ]
    }
   ],
   "source": [
    "runner.predict(new_model, test)\n",
    "# display(test.measures.to_pandas().T.round(4))"
   ]
  },
  {
   "cell_type": "markdown",
   "metadata": {},
   "source": [
    "Datasets with a zscores DataArray will have the `.plot_qq()` function available:"
   ]
  },
  {
   "cell_type": "code",
   "execution_count": 27,
   "metadata": {},
   "outputs": [
    {
     "data": {
      "text/html": [
       "<div>\n",
       "<style scoped>\n",
       "    .dataframe tbody tr th:only-of-type {\n",
       "        vertical-align: middle;\n",
       "    }\n",
       "\n",
       "    .dataframe tbody tr th {\n",
       "        vertical-align: top;\n",
       "    }\n",
       "\n",
       "    .dataframe thead th {\n",
       "        text-align: right;\n",
       "    }\n",
       "</style>\n",
       "<table border=\"1\" class=\"dataframe\">\n",
       "  <thead>\n",
       "    <tr style=\"text-align: right;\">\n",
       "      <th>response_vars</th>\n",
       "      <th>rh_MeanThickness_thickness</th>\n",
       "      <th>WM-hypointensities</th>\n",
       "    </tr>\n",
       "    <tr>\n",
       "      <th>datapoints</th>\n",
       "      <th></th>\n",
       "      <th></th>\n",
       "    </tr>\n",
       "  </thead>\n",
       "  <tbody>\n",
       "    <tr>\n",
       "      <th>515</th>\n",
       "      <td>-1.506554</td>\n",
       "      <td>-0.290508</td>\n",
       "    </tr>\n",
       "    <tr>\n",
       "      <th>441</th>\n",
       "      <td>-1.025062</td>\n",
       "      <td>-0.540728</td>\n",
       "    </tr>\n",
       "    <tr>\n",
       "      <th>1029</th>\n",
       "      <td>1.232011</td>\n",
       "      <td>1.066606</td>\n",
       "    </tr>\n",
       "    <tr>\n",
       "      <th>64</th>\n",
       "      <td>-2.273727</td>\n",
       "      <td>0.538423</td>\n",
       "    </tr>\n",
       "    <tr>\n",
       "      <th>654</th>\n",
       "      <td>0.993641</td>\n",
       "      <td>-1.938914</td>\n",
       "    </tr>\n",
       "    <tr>\n",
       "      <th>...</th>\n",
       "      <td>...</td>\n",
       "      <td>...</td>\n",
       "    </tr>\n",
       "    <tr>\n",
       "      <th>611</th>\n",
       "      <td>-1.367943</td>\n",
       "      <td>2.362957</td>\n",
       "    </tr>\n",
       "    <tr>\n",
       "      <th>549</th>\n",
       "      <td>-1.389841</td>\n",
       "      <td>2.429967</td>\n",
       "    </tr>\n",
       "    <tr>\n",
       "      <th>640</th>\n",
       "      <td>0.208957</td>\n",
       "      <td>-2.052433</td>\n",
       "    </tr>\n",
       "    <tr>\n",
       "      <th>648</th>\n",
       "      <td>1.732065</td>\n",
       "      <td>0.272723</td>\n",
       "    </tr>\n",
       "    <tr>\n",
       "      <th>635</th>\n",
       "      <td>0.097155</td>\n",
       "      <td>-1.696455</td>\n",
       "    </tr>\n",
       "  </tbody>\n",
       "</table>\n",
       "<p>186 rows × 2 columns</p>\n",
       "</div>"
      ],
      "text/plain": [
       "response_vars  rh_MeanThickness_thickness  WM-hypointensities\n",
       "datapoints                                                   \n",
       "515                             -1.506554           -0.290508\n",
       "441                             -1.025062           -0.540728\n",
       "1029                             1.232011            1.066606\n",
       "64                              -2.273727            0.538423\n",
       "654                              0.993641           -1.938914\n",
       "...                                   ...                 ...\n",
       "611                             -1.367943            2.362957\n",
       "549                             -1.389841            2.429967\n",
       "640                              0.208957           -2.052433\n",
       "648                              1.732065            0.272723\n",
       "635                              0.097155           -1.696455\n",
       "\n",
       "[186 rows x 2 columns]"
      ]
     },
     "metadata": {},
     "output_type": "display_data"
    }
   ],
   "source": [
    "display(test.zscores.to_pandas())  # the zscores"
   ]
  },
  {
   "cell_type": "code",
   "execution_count": 30,
   "metadata": {},
   "outputs": [
    {
     "data": {
      "text/html": [
       "<div>\n",
       "<style scoped>\n",
       "    .dataframe tbody tr th:only-of-type {\n",
       "        vertical-align: middle;\n",
       "    }\n",
       "\n",
       "    .dataframe tbody tr th {\n",
       "        vertical-align: top;\n",
       "    }\n",
       "\n",
       "    .dataframe thead tr th {\n",
       "        text-align: left;\n",
       "    }\n",
       "\n",
       "    .dataframe thead tr:last-of-type th {\n",
       "        text-align: right;\n",
       "    }\n",
       "</style>\n",
       "<table border=\"1\" class=\"dataframe\">\n",
       "  <thead>\n",
       "    <tr>\n",
       "      <th></th>\n",
       "      <th colspan=\"10\" halign=\"left\">centiles</th>\n",
       "    </tr>\n",
       "    <tr>\n",
       "      <th>response_vars</th>\n",
       "      <th>rh_MeanThickness_thickness</th>\n",
       "      <th>WM-hypointensities</th>\n",
       "      <th>rh_MeanThickness_thickness</th>\n",
       "      <th>WM-hypointensities</th>\n",
       "      <th>rh_MeanThickness_thickness</th>\n",
       "      <th>WM-hypointensities</th>\n",
       "      <th>rh_MeanThickness_thickness</th>\n",
       "      <th>WM-hypointensities</th>\n",
       "      <th>rh_MeanThickness_thickness</th>\n",
       "      <th>WM-hypointensities</th>\n",
       "    </tr>\n",
       "    <tr>\n",
       "      <th>cdf</th>\n",
       "      <th>0.05</th>\n",
       "      <th>0.05</th>\n",
       "      <th>0.25</th>\n",
       "      <th>0.25</th>\n",
       "      <th>0.50</th>\n",
       "      <th>0.50</th>\n",
       "      <th>0.75</th>\n",
       "      <th>0.75</th>\n",
       "      <th>0.95</th>\n",
       "      <th>0.95</th>\n",
       "    </tr>\n",
       "    <tr>\n",
       "      <th>datapoints</th>\n",
       "      <th></th>\n",
       "      <th></th>\n",
       "      <th></th>\n",
       "      <th></th>\n",
       "      <th></th>\n",
       "      <th></th>\n",
       "      <th></th>\n",
       "      <th></th>\n",
       "      <th></th>\n",
       "      <th></th>\n",
       "    </tr>\n",
       "  </thead>\n",
       "  <tbody>\n",
       "    <tr>\n",
       "      <th>515</th>\n",
       "      <td>2.470503</td>\n",
       "      <td>883.688014</td>\n",
       "      <td>2.507401</td>\n",
       "      <td>1068.627718</td>\n",
       "      <td>2.534719</td>\n",
       "      <td>1206.905243</td>\n",
       "      <td>2.564717</td>\n",
       "      <td>1359.088596</td>\n",
       "      <td>2.614525</td>\n",
       "      <td>1620.583736</td>\n",
       "    </tr>\n",
       "    <tr>\n",
       "      <th>441</th>\n",
       "      <td>2.462070</td>\n",
       "      <td>1001.447154</td>\n",
       "      <td>2.495822</td>\n",
       "      <td>1182.720133</td>\n",
       "      <td>2.520177</td>\n",
       "      <td>1321.520975</td>\n",
       "      <td>2.546314</td>\n",
       "      <td>1477.726120</td>\n",
       "      <td>2.588731</td>\n",
       "      <td>1753.524278</td>\n",
       "    </tr>\n",
       "    <tr>\n",
       "      <th>1029</th>\n",
       "      <td>2.516924</td>\n",
       "      <td>608.427493</td>\n",
       "      <td>2.561683</td>\n",
       "      <td>820.865525</td>\n",
       "      <td>2.597623</td>\n",
       "      <td>973.233152</td>\n",
       "      <td>2.638686</td>\n",
       "      <td>1134.294409</td>\n",
       "      <td>2.708071</td>\n",
       "      <td>1397.291625</td>\n",
       "    </tr>\n",
       "    <tr>\n",
       "      <th>64</th>\n",
       "      <td>2.380638</td>\n",
       "      <td>568.347518</td>\n",
       "      <td>2.421003</td>\n",
       "      <td>775.677981</td>\n",
       "      <td>2.446831</td>\n",
       "      <td>923.251693</td>\n",
       "      <td>2.471668</td>\n",
       "      <td>1077.548223</td>\n",
       "      <td>2.507561</td>\n",
       "      <td>1323.898992</td>\n",
       "    </tr>\n",
       "    <tr>\n",
       "      <th>654</th>\n",
       "      <td>2.388134</td>\n",
       "      <td>644.021266</td>\n",
       "      <td>2.439190</td>\n",
       "      <td>976.132115</td>\n",
       "      <td>2.471841</td>\n",
       "      <td>1230.486907</td>\n",
       "      <td>2.504411</td>\n",
       "      <td>1539.873367</td>\n",
       "      <td>2.555870</td>\n",
       "      <td>2259.061197</td>\n",
       "    </tr>\n",
       "    <tr>\n",
       "      <th>...</th>\n",
       "      <td>...</td>\n",
       "      <td>...</td>\n",
       "      <td>...</td>\n",
       "      <td>...</td>\n",
       "      <td>...</td>\n",
       "      <td>...</td>\n",
       "      <td>...</td>\n",
       "      <td>...</td>\n",
       "      <td>...</td>\n",
       "      <td>...</td>\n",
       "    </tr>\n",
       "    <tr>\n",
       "      <th>611</th>\n",
       "      <td>2.409486</td>\n",
       "      <td>758.976592</td>\n",
       "      <td>2.455074</td>\n",
       "      <td>1078.151752</td>\n",
       "      <td>2.485230</td>\n",
       "      <td>1330.983220</td>\n",
       "      <td>2.516146</td>\n",
       "      <td>1649.610206</td>\n",
       "      <td>2.565850</td>\n",
       "      <td>2410.830506</td>\n",
       "    </tr>\n",
       "    <tr>\n",
       "      <th>549</th>\n",
       "      <td>2.243973</td>\n",
       "      <td>720.873864</td>\n",
       "      <td>2.322656</td>\n",
       "      <td>1010.530705</td>\n",
       "      <td>2.369673</td>\n",
       "      <td>1231.976686</td>\n",
       "      <td>2.411255</td>\n",
       "      <td>1493.949225</td>\n",
       "      <td>2.464508</td>\n",
       "      <td>2045.831531</td>\n",
       "    </tr>\n",
       "    <tr>\n",
       "      <th>640</th>\n",
       "      <td>2.292612</td>\n",
       "      <td>923.560157</td>\n",
       "      <td>2.368423</td>\n",
       "      <td>1335.534035</td>\n",
       "      <td>2.413201</td>\n",
       "      <td>1725.618422</td>\n",
       "      <td>2.453394</td>\n",
       "      <td>2363.847559</td>\n",
       "      <td>2.509008</td>\n",
       "      <td>4378.359554</td>\n",
       "    </tr>\n",
       "    <tr>\n",
       "      <th>648</th>\n",
       "      <td>2.430377</td>\n",
       "      <td>736.168294</td>\n",
       "      <td>2.468552</td>\n",
       "      <td>1011.417170</td>\n",
       "      <td>2.494640</td>\n",
       "      <td>1220.892549</td>\n",
       "      <td>2.521742</td>\n",
       "      <td>1465.373810</td>\n",
       "      <td>2.565022</td>\n",
       "      <td>1961.532777</td>\n",
       "    </tr>\n",
       "    <tr>\n",
       "      <th>635</th>\n",
       "      <td>2.551923</td>\n",
       "      <td>533.294707</td>\n",
       "      <td>2.600413</td>\n",
       "      <td>779.332451</td>\n",
       "      <td>2.639689</td>\n",
       "      <td>955.324673</td>\n",
       "      <td>2.684227</td>\n",
       "      <td>1142.334342</td>\n",
       "      <td>2.758240</td>\n",
       "      <td>1456.188531</td>\n",
       "    </tr>\n",
       "  </tbody>\n",
       "</table>\n",
       "<p>186 rows × 10 columns</p>\n",
       "</div>"
      ],
      "text/plain": [
       "                                centiles                     \\\n",
       "response_vars rh_MeanThickness_thickness WM-hypointensities   \n",
       "cdf                                 0.05               0.05   \n",
       "datapoints                                                    \n",
       "515                             2.470503         883.688014   \n",
       "441                             2.462070        1001.447154   \n",
       "1029                            2.516924         608.427493   \n",
       "64                              2.380638         568.347518   \n",
       "654                             2.388134         644.021266   \n",
       "...                                  ...                ...   \n",
       "611                             2.409486         758.976592   \n",
       "549                             2.243973         720.873864   \n",
       "640                             2.292612         923.560157   \n",
       "648                             2.430377         736.168294   \n",
       "635                             2.551923         533.294707   \n",
       "\n",
       "                                                             \\\n",
       "response_vars rh_MeanThickness_thickness WM-hypointensities   \n",
       "cdf                                 0.25               0.25   \n",
       "datapoints                                                    \n",
       "515                             2.507401        1068.627718   \n",
       "441                             2.495822        1182.720133   \n",
       "1029                            2.561683         820.865525   \n",
       "64                              2.421003         775.677981   \n",
       "654                             2.439190         976.132115   \n",
       "...                                  ...                ...   \n",
       "611                             2.455074        1078.151752   \n",
       "549                             2.322656        1010.530705   \n",
       "640                             2.368423        1335.534035   \n",
       "648                             2.468552        1011.417170   \n",
       "635                             2.600413         779.332451   \n",
       "\n",
       "                                                             \\\n",
       "response_vars rh_MeanThickness_thickness WM-hypointensities   \n",
       "cdf                                 0.50               0.50   \n",
       "datapoints                                                    \n",
       "515                             2.534719        1206.905243   \n",
       "441                             2.520177        1321.520975   \n",
       "1029                            2.597623         973.233152   \n",
       "64                              2.446831         923.251693   \n",
       "654                             2.471841        1230.486907   \n",
       "...                                  ...                ...   \n",
       "611                             2.485230        1330.983220   \n",
       "549                             2.369673        1231.976686   \n",
       "640                             2.413201        1725.618422   \n",
       "648                             2.494640        1220.892549   \n",
       "635                             2.639689         955.324673   \n",
       "\n",
       "                                                             \\\n",
       "response_vars rh_MeanThickness_thickness WM-hypointensities   \n",
       "cdf                                 0.75               0.75   \n",
       "datapoints                                                    \n",
       "515                             2.564717        1359.088596   \n",
       "441                             2.546314        1477.726120   \n",
       "1029                            2.638686        1134.294409   \n",
       "64                              2.471668        1077.548223   \n",
       "654                             2.504411        1539.873367   \n",
       "...                                  ...                ...   \n",
       "611                             2.516146        1649.610206   \n",
       "549                             2.411255        1493.949225   \n",
       "640                             2.453394        2363.847559   \n",
       "648                             2.521742        1465.373810   \n",
       "635                             2.684227        1142.334342   \n",
       "\n",
       "                                                             \n",
       "response_vars rh_MeanThickness_thickness WM-hypointensities  \n",
       "cdf                                 0.95               0.95  \n",
       "datapoints                                                   \n",
       "515                             2.614525        1620.583736  \n",
       "441                             2.588731        1753.524278  \n",
       "1029                            2.708071        1397.291625  \n",
       "64                              2.507561        1323.898992  \n",
       "654                             2.555870        2259.061197  \n",
       "...                                  ...                ...  \n",
       "611                             2.565850        2410.830506  \n",
       "549                             2.464508        2045.831531  \n",
       "640                             2.509008        4378.359554  \n",
       "648                             2.565022        1961.532777  \n",
       "635                             2.758240        1456.188531  \n",
       "\n",
       "[186 rows x 10 columns]"
      ]
     },
     "metadata": {},
     "output_type": "display_data"
    }
   ],
   "source": [
    "display(test.centiles.to_dataframe().unstack(level=[\"response_vars\", \"cdf\"]))"
   ]
  },
  {
   "cell_type": "code",
   "execution_count": 31,
   "metadata": {},
   "outputs": [
    {
     "data": {
      "image/png": "[encoded data removed]",
      "text/plain": [
       "<Figure size 640x480 with 1 Axes>"
      ]
     },
     "metadata": {},
     "output_type": "display_data"
    },
    {
     "data": {
      "image/png": "[encoded data removed]",
      "text/plain": [
       "<Figure size 640x480 with 1 Axes>"
      ]
     },
     "metadata": {},
     "output_type": "display_data"
    }
   ],
   "source": [
    "plot_qq(test)"
   ]
  },
  {
   "cell_type": "markdown",
   "metadata": {},
   "source": [
    "And `plot_centiles()` can be called as a function of the model. A synthetic dataset is created internally, so we need to pass the original dataset (`train` in this case) as a template. We also need to pass which covariate is to be plotted on the x-axis, and the batch-effects for which the centiles are to be plotted. \n",
    "\n",
    "The lines correspond to the CDF values of: [0.05, 0.25, 0.5, 0.75, 0.95]. It is also possible to pass a list of CDF values to plot.\n",
    "\n",
    "It may seem strange that the centiles do not match the plotted data, but that is because the centiles are calculated for a single batch effect, and it is superimposed on the full dataset. The blue markers correspond to the data for which the centiles are calculated. "
   ]
  },
  {
   "cell_type": "code",
   "execution_count": 32,
   "metadata": {},
   "outputs": [
    {
     "name": "stdout",
     "output_type": "stream",
     "text": [
      "Computing centiles for rh_MeanThickness_thickness\n",
      "Computing centiles for WM-hypointensities\n"
     ]
    },
    {
     "data": {
      "image/png": "[encoded data removed]",
      "text/plain": [
       "<Figure size 640x480 with 1 Axes>"
      ]
     },
     "metadata": {},
     "output_type": "display_data"
    },
    {
     "data": {
      "image/png": "[encoded data removed]",
      "text/plain": [
       "<Figure size 640x480 with 1 Axes>"
      ]
     },
     "metadata": {},
     "output_type": "display_data"
    }
   ],
   "source": [
    "plot_centiles(\n",
    "    fitted_model,\n",
    "    train,\n",
    "    covariate=\"age\",\n",
    "    show_data=True,\n",
    "    hue_data=\"sex\",\n",
    "    markers_data=\"site\",\n",
    ")"
   ]
  },
  {
   "cell_type": "markdown",
   "metadata": {},
   "source": [
    "The values of 0.1587 and 0.8413 correspond to a standard deviation of -1 and 1. We plot the centiles again for these values, and we also highlight a specific site. \n"
   ]
  },
  {
   "cell_type": "code",
   "execution_count": 34,
   "metadata": {},
   "outputs": [
    {
     "name": "stdout",
     "output_type": "stream",
     "text": [
      "Computing centiles for rh_MeanThickness_thickness\n",
      "Computing centiles for WM-hypointensities\n"
     ]
    },
    {
     "data": {
      "image/png": "[encoded data removed]",
      "text/plain": [
       "<Figure size 640x480 with 1 Axes>"
      ]
     },
     "metadata": {},
     "output_type": "display_data"
    },
    {
     "data": {
      "image/png": "[encoded data removed]",
      "text/plain": [
       "<Figure size 640x480 with 1 Axes>"
      ]
     },
     "metadata": {},
     "output_type": "display_data"
    }
   ],
   "source": [
    "plot_centiles(\n",
    "    fitted_model,\n",
    "    train,\n",
    "    covariate=\"age\",\n",
    "    centiles=[0.1587, 0.8413],\n",
    "    show_data=True,\n",
    "    batch_effects={\"site\": [\"Beijing_Zang\"]},\n",
    ")"
   ]
  },
  {
   "cell_type": "markdown",
   "metadata": {},
   "source": [
    "# Transfering with the runner\n",
    "\n",
    "The runner can also be used to transfer or extenda model to a new dataset. This is done by calling `transfer` on the runner object. This will transfer the model to the new dataset, and save the transfered model in the save directory.\n",
    "\n",
    "runner.transfer(transfer_train, transfer_test)\n",
    "\n",
    "Let's first fit an HBR model, and then transfer it to the transfer dataset.\n",
    "\n"
   ]
  },
  {
   "cell_type": "code",
   "execution_count": 10,
   "metadata": {},
   "outputs": [
    {
     "name": "stdout",
     "output_type": "stream",
     "text": [
      "Job Status Monitor:\n",
      "------------------------------------------------------------\n",
      "Job ID     Name     State     Time     Nodes\n",
      "------------------------------------------------------------\n",
      "\n",
      "All jobs completed!\n"
     ]
    }
   ],
   "source": [
    "from pcntoolkit.regression_model.hbr.prior import make_prior\n",
    "\n",
    "\n",
    "mu = make_prior(\n",
    "    name=\"mu\",\n",
    "    linear=True,\n",
    "    slope=make_prior(dist_name=\"Normal\", dist_params=(0.0, 5.0)),\n",
    "    intercept=make_prior(\n",
    "        random=True,\n",
    "        sigma=make_prior(dist_name=\"HalfNormal\", dist_params=(1.0,)),\n",
    "        mu=make_prior(dist_name=\"Normal\", dist_params=(0.0, 0.5)),\n",
    "    ),\n",
    ")\n",
    "sigma = make_prior(\n",
    "    name=\"sigma\",\n",
    "    linear=True,\n",
    "    slope=make_prior(dist_name=\"Normal\", dist_params=(0.0, 3.0)),\n",
    "    intercept=make_prior(\n",
    "        dist_name=\"Normal\",\n",
    "        dist_params=(\n",
    "            1.0,\n",
    "            1.0,\n",
    "        ),\n",
    "    ),\n",
    "    mapping=\"softplus\",\n",
    "    mapping_params=(0.0, 3.0),\n",
    ")\n",
    "\n",
    "# Configure the HBRConf object\n",
    "hbr_conf = HBRConf(\n",
    "    draws=2048,\n",
    "    tune=512,\n",
    "    chains=4,\n",
    "    pymc_cores=16,\n",
    "    likelihood=\"Normal\",\n",
    "    mu=mu,\n",
    "    sigma=sigma,\n",
    "    nuts_sampler=\"nutpie\",\n",
    ")\n",
    "save_dir = \"resources/hbr_transfer_runner/save_dir\"\n",
    "\n",
    "norm_conf = NormConf(\n",
    "    savemodel=True,\n",
    "    saveresults=True,\n",
    "    save_dir=\"resources/hbr_transfer_runner/save_dir\",\n",
    "    inscaler=\"standardize\",\n",
    "    outscaler=\"standardize\",\n",
    "    basis_function=\"bspline\",\n",
    "    basis_function_kwargs={\"order\": 3, \"nknots\": 5},\n",
    ")\n",
    "\n",
    "new_hbr_model = NormHBR(norm_conf=norm_conf, reg_conf=hbr_conf)\n",
    "runner = Runner(\n",
    "    cross_validate=False,\n",
    "    cv_folds=3,\n",
    "    parallelize=True,\n",
    "    time_limit=\"00:15:00\",\n",
    "    job_type=\"slurm\",  # or \"slurm\" if you are on a slurm cluster\n",
    "    n_jobs=2,\n",
    "    log_dir=\"resources/hbr_transfer_runner/log_dir\",\n",
    "    temp_dir=\"resources/hbr_transfer_runner/temp_dir\",\n",
    ")\n",
    "runner.fit_predict(new_hbr_model, train, test)"
   ]
  },
  {
   "cell_type": "code",
   "execution_count": 17,
   "metadata": {},
   "outputs": [
    {
     "name": "stdout",
     "output_type": "stream",
     "text": [
      "Configuration of normative model is valid.\n"
     ]
    }
   ],
   "source": [
    "norm_hbr = NormHBR.load(\"resources/hbr_transfer_runner/save_dir\")"
   ]
  },
  {
   "cell_type": "code",
   "execution_count": 18,
   "metadata": {},
   "outputs": [
    {
     "name": "stdout",
     "output_type": "stream",
     "text": [
      "Going to predict 2 models\n",
      "Predicting model for rh_MeanThickness_thickness\n"
     ]
    },
    {
     "name": "stderr",
     "output_type": "stream",
     "text": [
      "Sampling: [y_pred]\n"
     ]
    },
    {
     "data": {
      "application/vnd.jupyter.widget-view+json": {
       "model_id": "9280711db8d34038a853a51a784ff893",
       "version_major": 2,
       "version_minor": 0
      },
      "text/plain": [
       "Output()"
      ]
     },
     "metadata": {},
     "output_type": "display_data"
    },
    {
     "data": {
      "text/html": [
       "<pre style=\"white-space:pre;overflow-x:auto;line-height:normal;font-family:Menlo,'DejaVu Sans Mono',consolas,'Courier New',monospace\"></pre>\n"
      ],
      "text/plain": []
     },
     "metadata": {},
     "output_type": "display_data"
    },
    {
     "name": "stdout",
     "output_type": "stream",
     "text": [
      "Predicting model for WM-hypointensities\n"
     ]
    },
    {
     "name": "stderr",
     "output_type": "stream",
     "text": [
      "Sampling: [y_pred]\n"
     ]
    },
    {
     "data": {
      "application/vnd.jupyter.widget-view+json": {
       "model_id": "4cfbe2b3bdae445a93d19fd2fc5297f4",
       "version_major": 2,
       "version_minor": 0
      },
      "text/plain": [
       "Output()"
      ]
     },
     "metadata": {},
     "output_type": "display_data"
    },
    {
     "data": {
      "text/html": [
       "<pre style=\"white-space:pre;overflow-x:auto;line-height:normal;font-family:Menlo,'DejaVu Sans Mono',consolas,'Courier New',monospace\"></pre>\n"
      ],
      "text/plain": []
     },
     "metadata": {},
     "output_type": "display_data"
    },
    {
     "name": "stdout",
     "output_type": "stream",
     "text": [
      "Computing zscores for rh_MeanThickness_thickness\n"
     ]
    },
    {
     "name": "stderr",
     "output_type": "stream",
     "text": [
      "Sampling: [y_pred]\n"
     ]
    },
    {
     "name": "stdout",
     "output_type": "stream",
     "text": [
      "Computing zscores for WM-hypointensities\n"
     ]
    },
    {
     "name": "stderr",
     "output_type": "stream",
     "text": [
      "Sampling: [y_pred]\n"
     ]
    },
    {
     "name": "stdout",
     "output_type": "stream",
     "text": [
      "Computing centiles for rh_MeanThickness_thickness\n"
     ]
    },
    {
     "name": "stderr",
     "output_type": "stream",
     "text": [
      "Sampling: [y_pred]\n"
     ]
    },
    {
     "name": "stdout",
     "output_type": "stream",
     "text": [
      "Computing centiles for WM-hypointensities\n"
     ]
    },
    {
     "name": "stderr",
     "output_type": "stream",
     "text": [
      "Sampling: [y_pred]\n",
      "/opt/anaconda3/envs/dev_refactor/lib/python3.12/site-packages/pcntoolkit/util/evaluator.py:341: RuntimeWarning: invalid value encountered in log\n",
      "  nll = -np.mean(y * np.log(yhat) + (1 - y) * np.log(1 - yhat))\n"
     ]
    },
    {
     "name": "stdout",
     "output_type": "stream",
     "text": [
      "Computing centiles for rh_MeanThickness_thickness\n"
     ]
    },
    {
     "name": "stderr",
     "output_type": "stream",
     "text": [
      "Sampling: [y_pred]\n"
     ]
    },
    {
     "name": "stdout",
     "output_type": "stream",
     "text": [
      "Computing centiles for WM-hypointensities\n"
     ]
    },
    {
     "name": "stderr",
     "output_type": "stream",
     "text": [
      "Sampling: [y_pred]\n"
     ]
    },
    {
     "name": "stdout",
     "output_type": "stream",
     "text": [
      "Results and plots saved to /Users/stijndeboer/Projects/PCN/PCNtoolkit/example_notebooks/resources/hbr_transfer_runner/save_dir/results and /Users/stijndeboer/Projects/PCN/PCNtoolkit/example_notebooks/resources/hbr_transfer_runner/save_dir/plots\n",
      "\n",
      "≠≠≠≠≠≠≠≠≠≠≠≠≠≠≠≠≠≠≠≠≠≠≠≠≠≠≠≠≠≠≠≠≠≠≠≠≠≠≠≠≠≠≠≠≠≠≠≠≠≠≠≠≠≠≠≠≠≠≠≠≠≠≠≠≠≠≠≠≠≠≠≠≠≠≠≠≠≠≠≠≠≠≠≠≠≠≠≠≠≠≠≠≠≠≠≠≠≠≠≠≠≠≠≠≠≠≠≠≠≠≠≠≠≠≠≠≠≠≠≠\n",
      "The original model cannot be used to predict on the transfer dataset, because it was not trained on it\n",
      "\n",
      "See the useful error message below:\n",
      "\n",
      "Data is not compatible with the model!\n",
      "≠≠≠≠≠≠≠≠≠≠≠≠≠≠≠≠≠≠≠≠≠≠≠≠≠≠≠≠≠≠≠≠≠≠≠≠≠≠≠≠≠≠≠≠≠≠≠≠≠≠≠≠≠≠≠≠≠≠≠≠≠≠≠≠≠≠≠≠≠≠≠≠≠≠≠≠≠≠≠≠≠≠≠≠≠≠≠≠≠≠≠≠≠≠≠≠≠≠≠≠≠≠≠≠≠≠≠≠≠≠≠≠≠≠≠≠≠≠≠≠\n",
      "\n"
     ]
    }
   ],
   "source": [
    "norm_hbr.predict(test)\n",
    "try:\n",
    "    norm_hbr.predict(transfer_test)\n",
    "except Exception as e:\n",
    "    print(\n",
    "        f\"\"\"\n",
    "≠≠≠≠≠≠≠≠≠≠≠≠≠≠≠≠≠≠≠≠≠≠≠≠≠≠≠≠≠≠≠≠≠≠≠≠≠≠≠≠≠≠≠≠≠≠≠≠≠≠≠≠≠≠≠≠≠≠≠≠≠≠≠≠≠≠≠≠≠≠≠≠≠≠≠≠≠≠≠≠≠≠≠≠≠≠≠≠≠≠≠≠≠≠≠≠≠≠≠≠≠≠≠≠≠≠≠≠≠≠≠≠≠≠≠≠≠≠≠≠\n",
    "The original model cannot be used to predict on the transfer dataset, because it was not trained on it\n",
    "\n",
    "See the useful error message below:\n",
    "\n",
    "{e}\n",
    "≠≠≠≠≠≠≠≠≠≠≠≠≠≠≠≠≠≠≠≠≠≠≠≠≠≠≠≠≠≠≠≠≠≠≠≠≠≠≠≠≠≠≠≠≠≠≠≠≠≠≠≠≠≠≠≠≠≠≠≠≠≠≠≠≠≠≠≠≠≠≠≠≠≠≠≠≠≠≠≠≠≠≠≠≠≠≠≠≠≠≠≠≠≠≠≠≠≠≠≠≠≠≠≠≠≠≠≠≠≠≠≠≠≠≠≠≠≠≠≠\n",
    "\"\"\"\n",
    "    )"
   ]
  },
  {
   "cell_type": "code",
   "execution_count": 19,
   "metadata": {},
   "outputs": [
    {
     "name": "stdout",
     "output_type": "stream",
     "text": [
      "Configuration of normative model is valid.\n",
      "No python path specified. Using interpreter path of current process: /opt/anaconda3/envs/dev_refactor/bin/python\n",
      "Configuration of normative model is valid.\n",
      "Going to transfer 2 models\n",
      "Transferring model for rh_MeanThickness_thickness\n",
      "Configuration of normative model is valid.\n",
      "Going to transfer 2 models\n",
      "Transferring model for WM-hypointensities\n",
      "Model saved to /Users/stijndeboer/Projects/PCN/PCNtoolkit/example_notebooks/resources/hbr_transfer_runner/save_dir_transfer/model\n",
      "Going to predict 1 models\n",
      "Predicting model for rh_MeanThickness_thickness\n",
      "\u001b[2KSampling ... \u001b[90m━━━━━━━━━━━━━━━━━━━━━━━━━━━━━━━━━━━━━━━━\u001b[0m \u001b[35m  0%\u001b[0m \u001b[36m-:--:--\u001b[0m / \u001b[33m0:00:00\u001b[0mModel saved to /Users/stijndeboer/Projects/PCN/PCNtoolkit/example_notebooks/resources/hbr_transfer_runner/save_dir_transfer/model\n",
      "Going to predict 1 models\n",
      "Predicting model for WM-hypointensities\n",
      "\u001b[2KSampling ... \u001b[94m━━━━━━━━━━━━━━━\u001b[0m\u001b[90m╺\u001b[0m\u001b[90m━━━━━━━━━━━━━━━━━━━━━━━━\u001b[0m \u001b[35m 38%\u001b[0m \u001b[36m0:00:01\u001b[0m / \u001b[33m0:00:00\u001b[0m"
     ]
    },
    {
     "name": "stderr",
     "output_type": "stream",
     "text": [
      "Sampling: [y_pred]\n",
      "Sampling: [y_pred]\n"
     ]
    },
    {
     "name": "stdout",
     "output_type": "stream",
     "text": [
      "\u001b[2KSampling ... \u001b[32m━━━━━━━━━━━━━━━━━━━━━━━━━━━━━━━━━━━━━━━━\u001b[0m \u001b[35m100%\u001b[0m \u001b[36m0:00:00\u001b[0m / \u001b[33m0:00:00\u001b[0m00:00\u001b[0m00:00\u001b[0m\n",
      "\u001b[?25hComputing zscores for rh_MeanThickness_thickness\n"
     ]
    },
    {
     "name": "stderr",
     "output_type": "stream",
     "text": [
      "Sampling: [y_pred]\n",
      "Sampling: [y_pred]\n"
     ]
    },
    {
     "name": "stdout",
     "output_type": "stream",
     "text": [
      "\u001b[2KSampling ... \u001b[32m━━━━━━━━━━━━━━━━━━━━━━━━━━━━━━━━━━━━━━━━\u001b[0m \u001b[35m100%\u001b[0m \u001b[36m0:00:00\u001b[0m / \u001b[33m0:00:00\u001b[0m/ \u001b[33m0:00:00\u001b[0m\n",
      "\u001b[?25hComputing zscores for WM-hypointensities\n",
      "Computing centiles for rh_MeanThickness_thickness\n",
      "Computing centiles for WM-hypointensities\n"
     ]
    },
    {
     "name": "stderr",
     "output_type": "stream",
     "text": [
      "Sampling: [y_pred]\n",
      "Sampling: [y_pred]\n",
      "/opt/anaconda3/envs/dev_refactor/lib/python3.12/site-packages/pcntoolkit/util/evaluator.py:232: ConstantInputWarning: An input array is constant; the correlation coefficient is not defined.\n",
      "  rho, _ = stats.spearmanr(y, yhat)\n",
      "/opt/anaconda3/envs/dev_refactor/lib/python3.12/site-packages/pcntoolkit/util/evaluator.py:341: RuntimeWarning: invalid value encountered in log\n",
      "  nll = -np.mean(y * np.log(yhat) + (1 - y) * np.log(1 - yhat))\n",
      "/opt/anaconda3/envs/dev_refactor/lib/python3.12/site-packages/pcntoolkit/util/evaluator.py:232: ConstantInputWarning: An input array is constant; the correlation coefficient is not defined.\n",
      "  rho, _ = stats.spearmanr(y, yhat)\n",
      "/opt/anaconda3/envs/dev_refactor/lib/python3.12/site-packages/pcntoolkit/util/evaluator.py:341: RuntimeWarning: invalid value encountered in log\n",
      "  nll = -np.mean(y * np.log(yhat) + (1 - y) * np.log(1 - yhat))\n",
      "Sampling: [y_pred]\n"
     ]
    },
    {
     "name": "stdout",
     "output_type": "stream",
     "text": [
      "Computing centiles for rh_MeanThickness_thickness\n",
      "Computing centiles for WM-hypointensities\n"
     ]
    },
    {
     "name": "stderr",
     "output_type": "stream",
     "text": [
      "Sampling: [y_pred]\n"
     ]
    },
    {
     "name": "stdout",
     "output_type": "stream",
     "text": [
      "Results and plots saved to /Users/stijndeboer/Projects/PCN/PCNtoolkit/example_notebooks/resources/hbr_transfer_runner/save_dir_transfer/results and /Users/stijndeboer/Projects/PCN/PCNtoolkit/example_notebooks/resources/hbr_transfer_runner/save_dir_transfer/plots\n",
      "Results and plots saved to /Users/stijndeboer/Projects/PCN/PCNtoolkit/example_notebooks/resources/hbr_transfer_runner/save_dir_transfer/results and /Users/stijndeboer/Projects/PCN/PCNtoolkit/example_notebooks/resources/hbr_transfer_runner/save_dir_transfer/plots\n",
      "\n",
      "All jobs completed!\n"
     ]
    }
   ],
   "source": [
    "to_transfer = NormHBR.load(\"resources/hbr_transfer_runner/save_dir\")\n",
    "runner = Runner(\n",
    "    cross_validate=False,\n",
    "    parallelize=True,\n",
    "    job_type=\"local\",  # or \"slurm\" if you are on a slurm cluster\n",
    "    n_jobs=2,\n",
    "    log_dir=\"resources/hbr_transfer_runner/log_dir\",\n",
    "    temp_dir=\"resources/hbr_transfer_runner/temp_dir\",\n",
    ")\n",
    "runner.transfer_predict(to_transfer, transfer_train, transfer_test)"
   ]
  },
  {
   "cell_type": "code",
   "execution_count": 20,
   "metadata": {},
   "outputs": [
    {
     "name": "stdout",
     "output_type": "stream",
     "text": [
      "Configuration of normative model is valid.\n",
      "Configuration of normative model is valid.\n",
      "Going to predict 2 models\n",
      "Predicting model for rh_MeanThickness_thickness\n"
     ]
    },
    {
     "name": "stderr",
     "output_type": "stream",
     "text": [
      "Sampling: [y_pred]\n"
     ]
    },
    {
     "data": {
      "application/vnd.jupyter.widget-view+json": {
       "model_id": "79d06db9aecd447db641604315b10bcb",
       "version_major": 2,
       "version_minor": 0
      },
      "text/plain": [
       "Output()"
      ]
     },
     "metadata": {},
     "output_type": "display_data"
    },
    {
     "data": {
      "text/html": [
       "<pre style=\"white-space:pre;overflow-x:auto;line-height:normal;font-family:Menlo,'DejaVu Sans Mono',consolas,'Courier New',monospace\"></pre>\n"
      ],
      "text/plain": []
     },
     "metadata": {},
     "output_type": "display_data"
    },
    {
     "name": "stderr",
     "output_type": "stream",
     "text": [
      "Sampling: [y_pred]\n"
     ]
    },
    {
     "data": {
      "application/vnd.jupyter.widget-view+json": {
       "model_id": "8560cc7064b044349caea2a451bd5d61",
       "version_major": 2,
       "version_minor": 0
      },
      "text/plain": [
       "Output()"
      ]
     },
     "metadata": {},
     "output_type": "display_data"
    },
    {
     "name": "stdout",
     "output_type": "stream",
     "text": [
      "Predicting model for WM-hypointensities\n"
     ]
    },
    {
     "data": {
      "text/html": [
       "<pre style=\"white-space:pre;overflow-x:auto;line-height:normal;font-family:Menlo,'DejaVu Sans Mono',consolas,'Courier New',monospace\"></pre>\n"
      ],
      "text/plain": []
     },
     "metadata": {},
     "output_type": "display_data"
    },
    {
     "name": "stderr",
     "output_type": "stream",
     "text": [
      "Sampling: [y_pred]\n"
     ]
    },
    {
     "name": "stdout",
     "output_type": "stream",
     "text": [
      "Computing zscores for rh_MeanThickness_thickness\n"
     ]
    },
    {
     "name": "stderr",
     "output_type": "stream",
     "text": [
      "Sampling: [y_pred]\n"
     ]
    },
    {
     "name": "stdout",
     "output_type": "stream",
     "text": [
      "Computing zscores for WM-hypointensities\n"
     ]
    },
    {
     "name": "stderr",
     "output_type": "stream",
     "text": [
      "Sampling: [y_pred]\n"
     ]
    },
    {
     "name": "stdout",
     "output_type": "stream",
     "text": [
      "Computing centiles for rh_MeanThickness_thickness\n"
     ]
    },
    {
     "name": "stderr",
     "output_type": "stream",
     "text": [
      "Sampling: [y_pred]\n"
     ]
    },
    {
     "name": "stdout",
     "output_type": "stream",
     "text": [
      "Computing centiles for WM-hypointensities\n"
     ]
    },
    {
     "name": "stderr",
     "output_type": "stream",
     "text": [
      "/opt/anaconda3/envs/dev_refactor/lib/python3.12/site-packages/pcntoolkit/util/evaluator.py:341: RuntimeWarning: invalid value encountered in log\n",
      "  nll = -np.mean(y * np.log(yhat) + (1 - y) * np.log(1 - yhat))\n",
      "Sampling: [y_pred]\n"
     ]
    },
    {
     "name": "stdout",
     "output_type": "stream",
     "text": [
      "Computing centiles for rh_MeanThickness_thickness\n"
     ]
    },
    {
     "name": "stderr",
     "output_type": "stream",
     "text": [
      "Sampling: [y_pred]\n"
     ]
    },
    {
     "name": "stdout",
     "output_type": "stream",
     "text": [
      "Computing centiles for WM-hypointensities\n",
      "Results and plots saved to /Users/stijndeboer/Projects/PCN/PCNtoolkit/example_notebooks/resources/hbr_transfer_runner/save_dir_transfer/folds/fold_0/results and /Users/stijndeboer/Projects/PCN/PCNtoolkit/example_notebooks/resources/hbr_transfer_runner/save_dir_transfer/folds/fold_0/plots\n",
      "\n",
      "≠≠≠≠≠≠≠≠≠≠≠≠≠≠≠≠≠≠≠≠≠≠≠≠≠≠≠≠≠≠≠≠≠≠≠≠≠≠≠≠≠≠≠≠≠≠≠≠≠≠≠≠≠≠≠≠≠≠≠≠≠≠≠≠≠≠≠≠≠≠≠≠≠≠≠≠≠≠≠≠≠≠≠≠≠≠≠≠≠≠≠≠≠≠≠≠≠≠≠≠≠≠≠≠≠≠≠≠≠≠≠≠≠≠≠≠≠≠≠≠\n",
      "The transfered model cannot be used to predict on the original dataset, because it was transfered to a different dataset\n",
      "\n",
      "See the useful error message below:\n",
      "\n",
      "Data is not compatible with the model!\n",
      "≠≠≠≠≠≠≠≠≠≠≠≠≠≠≠≠≠≠≠≠≠≠≠≠≠≠≠≠≠≠≠≠≠≠≠≠≠≠≠≠≠≠≠≠≠≠≠≠≠≠≠≠≠≠≠≠≠≠≠≠≠≠≠≠≠≠≠≠≠≠≠≠≠≠≠≠≠≠≠≠≠≠≠≠≠≠≠≠≠≠≠≠≠≠≠≠≠≠≠≠≠≠≠≠≠≠≠≠≠≠≠≠≠≠≠≠≠≠≠≠\n",
      "\n"
     ]
    }
   ],
   "source": [
    "# transfered_model = NormHBR.load(\"resources/hbr_transfer_runner/save_dir_transfer\")\n",
    "transfered_model = runner.load_fold_model(0)\n",
    "transfered_model.predict(transfer_test)\n",
    "try:\n",
    "    transfered_model.predict(test)\n",
    "except Exception as e:\n",
    "    print(\n",
    "        f\"\"\"\n",
    "≠≠≠≠≠≠≠≠≠≠≠≠≠≠≠≠≠≠≠≠≠≠≠≠≠≠≠≠≠≠≠≠≠≠≠≠≠≠≠≠≠≠≠≠≠≠≠≠≠≠≠≠≠≠≠≠≠≠≠≠≠≠≠≠≠≠≠≠≠≠≠≠≠≠≠≠≠≠≠≠≠≠≠≠≠≠≠≠≠≠≠≠≠≠≠≠≠≠≠≠≠≠≠≠≠≠≠≠≠≠≠≠≠≠≠≠≠≠≠≠\n",
    "The transfered model cannot be used to predict on the original dataset, because it was transfered to a different dataset\n",
    "\n",
    "See the useful error message below:\n",
    "\n",
    "{e}\n",
    "≠≠≠≠≠≠≠≠≠≠≠≠≠≠≠≠≠≠≠≠≠≠≠≠≠≠≠≠≠≠≠≠≠≠≠≠≠≠≠≠≠≠≠≠≠≠≠≠≠≠≠≠≠≠≠≠≠≠≠≠≠≠≠≠≠≠≠≠≠≠≠≠≠≠≠≠≠≠≠≠≠≠≠≠≠≠≠≠≠≠≠≠≠≠≠≠≠≠≠≠≠≠≠≠≠≠≠≠≠≠≠≠≠≠≠≠≠≠≠≠\n",
    "\"\"\"\n",
    "    )"
   ]
  },
  {
   "cell_type": "code",
   "execution_count": 21,
   "metadata": {},
   "outputs": [
    {
     "name": "stdout",
     "output_type": "stream",
     "text": [
      "Configuration of normative model is valid.\n"
     ]
    },
    {
     "name": "stderr",
     "output_type": "stream",
     "text": [
      "Sampling: [y_pred]\n",
      "Sampling: [y_pred]\n"
     ]
    },
    {
     "name": "stdout",
     "output_type": "stream",
     "text": [
      "\u001b[2KSampling ... \u001b[32m━━━━━━━━━━━━━━━━━━━━━━━━━━━━━━━━━━━━━━━━\u001b[0m \u001b[35m100%\u001b[0m \u001b[36m0:00:00\u001b[0m / \u001b[33m0:00:00\u001b[0m/ \u001b[33m0:00:00\u001b[0m\n",
      "\u001b[2KSampling ... \u001b[32m━━━━━━━━━━━━━━━━━━━━━━━━━━━━━━━━━━━━━━━━\u001b[0m \u001b[35m100%\u001b[0m \u001b[36m0:00:00\u001b[0m / \u001b[33m0:00:00\u001b[0m\n",
      "\u001b[?25h7771 - Going to fit 1 models\n",
      "\n",
      "7771 - Fitting model for rh_MeanThickness_thickness\n",
      "\n",
      "7770 - Going to fit 1 models\n",
      "\n",
      "7770 - Fitting model for WM-hypointensities\n",
      "\n",
      "Model saved to /Users/stijndeboer/Projects/PCN/PCNtoolkit/example_notebooks/resources/hbr_transfer_runner/save_dir_extend/model\n",
      "Model saved to /Users/stijndeboer/Projects/PCN/PCNtoolkit/example_notebooks/resources/hbr_transfer_runner/save_dir_extend/model\n",
      "Model saved to /Users/stijndeboer/Projects/PCN/PCNtoolkit/example_notebooks/resources/hbr_transfer_runner/save_dir_extend/model\n",
      "Model saved to /Users/stijndeboer/Projects/PCN/PCNtoolkit/example_notebooks/resources/hbr_transfer_runner/save_dir_extend/model\n",
      "\n",
      "All jobs completed!\n"
     ]
    }
   ],
   "source": [
    "to_extend = NormHBR.load(\"resources/hbr_transfer_runner/save_dir\")\n",
    "runner.extend(to_extend, transfer_train)"
   ]
  },
  {
   "cell_type": "code",
   "execution_count": 22,
   "metadata": {},
   "outputs": [
    {
     "name": "stdout",
     "output_type": "stream",
     "text": [
      "Configuration of normative model is valid.\n",
      "Configuration of normative model is valid.\n",
      "Going to predict 2 models\n",
      "Predicting model for rh_MeanThickness_thickness\n"
     ]
    },
    {
     "name": "stderr",
     "output_type": "stream",
     "text": [
      "Sampling: [y_pred]\n"
     ]
    },
    {
     "data": {
      "application/vnd.jupyter.widget-view+json": {
       "model_id": "e528a1183b7843079a45719c9e26a6c3",
       "version_major": 2,
       "version_minor": 0
      },
      "text/plain": [
       "Output()"
      ]
     },
     "metadata": {},
     "output_type": "display_data"
    },
    {
     "data": {
      "text/html": [
       "<pre style=\"white-space:pre;overflow-x:auto;line-height:normal;font-family:Menlo,'DejaVu Sans Mono',consolas,'Courier New',monospace\"></pre>\n"
      ],
      "text/plain": []
     },
     "metadata": {},
     "output_type": "display_data"
    },
    {
     "name": "stdout",
     "output_type": "stream",
     "text": [
      "Predicting model for WM-hypointensities\n"
     ]
    },
    {
     "name": "stderr",
     "output_type": "stream",
     "text": [
      "Sampling: [y_pred]\n"
     ]
    },
    {
     "data": {
      "application/vnd.jupyter.widget-view+json": {
       "model_id": "d7b41b230e594084ad7ef6b3bd606a10",
       "version_major": 2,
       "version_minor": 0
      },
      "text/plain": [
       "Output()"
      ]
     },
     "metadata": {},
     "output_type": "display_data"
    },
    {
     "data": {
      "text/html": [
       "<pre style=\"white-space:pre;overflow-x:auto;line-height:normal;font-family:Menlo,'DejaVu Sans Mono',consolas,'Courier New',monospace\"></pre>\n"
      ],
      "text/plain": []
     },
     "metadata": {},
     "output_type": "display_data"
    },
    {
     "name": "stdout",
     "output_type": "stream",
     "text": [
      "Computing zscores for rh_MeanThickness_thickness\n"
     ]
    },
    {
     "name": "stderr",
     "output_type": "stream",
     "text": [
      "Sampling: [y_pred]\n"
     ]
    },
    {
     "name": "stdout",
     "output_type": "stream",
     "text": [
      "Computing zscores for WM-hypointensities\n"
     ]
    },
    {
     "name": "stderr",
     "output_type": "stream",
     "text": [
      "Sampling: [y_pred]\n"
     ]
    },
    {
     "name": "stdout",
     "output_type": "stream",
     "text": [
      "Computing centiles for rh_MeanThickness_thickness\n"
     ]
    },
    {
     "name": "stderr",
     "output_type": "stream",
     "text": [
      "Sampling: [y_pred]\n"
     ]
    },
    {
     "name": "stdout",
     "output_type": "stream",
     "text": [
      "Computing centiles for WM-hypointensities\n"
     ]
    },
    {
     "name": "stderr",
     "output_type": "stream",
     "text": [
      "Sampling: [y_pred]\n",
      "/opt/anaconda3/envs/dev_refactor/lib/python3.12/site-packages/pcntoolkit/util/evaluator.py:341: RuntimeWarning: invalid value encountered in log\n",
      "  nll = -np.mean(y * np.log(yhat) + (1 - y) * np.log(1 - yhat))\n"
     ]
    },
    {
     "name": "stdout",
     "output_type": "stream",
     "text": [
      "Computing centiles for rh_MeanThickness_thickness\n"
     ]
    },
    {
     "name": "stderr",
     "output_type": "stream",
     "text": [
      "Sampling: [y_pred]\n"
     ]
    },
    {
     "name": "stdout",
     "output_type": "stream",
     "text": [
      "Computing centiles for WM-hypointensities\n"
     ]
    },
    {
     "name": "stderr",
     "output_type": "stream",
     "text": [
      "Sampling: [y_pred]\n"
     ]
    },
    {
     "name": "stdout",
     "output_type": "stream",
     "text": [
      "Results and plots saved to /Users/stijndeboer/Projects/PCN/PCNtoolkit/example_notebooks/resources/hbr_transfer_runner/save_dir_extend/folds/fold_0/results and /Users/stijndeboer/Projects/PCN/PCNtoolkit/example_notebooks/resources/hbr_transfer_runner/save_dir_extend/folds/fold_0/plots\n",
      "Going to predict 2 models\n",
      "Predicting model for rh_MeanThickness_thickness\n"
     ]
    },
    {
     "name": "stderr",
     "output_type": "stream",
     "text": [
      "Sampling: [y_pred]\n"
     ]
    },
    {
     "data": {
      "application/vnd.jupyter.widget-view+json": {
       "model_id": "b4b2bdb2575845ae99d173ddc4d043ce",
       "version_major": 2,
       "version_minor": 0
      },
      "text/plain": [
       "Output()"
      ]
     },
     "metadata": {},
     "output_type": "display_data"
    },
    {
     "data": {
      "text/html": [
       "<pre style=\"white-space:pre;overflow-x:auto;line-height:normal;font-family:Menlo,'DejaVu Sans Mono',consolas,'Courier New',monospace\"></pre>\n"
      ],
      "text/plain": []
     },
     "metadata": {},
     "output_type": "display_data"
    },
    {
     "name": "stdout",
     "output_type": "stream",
     "text": [
      "Predicting model for WM-hypointensities\n"
     ]
    },
    {
     "name": "stderr",
     "output_type": "stream",
     "text": [
      "Sampling: [y_pred]\n"
     ]
    },
    {
     "data": {
      "application/vnd.jupyter.widget-view+json": {
       "model_id": "05803b7e9d95471cbb63ed1494d4e198",
       "version_major": 2,
       "version_minor": 0
      },
      "text/plain": [
       "Output()"
      ]
     },
     "metadata": {},
     "output_type": "display_data"
    },
    {
     "data": {
      "text/html": [
       "<pre style=\"white-space:pre;overflow-x:auto;line-height:normal;font-family:Menlo,'DejaVu Sans Mono',consolas,'Courier New',monospace\"></pre>\n"
      ],
      "text/plain": []
     },
     "metadata": {},
     "output_type": "display_data"
    },
    {
     "name": "stdout",
     "output_type": "stream",
     "text": [
      "Computing zscores for rh_MeanThickness_thickness\n"
     ]
    },
    {
     "name": "stderr",
     "output_type": "stream",
     "text": [
      "Sampling: [y_pred]\n"
     ]
    },
    {
     "name": "stdout",
     "output_type": "stream",
     "text": [
      "Computing zscores for WM-hypointensities\n"
     ]
    },
    {
     "name": "stderr",
     "output_type": "stream",
     "text": [
      "Sampling: [y_pred]\n"
     ]
    },
    {
     "name": "stdout",
     "output_type": "stream",
     "text": [
      "Computing centiles for rh_MeanThickness_thickness\n"
     ]
    },
    {
     "name": "stderr",
     "output_type": "stream",
     "text": [
      "Sampling: [y_pred]\n"
     ]
    },
    {
     "name": "stdout",
     "output_type": "stream",
     "text": [
      "Computing centiles for WM-hypointensities\n"
     ]
    },
    {
     "name": "stderr",
     "output_type": "stream",
     "text": [
      "Sampling: [y_pred]\n",
      "/opt/anaconda3/envs/dev_refactor/lib/python3.12/site-packages/pcntoolkit/util/evaluator.py:341: RuntimeWarning: invalid value encountered in log\n",
      "  nll = -np.mean(y * np.log(yhat) + (1 - y) * np.log(1 - yhat))\n"
     ]
    },
    {
     "name": "stdout",
     "output_type": "stream",
     "text": [
      "Computing centiles for rh_MeanThickness_thickness\n"
     ]
    },
    {
     "name": "stderr",
     "output_type": "stream",
     "text": [
      "Sampling: [y_pred]\n"
     ]
    },
    {
     "name": "stdout",
     "output_type": "stream",
     "text": [
      "Computing centiles for WM-hypointensities\n"
     ]
    },
    {
     "name": "stderr",
     "output_type": "stream",
     "text": [
      "Sampling: [y_pred]\n"
     ]
    },
    {
     "name": "stdout",
     "output_type": "stream",
     "text": [
      "Results and plots saved to /Users/stijndeboer/Projects/PCN/PCNtoolkit/example_notebooks/resources/hbr_transfer_runner/save_dir_extend/folds/fold_0/results and /Users/stijndeboer/Projects/PCN/PCNtoolkit/example_notebooks/resources/hbr_transfer_runner/save_dir_extend/folds/fold_0/plots\n",
      "The extended model can now be used to predict on both the original and transfer dataset.\n"
     ]
    }
   ],
   "source": [
    "extended_model = runner.load_fold_model(0)\n",
    "extended_model.predict(transfer_test)\n",
    "extended_model.predict(test)\n",
    "print(\"The extended model can now be used to predict on both the original and transfer dataset.\")"
   ]
  },
  {
   "cell_type": "markdown",
   "metadata": {},
   "source": [
    "And that's it, now you have seen how to:\n",
    "- Use the runner to do cross-validation in parallel\n",
    "- Inspect the model of a specific fold\n",
    "- Evaluate the model on a test set\n",
    "- Create useful plots\n",
    "\n",
    "We hope this tutorial was useful. If you have any questions or remarks, please let us know on GitHub. Thanks!\n"
   ]
  }
 ],
 "metadata": {
  "kernelspec": {
   "display_name": "dev_refactor_2",
   "language": "python",
   "name": "python3"
  },
  "language_info": {
   "codemirror_mode": {
    "name": "ipython",
    "version": 3
   },
   "file_extension": ".py",
   "mimetype": "text/x-python",
   "name": "python",
   "nbconvert_exporter": "python",
   "pygments_lexer": "ipython3",
   "version": "3.12.0"
  }
 },
 "nbformat": 4,
 "nbformat_minor": 4
}
