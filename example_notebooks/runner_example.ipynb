{
 "cells": [
  {
   "cell_type": "markdown",
   "metadata": {},
   "source": [
    "# Runner example\n",
    "\n",
    "This notebook will go through the options of the runner class. We will show how to fit and evaluate a model in parallel, and how to do cross-validation. \n",
    "\n",
    "This notebook is based off the blr_example notebook, and it is recommended to follow that notebook first.\n"
   ]
  },
  {
   "cell_type": "markdown",
   "metadata": {},
   "source": [
    "### Imports"
   ]
  },
  {
   "cell_type": "code",
   "execution_count": 1,
   "metadata": {
    "notebookRunGroups": {
     "groupValue": "1"
    }
   },
   "outputs": [],
   "source": [
    "import pandas as pd\n",
    "from pcntoolkit.dataio.norm_data import NormData\n",
    "from pcntoolkit.normative_model.norm_conf import NormConf\n",
    "from pcntoolkit.normative_model.norm_blr import NormBLR\n",
    "from pcntoolkit.regression_model.blr.blr_conf import BLRConf\n",
    "from pcntoolkit.util.runner import Runner\n",
    "from pcntoolkit.util.plotter import plot_centiles, plot_qq"
   ]
  },
  {
   "cell_type": "markdown",
   "metadata": {},
   "source": [
    "# Load data"
   ]
  },
  {
   "cell_type": "markdown",
   "metadata": {},
   "source": [
    "First we download a small example dataset from github. Saving this dataset on your local device (under 'resources/data/fcon1000.csv' for example) saves time and bandwidth if you re-run this notebook."
   ]
  },
  {
   "cell_type": "code",
   "execution_count": 2,
   "metadata": {
    "notebookRunGroups": {
     "groupValue": "1"
    }
   },
   "outputs": [],
   "source": [
    "# If you are running this notebook for the first time, you need to download the dataset from github.\n",
    "# If you have already downloaded the dataset, you can comment out the following line\n",
    "pd.read_csv(\n",
    "    \"https://raw.githubusercontent.com/predictive-clinical-neuroscience/PCNtoolkit-demo/refs/heads/main/data/fcon1000.csv\"\n",
    ").to_csv(\"resources/data/fcon1000.csv\", index=False)\n",
    "data = pd.read_csv(\"resources/data/fcon1000.csv\")\n",
    "covariates = [\"age\"]\n",
    "batch_effects = [\"sex\", \"site\"]\n",
    "response_vars = [\"rh_MeanThickness_thickness\", \"WM-hypointensities\"]\n",
    "norm_data = NormData.from_dataframe(\n",
    "    name=\"full\",\n",
    "    dataframe=data,\n",
    "    covariates=[\"age\"],\n",
    "    batch_effects=[\"sex\", \"site\"],\n",
    "    response_vars=[\"rh_MeanThickness_thickness\", \"WM-hypointensities\"],\n",
    ")\n",
    "\n",
    "# Leave two sites out for doing transfer and extend later\n",
    "transfer_sites = [\"Milwaukee_b\", \"Oulu\"]\n",
    "transfer_data, fit_data = norm_data.split_batch_effects(\n",
    "    {\"site\": transfer_sites}, names=(\"transfer\", \"fit\")\n",
    ")\n",
    "\n",
    "# Split into train and test sets\n",
    "train, test = fit_data.train_test_split()\n",
    "transfer_train, transfer_test = transfer_data.train_test_split()"
   ]
  },
  {
   "cell_type": "markdown",
   "metadata": {},
   "source": [
    "## Configure the normative model\n",
    "\n",
    "The normative model will be configured using a `NormConf` object, containing save and log paths and the preprocessing configurations, and a `RegConf` object, specific to the regression model type. \n",
    "\n",
    "Our `NormConf` object configures:\n",
    "- a save path paths and whether to save the model and results\n",
    "- a standardization step for both the covariates (inscaler) and the response vars (outscaler)\n",
    "- a Bspline basis expansion of order 3 with 5 knots"
   ]
  },
  {
   "cell_type": "code",
   "execution_count": 3,
   "metadata": {
    "notebookRunGroups": {
     "groupValue": "1"
    }
   },
   "outputs": [
    {
     "name": "stdout",
     "output_type": "stream",
     "text": [
      "Configuration of normative model is valid.\n"
     ]
    }
   ],
   "source": [
    "# Create a NormConf object\n",
    "norm_conf = NormConf(\n",
    "    savemodel=True,\n",
    "    saveresults=True,\n",
    "    save_dir=\"resources/blr/save_dir\",\n",
    "    inscaler=\"standardize\",\n",
    "    outscaler=\"standardize\",\n",
    "    basis_function=\"bspline\",\n",
    "    basis_function_kwargs={\"order\": 3, \"nknots\": 5},\n",
    ")"
   ]
  },
  {
   "cell_type": "markdown",
   "metadata": {},
   "source": [
    "## Configure the regression model\n"
   ]
  },
  {
   "cell_type": "code",
   "execution_count": 4,
   "metadata": {
    "notebookRunGroups": {
     "groupValue": "1"
    }
   },
   "outputs": [
    {
     "name": "stdout",
     "output_type": "stream",
     "text": [
      "Configuration of regression model is valid.\n"
     ]
    }
   ],
   "source": [
    "blr_conf = BLRConf(\n",
    "    optimizer=\"l-bfgs-b\",\n",
    "    n_iter=1000,\n",
    "    heteroskedastic=True,\n",
    "    random_intercept=True,\n",
    "    random_intercept_var=True,\n",
    "    warp=\"WarpSinhArcsinh\",\n",
    "    warp_reparam=True,\n",
    ")"
   ]
  },
  {
   "cell_type": "markdown",
   "metadata": {},
   "source": [
    "## Combine normative and blr conf in normative model\n",
    "We can either use the NormBLR constructor, or the factory method to create a normative BLR model"
   ]
  },
  {
   "cell_type": "code",
   "execution_count": 5,
   "metadata": {
    "notebookRunGroups": {
     "groupValue": "1"
    }
   },
   "outputs": [],
   "source": [
    "# Using the constructor\n",
    "norm_blr = NormBLR(norm_conf=norm_conf, reg_conf=blr_conf)"
   ]
  },
  {
   "cell_type": "markdown",
   "metadata": {},
   "source": [
    "## Fit the model\n",
    "Normally we would just call 'fit_predict' on the model directly, but because we want to use the runner to do cross-validation in parallel, we need to first create a runner object. "
   ]
  },
  {
   "cell_type": "code",
   "execution_count": 6,
   "metadata": {},
   "outputs": [
    {
     "name": "stdout",
     "output_type": "stream",
     "text": [
      "No python path specified. Using interpreter path of current process: /opt/anaconda3/envs/dev_refactor/bin/python\n"
     ]
    }
   ],
   "source": [
    "runner = Runner(\n",
    "    cross_validate=True,\n",
    "    cv_folds=10,\n",
    "    parallelize=True,\n",
    "    job_type=\"local\",  # or \"slurm\" if you are on a slurm cluster\n",
    "    n_jobs=2,\n",
    "    log_dir=\"resources/blr_kfold/log_dir\",\n",
    "    temp_dir=\"resources/blr_kfold/temp_dir\",\n",
    ")"
   ]
  },
  {
   "cell_type": "markdown",
   "metadata": {},
   "source": [
    "The runner object will now fit the model in parallel, and save the results in save directories that it will create for each fold."
   ]
  },
  {
   "cell_type": "code",
   "execution_count": 7,
   "metadata": {},
   "outputs": [
    {
     "name": "stderr",
     "output_type": "stream",
     "text": [
      "/opt/anaconda3/envs/dev_refactor/lib/python3.12/site-packages/sklearn/model_selection/_split.py:805: UserWarning: The least populated class in y has only 2 members, which is less than n_splits=10.\n",
      "  warnings.warn(\n"
     ]
    },
    {
     "name": "stdout",
     "output_type": "stream",
     "text": [
      "Going to fit and predict 1 models\n",
      "Fitting and predicting model for rh_MeanThickness_thickness\n"
     ]
    },
    {
     "name": "stderr",
     "output_type": "stream",
     "text": [
      "/opt/anaconda3/envs/dev_refactor/lib/python3.12/site-packages/sklearn/model_selection/_split.py:805: UserWarning: The least populated class in y has only 2 members, which is less than n_splits=10.\n",
      "  warnings.warn(\n"
     ]
    },
    {
     "name": "stdout",
     "output_type": "stream",
     "text": [
      "Going to fit and predict 1 models\n",
      "Fitting and predicting model for WM-hypointensities\n",
      "32653 Saving model to resources/blr/save_dir/folds/fold_0\n",
      "Model saved to /Users/stijndeboer/Projects/PCN/PCNtoolkit/example_notebooks/resources/blr/save_dir/folds/fold_0/model\n",
      "Computing zscores for rh_MeanThickness_thickness\n",
      "Computing centiles for rh_MeanThickness_thickness\n",
      "Computing centiles for rh_MeanThickness_thickness\n"
     ]
    },
    {
     "name": "stderr",
     "output_type": "stream",
     "text": [
      "/opt/anaconda3/envs/dev_refactor/lib/python3.12/site-packages/pcntoolkit/util/evaluator.py:341: RuntimeWarning: invalid value encountered in log\n",
      "  nll = -np.mean(y * np.log(yhat) + (1 - y) * np.log(1 - yhat))\n",
      "/opt/anaconda3/envs/dev_refactor/lib/python3.12/site-packages/pcntoolkit/regression_model/blr/blr.py:343: LinAlgWarning: Ill-conditioned matrix (rcond=1.08402e-16): result may not be accurate.\n",
      "  invAXt: np.ndarray = linalg.solve(self.A, X.T, check_finite=False)\n",
      "/opt/anaconda3/envs/dev_refactor/lib/python3.12/site-packages/pcntoolkit/regression_model/blr/blr.py:343: LinAlgWarning: Ill-conditioned matrix (rcond=1.07766e-16): result may not be accurate.\n",
      "  invAXt: np.ndarray = linalg.solve(self.A, X.T, check_finite=False)\n",
      "/opt/anaconda3/envs/dev_refactor/lib/python3.12/site-packages/pcntoolkit/regression_model/blr/blr.py:343: LinAlgWarning: Ill-conditioned matrix (rcond=1.06201e-16): result may not be accurate.\n",
      "  invAXt: np.ndarray = linalg.solve(self.A, X.T, check_finite=False)\n",
      "/opt/anaconda3/envs/dev_refactor/lib/python3.12/site-packages/pcntoolkit/regression_model/blr/blr.py:343: LinAlgWarning: Ill-conditioned matrix (rcond=1.10281e-16): result may not be accurate.\n",
      "  invAXt: np.ndarray = linalg.solve(self.A, X.T, check_finite=False)\n",
      "/opt/anaconda3/envs/dev_refactor/lib/python3.12/site-packages/pcntoolkit/regression_model/blr/blr.py:343: LinAlgWarning: Ill-conditioned matrix (rcond=1.06903e-16): result may not be accurate.\n",
      "  invAXt: np.ndarray = linalg.solve(self.A, X.T, check_finite=False)\n",
      "/opt/anaconda3/envs/dev_refactor/lib/python3.12/site-packages/pcntoolkit/regression_model/blr/blr.py:343: LinAlgWarning: Ill-conditioned matrix (rcond=9.77732e-17): result may not be accurate.\n",
      "  invAXt: np.ndarray = linalg.solve(self.A, X.T, check_finite=False)\n"
     ]
    },
    {
     "name": "stdout",
     "output_type": "stream",
     "text": [
      "Results and plots saved to /Users/stijndeboer/Projects/PCN/PCNtoolkit/example_notebooks/resources/blr/save_dir/folds/fold_0/results and /Users/stijndeboer/Projects/PCN/PCNtoolkit/example_notebooks/resources/blr/save_dir/folds/fold_0/plots\n",
      "32653 Saving model to resources/blr/save_dir/folds/fold_0\n",
      "Model saved to /Users/stijndeboer/Projects/PCN/PCNtoolkit/example_notebooks/resources/blr/save_dir/folds/fold_0/model\n",
      "Going to fit and predict 1 models\n",
      "Fitting and predicting model for rh_MeanThickness_thickness\n",
      "32654 Saving model to resources/blr/save_dir/folds/fold_0\n",
      "Model saved to /Users/stijndeboer/Projects/PCN/PCNtoolkit/example_notebooks/resources/blr/save_dir/folds/fold_0/model\n",
      "Computing zscores for WM-hypointensities\n",
      "Computing centiles for WM-hypointensities\n",
      "Computing centiles for WM-hypointensities\n"
     ]
    },
    {
     "name": "stderr",
     "output_type": "stream",
     "text": [
      "/opt/anaconda3/envs/dev_refactor/lib/python3.12/site-packages/pcntoolkit/util/evaluator.py:341: RuntimeWarning: invalid value encountered in log\n",
      "  nll = -np.mean(y * np.log(yhat) + (1 - y) * np.log(1 - yhat))\n"
     ]
    },
    {
     "name": "stdout",
     "output_type": "stream",
     "text": [
      "Results and plots saved to /Users/stijndeboer/Projects/PCN/PCNtoolkit/example_notebooks/resources/blr/save_dir/folds/fold_0/results and /Users/stijndeboer/Projects/PCN/PCNtoolkit/example_notebooks/resources/blr/save_dir/folds/fold_0/plots\n",
      "32654 Saving model to resources/blr/save_dir/folds/fold_0\n",
      "Model saved to /Users/stijndeboer/Projects/PCN/PCNtoolkit/example_notebooks/resources/blr/save_dir/folds/fold_0/model\n",
      "Going to fit and predict 1 models\n",
      "Fitting and predicting model for WM-hypointensities\n"
     ]
    },
    {
     "name": "stderr",
     "output_type": "stream",
     "text": [
      "/opt/anaconda3/envs/dev_refactor/lib/python3.12/site-packages/pcntoolkit/regression_model/blr/warp.py:522: RuntimeWarning: overflow encountered in sinh\n",
      "  y = np.sinh(b * np.arcsinh(x) - a)\n",
      "/opt/anaconda3/envs/dev_refactor/lib/python3.12/site-packages/pcntoolkit/regression_model/blr/blr.py:343: LinAlgWarning: Ill-conditioned matrix (rcond=1.35199e-18): result may not be accurate.\n",
      "  invAXt: np.ndarray = linalg.solve(self.A, X.T, check_finite=False)\n",
      "/opt/anaconda3/envs/dev_refactor/lib/python3.12/site-packages/pcntoolkit/regression_model/blr/blr.py:343: LinAlgWarning: Ill-conditioned matrix (rcond=8.07794e-19): result may not be accurate.\n",
      "  invAXt: np.ndarray = linalg.solve(self.A, X.T, check_finite=False)\n",
      "/opt/anaconda3/envs/dev_refactor/lib/python3.12/site-packages/pcntoolkit/regression_model/blr/blr.py:343: LinAlgWarning: Ill-conditioned matrix (rcond=2.86767e-19): result may not be accurate.\n",
      "  invAXt: np.ndarray = linalg.solve(self.A, X.T, check_finite=False)\n",
      "/opt/anaconda3/envs/dev_refactor/lib/python3.12/site-packages/pcntoolkit/regression_model/blr/blr.py:343: LinAlgWarning: Ill-conditioned matrix (rcond=4.82555e-19): result may not be accurate.\n",
      "  invAXt: np.ndarray = linalg.solve(self.A, X.T, check_finite=False)\n",
      "/opt/anaconda3/envs/dev_refactor/lib/python3.12/site-packages/pcntoolkit/regression_model/blr/blr.py:343: LinAlgWarning: Ill-conditioned matrix (rcond=2.74959e-18): result may not be accurate.\n",
      "  invAXt: np.ndarray = linalg.solve(self.A, X.T, check_finite=False)\n",
      "/opt/anaconda3/envs/dev_refactor/lib/python3.12/site-packages/pcntoolkit/regression_model/blr/blr.py:343: LinAlgWarning: Ill-conditioned matrix (rcond=2.45102e-18): result may not be accurate.\n",
      "  invAXt: np.ndarray = linalg.solve(self.A, X.T, check_finite=False)\n",
      "/opt/anaconda3/envs/dev_refactor/lib/python3.12/site-packages/pcntoolkit/regression_model/blr/blr.py:343: LinAlgWarning: Ill-conditioned matrix (rcond=1.30354e-18): result may not be accurate.\n",
      "  invAXt: np.ndarray = linalg.solve(self.A, X.T, check_finite=False)\n",
      "/opt/anaconda3/envs/dev_refactor/lib/python3.12/site-packages/pcntoolkit/regression_model/blr/blr.py:343: LinAlgWarning: Ill-conditioned matrix (rcond=1.60551e-18): result may not be accurate.\n",
      "  invAXt: np.ndarray = linalg.solve(self.A, X.T, check_finite=False)\n",
      "/opt/anaconda3/envs/dev_refactor/lib/python3.12/site-packages/pcntoolkit/regression_model/blr/blr.py:343: LinAlgWarning: Ill-conditioned matrix (rcond=5.46538e-19): result may not be accurate.\n",
      "  invAXt: np.ndarray = linalg.solve(self.A, X.T, check_finite=False)\n",
      "/opt/anaconda3/envs/dev_refactor/lib/python3.12/site-packages/pcntoolkit/regression_model/blr/blr.py:343: LinAlgWarning: Ill-conditioned matrix (rcond=1.77374e-18): result may not be accurate.\n",
      "  invAXt: np.ndarray = linalg.solve(self.A, X.T, check_finite=False)\n",
      "/opt/anaconda3/envs/dev_refactor/lib/python3.12/site-packages/pcntoolkit/regression_model/blr/blr.py:343: LinAlgWarning: Ill-conditioned matrix (rcond=5.46596e-19): result may not be accurate.\n",
      "  invAXt: np.ndarray = linalg.solve(self.A, X.T, check_finite=False)\n",
      "/opt/anaconda3/envs/dev_refactor/lib/python3.12/site-packages/pcntoolkit/regression_model/blr/blr.py:343: LinAlgWarning: Ill-conditioned matrix (rcond=2.24841e-19): result may not be accurate.\n",
      "  invAXt: np.ndarray = linalg.solve(self.A, X.T, check_finite=False)\n",
      "/opt/anaconda3/envs/dev_refactor/lib/python3.12/site-packages/pcntoolkit/regression_model/blr/blr.py:343: LinAlgWarning: Ill-conditioned matrix (rcond=1.68008e-18): result may not be accurate.\n",
      "  invAXt: np.ndarray = linalg.solve(self.A, X.T, check_finite=False)\n",
      "/opt/anaconda3/envs/dev_refactor/lib/python3.12/site-packages/pcntoolkit/regression_model/blr/blr.py:343: LinAlgWarning: Ill-conditioned matrix (rcond=1.50451e-18): result may not be accurate.\n",
      "  invAXt: np.ndarray = linalg.solve(self.A, X.T, check_finite=False)\n",
      "/opt/anaconda3/envs/dev_refactor/lib/python3.12/site-packages/pcntoolkit/regression_model/blr/blr.py:343: LinAlgWarning: Ill-conditioned matrix (rcond=1.43783e-18): result may not be accurate.\n",
      "  invAXt: np.ndarray = linalg.solve(self.A, X.T, check_finite=False)\n",
      "/opt/anaconda3/envs/dev_refactor/lib/python3.12/site-packages/pcntoolkit/regression_model/blr/blr.py:343: LinAlgWarning: Ill-conditioned matrix (rcond=2.57785e-18): result may not be accurate.\n",
      "  invAXt: np.ndarray = linalg.solve(self.A, X.T, check_finite=False)\n",
      "/opt/anaconda3/envs/dev_refactor/lib/python3.12/site-packages/pcntoolkit/regression_model/blr/blr.py:343: LinAlgWarning: Ill-conditioned matrix (rcond=2.81074e-18): result may not be accurate.\n",
      "  invAXt: np.ndarray = linalg.solve(self.A, X.T, check_finite=False)\n",
      "/opt/anaconda3/envs/dev_refactor/lib/python3.12/site-packages/pcntoolkit/regression_model/blr/blr.py:343: LinAlgWarning: Ill-conditioned matrix (rcond=1.28328e-18): result may not be accurate.\n",
      "  invAXt: np.ndarray = linalg.solve(self.A, X.T, check_finite=False)\n",
      "/opt/anaconda3/envs/dev_refactor/lib/python3.12/site-packages/pcntoolkit/regression_model/blr/blr.py:343: LinAlgWarning: Ill-conditioned matrix (rcond=1.83794e-18): result may not be accurate.\n",
      "  invAXt: np.ndarray = linalg.solve(self.A, X.T, check_finite=False)\n",
      "/opt/anaconda3/envs/dev_refactor/lib/python3.12/site-packages/pcntoolkit/regression_model/blr/blr.py:343: LinAlgWarning: Ill-conditioned matrix (rcond=1.16413e-18): result may not be accurate.\n",
      "  invAXt: np.ndarray = linalg.solve(self.A, X.T, check_finite=False)\n",
      "/opt/anaconda3/envs/dev_refactor/lib/python3.12/site-packages/pcntoolkit/regression_model/blr/blr.py:343: LinAlgWarning: Ill-conditioned matrix (rcond=2.27331e-18): result may not be accurate.\n",
      "  invAXt: np.ndarray = linalg.solve(self.A, X.T, check_finite=False)\n",
      "/opt/anaconda3/envs/dev_refactor/lib/python3.12/site-packages/pcntoolkit/regression_model/blr/blr.py:343: LinAlgWarning: Ill-conditioned matrix (rcond=1.75305e-18): result may not be accurate.\n",
      "  invAXt: np.ndarray = linalg.solve(self.A, X.T, check_finite=False)\n",
      "/opt/anaconda3/envs/dev_refactor/lib/python3.12/site-packages/pcntoolkit/regression_model/blr/blr.py:343: LinAlgWarning: Ill-conditioned matrix (rcond=1.39359e-18): result may not be accurate.\n",
      "  invAXt: np.ndarray = linalg.solve(self.A, X.T, check_finite=False)\n",
      "/opt/anaconda3/envs/dev_refactor/lib/python3.12/site-packages/pcntoolkit/regression_model/blr/blr.py:343: LinAlgWarning: Ill-conditioned matrix (rcond=9.29698e-19): result may not be accurate.\n",
      "  invAXt: np.ndarray = linalg.solve(self.A, X.T, check_finite=False)\n",
      "/opt/anaconda3/envs/dev_refactor/lib/python3.12/site-packages/pcntoolkit/regression_model/blr/blr.py:343: LinAlgWarning: Ill-conditioned matrix (rcond=2.02329e-18): result may not be accurate.\n",
      "  invAXt: np.ndarray = linalg.solve(self.A, X.T, check_finite=False)\n",
      "/opt/anaconda3/envs/dev_refactor/lib/python3.12/site-packages/pcntoolkit/regression_model/blr/blr.py:343: LinAlgWarning: Ill-conditioned matrix (rcond=1.62677e-18): result may not be accurate.\n",
      "  invAXt: np.ndarray = linalg.solve(self.A, X.T, check_finite=False)\n",
      "/opt/anaconda3/envs/dev_refactor/lib/python3.12/site-packages/pcntoolkit/regression_model/blr/blr.py:343: LinAlgWarning: Ill-conditioned matrix (rcond=1.62783e-18): result may not be accurate.\n",
      "  invAXt: np.ndarray = linalg.solve(self.A, X.T, check_finite=False)\n",
      "/opt/anaconda3/envs/dev_refactor/lib/python3.12/site-packages/pcntoolkit/regression_model/blr/blr.py:343: LinAlgWarning: Ill-conditioned matrix (rcond=1.66599e-18): result may not be accurate.\n",
      "  invAXt: np.ndarray = linalg.solve(self.A, X.T, check_finite=False)\n",
      "/opt/anaconda3/envs/dev_refactor/lib/python3.12/site-packages/pcntoolkit/regression_model/blr/warp.py:560: RuntimeWarning: overflow encountered in cosh\n",
      "  dx = (b * np.cosh(b * np.arcsinh(x) - a)) / np.sqrt(1 + x**2)\n",
      "/opt/anaconda3/envs/dev_refactor/lib/python3.12/site-packages/pcntoolkit/regression_model/blr/blr.py:343: LinAlgWarning: Ill-conditioned matrix (rcond=1.16434e-18): result may not be accurate.\n",
      "  invAXt: np.ndarray = linalg.solve(self.A, X.T, check_finite=False)\n",
      "/opt/anaconda3/envs/dev_refactor/lib/python3.12/site-packages/pcntoolkit/regression_model/blr/blr.py:343: LinAlgWarning: Ill-conditioned matrix (rcond=6.72003e-19): result may not be accurate.\n",
      "  invAXt: np.ndarray = linalg.solve(self.A, X.T, check_finite=False)\n",
      "/opt/anaconda3/envs/dev_refactor/lib/python3.12/site-packages/pcntoolkit/regression_model/blr/blr.py:343: LinAlgWarning: Ill-conditioned matrix (rcond=4.20037e-19): result may not be accurate.\n",
      "  invAXt: np.ndarray = linalg.solve(self.A, X.T, check_finite=False)\n",
      "/opt/anaconda3/envs/dev_refactor/lib/python3.12/site-packages/pcntoolkit/regression_model/blr/blr.py:343: LinAlgWarning: Ill-conditioned matrix (rcond=1.35126e-18): result may not be accurate.\n",
      "  invAXt: np.ndarray = linalg.solve(self.A, X.T, check_finite=False)\n",
      "/opt/anaconda3/envs/dev_refactor/lib/python3.12/site-packages/pcntoolkit/regression_model/blr/blr.py:343: LinAlgWarning: Ill-conditioned matrix (rcond=1.35197e-18): result may not be accurate.\n",
      "  invAXt: np.ndarray = linalg.solve(self.A, X.T, check_finite=False)\n",
      "/opt/anaconda3/envs/dev_refactor/lib/python3.12/site-packages/pcntoolkit/util/evaluator.py:341: RuntimeWarning: invalid value encountered in log\n",
      "  nll = -np.mean(y * np.log(yhat) + (1 - y) * np.log(1 - yhat))\n"
     ]
    },
    {
     "name": "stdout",
     "output_type": "stream",
     "text": [
      "Warning: Estimation of posterior distribution failed\n",
      "Warning: Estimation of posterior distribution failed\n",
      "Warning: Estimation of posterior distribution failed\n",
      "Warning: Estimation of posterior distribution failed\n",
      "Warning: Estimation of posterior distribution failed\n",
      "Warning: Estimation of posterior distribution failed\n",
      "Warning: Estimation of posterior distribution failed\n",
      "Warning: Estimation of posterior distribution failed\n",
      "Warning: Estimation of posterior distribution failed\n",
      "Warning: Estimation of posterior distribution failed\n",
      "Warning: Estimation of posterior distribution failed\n",
      "Warning: Estimation of posterior distribution failed\n",
      "Warning: Estimation of posterior distribution failed\n",
      "Warning: Estimation of posterior distribution failed\n",
      "Warning: Estimation of posterior distribution failed\n",
      "Warning: Estimation of posterior distribution failed\n",
      "Warning: Estimation of posterior distribution failed\n",
      "Warning: Estimation of posterior distribution failed\n",
      "Warning: Estimation of posterior distribution failed\n",
      "Warning: Estimation of posterior distribution failed\n",
      "Warning: Estimation of posterior distribution failed\n",
      "Warning: Estimation of posterior distribution failed\n",
      "Warning: Estimation of posterior distribution failed\n",
      "Warning: Estimation of posterior distribution failed\n",
      "Warning: Estimation of posterior distribution failed\n",
      "Warning: Estimation of posterior distribution failed\n",
      "Warning: Estimation of posterior distribution failed\n",
      "Warning: Estimation of posterior distribution failed\n",
      "Warning: Estimation of posterior distribution failed\n",
      "Warning: Estimation of posterior distribution failed\n",
      "Warning: Estimation of posterior distribution failed\n",
      "Warning: Estimation of posterior distribution failed\n",
      "Warning: Estimation of posterior distribution failed\n",
      "Warning: Estimation of posterior distribution failed\n",
      "Warning: Estimation of posterior distribution failed\n",
      "Warning: Estimation of posterior distribution failed\n",
      "Warning: Estimation of posterior distribution failed\n",
      "Warning: Estimation of posterior distribution failed\n",
      "Warning: Estimation of posterior distribution failed\n",
      "Warning: Estimation of posterior distribution failed\n",
      "Warning: Estimation of posterior distribution failed\n",
      "Warning: Estimation of posterior distribution failed\n",
      "Warning: Estimation of posterior distribution failed\n",
      "Warning: Estimation of posterior distribution failed\n",
      "Warning: Estimation of posterior distribution failed\n",
      "Warning: Estimation of posterior distribution failed\n",
      "Warning: Estimation of posterior distribution failed\n",
      "Warning: Estimation of posterior distribution failed\n",
      "Warning: Estimation of posterior distribution failed\n",
      "Warning: Estimation of posterior distribution failed\n",
      "Warning: Estimation of posterior distribution failed\n",
      "Warning: Estimation of posterior distribution failed\n",
      "Warning: Estimation of posterior distribution failed\n",
      "Warning: Estimation of posterior distribution failed\n",
      "Warning: Estimation of posterior distribution failed\n",
      "Warning: Estimation of posterior distribution failed\n",
      "Warning: Estimation of posterior distribution failed\n",
      "Warning: Estimation of posterior distribution failed\n",
      "Warning: Estimation of posterior distribution failed\n",
      "Warning: Estimation of posterior distribution failed\n",
      "Warning: Estimation of posterior distribution failed\n",
      "32653 Saving model to resources/blr/save_dir/folds/fold_1\n",
      "Model saved to /Users/stijndeboer/Projects/PCN/PCNtoolkit/example_notebooks/resources/blr/save_dir/folds/fold_1/model\n",
      "Computing zscores for rh_MeanThickness_thickness\n",
      "Computing centiles for rh_MeanThickness_thickness\n",
      "Computing centiles for rh_MeanThickness_thickness\n",
      "Results and plots saved to /Users/stijndeboer/Projects/PCN/PCNtoolkit/example_notebooks/resources/blr/save_dir/folds/fold_1/results and /Users/stijndeboer/Projects/PCN/PCNtoolkit/example_notebooks/resources/blr/save_dir/folds/fold_1/plots\n",
      "32653 Saving model to resources/blr/save_dir/folds/fold_1\n",
      "Model saved to /Users/stijndeboer/Projects/PCN/PCNtoolkit/example_notebooks/resources/blr/save_dir/folds/fold_1/model\n",
      "Going to fit and predict 1 models\n",
      "Fitting and predicting model for rh_MeanThickness_thickness\n",
      "32654 Saving model to resources/blr/save_dir/folds/fold_1\n",
      "Model saved to /Users/stijndeboer/Projects/PCN/PCNtoolkit/example_notebooks/resources/blr/save_dir/folds/fold_1/model\n",
      "Computing zscores for WM-hypointensities\n",
      "Computing centiles for WM-hypointensities\n",
      "Computing centiles for WM-hypointensities\n"
     ]
    },
    {
     "name": "stderr",
     "output_type": "stream",
     "text": [
      "/opt/anaconda3/envs/dev_refactor/lib/python3.12/site-packages/pcntoolkit/util/evaluator.py:341: RuntimeWarning: invalid value encountered in log\n",
      "  nll = -np.mean(y * np.log(yhat) + (1 - y) * np.log(1 - yhat))\n"
     ]
    },
    {
     "name": "stdout",
     "output_type": "stream",
     "text": [
      "Results and plots saved to /Users/stijndeboer/Projects/PCN/PCNtoolkit/example_notebooks/resources/blr/save_dir/folds/fold_1/results and /Users/stijndeboer/Projects/PCN/PCNtoolkit/example_notebooks/resources/blr/save_dir/folds/fold_1/plots\n",
      "32654 Saving model to resources/blr/save_dir/folds/fold_1\n",
      "Model saved to /Users/stijndeboer/Projects/PCN/PCNtoolkit/example_notebooks/resources/blr/save_dir/folds/fold_1/model\n",
      "Going to fit and predict 1 models\n",
      "Fitting and predicting model for WM-hypointensities\n",
      "32654 Saving model to resources/blr/save_dir/folds/fold_2\n",
      "Model saved to /Users/stijndeboer/Projects/PCN/PCNtoolkit/example_notebooks/resources/blr/save_dir/folds/fold_2/model\n",
      "Computing zscores for WM-hypointensities\n",
      "Computing centiles for WM-hypointensities\n",
      "Computing centiles for WM-hypointensities\n"
     ]
    },
    {
     "name": "stderr",
     "output_type": "stream",
     "text": [
      "/opt/anaconda3/envs/dev_refactor/lib/python3.12/site-packages/pcntoolkit/util/evaluator.py:341: RuntimeWarning: invalid value encountered in log\n",
      "  nll = -np.mean(y * np.log(yhat) + (1 - y) * np.log(1 - yhat))\n"
     ]
    },
    {
     "name": "stdout",
     "output_type": "stream",
     "text": [
      "Results and plots saved to /Users/stijndeboer/Projects/PCN/PCNtoolkit/example_notebooks/resources/blr/save_dir/folds/fold_2/results and /Users/stijndeboer/Projects/PCN/PCNtoolkit/example_notebooks/resources/blr/save_dir/folds/fold_2/plots\n",
      "32654 Saving model to resources/blr/save_dir/folds/fold_2\n",
      "Model saved to /Users/stijndeboer/Projects/PCN/PCNtoolkit/example_notebooks/resources/blr/save_dir/folds/fold_2/model\n",
      "Going to fit and predict 1 models\n",
      "Fitting and predicting model for WM-hypointensities\n",
      "Warning: Estimation of posterior distribution failed\n",
      "Warning: Estimation of posterior distribution failed\n",
      "Warning: Estimation of posterior distribution failed\n",
      "Warning: Estimation of posterior distribution failed\n",
      "Warning: Estimation of posterior distribution failed\n",
      "Warning: Estimation of posterior distribution failed\n",
      "Warning: Estimation of posterior distribution failed\n",
      "Warning: Estimation of posterior distribution failed\n",
      "Warning: Estimation of posterior distribution failed\n",
      "Warning: Estimation of posterior distribution failed\n",
      "Warning: Estimation of posterior distribution failed\n",
      "Warning: Estimation of posterior distribution failed\n",
      "Warning: Estimation of posterior distribution failed\n",
      "Warning: Estimation of posterior distribution failed\n",
      "Warning: Estimation of posterior distribution failed\n",
      "Warning: Estimation of posterior distribution failed\n",
      "Warning: Estimation of posterior distribution failed\n",
      "Warning: Estimation of posterior distribution failed\n",
      "Warning: Estimation of posterior distribution failed\n",
      "Warning: Estimation of posterior distribution failed\n",
      "Warning: Estimation of posterior distribution failed\n",
      "Warning: Estimation of posterior distribution failed\n",
      "Warning: Estimation of posterior distribution failed\n",
      "Warning: Estimation of posterior distribution failed\n",
      "Warning: Estimation of posterior distribution failed\n",
      "Warning: Estimation of posterior distribution failed\n",
      "Warning: Estimation of posterior distribution failed\n",
      "Warning: Estimation of posterior distribution failed\n",
      "Warning: Estimation of posterior distribution failed\n",
      "Warning: Estimation of posterior distribution failed\n",
      "Warning: Estimation of posterior distribution failed\n",
      "Warning: Estimation of posterior distribution failed\n",
      "Warning: Estimation of posterior distribution failed\n",
      "Warning: Estimation of posterior distribution failed\n",
      "Warning: Estimation of posterior distribution failed\n",
      "Warning: Estimation of posterior distribution failed\n",
      "Warning: Estimation of posterior distribution failed\n",
      "Warning: Estimation of posterior distribution failed\n",
      "Warning: Estimation of posterior distribution failed\n",
      "Warning: Estimation of posterior distribution failed\n",
      "Warning: Estimation of posterior distribution failed\n",
      "Warning: Estimation of posterior distribution failed\n",
      "Warning: Estimation of posterior distribution failed\n",
      "Warning: Estimation of posterior distribution failed\n",
      "Warning: Estimation of posterior distribution failed\n",
      "Warning: Estimation of posterior distribution failed\n",
      "Warning: Estimation of posterior distribution failed\n",
      "Warning: Estimation of posterior distribution failed\n",
      "Warning: Estimation of posterior distribution failed\n",
      "Warning: Estimation of posterior distribution failed\n",
      "Warning: Estimation of posterior distribution failed\n",
      "Warning: Estimation of posterior distribution failed\n",
      "Warning: Estimation of posterior distribution failed\n",
      "Warning: Estimation of posterior distribution failed\n",
      "Warning: Estimation of posterior distribution failed\n",
      "Warning: Estimation of posterior distribution failed\n",
      "Warning: Estimation of posterior distribution failed\n",
      "Warning: Estimation of posterior distribution failed\n",
      "Warning: Estimation of posterior distribution failed\n",
      "Warning: Estimation of posterior distribution failed\n"
     ]
    },
    {
     "name": "stderr",
     "output_type": "stream",
     "text": [
      "/opt/anaconda3/envs/dev_refactor/lib/python3.12/site-packages/pcntoolkit/regression_model/blr/warp.py:522: RuntimeWarning: overflow encountered in sinh\n",
      "  y = np.sinh(b * np.arcsinh(x) - a)\n",
      "/opt/anaconda3/envs/dev_refactor/lib/python3.12/site-packages/pcntoolkit/regression_model/blr/blr.py:343: LinAlgWarning: Ill-conditioned matrix (rcond=6.75358e-19): result may not be accurate.\n",
      "  invAXt: np.ndarray = linalg.solve(self.A, X.T, check_finite=False)\n",
      "/opt/anaconda3/envs/dev_refactor/lib/python3.12/site-packages/pcntoolkit/regression_model/blr/blr.py:343: LinAlgWarning: Ill-conditioned matrix (rcond=3.7836e-18): result may not be accurate.\n",
      "  invAXt: np.ndarray = linalg.solve(self.A, X.T, check_finite=False)\n",
      "/opt/anaconda3/envs/dev_refactor/lib/python3.12/site-packages/pcntoolkit/regression_model/blr/blr.py:343: LinAlgWarning: Ill-conditioned matrix (rcond=1.3975e-18): result may not be accurate.\n",
      "  invAXt: np.ndarray = linalg.solve(self.A, X.T, check_finite=False)\n",
      "/opt/anaconda3/envs/dev_refactor/lib/python3.12/site-packages/pcntoolkit/regression_model/blr/blr.py:343: LinAlgWarning: Ill-conditioned matrix (rcond=1.18615e-18): result may not be accurate.\n",
      "  invAXt: np.ndarray = linalg.solve(self.A, X.T, check_finite=False)\n",
      "/opt/anaconda3/envs/dev_refactor/lib/python3.12/site-packages/pcntoolkit/regression_model/blr/blr.py:343: LinAlgWarning: Ill-conditioned matrix (rcond=3.33915e-18): result may not be accurate.\n",
      "  invAXt: np.ndarray = linalg.solve(self.A, X.T, check_finite=False)\n",
      "/opt/anaconda3/envs/dev_refactor/lib/python3.12/site-packages/pcntoolkit/regression_model/blr/blr.py:343: LinAlgWarning: Ill-conditioned matrix (rcond=1.57284e-18): result may not be accurate.\n",
      "  invAXt: np.ndarray = linalg.solve(self.A, X.T, check_finite=False)\n",
      "/opt/anaconda3/envs/dev_refactor/lib/python3.12/site-packages/pcntoolkit/regression_model/blr/blr.py:343: LinAlgWarning: Ill-conditioned matrix (rcond=2.83193e-18): result may not be accurate.\n",
      "  invAXt: np.ndarray = linalg.solve(self.A, X.T, check_finite=False)\n",
      "/opt/anaconda3/envs/dev_refactor/lib/python3.12/site-packages/pcntoolkit/regression_model/blr/blr.py:343: LinAlgWarning: Ill-conditioned matrix (rcond=1.07874e-18): result may not be accurate.\n",
      "  invAXt: np.ndarray = linalg.solve(self.A, X.T, check_finite=False)\n",
      "/opt/anaconda3/envs/dev_refactor/lib/python3.12/site-packages/pcntoolkit/regression_model/blr/blr.py:343: LinAlgWarning: Ill-conditioned matrix (rcond=3.2005e-18): result may not be accurate.\n",
      "  invAXt: np.ndarray = linalg.solve(self.A, X.T, check_finite=False)\n",
      "/opt/anaconda3/envs/dev_refactor/lib/python3.12/site-packages/pcntoolkit/regression_model/blr/blr.py:343: LinAlgWarning: Ill-conditioned matrix (rcond=2.86933e-18): result may not be accurate.\n",
      "  invAXt: np.ndarray = linalg.solve(self.A, X.T, check_finite=False)\n",
      "/opt/anaconda3/envs/dev_refactor/lib/python3.12/site-packages/pcntoolkit/regression_model/blr/blr.py:343: LinAlgWarning: Ill-conditioned matrix (rcond=4.3419e-19): result may not be accurate.\n",
      "  invAXt: np.ndarray = linalg.solve(self.A, X.T, check_finite=False)\n",
      "/opt/anaconda3/envs/dev_refactor/lib/python3.12/site-packages/pcntoolkit/regression_model/blr/blr.py:343: LinAlgWarning: Ill-conditioned matrix (rcond=7.20803e-19): result may not be accurate.\n",
      "  invAXt: np.ndarray = linalg.solve(self.A, X.T, check_finite=False)\n",
      "/opt/anaconda3/envs/dev_refactor/lib/python3.12/site-packages/pcntoolkit/regression_model/blr/blr.py:343: LinAlgWarning: Ill-conditioned matrix (rcond=6.59938e-19): result may not be accurate.\n",
      "  invAXt: np.ndarray = linalg.solve(self.A, X.T, check_finite=False)\n",
      "/opt/anaconda3/envs/dev_refactor/lib/python3.12/site-packages/pcntoolkit/regression_model/blr/blr.py:343: LinAlgWarning: Ill-conditioned matrix (rcond=2.46785e-18): result may not be accurate.\n",
      "  invAXt: np.ndarray = linalg.solve(self.A, X.T, check_finite=False)\n",
      "/opt/anaconda3/envs/dev_refactor/lib/python3.12/site-packages/pcntoolkit/regression_model/blr/blr.py:343: LinAlgWarning: Ill-conditioned matrix (rcond=5.27569e-19): result may not be accurate.\n",
      "  invAXt: np.ndarray = linalg.solve(self.A, X.T, check_finite=False)\n",
      "/opt/anaconda3/envs/dev_refactor/lib/python3.12/site-packages/pcntoolkit/regression_model/blr/blr.py:343: LinAlgWarning: Ill-conditioned matrix (rcond=3.57237e-18): result may not be accurate.\n",
      "  invAXt: np.ndarray = linalg.solve(self.A, X.T, check_finite=False)\n",
      "/opt/anaconda3/envs/dev_refactor/lib/python3.12/site-packages/pcntoolkit/regression_model/blr/warp.py:560: RuntimeWarning: overflow encountered in cosh\n",
      "  dx = (b * np.cosh(b * np.arcsinh(x) - a)) / np.sqrt(1 + x**2)\n",
      "/opt/anaconda3/envs/dev_refactor/lib/python3.12/site-packages/pcntoolkit/regression_model/blr/blr.py:343: LinAlgWarning: Ill-conditioned matrix (rcond=1.32139e-18): result may not be accurate.\n",
      "  invAXt: np.ndarray = linalg.solve(self.A, X.T, check_finite=False)\n",
      "/opt/anaconda3/envs/dev_refactor/lib/python3.12/site-packages/pcntoolkit/regression_model/blr/blr.py:343: LinAlgWarning: Ill-conditioned matrix (rcond=2.09609e-18): result may not be accurate.\n",
      "  invAXt: np.ndarray = linalg.solve(self.A, X.T, check_finite=False)\n",
      "/opt/anaconda3/envs/dev_refactor/lib/python3.12/site-packages/pcntoolkit/regression_model/blr/blr.py:343: LinAlgWarning: Ill-conditioned matrix (rcond=4.35951e-19): result may not be accurate.\n",
      "  invAXt: np.ndarray = linalg.solve(self.A, X.T, check_finite=False)\n",
      "/opt/anaconda3/envs/dev_refactor/lib/python3.12/site-packages/pcntoolkit/regression_model/blr/blr.py:343: LinAlgWarning: Ill-conditioned matrix (rcond=1.39418e-18): result may not be accurate.\n",
      "  invAXt: np.ndarray = linalg.solve(self.A, X.T, check_finite=False)\n",
      "/opt/anaconda3/envs/dev_refactor/lib/python3.12/site-packages/pcntoolkit/regression_model/blr/blr.py:343: LinAlgWarning: Ill-conditioned matrix (rcond=5.46878e-19): result may not be accurate.\n",
      "  invAXt: np.ndarray = linalg.solve(self.A, X.T, check_finite=False)\n",
      "/opt/anaconda3/envs/dev_refactor/lib/python3.12/site-packages/pcntoolkit/regression_model/blr/blr.py:343: LinAlgWarning: Ill-conditioned matrix (rcond=1.98151e-18): result may not be accurate.\n",
      "  invAXt: np.ndarray = linalg.solve(self.A, X.T, check_finite=False)\n",
      "/opt/anaconda3/envs/dev_refactor/lib/python3.12/site-packages/pcntoolkit/regression_model/blr/blr.py:343: LinAlgWarning: Ill-conditioned matrix (rcond=1.98802e-18): result may not be accurate.\n",
      "  invAXt: np.ndarray = linalg.solve(self.A, X.T, check_finite=False)\n",
      "/opt/anaconda3/envs/dev_refactor/lib/python3.12/site-packages/pcntoolkit/regression_model/blr/blr.py:343: LinAlgWarning: Ill-conditioned matrix (rcond=2.22865e-19): result may not be accurate.\n",
      "  invAXt: np.ndarray = linalg.solve(self.A, X.T, check_finite=False)\n",
      "/opt/anaconda3/envs/dev_refactor/lib/python3.12/site-packages/pcntoolkit/regression_model/blr/blr.py:343: LinAlgWarning: Ill-conditioned matrix (rcond=2.4335e-18): result may not be accurate.\n",
      "  invAXt: np.ndarray = linalg.solve(self.A, X.T, check_finite=False)\n",
      "/opt/anaconda3/envs/dev_refactor/lib/python3.12/site-packages/pcntoolkit/regression_model/blr/blr.py:343: LinAlgWarning: Ill-conditioned matrix (rcond=9.5975e-19): result may not be accurate.\n",
      "  invAXt: np.ndarray = linalg.solve(self.A, X.T, check_finite=False)\n",
      "/opt/anaconda3/envs/dev_refactor/lib/python3.12/site-packages/pcntoolkit/regression_model/blr/blr.py:343: LinAlgWarning: Ill-conditioned matrix (rcond=1.69135e-18): result may not be accurate.\n",
      "  invAXt: np.ndarray = linalg.solve(self.A, X.T, check_finite=False)\n",
      "/opt/anaconda3/envs/dev_refactor/lib/python3.12/site-packages/pcntoolkit/regression_model/blr/blr.py:343: LinAlgWarning: Ill-conditioned matrix (rcond=1.84095e-18): result may not be accurate.\n",
      "  invAXt: np.ndarray = linalg.solve(self.A, X.T, check_finite=False)\n",
      "/opt/anaconda3/envs/dev_refactor/lib/python3.12/site-packages/pcntoolkit/regression_model/blr/blr.py:343: LinAlgWarning: Ill-conditioned matrix (rcond=1.26577e-18): result may not be accurate.\n",
      "  invAXt: np.ndarray = linalg.solve(self.A, X.T, check_finite=False)\n",
      "/opt/anaconda3/envs/dev_refactor/lib/python3.12/site-packages/pcntoolkit/regression_model/blr/blr.py:343: LinAlgWarning: Ill-conditioned matrix (rcond=4.79722e-19): result may not be accurate.\n",
      "  invAXt: np.ndarray = linalg.solve(self.A, X.T, check_finite=False)\n",
      "/opt/anaconda3/envs/dev_refactor/lib/python3.12/site-packages/pcntoolkit/regression_model/blr/blr.py:343: LinAlgWarning: Ill-conditioned matrix (rcond=9.70973e-19): result may not be accurate.\n",
      "  invAXt: np.ndarray = linalg.solve(self.A, X.T, check_finite=False)\n",
      "/opt/anaconda3/envs/dev_refactor/lib/python3.12/site-packages/pcntoolkit/regression_model/blr/blr.py:343: LinAlgWarning: Ill-conditioned matrix (rcond=6.75677e-19): result may not be accurate.\n",
      "  invAXt: np.ndarray = linalg.solve(self.A, X.T, check_finite=False)\n",
      "/opt/anaconda3/envs/dev_refactor/lib/python3.12/site-packages/pcntoolkit/regression_model/blr/blr.py:343: LinAlgWarning: Ill-conditioned matrix (rcond=6.75115e-19): result may not be accurate.\n",
      "  invAXt: np.ndarray = linalg.solve(self.A, X.T, check_finite=False)\n",
      "/opt/anaconda3/envs/dev_refactor/lib/python3.12/site-packages/pcntoolkit/regression_model/blr/blr.py:343: LinAlgWarning: Ill-conditioned matrix (rcond=6.74875e-19): result may not be accurate.\n",
      "  invAXt: np.ndarray = linalg.solve(self.A, X.T, check_finite=False)\n",
      "/opt/anaconda3/envs/dev_refactor/lib/python3.12/site-packages/pcntoolkit/util/evaluator.py:341: RuntimeWarning: invalid value encountered in log\n",
      "  nll = -np.mean(y * np.log(yhat) + (1 - y) * np.log(1 - yhat))\n"
     ]
    },
    {
     "name": "stdout",
     "output_type": "stream",
     "text": [
      "32653 Saving model to resources/blr/save_dir/folds/fold_2\n",
      "Model saved to /Users/stijndeboer/Projects/PCN/PCNtoolkit/example_notebooks/resources/blr/save_dir/folds/fold_2/model\n",
      "Computing zscores for rh_MeanThickness_thickness\n",
      "Computing centiles for rh_MeanThickness_thickness\n",
      "Computing centiles for rh_MeanThickness_thickness\n",
      "Results and plots saved to /Users/stijndeboer/Projects/PCN/PCNtoolkit/example_notebooks/resources/blr/save_dir/folds/fold_2/results and /Users/stijndeboer/Projects/PCN/PCNtoolkit/example_notebooks/resources/blr/save_dir/folds/fold_2/plots\n",
      "32653 Saving model to resources/blr/save_dir/folds/fold_2\n",
      "Model saved to /Users/stijndeboer/Projects/PCN/PCNtoolkit/example_notebooks/resources/blr/save_dir/folds/fold_2/model\n",
      "Going to fit and predict 1 models\n",
      "Fitting and predicting model for rh_MeanThickness_thickness\n"
     ]
    },
    {
     "name": "stderr",
     "output_type": "stream",
     "text": [
      "/opt/anaconda3/envs/dev_refactor/lib/python3.12/site-packages/pcntoolkit/regression_model/blr/blr.py:343: LinAlgWarning: Ill-conditioned matrix (rcond=6.38167e-17): result may not be accurate.\n",
      "  invAXt: np.ndarray = linalg.solve(self.A, X.T, check_finite=False)\n",
      "/opt/anaconda3/envs/dev_refactor/lib/python3.12/site-packages/pcntoolkit/regression_model/blr/blr.py:343: LinAlgWarning: Ill-conditioned matrix (rcond=6.68807e-17): result may not be accurate.\n",
      "  invAXt: np.ndarray = linalg.solve(self.A, X.T, check_finite=False)\n",
      "/opt/anaconda3/envs/dev_refactor/lib/python3.12/site-packages/pcntoolkit/regression_model/blr/blr.py:343: LinAlgWarning: Ill-conditioned matrix (rcond=7.81702e-17): result may not be accurate.\n",
      "  invAXt: np.ndarray = linalg.solve(self.A, X.T, check_finite=False)\n",
      "/opt/anaconda3/envs/dev_refactor/lib/python3.12/site-packages/pcntoolkit/regression_model/blr/blr.py:343: LinAlgWarning: Ill-conditioned matrix (rcond=6.78507e-17): result may not be accurate.\n",
      "  invAXt: np.ndarray = linalg.solve(self.A, X.T, check_finite=False)\n",
      "/opt/anaconda3/envs/dev_refactor/lib/python3.12/site-packages/pcntoolkit/regression_model/blr/blr.py:343: LinAlgWarning: Ill-conditioned matrix (rcond=6.69489e-17): result may not be accurate.\n",
      "  invAXt: np.ndarray = linalg.solve(self.A, X.T, check_finite=False)\n",
      "/opt/anaconda3/envs/dev_refactor/lib/python3.12/site-packages/pcntoolkit/regression_model/blr/blr.py:343: LinAlgWarning: Ill-conditioned matrix (rcond=6.5575e-17): result may not be accurate.\n",
      "  invAXt: np.ndarray = linalg.solve(self.A, X.T, check_finite=False)\n",
      "/opt/anaconda3/envs/dev_refactor/lib/python3.12/site-packages/pcntoolkit/regression_model/blr/blr.py:343: LinAlgWarning: Ill-conditioned matrix (rcond=7.4777e-17): result may not be accurate.\n",
      "  invAXt: np.ndarray = linalg.solve(self.A, X.T, check_finite=False)\n",
      "/opt/anaconda3/envs/dev_refactor/lib/python3.12/site-packages/pcntoolkit/regression_model/blr/blr.py:343: LinAlgWarning: Ill-conditioned matrix (rcond=5.92917e-17): result may not be accurate.\n",
      "  invAXt: np.ndarray = linalg.solve(self.A, X.T, check_finite=False)\n",
      "/opt/anaconda3/envs/dev_refactor/lib/python3.12/site-packages/pcntoolkit/regression_model/blr/blr.py:343: LinAlgWarning: Ill-conditioned matrix (rcond=6.10756e-17): result may not be accurate.\n",
      "  invAXt: np.ndarray = linalg.solve(self.A, X.T, check_finite=False)\n",
      "/opt/anaconda3/envs/dev_refactor/lib/python3.12/site-packages/pcntoolkit/regression_model/blr/blr.py:343: LinAlgWarning: Ill-conditioned matrix (rcond=6.14948e-17): result may not be accurate.\n",
      "  invAXt: np.ndarray = linalg.solve(self.A, X.T, check_finite=False)\n",
      "/opt/anaconda3/envs/dev_refactor/lib/python3.12/site-packages/pcntoolkit/regression_model/blr/blr.py:343: LinAlgWarning: Ill-conditioned matrix (rcond=6.52159e-17): result may not be accurate.\n",
      "  invAXt: np.ndarray = linalg.solve(self.A, X.T, check_finite=False)\n",
      "/opt/anaconda3/envs/dev_refactor/lib/python3.12/site-packages/pcntoolkit/regression_model/blr/blr.py:343: LinAlgWarning: Ill-conditioned matrix (rcond=6.07991e-17): result may not be accurate.\n",
      "  invAXt: np.ndarray = linalg.solve(self.A, X.T, check_finite=False)\n",
      "/opt/anaconda3/envs/dev_refactor/lib/python3.12/site-packages/pcntoolkit/regression_model/blr/blr.py:343: LinAlgWarning: Ill-conditioned matrix (rcond=6.69392e-17): result may not be accurate.\n",
      "  invAXt: np.ndarray = linalg.solve(self.A, X.T, check_finite=False)\n",
      "/opt/anaconda3/envs/dev_refactor/lib/python3.12/site-packages/pcntoolkit/regression_model/blr/blr.py:343: LinAlgWarning: Ill-conditioned matrix (rcond=6.38121e-17): result may not be accurate.\n",
      "  invAXt: np.ndarray = linalg.solve(self.A, X.T, check_finite=False)\n",
      "/opt/anaconda3/envs/dev_refactor/lib/python3.12/site-packages/pcntoolkit/regression_model/blr/blr.py:343: LinAlgWarning: Ill-conditioned matrix (rcond=6.31944e-17): result may not be accurate.\n",
      "  invAXt: np.ndarray = linalg.solve(self.A, X.T, check_finite=False)\n",
      "/opt/anaconda3/envs/dev_refactor/lib/python3.12/site-packages/pcntoolkit/regression_model/blr/blr.py:343: LinAlgWarning: Ill-conditioned matrix (rcond=5.88938e-17): result may not be accurate.\n",
      "  invAXt: np.ndarray = linalg.solve(self.A, X.T, check_finite=False)\n",
      "/opt/anaconda3/envs/dev_refactor/lib/python3.12/site-packages/pcntoolkit/regression_model/blr/blr.py:343: LinAlgWarning: Ill-conditioned matrix (rcond=7.023e-17): result may not be accurate.\n",
      "  invAXt: np.ndarray = linalg.solve(self.A, X.T, check_finite=False)\n",
      "/opt/anaconda3/envs/dev_refactor/lib/python3.12/site-packages/pcntoolkit/regression_model/blr/blr.py:343: LinAlgWarning: Ill-conditioned matrix (rcond=6.66784e-17): result may not be accurate.\n",
      "  invAXt: np.ndarray = linalg.solve(self.A, X.T, check_finite=False)\n",
      "/opt/anaconda3/envs/dev_refactor/lib/python3.12/site-packages/pcntoolkit/regression_model/blr/blr.py:343: LinAlgWarning: Ill-conditioned matrix (rcond=6.75289e-17): result may not be accurate.\n",
      "  invAXt: np.ndarray = linalg.solve(self.A, X.T, check_finite=False)\n",
      "/opt/anaconda3/envs/dev_refactor/lib/python3.12/site-packages/pcntoolkit/regression_model/blr/blr.py:343: LinAlgWarning: Ill-conditioned matrix (rcond=5.87507e-17): result may not be accurate.\n",
      "  invAXt: np.ndarray = linalg.solve(self.A, X.T, check_finite=False)\n",
      "/opt/anaconda3/envs/dev_refactor/lib/python3.12/site-packages/pcntoolkit/regression_model/blr/blr.py:343: LinAlgWarning: Ill-conditioned matrix (rcond=6.02342e-17): result may not be accurate.\n",
      "  invAXt: np.ndarray = linalg.solve(self.A, X.T, check_finite=False)\n",
      "/opt/anaconda3/envs/dev_refactor/lib/python3.12/site-packages/pcntoolkit/regression_model/blr/blr.py:343: LinAlgWarning: Ill-conditioned matrix (rcond=6.89048e-17): result may not be accurate.\n",
      "  invAXt: np.ndarray = linalg.solve(self.A, X.T, check_finite=False)\n",
      "/opt/anaconda3/envs/dev_refactor/lib/python3.12/site-packages/pcntoolkit/regression_model/blr/blr.py:343: LinAlgWarning: Ill-conditioned matrix (rcond=6.66274e-17): result may not be accurate.\n",
      "  invAXt: np.ndarray = linalg.solve(self.A, X.T, check_finite=False)\n",
      "/opt/anaconda3/envs/dev_refactor/lib/python3.12/site-packages/pcntoolkit/regression_model/blr/blr.py:343: LinAlgWarning: Ill-conditioned matrix (rcond=6.79868e-17): result may not be accurate.\n",
      "  invAXt: np.ndarray = linalg.solve(self.A, X.T, check_finite=False)\n",
      "/opt/anaconda3/envs/dev_refactor/lib/python3.12/site-packages/pcntoolkit/regression_model/blr/blr.py:343: LinAlgWarning: Ill-conditioned matrix (rcond=5.69963e-17): result may not be accurate.\n",
      "  invAXt: np.ndarray = linalg.solve(self.A, X.T, check_finite=False)\n",
      "/opt/anaconda3/envs/dev_refactor/lib/python3.12/site-packages/pcntoolkit/regression_model/blr/blr.py:343: LinAlgWarning: Ill-conditioned matrix (rcond=5.87735e-17): result may not be accurate.\n",
      "  invAXt: np.ndarray = linalg.solve(self.A, X.T, check_finite=False)\n",
      "/opt/anaconda3/envs/dev_refactor/lib/python3.12/site-packages/pcntoolkit/regression_model/blr/blr.py:343: LinAlgWarning: Ill-conditioned matrix (rcond=6.38123e-17): result may not be accurate.\n",
      "  invAXt: np.ndarray = linalg.solve(self.A, X.T, check_finite=False)\n",
      "/opt/anaconda3/envs/dev_refactor/lib/python3.12/site-packages/pcntoolkit/regression_model/blr/blr.py:343: LinAlgWarning: Ill-conditioned matrix (rcond=6.43318e-17): result may not be accurate.\n",
      "  invAXt: np.ndarray = linalg.solve(self.A, X.T, check_finite=False)\n",
      "/opt/anaconda3/envs/dev_refactor/lib/python3.12/site-packages/pcntoolkit/regression_model/blr/blr.py:343: LinAlgWarning: Ill-conditioned matrix (rcond=6.43769e-17): result may not be accurate.\n",
      "  invAXt: np.ndarray = linalg.solve(self.A, X.T, check_finite=False)\n",
      "/opt/anaconda3/envs/dev_refactor/lib/python3.12/site-packages/pcntoolkit/regression_model/blr/blr.py:343: LinAlgWarning: Ill-conditioned matrix (rcond=6.43956e-17): result may not be accurate.\n",
      "  invAXt: np.ndarray = linalg.solve(self.A, X.T, check_finite=False)\n",
      "/opt/anaconda3/envs/dev_refactor/lib/python3.12/site-packages/pcntoolkit/regression_model/blr/blr.py:343: LinAlgWarning: Ill-conditioned matrix (rcond=6.44669e-17): result may not be accurate.\n",
      "  invAXt: np.ndarray = linalg.solve(self.A, X.T, check_finite=False)\n",
      "/opt/anaconda3/envs/dev_refactor/lib/python3.12/site-packages/pcntoolkit/regression_model/blr/blr.py:343: LinAlgWarning: Ill-conditioned matrix (rcond=6.44603e-17): result may not be accurate.\n",
      "  invAXt: np.ndarray = linalg.solve(self.A, X.T, check_finite=False)\n",
      "/opt/anaconda3/envs/dev_refactor/lib/python3.12/site-packages/pcntoolkit/regression_model/blr/blr.py:343: LinAlgWarning: Ill-conditioned matrix (rcond=6.40937e-17): result may not be accurate.\n",
      "  invAXt: np.ndarray = linalg.solve(self.A, X.T, check_finite=False)\n",
      "/opt/anaconda3/envs/dev_refactor/lib/python3.12/site-packages/pcntoolkit/regression_model/blr/blr.py:343: LinAlgWarning: Ill-conditioned matrix (rcond=6.42758e-17): result may not be accurate.\n",
      "  invAXt: np.ndarray = linalg.solve(self.A, X.T, check_finite=False)\n",
      "/opt/anaconda3/envs/dev_refactor/lib/python3.12/site-packages/pcntoolkit/regression_model/blr/blr.py:343: LinAlgWarning: Ill-conditioned matrix (rcond=6.39535e-17): result may not be accurate.\n",
      "  invAXt: np.ndarray = linalg.solve(self.A, X.T, check_finite=False)\n",
      "/opt/anaconda3/envs/dev_refactor/lib/python3.12/site-packages/pcntoolkit/regression_model/blr/blr.py:343: LinAlgWarning: Ill-conditioned matrix (rcond=6.39703e-17): result may not be accurate.\n",
      "  invAXt: np.ndarray = linalg.solve(self.A, X.T, check_finite=False)\n",
      "/opt/anaconda3/envs/dev_refactor/lib/python3.12/site-packages/pcntoolkit/regression_model/blr/blr.py:343: LinAlgWarning: Ill-conditioned matrix (rcond=6.39719e-17): result may not be accurate.\n",
      "  invAXt: np.ndarray = linalg.solve(self.A, X.T, check_finite=False)\n",
      "/opt/anaconda3/envs/dev_refactor/lib/python3.12/site-packages/pcntoolkit/regression_model/blr/blr.py:343: LinAlgWarning: Ill-conditioned matrix (rcond=6.39407e-17): result may not be accurate.\n",
      "  invAXt: np.ndarray = linalg.solve(self.A, X.T, check_finite=False)\n",
      "/opt/anaconda3/envs/dev_refactor/lib/python3.12/site-packages/pcntoolkit/regression_model/blr/blr.py:343: LinAlgWarning: Ill-conditioned matrix (rcond=6.38207e-17): result may not be accurate.\n",
      "  invAXt: np.ndarray = linalg.solve(self.A, X.T, check_finite=False)\n",
      "/opt/anaconda3/envs/dev_refactor/lib/python3.12/site-packages/pcntoolkit/regression_model/blr/blr.py:343: LinAlgWarning: Ill-conditioned matrix (rcond=6.39268e-17): result may not be accurate.\n",
      "  invAXt: np.ndarray = linalg.solve(self.A, X.T, check_finite=False)\n",
      "/opt/anaconda3/envs/dev_refactor/lib/python3.12/site-packages/pcntoolkit/regression_model/blr/blr.py:343: LinAlgWarning: Ill-conditioned matrix (rcond=6.39733e-17): result may not be accurate.\n",
      "  invAXt: np.ndarray = linalg.solve(self.A, X.T, check_finite=False)\n",
      "/opt/anaconda3/envs/dev_refactor/lib/python3.12/site-packages/pcntoolkit/regression_model/blr/blr.py:343: LinAlgWarning: Ill-conditioned matrix (rcond=6.39727e-17): result may not be accurate.\n",
      "  invAXt: np.ndarray = linalg.solve(self.A, X.T, check_finite=False)\n",
      "/opt/anaconda3/envs/dev_refactor/lib/python3.12/site-packages/pcntoolkit/regression_model/blr/blr.py:343: LinAlgWarning: Ill-conditioned matrix (rcond=6.39712e-17): result may not be accurate.\n",
      "  invAXt: np.ndarray = linalg.solve(self.A, X.T, check_finite=False)\n",
      "/opt/anaconda3/envs/dev_refactor/lib/python3.12/site-packages/pcntoolkit/regression_model/blr/blr.py:343: LinAlgWarning: Ill-conditioned matrix (rcond=6.397e-17): result may not be accurate.\n",
      "  invAXt: np.ndarray = linalg.solve(self.A, X.T, check_finite=False)\n",
      "/opt/anaconda3/envs/dev_refactor/lib/python3.12/site-packages/pcntoolkit/regression_model/blr/blr.py:343: LinAlgWarning: Ill-conditioned matrix (rcond=6.39428e-17): result may not be accurate.\n",
      "  invAXt: np.ndarray = linalg.solve(self.A, X.T, check_finite=False)\n",
      "/opt/anaconda3/envs/dev_refactor/lib/python3.12/site-packages/pcntoolkit/regression_model/blr/blr.py:343: LinAlgWarning: Ill-conditioned matrix (rcond=6.39725e-17): result may not be accurate.\n",
      "  invAXt: np.ndarray = linalg.solve(self.A, X.T, check_finite=False)\n",
      "/opt/anaconda3/envs/dev_refactor/lib/python3.12/site-packages/pcntoolkit/regression_model/blr/blr.py:343: LinAlgWarning: Ill-conditioned matrix (rcond=6.3959e-17): result may not be accurate.\n",
      "  invAXt: np.ndarray = linalg.solve(self.A, X.T, check_finite=False)\n",
      "/opt/anaconda3/envs/dev_refactor/lib/python3.12/site-packages/pcntoolkit/regression_model/blr/blr.py:343: LinAlgWarning: Ill-conditioned matrix (rcond=6.39731e-17): result may not be accurate.\n",
      "  invAXt: np.ndarray = linalg.solve(self.A, X.T, check_finite=False)\n",
      "/opt/anaconda3/envs/dev_refactor/lib/python3.12/site-packages/pcntoolkit/regression_model/blr/blr.py:343: LinAlgWarning: Ill-conditioned matrix (rcond=6.39514e-17): result may not be accurate.\n",
      "  invAXt: np.ndarray = linalg.solve(self.A, X.T, check_finite=False)\n"
     ]
    },
    {
     "name": "stdout",
     "output_type": "stream",
     "text": [
      "32654 Saving model to resources/blr/save_dir/folds/fold_3\n",
      "Model saved to /Users/stijndeboer/Projects/PCN/PCNtoolkit/example_notebooks/resources/blr/save_dir/folds/fold_3/model\n",
      "Computing zscores for WM-hypointensities\n",
      "Computing centiles for WM-hypointensities\n",
      "Computing centiles for WM-hypointensities\n"
     ]
    },
    {
     "name": "stderr",
     "output_type": "stream",
     "text": [
      "/opt/anaconda3/envs/dev_refactor/lib/python3.12/site-packages/pcntoolkit/util/evaluator.py:341: RuntimeWarning: invalid value encountered in log\n",
      "  nll = -np.mean(y * np.log(yhat) + (1 - y) * np.log(1 - yhat))\n",
      "/opt/anaconda3/envs/dev_refactor/lib/python3.12/site-packages/pcntoolkit/regression_model/blr/warp.py:522: RuntimeWarning: overflow encountered in sinh\n",
      "  y = np.sinh(b * np.arcsinh(x) - a)\n",
      "/opt/anaconda3/envs/dev_refactor/lib/python3.12/site-packages/pcntoolkit/regression_model/blr/blr.py:343: LinAlgWarning: Ill-conditioned matrix (rcond=6.22442e-19): result may not be accurate.\n",
      "  invAXt: np.ndarray = linalg.solve(self.A, X.T, check_finite=False)\n",
      "/opt/anaconda3/envs/dev_refactor/lib/python3.12/site-packages/pcntoolkit/regression_model/blr/blr.py:343: LinAlgWarning: Ill-conditioned matrix (rcond=1.01384e-18): result may not be accurate.\n",
      "  invAXt: np.ndarray = linalg.solve(self.A, X.T, check_finite=False)\n",
      "/opt/anaconda3/envs/dev_refactor/lib/python3.12/site-packages/pcntoolkit/regression_model/blr/blr.py:343: LinAlgWarning: Ill-conditioned matrix (rcond=1.09774e-18): result may not be accurate.\n",
      "  invAXt: np.ndarray = linalg.solve(self.A, X.T, check_finite=False)\n",
      "/opt/anaconda3/envs/dev_refactor/lib/python3.12/site-packages/pcntoolkit/regression_model/blr/blr.py:343: LinAlgWarning: Ill-conditioned matrix (rcond=1.57441e-18): result may not be accurate.\n",
      "  invAXt: np.ndarray = linalg.solve(self.A, X.T, check_finite=False)\n",
      "/opt/anaconda3/envs/dev_refactor/lib/python3.12/site-packages/pcntoolkit/regression_model/blr/blr.py:343: LinAlgWarning: Ill-conditioned matrix (rcond=2.0893e-18): result may not be accurate.\n",
      "  invAXt: np.ndarray = linalg.solve(self.A, X.T, check_finite=False)\n",
      "/opt/anaconda3/envs/dev_refactor/lib/python3.12/site-packages/pcntoolkit/regression_model/blr/warp.py:560: RuntimeWarning: overflow encountered in cosh\n",
      "  dx = (b * np.cosh(b * np.arcsinh(x) - a)) / np.sqrt(1 + x**2)\n",
      "/opt/anaconda3/envs/dev_refactor/lib/python3.12/site-packages/pcntoolkit/regression_model/blr/blr.py:343: LinAlgWarning: Ill-conditioned matrix (rcond=9.89072e-19): result may not be accurate.\n",
      "  invAXt: np.ndarray = linalg.solve(self.A, X.T, check_finite=False)\n",
      "/opt/anaconda3/envs/dev_refactor/lib/python3.12/site-packages/pcntoolkit/regression_model/blr/blr.py:343: LinAlgWarning: Ill-conditioned matrix (rcond=6.20459e-19): result may not be accurate.\n",
      "  invAXt: np.ndarray = linalg.solve(self.A, X.T, check_finite=False)\n",
      "/opt/anaconda3/envs/dev_refactor/lib/python3.12/site-packages/pcntoolkit/regression_model/blr/blr.py:343: LinAlgWarning: Ill-conditioned matrix (rcond=3.06923e-19): result may not be accurate.\n",
      "  invAXt: np.ndarray = linalg.solve(self.A, X.T, check_finite=False)\n",
      "/opt/anaconda3/envs/dev_refactor/lib/python3.12/site-packages/pcntoolkit/regression_model/blr/blr.py:343: LinAlgWarning: Ill-conditioned matrix (rcond=1.37325e-18): result may not be accurate.\n",
      "  invAXt: np.ndarray = linalg.solve(self.A, X.T, check_finite=False)\n",
      "/opt/anaconda3/envs/dev_refactor/lib/python3.12/site-packages/pcntoolkit/regression_model/blr/blr.py:343: LinAlgWarning: Ill-conditioned matrix (rcond=6.20145e-19): result may not be accurate.\n",
      "  invAXt: np.ndarray = linalg.solve(self.A, X.T, check_finite=False)\n",
      "/opt/anaconda3/envs/dev_refactor/lib/python3.12/site-packages/pcntoolkit/regression_model/blr/blr.py:343: LinAlgWarning: Ill-conditioned matrix (rcond=3.02543e-19): result may not be accurate.\n",
      "  invAXt: np.ndarray = linalg.solve(self.A, X.T, check_finite=False)\n",
      "/opt/anaconda3/envs/dev_refactor/lib/python3.12/site-packages/pcntoolkit/regression_model/blr/blr.py:343: LinAlgWarning: Ill-conditioned matrix (rcond=6.13804e-20): result may not be accurate.\n",
      "  invAXt: np.ndarray = linalg.solve(self.A, X.T, check_finite=False)\n",
      "/opt/anaconda3/envs/dev_refactor/lib/python3.12/site-packages/pcntoolkit/regression_model/blr/blr.py:343: LinAlgWarning: Ill-conditioned matrix (rcond=3.99681e-20): result may not be accurate.\n",
      "  invAXt: np.ndarray = linalg.solve(self.A, X.T, check_finite=False)\n",
      "/opt/anaconda3/envs/dev_refactor/lib/python3.12/site-packages/pcntoolkit/regression_model/blr/blr.py:343: LinAlgWarning: Ill-conditioned matrix (rcond=5.6537e-19): result may not be accurate.\n",
      "  invAXt: np.ndarray = linalg.solve(self.A, X.T, check_finite=False)\n",
      "/opt/anaconda3/envs/dev_refactor/lib/python3.12/site-packages/pcntoolkit/regression_model/blr/blr.py:343: LinAlgWarning: Ill-conditioned matrix (rcond=8.6343e-19): result may not be accurate.\n",
      "  invAXt: np.ndarray = linalg.solve(self.A, X.T, check_finite=False)\n",
      "/opt/anaconda3/envs/dev_refactor/lib/python3.12/site-packages/pcntoolkit/regression_model/blr/blr.py:343: LinAlgWarning: Ill-conditioned matrix (rcond=7.36337e-19): result may not be accurate.\n",
      "  invAXt: np.ndarray = linalg.solve(self.A, X.T, check_finite=False)\n",
      "/opt/anaconda3/envs/dev_refactor/lib/python3.12/site-packages/pcntoolkit/regression_model/blr/blr.py:343: LinAlgWarning: Ill-conditioned matrix (rcond=3.27718e-19): result may not be accurate.\n",
      "  invAXt: np.ndarray = linalg.solve(self.A, X.T, check_finite=False)\n",
      "/opt/anaconda3/envs/dev_refactor/lib/python3.12/site-packages/pcntoolkit/regression_model/blr/blr.py:343: LinAlgWarning: Ill-conditioned matrix (rcond=8.6965e-19): result may not be accurate.\n",
      "  invAXt: np.ndarray = linalg.solve(self.A, X.T, check_finite=False)\n",
      "/opt/anaconda3/envs/dev_refactor/lib/python3.12/site-packages/pcntoolkit/regression_model/blr/blr.py:343: LinAlgWarning: Ill-conditioned matrix (rcond=4.09787e-19): result may not be accurate.\n",
      "  invAXt: np.ndarray = linalg.solve(self.A, X.T, check_finite=False)\n",
      "/opt/anaconda3/envs/dev_refactor/lib/python3.12/site-packages/pcntoolkit/regression_model/blr/blr.py:343: LinAlgWarning: Ill-conditioned matrix (rcond=6.9206e-19): result may not be accurate.\n",
      "  invAXt: np.ndarray = linalg.solve(self.A, X.T, check_finite=False)\n",
      "/opt/anaconda3/envs/dev_refactor/lib/python3.12/site-packages/pcntoolkit/regression_model/blr/blr.py:343: LinAlgWarning: Ill-conditioned matrix (rcond=1.60374e-19): result may not be accurate.\n",
      "  invAXt: np.ndarray = linalg.solve(self.A, X.T, check_finite=False)\n",
      "/opt/anaconda3/envs/dev_refactor/lib/python3.12/site-packages/pcntoolkit/regression_model/blr/blr.py:343: LinAlgWarning: Ill-conditioned matrix (rcond=4.76626e-19): result may not be accurate.\n",
      "  invAXt: np.ndarray = linalg.solve(self.A, X.T, check_finite=False)\n",
      "/opt/anaconda3/envs/dev_refactor/lib/python3.12/site-packages/pcntoolkit/regression_model/blr/blr.py:343: LinAlgWarning: Ill-conditioned matrix (rcond=7.04825e-19): result may not be accurate.\n",
      "  invAXt: np.ndarray = linalg.solve(self.A, X.T, check_finite=False)\n",
      "/opt/anaconda3/envs/dev_refactor/lib/python3.12/site-packages/pcntoolkit/regression_model/blr/blr.py:343: LinAlgWarning: Ill-conditioned matrix (rcond=3.00502e-18): result may not be accurate.\n",
      "  invAXt: np.ndarray = linalg.solve(self.A, X.T, check_finite=False)\n",
      "/opt/anaconda3/envs/dev_refactor/lib/python3.12/site-packages/pcntoolkit/regression_model/blr/blr.py:343: LinAlgWarning: Ill-conditioned matrix (rcond=1.18544e-18): result may not be accurate.\n",
      "  invAXt: np.ndarray = linalg.solve(self.A, X.T, check_finite=False)\n",
      "/opt/anaconda3/envs/dev_refactor/lib/python3.12/site-packages/pcntoolkit/regression_model/blr/blr.py:343: LinAlgWarning: Ill-conditioned matrix (rcond=3.65029e-19): result may not be accurate.\n",
      "  invAXt: np.ndarray = linalg.solve(self.A, X.T, check_finite=False)\n",
      "/opt/anaconda3/envs/dev_refactor/lib/python3.12/site-packages/pcntoolkit/regression_model/blr/blr.py:343: LinAlgWarning: Ill-conditioned matrix (rcond=6.53825e-19): result may not be accurate.\n",
      "  invAXt: np.ndarray = linalg.solve(self.A, X.T, check_finite=False)\n",
      "/opt/anaconda3/envs/dev_refactor/lib/python3.12/site-packages/pcntoolkit/regression_model/blr/blr.py:343: LinAlgWarning: Ill-conditioned matrix (rcond=2.7629e-19): result may not be accurate.\n",
      "  invAXt: np.ndarray = linalg.solve(self.A, X.T, check_finite=False)\n",
      "/opt/anaconda3/envs/dev_refactor/lib/python3.12/site-packages/pcntoolkit/regression_model/blr/blr.py:343: LinAlgWarning: Ill-conditioned matrix (rcond=3.77238e-19): result may not be accurate.\n",
      "  invAXt: np.ndarray = linalg.solve(self.A, X.T, check_finite=False)\n",
      "/opt/anaconda3/envs/dev_refactor/lib/python3.12/site-packages/pcntoolkit/regression_model/blr/blr.py:343: LinAlgWarning: Ill-conditioned matrix (rcond=7.58121e-20): result may not be accurate.\n",
      "  invAXt: np.ndarray = linalg.solve(self.A, X.T, check_finite=False)\n",
      "/opt/anaconda3/envs/dev_refactor/lib/python3.12/site-packages/pcntoolkit/regression_model/blr/blr.py:343: LinAlgWarning: Ill-conditioned matrix (rcond=1.69955e-19): result may not be accurate.\n",
      "  invAXt: np.ndarray = linalg.solve(self.A, X.T, check_finite=False)\n",
      "/opt/anaconda3/envs/dev_refactor/lib/python3.12/site-packages/pcntoolkit/regression_model/blr/blr.py:343: LinAlgWarning: Ill-conditioned matrix (rcond=6.12571e-19): result may not be accurate.\n",
      "  invAXt: np.ndarray = linalg.solve(self.A, X.T, check_finite=False)\n",
      "/opt/anaconda3/envs/dev_refactor/lib/python3.12/site-packages/pcntoolkit/regression_model/blr/blr.py:343: LinAlgWarning: Ill-conditioned matrix (rcond=6.22421e-19): result may not be accurate.\n",
      "  invAXt: np.ndarray = linalg.solve(self.A, X.T, check_finite=False)\n",
      "/opt/anaconda3/envs/dev_refactor/lib/python3.12/site-packages/pcntoolkit/regression_model/blr/blr.py:343: LinAlgWarning: Ill-conditioned matrix (rcond=6.22326e-19): result may not be accurate.\n",
      "  invAXt: np.ndarray = linalg.solve(self.A, X.T, check_finite=False)\n",
      "/opt/anaconda3/envs/dev_refactor/lib/python3.12/site-packages/pcntoolkit/regression_model/blr/blr.py:343: LinAlgWarning: Ill-conditioned matrix (rcond=6.22438e-19): result may not be accurate.\n",
      "  invAXt: np.ndarray = linalg.solve(self.A, X.T, check_finite=False)\n",
      "/opt/anaconda3/envs/dev_refactor/lib/python3.12/site-packages/pcntoolkit/util/evaluator.py:341: RuntimeWarning: invalid value encountered in log\n",
      "  nll = -np.mean(y * np.log(yhat) + (1 - y) * np.log(1 - yhat))\n"
     ]
    },
    {
     "name": "stdout",
     "output_type": "stream",
     "text": [
      "Warning: Estimation of posterior distribution failed\n",
      "Warning: Estimation of posterior distribution failed\n",
      "Warning: Estimation of posterior distribution failed\n",
      "Warning: Estimation of posterior distribution failed\n",
      "Warning: Estimation of posterior distribution failed\n",
      "Warning: Estimation of posterior distribution failed\n",
      "Warning: Estimation of posterior distribution failed\n",
      "Warning: Estimation of posterior distribution failed\n",
      "Warning: Estimation of posterior distribution failed\n",
      "Warning: Estimation of posterior distribution failed\n",
      "Warning: Estimation of posterior distribution failed\n",
      "Warning: Estimation of posterior distribution failed\n",
      "Warning: Estimation of posterior distribution failed\n",
      "Warning: Estimation of posterior distribution failed\n",
      "Warning: Estimation of posterior distribution failed\n",
      "Warning: Estimation of posterior distribution failed\n",
      "Warning: Estimation of posterior distribution failed\n",
      "Warning: Estimation of posterior distribution failed\n",
      "Warning: Estimation of posterior distribution failed\n",
      "Warning: Estimation of posterior distribution failed\n",
      "Warning: Estimation of posterior distribution failed\n",
      "Warning: Estimation of posterior distribution failed\n",
      "Warning: Estimation of posterior distribution failed\n",
      "Warning: Estimation of posterior distribution failed\n",
      "Warning: Estimation of posterior distribution failed\n",
      "Warning: Estimation of posterior distribution failed\n",
      "Warning: Estimation of posterior distribution failed\n",
      "Warning: Estimation of posterior distribution failed\n",
      "Warning: Estimation of posterior distribution failed\n",
      "Warning: Estimation of posterior distribution failed\n",
      "Warning: Estimation of posterior distribution failed\n",
      "Warning: Estimation of posterior distribution failed\n",
      "Warning: Estimation of posterior distribution failed\n",
      "Warning: Estimation of posterior distribution failed\n",
      "Warning: Estimation of posterior distribution failed\n",
      "Warning: Estimation of posterior distribution failed\n",
      "Warning: Estimation of posterior distribution failed\n",
      "Warning: Estimation of posterior distribution failed\n",
      "Warning: Estimation of posterior distribution failed\n",
      "Warning: Estimation of posterior distribution failed\n",
      "Warning: Estimation of posterior distribution failed\n",
      "Warning: Estimation of posterior distribution failed\n",
      "Warning: Estimation of posterior distribution failed\n",
      "Warning: Estimation of posterior distribution failed\n",
      "Warning: Estimation of posterior distribution failed\n",
      "Warning: Estimation of posterior distribution failed\n",
      "Warning: Estimation of posterior distribution failed\n",
      "Warning: Estimation of posterior distribution failed\n",
      "Warning: Estimation of posterior distribution failed\n",
      "Warning: Estimation of posterior distribution failed\n",
      "Warning: Estimation of posterior distribution failed\n",
      "Warning: Estimation of posterior distribution failed\n",
      "Warning: Estimation of posterior distribution failed\n",
      "Warning: Estimation of posterior distribution failed\n",
      "Warning: Estimation of posterior distribution failed\n",
      "Warning: Estimation of posterior distribution failed\n",
      "Warning: Estimation of posterior distribution failed\n",
      "Warning: Estimation of posterior distribution failed\n",
      "Warning: Estimation of posterior distribution failed\n",
      "Warning: Estimation of posterior distribution failed\n",
      "Warning: Estimation of posterior distribution failed\n",
      "Warning: Estimation of posterior distribution failed\n",
      "Results and plots saved to /Users/stijndeboer/Projects/PCN/PCNtoolkit/example_notebooks/resources/blr/save_dir/folds/fold_3/results and /Users/stijndeboer/Projects/PCN/PCNtoolkit/example_notebooks/resources/blr/save_dir/folds/fold_3/plots\n",
      "32654 Saving model to resources/blr/save_dir/folds/fold_3\n",
      "Model saved to /Users/stijndeboer/Projects/PCN/PCNtoolkit/example_notebooks/resources/blr/save_dir/folds/fold_3/model\n",
      "32653 Saving model to resources/blr/save_dir/folds/fold_3\n",
      "Model saved to /Users/stijndeboer/Projects/PCN/PCNtoolkit/example_notebooks/resources/blr/save_dir/folds/fold_3/model\n",
      "Going to fit and predict 1 models\n",
      "Fitting and predicting model for WM-hypointensities\n",
      "Computing zscores for rh_MeanThickness_thickness\n",
      "Computing centiles for rh_MeanThickness_thickness\n",
      "Computing centiles for rh_MeanThickness_thickness\n",
      "Results and plots saved to /Users/stijndeboer/Projects/PCN/PCNtoolkit/example_notebooks/resources/blr/save_dir/folds/fold_3/results and /Users/stijndeboer/Projects/PCN/PCNtoolkit/example_notebooks/resources/blr/save_dir/folds/fold_3/plots\n",
      "32653 Saving model to resources/blr/save_dir/folds/fold_3\n",
      "Model saved to /Users/stijndeboer/Projects/PCN/PCNtoolkit/example_notebooks/resources/blr/save_dir/folds/fold_3/model\n",
      "Going to fit and predict 1 models\n",
      "Fitting and predicting model for rh_MeanThickness_thickness\n",
      "32654 Saving model to resources/blr/save_dir/folds/fold_4\n",
      "Model saved to /Users/stijndeboer/Projects/PCN/PCNtoolkit/example_notebooks/resources/blr/save_dir/folds/fold_4/model\n",
      "Computing zscores for WM-hypointensities\n",
      "Computing centiles for WM-hypointensities\n",
      "32653 Saving model to resources/blr/save_dir/folds/fold_4\n",
      "Model saved to /Users/stijndeboer/Projects/PCN/PCNtoolkit/example_notebooks/resources/blr/save_dir/folds/fold_4/model\n",
      "Computing zscores for rh_MeanThickness_thickness\n",
      "Computing centiles for rh_MeanThickness_thickness\n",
      "Computing centiles for WM-hypointensities\n",
      "Computing centiles for rh_MeanThickness_thickness\n"
     ]
    },
    {
     "name": "stderr",
     "output_type": "stream",
     "text": [
      "/opt/anaconda3/envs/dev_refactor/lib/python3.12/site-packages/pcntoolkit/util/evaluator.py:341: RuntimeWarning: invalid value encountered in log\n",
      "  nll = -np.mean(y * np.log(yhat) + (1 - y) * np.log(1 - yhat))\n",
      "/opt/anaconda3/envs/dev_refactor/lib/python3.12/site-packages/pcntoolkit/util/evaluator.py:341: RuntimeWarning: invalid value encountered in log\n",
      "  nll = -np.mean(y * np.log(yhat) + (1 - y) * np.log(1 - yhat))\n"
     ]
    },
    {
     "name": "stdout",
     "output_type": "stream",
     "text": [
      "Results and plots saved to /Users/stijndeboer/Projects/PCN/PCNtoolkit/example_notebooks/resources/blr/save_dir/folds/fold_4/results and /Users/stijndeboer/Projects/PCN/PCNtoolkit/example_notebooks/resources/blr/save_dir/folds/fold_4/plots\n",
      "32653 Saving model to resources/blr/save_dir/folds/fold_4\n",
      "Model saved to /Users/stijndeboer/Projects/PCN/PCNtoolkit/example_notebooks/resources/blr/save_dir/folds/fold_4/model\n",
      "Results and plots saved to /Users/stijndeboer/Projects/PCN/PCNtoolkit/example_notebooks/resources/blr/save_dir/folds/fold_4/results and /Users/stijndeboer/Projects/PCN/PCNtoolkit/example_notebooks/resources/blr/save_dir/folds/fold_4/plots\n",
      "32654 Saving model to resources/blr/save_dir/folds/fold_4\n",
      "Going to fit and predict 1 models\n",
      "Fitting and predicting model for rh_MeanThickness_thickness\n",
      "Model saved to /Users/stijndeboer/Projects/PCN/PCNtoolkit/example_notebooks/resources/blr/save_dir/folds/fold_4/model\n",
      "Going to fit and predict 1 models\n",
      "Fitting and predicting model for WM-hypointensities\n",
      "32654 Saving model to resources/blr/save_dir/folds/fold_5\n",
      "Model saved to /Users/stijndeboer/Projects/PCN/PCNtoolkit/example_notebooks/resources/blr/save_dir/folds/fold_5/model\n",
      "Computing zscores for WM-hypointensities\n",
      "Computing centiles for WM-hypointensities\n",
      "Computing centiles for WM-hypointensities\n",
      "Warning: Estimation of posterior distribution failed\n",
      "Warning: Estimation of posterior distribution failed\n",
      "Warning: Estimation of posterior distribution failed\n",
      "Warning: Estimation of posterior distribution failed\n",
      "Warning: Estimation of posterior distribution failed\n",
      "Warning: Estimation of posterior distribution failed\n",
      "Warning: Estimation of posterior distribution failed\n",
      "Warning: Estimation of posterior distribution failed\n",
      "Warning: Estimation of posterior distribution failed\n",
      "Warning: Estimation of posterior distribution failed\n",
      "Warning: Estimation of posterior distribution failed\n",
      "Warning: Estimation of posterior distribution failed\n",
      "Warning: Estimation of posterior distribution failed\n",
      "Warning: Estimation of posterior distribution failed\n",
      "Warning: Estimation of posterior distribution failed\n",
      "Warning: Estimation of posterior distribution failed\n",
      "Warning: Estimation of posterior distribution failed\n",
      "Warning: Estimation of posterior distribution failed\n",
      "Warning: Estimation of posterior distribution failed\n",
      "Warning: Estimation of posterior distribution failed\n",
      "Warning: Estimation of posterior distribution failed\n",
      "Warning: Estimation of posterior distribution failed\n",
      "Warning: Estimation of posterior distribution failed\n",
      "Warning: Estimation of posterior distribution failed\n",
      "Warning: Estimation of posterior distribution failed\n",
      "Warning: Estimation of posterior distribution failed\n",
      "Warning: Estimation of posterior distribution failed\n",
      "Warning: Estimation of posterior distribution failed\n",
      "Warning: Estimation of posterior distribution failed\n",
      "Warning: Estimation of posterior distribution failed\n",
      "Warning: Estimation of posterior distribution failed\n",
      "Warning: Estimation of posterior distribution failed\n",
      "Warning: Estimation of posterior distribution failed\n",
      "Warning: Estimation of posterior distribution failed\n",
      "Warning: Estimation of posterior distribution failed\n",
      "Warning: Estimation of posterior distribution failed\n",
      "Warning: Estimation of posterior distribution failed\n",
      "Warning: Estimation of posterior distribution failed\n",
      "Warning: Estimation of posterior distribution failed\n",
      "Warning: Estimation of posterior distribution failed\n",
      "Warning: Estimation of posterior distribution failed\n",
      "Warning: Estimation of posterior distribution failed\n",
      "Warning: Estimation of posterior distribution failed\n",
      "Warning: Estimation of posterior distribution failed\n",
      "Warning: Estimation of posterior distribution failed\n",
      "Warning: Estimation of posterior distribution failed\n",
      "Warning: Estimation of posterior distribution failed\n",
      "Warning: Estimation of posterior distribution failed\n",
      "Warning: Estimation of posterior distribution failed\n",
      "Warning: Estimation of posterior distribution failed\n",
      "Warning: Estimation of posterior distribution failed\n",
      "Warning: Estimation of posterior distribution failed\n",
      "Warning: Estimation of posterior distribution failed\n",
      "Warning: Estimation of posterior distribution failed\n",
      "Warning: Estimation of posterior distribution failed\n",
      "Warning: Estimation of posterior distribution failed\n",
      "Warning: Estimation of posterior distribution failed\n",
      "Warning: Estimation of posterior distribution failed\n",
      "32653 Saving model to resources/blr/save_dir/folds/fold_5\n",
      "Model saved to /Users/stijndeboer/Projects/PCN/PCNtoolkit/example_notebooks/resources/blr/save_dir/folds/fold_5/model"
     ]
    },
    {
     "name": "stderr",
     "output_type": "stream",
     "text": [
      "/opt/anaconda3/envs/dev_refactor/lib/python3.12/site-packages/pcntoolkit/util/evaluator.py:341: RuntimeWarning: invalid value encountered in log\n",
      "  nll = -np.mean(y * np.log(yhat) + (1 - y) * np.log(1 - yhat))\n",
      "/opt/anaconda3/envs/dev_refactor/lib/python3.12/site-packages/pcntoolkit/regression_model/blr/warp.py:522: RuntimeWarning: overflow encountered in sinh\n",
      "  y = np.sinh(b * np.arcsinh(x) - a)\n",
      "/opt/anaconda3/envs/dev_refactor/lib/python3.12/site-packages/pcntoolkit/regression_model/blr/blr.py:343: LinAlgWarning: Ill-conditioned matrix (rcond=1.94687e-19): result may not be accurate.\n",
      "  invAXt: np.ndarray = linalg.solve(self.A, X.T, check_finite=False)\n",
      "/opt/anaconda3/envs/dev_refactor/lib/python3.12/site-packages/pcntoolkit/regression_model/blr/blr.py:343: LinAlgWarning: Ill-conditioned matrix (rcond=2.09533e-18): result may not be accurate.\n",
      "  invAXt: np.ndarray = linalg.solve(self.A, X.T, check_finite=False)\n",
      "/opt/anaconda3/envs/dev_refactor/lib/python3.12/site-packages/pcntoolkit/regression_model/blr/blr.py:343: LinAlgWarning: Ill-conditioned matrix (rcond=2.11696e-18): result may not be accurate.\n",
      "  invAXt: np.ndarray = linalg.solve(self.A, X.T, check_finite=False)\n",
      "/opt/anaconda3/envs/dev_refactor/lib/python3.12/site-packages/pcntoolkit/regression_model/blr/blr.py:343: LinAlgWarning: Ill-conditioned matrix (rcond=2.17315e-18): result may not be accurate.\n",
      "  invAXt: np.ndarray = linalg.solve(self.A, X.T, check_finite=False)\n",
      "/opt/anaconda3/envs/dev_refactor/lib/python3.12/site-packages/pcntoolkit/regression_model/blr/blr.py:343: LinAlgWarning: Ill-conditioned matrix (rcond=1.2907e-18): result may not be accurate.\n",
      "  invAXt: np.ndarray = linalg.solve(self.A, X.T, check_finite=False)\n",
      "/opt/anaconda3/envs/dev_refactor/lib/python3.12/site-packages/pcntoolkit/regression_model/blr/blr.py:343: LinAlgWarning: Ill-conditioned matrix (rcond=2.29635e-18): result may not be accurate.\n",
      "  invAXt: np.ndarray = linalg.solve(self.A, X.T, check_finite=False)\n",
      "/opt/anaconda3/envs/dev_refactor/lib/python3.12/site-packages/pcntoolkit/regression_model/blr/blr.py:343: LinAlgWarning: Ill-conditioned matrix (rcond=6.3959e-19): result may not be accurate.\n",
      "  invAXt: np.ndarray = linalg.solve(self.A, X.T, check_finite=False)\n",
      "/opt/anaconda3/envs/dev_refactor/lib/python3.12/site-packages/pcntoolkit/regression_model/blr/blr.py:343: LinAlgWarning: Ill-conditioned matrix (rcond=1.4621e-18): result may not be accurate.\n",
      "  invAXt: np.ndarray = linalg.solve(self.A, X.T, check_finite=False)\n",
      "/opt/anaconda3/envs/dev_refactor/lib/python3.12/site-packages/pcntoolkit/regression_model/blr/warp.py:560: RuntimeWarning: overflow encountered in cosh\n",
      "  dx = (b * np.cosh(b * np.arcsinh(x) - a)) / np.sqrt(1 + x**2)\n",
      "/opt/anaconda3/envs/dev_refactor/lib/python3.12/site-packages/pcntoolkit/regression_model/blr/blr.py:343: LinAlgWarning: Ill-conditioned matrix (rcond=1.422e-18): result may not be accurate.\n",
      "  invAXt: np.ndarray = linalg.solve(self.A, X.T, check_finite=False)\n",
      "/opt/anaconda3/envs/dev_refactor/lib/python3.12/site-packages/pcntoolkit/regression_model/blr/blr.py:343: LinAlgWarning: Ill-conditioned matrix (rcond=2.64899e-18): result may not be accurate.\n",
      "  invAXt: np.ndarray = linalg.solve(self.A, X.T, check_finite=False)\n",
      "/opt/anaconda3/envs/dev_refactor/lib/python3.12/site-packages/pcntoolkit/regression_model/blr/blr.py:343: LinAlgWarning: Ill-conditioned matrix (rcond=7.26673e-19): result may not be accurate.\n",
      "  invAXt: np.ndarray = linalg.solve(self.A, X.T, check_finite=False)\n",
      "/opt/anaconda3/envs/dev_refactor/lib/python3.12/site-packages/pcntoolkit/regression_model/blr/blr.py:343: LinAlgWarning: Ill-conditioned matrix (rcond=7.29002e-19): result may not be accurate.\n",
      "  invAXt: np.ndarray = linalg.solve(self.A, X.T, check_finite=False)\n",
      "/opt/anaconda3/envs/dev_refactor/lib/python3.12/site-packages/pcntoolkit/regression_model/blr/blr.py:343: LinAlgWarning: Ill-conditioned matrix (rcond=2.00259e-19): result may not be accurate.\n",
      "  invAXt: np.ndarray = linalg.solve(self.A, X.T, check_finite=False)\n",
      "/opt/anaconda3/envs/dev_refactor/lib/python3.12/site-packages/pcntoolkit/regression_model/blr/blr.py:343: LinAlgWarning: Ill-conditioned matrix (rcond=4.39394e-19): result may not be accurate.\n",
      "  invAXt: np.ndarray = linalg.solve(self.A, X.T, check_finite=False)\n",
      "/opt/anaconda3/envs/dev_refactor/lib/python3.12/site-packages/pcntoolkit/regression_model/blr/blr.py:343: LinAlgWarning: Ill-conditioned matrix (rcond=1.57982e-18): result may not be accurate.\n",
      "  invAXt: np.ndarray = linalg.solve(self.A, X.T, check_finite=False)\n",
      "/opt/anaconda3/envs/dev_refactor/lib/python3.12/site-packages/pcntoolkit/regression_model/blr/blr.py:343: LinAlgWarning: Ill-conditioned matrix (rcond=4.28364e-19): result may not be accurate.\n",
      "  invAXt: np.ndarray = linalg.solve(self.A, X.T, check_finite=False)\n",
      "/opt/anaconda3/envs/dev_refactor/lib/python3.12/site-packages/pcntoolkit/regression_model/blr/blr.py:343: LinAlgWarning: Ill-conditioned matrix (rcond=4.79403e-19): result may not be accurate.\n",
      "  invAXt: np.ndarray = linalg.solve(self.A, X.T, check_finite=False)\n",
      "/opt/anaconda3/envs/dev_refactor/lib/python3.12/site-packages/pcntoolkit/regression_model/blr/blr.py:343: LinAlgWarning: Ill-conditioned matrix (rcond=7.78257e-19): result may not be accurate.\n",
      "  invAXt: np.ndarray = linalg.solve(self.A, X.T, check_finite=False)\n",
      "/opt/anaconda3/envs/dev_refactor/lib/python3.12/site-packages/pcntoolkit/regression_model/blr/blr.py:343: LinAlgWarning: Ill-conditioned matrix (rcond=1.97028e-20): result may not be accurate.\n",
      "  invAXt: np.ndarray = linalg.solve(self.A, X.T, check_finite=False)\n",
      "/opt/anaconda3/envs/dev_refactor/lib/python3.12/site-packages/pcntoolkit/regression_model/blr/blr.py:343: LinAlgWarning: Ill-conditioned matrix (rcond=9.67057e-19): result may not be accurate.\n",
      "  invAXt: np.ndarray = linalg.solve(self.A, X.T, check_finite=False)\n",
      "/opt/anaconda3/envs/dev_refactor/lib/python3.12/site-packages/pcntoolkit/regression_model/blr/blr.py:343: LinAlgWarning: Ill-conditioned matrix (rcond=1.43116e-18): result may not be accurate.\n",
      "  invAXt: np.ndarray = linalg.solve(self.A, X.T, check_finite=False)\n",
      "/opt/anaconda3/envs/dev_refactor/lib/python3.12/site-packages/pcntoolkit/regression_model/blr/blr.py:343: LinAlgWarning: Ill-conditioned matrix (rcond=1.45075e-18): result may not be accurate.\n",
      "  invAXt: np.ndarray = linalg.solve(self.A, X.T, check_finite=False)\n",
      "/opt/anaconda3/envs/dev_refactor/lib/python3.12/site-packages/pcntoolkit/regression_model/blr/blr.py:343: LinAlgWarning: Ill-conditioned matrix (rcond=1.30566e-18): result may not be accurate.\n",
      "  invAXt: np.ndarray = linalg.solve(self.A, X.T, check_finite=False)\n",
      "/opt/anaconda3/envs/dev_refactor/lib/python3.12/site-packages/pcntoolkit/regression_model/blr/blr.py:343: LinAlgWarning: Ill-conditioned matrix (rcond=1.28628e-18): result may not be accurate.\n",
      "  invAXt: np.ndarray = linalg.solve(self.A, X.T, check_finite=False)\n",
      "/opt/anaconda3/envs/dev_refactor/lib/python3.12/site-packages/pcntoolkit/regression_model/blr/blr.py:343: LinAlgWarning: Ill-conditioned matrix (rcond=1.1269e-18): result may not be accurate.\n",
      "  invAXt: np.ndarray = linalg.solve(self.A, X.T, check_finite=False)\n",
      "/opt/anaconda3/envs/dev_refactor/lib/python3.12/site-packages/pcntoolkit/regression_model/blr/blr.py:343: LinAlgWarning: Ill-conditioned matrix (rcond=2.57075e-19): result may not be accurate.\n",
      "  invAXt: np.ndarray = linalg.solve(self.A, X.T, check_finite=False)\n",
      "/opt/anaconda3/envs/dev_refactor/lib/python3.12/site-packages/pcntoolkit/regression_model/blr/blr.py:343: LinAlgWarning: Ill-conditioned matrix (rcond=7.83037e-19): result may not be accurate.\n",
      "  invAXt: np.ndarray = linalg.solve(self.A, X.T, check_finite=False)\n",
      "/opt/anaconda3/envs/dev_refactor/lib/python3.12/site-packages/pcntoolkit/regression_model/blr/blr.py:343: LinAlgWarning: Ill-conditioned matrix (rcond=1.16704e-18): result may not be accurate.\n",
      "  invAXt: np.ndarray = linalg.solve(self.A, X.T, check_finite=False)\n",
      "/opt/anaconda3/envs/dev_refactor/lib/python3.12/site-packages/pcntoolkit/regression_model/blr/blr.py:343: LinAlgWarning: Ill-conditioned matrix (rcond=3.49505e-19): result may not be accurate.\n",
      "  invAXt: np.ndarray = linalg.solve(self.A, X.T, check_finite=False)\n",
      "/opt/anaconda3/envs/dev_refactor/lib/python3.12/site-packages/pcntoolkit/regression_model/blr/blr.py:343: LinAlgWarning: Ill-conditioned matrix (rcond=5.19058e-20): result may not be accurate.\n",
      "  invAXt: np.ndarray = linalg.solve(self.A, X.T, check_finite=False)\n",
      "/opt/anaconda3/envs/dev_refactor/lib/python3.12/site-packages/pcntoolkit/regression_model/blr/blr.py:343: LinAlgWarning: Ill-conditioned matrix (rcond=2.90525e-19): result may not be accurate.\n",
      "  invAXt: np.ndarray = linalg.solve(self.A, X.T, check_finite=False)\n",
      "/opt/anaconda3/envs/dev_refactor/lib/python3.12/site-packages/pcntoolkit/regression_model/blr/blr.py:343: LinAlgWarning: Ill-conditioned matrix (rcond=1.94482e-19): result may not be accurate.\n",
      "  invAXt: np.ndarray = linalg.solve(self.A, X.T, check_finite=False)\n",
      "/opt/anaconda3/envs/dev_refactor/lib/python3.12/site-packages/pcntoolkit/regression_model/blr/blr.py:343: LinAlgWarning: Ill-conditioned matrix (rcond=1.94705e-19): result may not be accurate.\n",
      "  invAXt: np.ndarray = linalg.solve(self.A, X.T, check_finite=False)\n",
      "/opt/anaconda3/envs/dev_refactor/lib/python3.12/site-packages/pcntoolkit/regression_model/blr/blr.py:343: LinAlgWarning: Ill-conditioned matrix (rcond=1.94712e-19): result may not be accurate.\n",
      "  invAXt: np.ndarray = linalg.solve(self.A, X.T, check_finite=False)\n",
      "/opt/anaconda3/envs/dev_refactor/lib/python3.12/site-packages/pcntoolkit/util/evaluator.py:341: RuntimeWarning: invalid value encountered in log\n",
      "  nll = -np.mean(y * np.log(yhat) + (1 - y) * np.log(1 - yhat))\n"
     ]
    },
    {
     "name": "stdout",
     "output_type": "stream",
     "text": [
      "\n",
      "Computing zscores for rh_MeanThickness_thickness\n",
      "Computing centiles for rh_MeanThickness_thickness\n",
      "Results and plots saved to /Users/stijndeboer/Projects/PCN/PCNtoolkit/example_notebooks/resources/blr/save_dir/folds/fold_5/results and /Users/stijndeboer/Projects/PCN/PCNtoolkit/example_notebooks/resources/blr/save_dir/folds/fold_5/plots\n",
      "32654 Saving model to resources/blr/save_dir/folds/fold_5\n",
      "Model saved to /Users/stijndeboer/Projects/PCN/PCNtoolkit/example_notebooks/resources/blr/save_dir/folds/fold_5/model\n",
      "Going to fit and predict 1 models\n",
      "Fitting and predicting model for WM-hypointensities\n",
      "Computing centiles for rh_MeanThickness_thickness\n",
      "Results and plots saved to /Users/stijndeboer/Projects/PCN/PCNtoolkit/example_notebooks/resources/blr/save_dir/folds/fold_5/results and /Users/stijndeboer/Projects/PCN/PCNtoolkit/example_notebooks/resources/blr/save_dir/folds/fold_5/plots\n",
      "32653 Saving model to resources/blr/save_dir/folds/fold_5\n",
      "Model saved to /Users/stijndeboer/Projects/PCN/PCNtoolkit/example_notebooks/resources/blr/save_dir/folds/fold_5/model\n",
      "Going to fit and predict 1 models\n",
      "Fitting and predicting model for rh_MeanThickness_thickness\n"
     ]
    },
    {
     "name": "stderr",
     "output_type": "stream",
     "text": [
      "/opt/anaconda3/envs/dev_refactor/lib/python3.12/site-packages/pcntoolkit/regression_model/blr/blr.py:343: LinAlgWarning: Ill-conditioned matrix (rcond=1.10339e-16): result may not be accurate.\n",
      "  invAXt: np.ndarray = linalg.solve(self.A, X.T, check_finite=False)\n",
      "/opt/anaconda3/envs/dev_refactor/lib/python3.12/site-packages/pcntoolkit/regression_model/blr/blr.py:343: LinAlgWarning: Ill-conditioned matrix (rcond=1.00051e-16): result may not be accurate.\n",
      "  invAXt: np.ndarray = linalg.solve(self.A, X.T, check_finite=False)\n",
      "/opt/anaconda3/envs/dev_refactor/lib/python3.12/site-packages/pcntoolkit/regression_model/blr/blr.py:343: LinAlgWarning: Ill-conditioned matrix (rcond=4.96241e-17): result may not be accurate.\n",
      "  invAXt: np.ndarray = linalg.solve(self.A, X.T, check_finite=False)\n",
      "/opt/anaconda3/envs/dev_refactor/lib/python3.12/site-packages/pcntoolkit/regression_model/blr/blr.py:343: LinAlgWarning: Ill-conditioned matrix (rcond=5.33788e-17): result may not be accurate.\n",
      "  invAXt: np.ndarray = linalg.solve(self.A, X.T, check_finite=False)\n",
      "/opt/anaconda3/envs/dev_refactor/lib/python3.12/site-packages/pcntoolkit/regression_model/blr/blr.py:343: LinAlgWarning: Ill-conditioned matrix (rcond=5.47981e-17): result may not be accurate.\n",
      "  invAXt: np.ndarray = linalg.solve(self.A, X.T, check_finite=False)\n",
      "/opt/anaconda3/envs/dev_refactor/lib/python3.12/site-packages/pcntoolkit/regression_model/blr/blr.py:343: LinAlgWarning: Ill-conditioned matrix (rcond=5.80233e-17): result may not be accurate.\n",
      "  invAXt: np.ndarray = linalg.solve(self.A, X.T, check_finite=False)\n",
      "/opt/anaconda3/envs/dev_refactor/lib/python3.12/site-packages/pcntoolkit/regression_model/blr/blr.py:343: LinAlgWarning: Ill-conditioned matrix (rcond=4.2284e-17): result may not be accurate.\n",
      "  invAXt: np.ndarray = linalg.solve(self.A, X.T, check_finite=False)\n",
      "/opt/anaconda3/envs/dev_refactor/lib/python3.12/site-packages/pcntoolkit/regression_model/blr/blr.py:343: LinAlgWarning: Ill-conditioned matrix (rcond=5.32198e-17): result may not be accurate.\n",
      "  invAXt: np.ndarray = linalg.solve(self.A, X.T, check_finite=False)\n",
      "/opt/anaconda3/envs/dev_refactor/lib/python3.12/site-packages/pcntoolkit/regression_model/blr/blr.py:343: LinAlgWarning: Ill-conditioned matrix (rcond=5.9552e-17): result may not be accurate.\n",
      "  invAXt: np.ndarray = linalg.solve(self.A, X.T, check_finite=False)\n",
      "/opt/anaconda3/envs/dev_refactor/lib/python3.12/site-packages/pcntoolkit/regression_model/blr/blr.py:343: LinAlgWarning: Ill-conditioned matrix (rcond=5.02523e-17): result may not be accurate.\n",
      "  invAXt: np.ndarray = linalg.solve(self.A, X.T, check_finite=False)\n",
      "/opt/anaconda3/envs/dev_refactor/lib/python3.12/site-packages/pcntoolkit/regression_model/blr/blr.py:343: LinAlgWarning: Ill-conditioned matrix (rcond=5.3203e-17): result may not be accurate.\n",
      "  invAXt: np.ndarray = linalg.solve(self.A, X.T, check_finite=False)\n",
      "/opt/anaconda3/envs/dev_refactor/lib/python3.12/site-packages/pcntoolkit/regression_model/blr/blr.py:343: LinAlgWarning: Ill-conditioned matrix (rcond=5.19766e-17): result may not be accurate.\n",
      "  invAXt: np.ndarray = linalg.solve(self.A, X.T, check_finite=False)\n",
      "/opt/anaconda3/envs/dev_refactor/lib/python3.12/site-packages/pcntoolkit/regression_model/blr/blr.py:343: LinAlgWarning: Ill-conditioned matrix (rcond=5.09565e-17): result may not be accurate.\n",
      "  invAXt: np.ndarray = linalg.solve(self.A, X.T, check_finite=False)\n",
      "/opt/anaconda3/envs/dev_refactor/lib/python3.12/site-packages/pcntoolkit/regression_model/blr/blr.py:343: LinAlgWarning: Ill-conditioned matrix (rcond=5.17318e-17): result may not be accurate.\n",
      "  invAXt: np.ndarray = linalg.solve(self.A, X.T, check_finite=False)\n",
      "/opt/anaconda3/envs/dev_refactor/lib/python3.12/site-packages/pcntoolkit/regression_model/blr/blr.py:343: LinAlgWarning: Ill-conditioned matrix (rcond=4.39657e-17): result may not be accurate.\n",
      "  invAXt: np.ndarray = linalg.solve(self.A, X.T, check_finite=False)\n",
      "/opt/anaconda3/envs/dev_refactor/lib/python3.12/site-packages/pcntoolkit/regression_model/blr/blr.py:343: LinAlgWarning: Ill-conditioned matrix (rcond=4.92642e-17): result may not be accurate.\n",
      "  invAXt: np.ndarray = linalg.solve(self.A, X.T, check_finite=False)\n",
      "/opt/anaconda3/envs/dev_refactor/lib/python3.12/site-packages/pcntoolkit/regression_model/blr/blr.py:343: LinAlgWarning: Ill-conditioned matrix (rcond=5.50896e-17): result may not be accurate.\n",
      "  invAXt: np.ndarray = linalg.solve(self.A, X.T, check_finite=False)\n",
      "/opt/anaconda3/envs/dev_refactor/lib/python3.12/site-packages/pcntoolkit/regression_model/blr/blr.py:343: LinAlgWarning: Ill-conditioned matrix (rcond=4.86836e-17): result may not be accurate.\n",
      "  invAXt: np.ndarray = linalg.solve(self.A, X.T, check_finite=False)\n",
      "/opt/anaconda3/envs/dev_refactor/lib/python3.12/site-packages/pcntoolkit/regression_model/blr/blr.py:343: LinAlgWarning: Ill-conditioned matrix (rcond=5.05525e-17): result may not be accurate.\n",
      "  invAXt: np.ndarray = linalg.solve(self.A, X.T, check_finite=False)\n",
      "/opt/anaconda3/envs/dev_refactor/lib/python3.12/site-packages/pcntoolkit/regression_model/blr/blr.py:343: LinAlgWarning: Ill-conditioned matrix (rcond=4.94505e-17): result may not be accurate.\n",
      "  invAXt: np.ndarray = linalg.solve(self.A, X.T, check_finite=False)\n",
      "/opt/anaconda3/envs/dev_refactor/lib/python3.12/site-packages/pcntoolkit/regression_model/blr/blr.py:343: LinAlgWarning: Ill-conditioned matrix (rcond=4.35733e-17): result may not be accurate.\n",
      "  invAXt: np.ndarray = linalg.solve(self.A, X.T, check_finite=False)\n",
      "/opt/anaconda3/envs/dev_refactor/lib/python3.12/site-packages/pcntoolkit/regression_model/blr/blr.py:343: LinAlgWarning: Ill-conditioned matrix (rcond=5.6793e-17): result may not be accurate.\n",
      "  invAXt: np.ndarray = linalg.solve(self.A, X.T, check_finite=False)\n",
      "/opt/anaconda3/envs/dev_refactor/lib/python3.12/site-packages/pcntoolkit/regression_model/blr/blr.py:343: LinAlgWarning: Ill-conditioned matrix (rcond=6.22935e-17): result may not be accurate.\n",
      "  invAXt: np.ndarray = linalg.solve(self.A, X.T, check_finite=False)\n",
      "/opt/anaconda3/envs/dev_refactor/lib/python3.12/site-packages/pcntoolkit/regression_model/blr/blr.py:343: LinAlgWarning: Ill-conditioned matrix (rcond=5.74187e-17): result may not be accurate.\n",
      "  invAXt: np.ndarray = linalg.solve(self.A, X.T, check_finite=False)\n",
      "/opt/anaconda3/envs/dev_refactor/lib/python3.12/site-packages/pcntoolkit/regression_model/blr/blr.py:343: LinAlgWarning: Ill-conditioned matrix (rcond=5.01895e-17): result may not be accurate.\n",
      "  invAXt: np.ndarray = linalg.solve(self.A, X.T, check_finite=False)\n",
      "/opt/anaconda3/envs/dev_refactor/lib/python3.12/site-packages/pcntoolkit/regression_model/blr/blr.py:343: LinAlgWarning: Ill-conditioned matrix (rcond=4.71087e-17): result may not be accurate.\n",
      "  invAXt: np.ndarray = linalg.solve(self.A, X.T, check_finite=False)\n",
      "/opt/anaconda3/envs/dev_refactor/lib/python3.12/site-packages/pcntoolkit/regression_model/blr/blr.py:343: LinAlgWarning: Ill-conditioned matrix (rcond=5.59596e-17): result may not be accurate.\n",
      "  invAXt: np.ndarray = linalg.solve(self.A, X.T, check_finite=False)\n",
      "/opt/anaconda3/envs/dev_refactor/lib/python3.12/site-packages/pcntoolkit/regression_model/blr/blr.py:343: LinAlgWarning: Ill-conditioned matrix (rcond=5.28779e-17): result may not be accurate.\n",
      "  invAXt: np.ndarray = linalg.solve(self.A, X.T, check_finite=False)\n",
      "/opt/anaconda3/envs/dev_refactor/lib/python3.12/site-packages/pcntoolkit/regression_model/blr/blr.py:343: LinAlgWarning: Ill-conditioned matrix (rcond=5.3857e-17): result may not be accurate.\n",
      "  invAXt: np.ndarray = linalg.solve(self.A, X.T, check_finite=False)\n",
      "/opt/anaconda3/envs/dev_refactor/lib/python3.12/site-packages/pcntoolkit/regression_model/blr/blr.py:343: LinAlgWarning: Ill-conditioned matrix (rcond=4.77925e-17): result may not be accurate.\n",
      "  invAXt: np.ndarray = linalg.solve(self.A, X.T, check_finite=False)\n",
      "/opt/anaconda3/envs/dev_refactor/lib/python3.12/site-packages/pcntoolkit/regression_model/blr/blr.py:343: LinAlgWarning: Ill-conditioned matrix (rcond=4.90217e-17): result may not be accurate.\n",
      "  invAXt: np.ndarray = linalg.solve(self.A, X.T, check_finite=False)\n",
      "/opt/anaconda3/envs/dev_refactor/lib/python3.12/site-packages/pcntoolkit/regression_model/blr/blr.py:343: LinAlgWarning: Ill-conditioned matrix (rcond=5.02644e-17): result may not be accurate.\n",
      "  invAXt: np.ndarray = linalg.solve(self.A, X.T, check_finite=False)\n",
      "/opt/anaconda3/envs/dev_refactor/lib/python3.12/site-packages/pcntoolkit/regression_model/blr/blr.py:343: LinAlgWarning: Ill-conditioned matrix (rcond=4.39172e-17): result may not be accurate.\n",
      "  invAXt: np.ndarray = linalg.solve(self.A, X.T, check_finite=False)\n",
      "/opt/anaconda3/envs/dev_refactor/lib/python3.12/site-packages/pcntoolkit/regression_model/blr/blr.py:343: LinAlgWarning: Ill-conditioned matrix (rcond=4.99905e-17): result may not be accurate.\n",
      "  invAXt: np.ndarray = linalg.solve(self.A, X.T, check_finite=False)\n",
      "/opt/anaconda3/envs/dev_refactor/lib/python3.12/site-packages/pcntoolkit/regression_model/blr/blr.py:343: LinAlgWarning: Ill-conditioned matrix (rcond=5.01186e-17): result may not be accurate.\n",
      "  invAXt: np.ndarray = linalg.solve(self.A, X.T, check_finite=False)\n",
      "/opt/anaconda3/envs/dev_refactor/lib/python3.12/site-packages/pcntoolkit/regression_model/blr/blr.py:343: LinAlgWarning: Ill-conditioned matrix (rcond=5.03614e-17): result may not be accurate.\n",
      "  invAXt: np.ndarray = linalg.solve(self.A, X.T, check_finite=False)\n",
      "/opt/anaconda3/envs/dev_refactor/lib/python3.12/site-packages/pcntoolkit/regression_model/blr/blr.py:343: LinAlgWarning: Ill-conditioned matrix (rcond=4.99976e-17): result may not be accurate.\n",
      "  invAXt: np.ndarray = linalg.solve(self.A, X.T, check_finite=False)\n",
      "/opt/anaconda3/envs/dev_refactor/lib/python3.12/site-packages/pcntoolkit/regression_model/blr/blr.py:343: LinAlgWarning: Ill-conditioned matrix (rcond=5.00151e-17): result may not be accurate.\n",
      "  invAXt: np.ndarray = linalg.solve(self.A, X.T, check_finite=False)\n",
      "/opt/anaconda3/envs/dev_refactor/lib/python3.12/site-packages/pcntoolkit/regression_model/blr/blr.py:343: LinAlgWarning: Ill-conditioned matrix (rcond=4.96791e-17): result may not be accurate.\n",
      "  invAXt: np.ndarray = linalg.solve(self.A, X.T, check_finite=False)\n",
      "/opt/anaconda3/envs/dev_refactor/lib/python3.12/site-packages/pcntoolkit/regression_model/blr/blr.py:343: LinAlgWarning: Ill-conditioned matrix (rcond=4.99168e-17): result may not be accurate.\n",
      "  invAXt: np.ndarray = linalg.solve(self.A, X.T, check_finite=False)\n",
      "/opt/anaconda3/envs/dev_refactor/lib/python3.12/site-packages/pcntoolkit/regression_model/blr/blr.py:343: LinAlgWarning: Ill-conditioned matrix (rcond=5.05126e-17): result may not be accurate.\n",
      "  invAXt: np.ndarray = linalg.solve(self.A, X.T, check_finite=False)\n",
      "/opt/anaconda3/envs/dev_refactor/lib/python3.12/site-packages/pcntoolkit/regression_model/blr/blr.py:343: LinAlgWarning: Ill-conditioned matrix (rcond=5.6009e-17): result may not be accurate.\n",
      "  invAXt: np.ndarray = linalg.solve(self.A, X.T, check_finite=False)\n",
      "/opt/anaconda3/envs/dev_refactor/lib/python3.12/site-packages/pcntoolkit/regression_model/blr/blr.py:343: LinAlgWarning: Ill-conditioned matrix (rcond=4.96805e-17): result may not be accurate.\n",
      "  invAXt: np.ndarray = linalg.solve(self.A, X.T, check_finite=False)\n",
      "/opt/anaconda3/envs/dev_refactor/lib/python3.12/site-packages/pcntoolkit/regression_model/blr/blr.py:343: LinAlgWarning: Ill-conditioned matrix (rcond=4.96914e-17): result may not be accurate.\n",
      "  invAXt: np.ndarray = linalg.solve(self.A, X.T, check_finite=False)\n",
      "/opt/anaconda3/envs/dev_refactor/lib/python3.12/site-packages/pcntoolkit/regression_model/blr/blr.py:343: LinAlgWarning: Ill-conditioned matrix (rcond=4.96962e-17): result may not be accurate.\n",
      "  invAXt: np.ndarray = linalg.solve(self.A, X.T, check_finite=False)\n",
      "/opt/anaconda3/envs/dev_refactor/lib/python3.12/site-packages/pcntoolkit/regression_model/blr/blr.py:343: LinAlgWarning: Ill-conditioned matrix (rcond=4.97011e-17): result may not be accurate.\n",
      "  invAXt: np.ndarray = linalg.solve(self.A, X.T, check_finite=False)\n",
      "/opt/anaconda3/envs/dev_refactor/lib/python3.12/site-packages/pcntoolkit/regression_model/blr/blr.py:343: LinAlgWarning: Ill-conditioned matrix (rcond=4.96756e-17): result may not be accurate.\n",
      "  invAXt: np.ndarray = linalg.solve(self.A, X.T, check_finite=False)\n",
      "/opt/anaconda3/envs/dev_refactor/lib/python3.12/site-packages/pcntoolkit/regression_model/blr/blr.py:343: LinAlgWarning: Ill-conditioned matrix (rcond=4.97022e-17): result may not be accurate.\n",
      "  invAXt: np.ndarray = linalg.solve(self.A, X.T, check_finite=False)\n",
      "/opt/anaconda3/envs/dev_refactor/lib/python3.12/site-packages/pcntoolkit/regression_model/blr/blr.py:343: LinAlgWarning: Ill-conditioned matrix (rcond=4.96936e-17): result may not be accurate.\n",
      "  invAXt: np.ndarray = linalg.solve(self.A, X.T, check_finite=False)\n",
      "/opt/anaconda3/envs/dev_refactor/lib/python3.12/site-packages/pcntoolkit/regression_model/blr/blr.py:343: LinAlgWarning: Ill-conditioned matrix (rcond=4.97007e-17): result may not be accurate.\n",
      "  invAXt: np.ndarray = linalg.solve(self.A, X.T, check_finite=False)\n",
      "/opt/anaconda3/envs/dev_refactor/lib/python3.12/site-packages/pcntoolkit/regression_model/blr/blr.py:343: LinAlgWarning: Ill-conditioned matrix (rcond=4.96997e-17): result may not be accurate.\n",
      "  invAXt: np.ndarray = linalg.solve(self.A, X.T, check_finite=False)\n",
      "/opt/anaconda3/envs/dev_refactor/lib/python3.12/site-packages/pcntoolkit/regression_model/blr/blr.py:343: LinAlgWarning: Ill-conditioned matrix (rcond=4.96896e-17): result may not be accurate.\n",
      "  invAXt: np.ndarray = linalg.solve(self.A, X.T, check_finite=False)\n",
      "/opt/anaconda3/envs/dev_refactor/lib/python3.12/site-packages/pcntoolkit/regression_model/blr/blr.py:343: LinAlgWarning: Ill-conditioned matrix (rcond=4.96933e-17): result may not be accurate.\n",
      "  invAXt: np.ndarray = linalg.solve(self.A, X.T, check_finite=False)\n",
      "/opt/anaconda3/envs/dev_refactor/lib/python3.12/site-packages/pcntoolkit/regression_model/blr/blr.py:343: LinAlgWarning: Ill-conditioned matrix (rcond=4.96911e-17): result may not be accurate.\n",
      "  invAXt: np.ndarray = linalg.solve(self.A, X.T, check_finite=False)\n",
      "/opt/anaconda3/envs/dev_refactor/lib/python3.12/site-packages/pcntoolkit/regression_model/blr/blr.py:343: LinAlgWarning: Ill-conditioned matrix (rcond=4.97002e-17): result may not be accurate.\n",
      "  invAXt: np.ndarray = linalg.solve(self.A, X.T, check_finite=False)\n",
      "/opt/anaconda3/envs/dev_refactor/lib/python3.12/site-packages/pcntoolkit/regression_model/blr/blr.py:343: LinAlgWarning: Ill-conditioned matrix (rcond=4.97021e-17): result may not be accurate.\n",
      "  invAXt: np.ndarray = linalg.solve(self.A, X.T, check_finite=False)\n",
      "/opt/anaconda3/envs/dev_refactor/lib/python3.12/site-packages/pcntoolkit/regression_model/blr/blr.py:343: LinAlgWarning: Ill-conditioned matrix (rcond=4.96837e-17): result may not be accurate.\n",
      "  invAXt: np.ndarray = linalg.solve(self.A, X.T, check_finite=False)\n",
      "/opt/anaconda3/envs/dev_refactor/lib/python3.12/site-packages/pcntoolkit/regression_model/blr/blr.py:343: LinAlgWarning: Ill-conditioned matrix (rcond=4.96994e-17): result may not be accurate.\n",
      "  invAXt: np.ndarray = linalg.solve(self.A, X.T, check_finite=False)\n",
      "/opt/anaconda3/envs/dev_refactor/lib/python3.12/site-packages/pcntoolkit/regression_model/blr/blr.py:343: LinAlgWarning: Ill-conditioned matrix (rcond=4.96909e-17): result may not be accurate.\n",
      "  invAXt: np.ndarray = linalg.solve(self.A, X.T, check_finite=False)\n",
      "/opt/anaconda3/envs/dev_refactor/lib/python3.12/site-packages/pcntoolkit/regression_model/blr/blr.py:343: LinAlgWarning: Ill-conditioned matrix (rcond=4.96807e-17): result may not be accurate.\n",
      "  invAXt: np.ndarray = linalg.solve(self.A, X.T, check_finite=False)\n",
      "/opt/anaconda3/envs/dev_refactor/lib/python3.12/site-packages/pcntoolkit/regression_model/blr/blr.py:343: LinAlgWarning: Ill-conditioned matrix (rcond=4.96905e-17): result may not be accurate.\n",
      "  invAXt: np.ndarray = linalg.solve(self.A, X.T, check_finite=False)\n",
      "/opt/anaconda3/envs/dev_refactor/lib/python3.12/site-packages/pcntoolkit/util/evaluator.py:341: RuntimeWarning: invalid value encountered in log\n",
      "  nll = -np.mean(y * np.log(yhat) + (1 - y) * np.log(1 - yhat))\n"
     ]
    },
    {
     "name": "stdout",
     "output_type": "stream",
     "text": [
      "32654 Saving model to resources/blr/save_dir/folds/fold_6\n",
      "Model saved to /Users/stijndeboer/Projects/PCN/PCNtoolkit/example_notebooks/resources/blr/save_dir/folds/fold_6/model\n",
      "Computing zscores for WM-hypointensities\n",
      "Computing centiles for WM-hypointensities\n",
      "Computing centiles for WM-hypointensities\n",
      "Results and plots saved to /Users/stijndeboer/Projects/PCN/PCNtoolkit/example_notebooks/resources/blr/save_dir/folds/fold_6/results and /Users/stijndeboer/Projects/PCN/PCNtoolkit/example_notebooks/resources/blr/save_dir/folds/fold_6/plots\n",
      "32654 Saving model to resources/blr/save_dir/folds/fold_6\n",
      "Model saved to /Users/stijndeboer/Projects/PCN/PCNtoolkit/example_notebooks/resources/blr/save_dir/folds/fold_6/model\n",
      "Going to fit and predict 1 models\n",
      "Fitting and predicting model for WM-hypointensities\n",
      "32653 Saving model to resources/blr/save_dir/folds/fold_6\n",
      "Model saved to /Users/stijndeboer/Projects/PCN/PCNtoolkit/example_notebooks/resources/blr/save_dir/folds/fold_6/model\n",
      "Computing zscores for rh_MeanThickness_thickness\n",
      "Computing centiles for rh_MeanThickness_thickness\n",
      "Computing centiles for rh_MeanThickness_thickness\n",
      "Results and plots saved to /Users/stijndeboer/Projects/PCN/PCNtoolkit/example_notebooks/resources/blr/save_dir/folds/fold_6/results and /Users/stijndeboer/Projects/PCN/PCNtoolkit/example_notebooks/resources/blr/save_dir/folds/fold_6/plots\n",
      "32653 Saving model to resources/blr/save_dir/folds/fold_6\n",
      "Model saved to /Users/stijndeboer/Projects/PCN/PCNtoolkit/example_notebooks/resources/blr/save_dir/folds/fold_6/model\n",
      "Going to fit and predict 1 models\n",
      "Fitting and predicting model for rh_MeanThickness_thickness\n"
     ]
    },
    {
     "name": "stderr",
     "output_type": "stream",
     "text": [
      "/opt/anaconda3/envs/dev_refactor/lib/python3.12/site-packages/pcntoolkit/util/evaluator.py:341: RuntimeWarning: invalid value encountered in log\n",
      "  nll = -np.mean(y * np.log(yhat) + (1 - y) * np.log(1 - yhat))\n"
     ]
    },
    {
     "name": "stdout",
     "output_type": "stream",
     "text": [
      "32654 Saving model to resources/blr/save_dir/folds/fold_7\n",
      "Model saved to /Users/stijndeboer/Projects/PCN/PCNtoolkit/example_notebooks/resources/blr/save_dir/folds/fold_7/model\n",
      "Computing zscores for WM-hypointensities\n",
      "Computing centiles for WM-hypointensities\n",
      "Computing centiles for WM-hypointensities\n"
     ]
    },
    {
     "name": "stderr",
     "output_type": "stream",
     "text": [
      "/opt/anaconda3/envs/dev_refactor/lib/python3.12/site-packages/pcntoolkit/util/evaluator.py:341: RuntimeWarning: invalid value encountered in log\n",
      "  nll = -np.mean(y * np.log(yhat) + (1 - y) * np.log(1 - yhat))\n"
     ]
    },
    {
     "name": "stdout",
     "output_type": "stream",
     "text": [
      "Results and plots saved to /Users/stijndeboer/Projects/PCN/PCNtoolkit/example_notebooks/resources/blr/save_dir/folds/fold_7/results and /Users/stijndeboer/Projects/PCN/PCNtoolkit/example_notebooks/resources/blr/save_dir/folds/fold_7/plots\n",
      "32654 Saving model to resources/blr/save_dir/folds/fold_7\n",
      "Model saved to /Users/stijndeboer/Projects/PCN/PCNtoolkit/example_notebooks/resources/blr/save_dir/folds/fold_7/model\n",
      "Going to fit and predict 1 models\n",
      "Fitting and predicting model for WM-hypointensities\n",
      "32653 Saving model to resources/blr/save_dir/folds/fold_7\n",
      "Model saved to /Users/stijndeboer/Projects/PCN/PCNtoolkit/example_notebooks/resources/blr/save_dir/folds/fold_7/model\n",
      "Computing zscores for rh_MeanThickness_thickness\n",
      "Computing centiles for rh_MeanThickness_thickness\n",
      "Computing centiles for rh_MeanThickness_thickness\n"
     ]
    },
    {
     "name": "stderr",
     "output_type": "stream",
     "text": [
      "/opt/anaconda3/envs/dev_refactor/lib/python3.12/site-packages/pcntoolkit/util/evaluator.py:341: RuntimeWarning: invalid value encountered in log\n",
      "  nll = -np.mean(y * np.log(yhat) + (1 - y) * np.log(1 - yhat))\n"
     ]
    },
    {
     "name": "stdout",
     "output_type": "stream",
     "text": [
      "Results and plots saved to /Users/stijndeboer/Projects/PCN/PCNtoolkit/example_notebooks/resources/blr/save_dir/folds/fold_7/results and /Users/stijndeboer/Projects/PCN/PCNtoolkit/example_notebooks/resources/blr/save_dir/folds/fold_7/plots\n",
      "32653 Saving model to resources/blr/save_dir/folds/fold_7\n",
      "Model saved to /Users/stijndeboer/Projects/PCN/PCNtoolkit/example_notebooks/resources/blr/save_dir/folds/fold_7/model\n",
      "Going to fit and predict 1 models\n",
      "Fitting and predicting model for rh_MeanThickness_thickness\n"
     ]
    },
    {
     "name": "stderr",
     "output_type": "stream",
     "text": [
      "/opt/anaconda3/envs/dev_refactor/lib/python3.12/site-packages/pcntoolkit/regression_model/blr/blr.py:282: RuntimeWarning: divide by zero encountered in divide\n",
      "  beta = beta/(delta**2)\n",
      "/opt/anaconda3/envs/dev_refactor/lib/python3.12/site-packages/pcntoolkit/regression_model/blr/blr.py:343: LinAlgWarning: Ill-conditioned matrix (rcond=9.55006e-19): result may not be accurate.\n",
      "  invAXt: np.ndarray = linalg.solve(self.A, X.T, check_finite=False)\n",
      "/opt/anaconda3/envs/dev_refactor/lib/python3.12/site-packages/pcntoolkit/regression_model/blr/blr.py:343: LinAlgWarning: Ill-conditioned matrix (rcond=6.83701e-19): result may not be accurate.\n",
      "  invAXt: np.ndarray = linalg.solve(self.A, X.T, check_finite=False)\n",
      "/opt/anaconda3/envs/dev_refactor/lib/python3.12/site-packages/scipy/optimize/_numdiff.py:619: RuntimeWarning: overflow encountered in divide\n",
      "  J_transposed[i] = df / dx\n",
      "/opt/anaconda3/envs/dev_refactor/lib/python3.12/site-packages/pcntoolkit/regression_model/blr/blr.py:343: LinAlgWarning: Ill-conditioned matrix (rcond=1.14396e-18): result may not be accurate.\n",
      "  invAXt: np.ndarray = linalg.solve(self.A, X.T, check_finite=False)\n",
      "/opt/anaconda3/envs/dev_refactor/lib/python3.12/site-packages/pcntoolkit/regression_model/blr/blr.py:343: LinAlgWarning: Ill-conditioned matrix (rcond=1.11988e-18): result may not be accurate.\n",
      "  invAXt: np.ndarray = linalg.solve(self.A, X.T, check_finite=False)\n",
      "/opt/anaconda3/envs/dev_refactor/lib/python3.12/site-packages/pcntoolkit/regression_model/blr/blr.py:343: LinAlgWarning: Ill-conditioned matrix (rcond=1.1674e-18): result may not be accurate.\n",
      "  invAXt: np.ndarray = linalg.solve(self.A, X.T, check_finite=False)\n",
      "/opt/anaconda3/envs/dev_refactor/lib/python3.12/site-packages/pcntoolkit/regression_model/blr/blr.py:343: LinAlgWarning: Ill-conditioned matrix (rcond=1.18235e-18): result may not be accurate.\n",
      "  invAXt: np.ndarray = linalg.solve(self.A, X.T, check_finite=False)\n",
      "/opt/anaconda3/envs/dev_refactor/lib/python3.12/site-packages/pcntoolkit/regression_model/blr/blr.py:343: LinAlgWarning: Ill-conditioned matrix (rcond=6.37364e-19): result may not be accurate.\n",
      "  invAXt: np.ndarray = linalg.solve(self.A, X.T, check_finite=False)\n",
      "/opt/anaconda3/envs/dev_refactor/lib/python3.12/site-packages/pcntoolkit/regression_model/blr/blr.py:343: LinAlgWarning: Ill-conditioned matrix (rcond=1.18152e-18): result may not be accurate.\n",
      "  invAXt: np.ndarray = linalg.solve(self.A, X.T, check_finite=False)\n",
      "/opt/anaconda3/envs/dev_refactor/lib/python3.12/site-packages/pcntoolkit/regression_model/blr/blr.py:343: LinAlgWarning: Ill-conditioned matrix (rcond=1.35386e-19): result may not be accurate.\n",
      "  invAXt: np.ndarray = linalg.solve(self.A, X.T, check_finite=False)\n",
      "/opt/anaconda3/envs/dev_refactor/lib/python3.12/site-packages/pcntoolkit/regression_model/blr/blr.py:343: LinAlgWarning: Ill-conditioned matrix (rcond=1.07155e-18): result may not be accurate.\n",
      "  invAXt: np.ndarray = linalg.solve(self.A, X.T, check_finite=False)\n",
      "/opt/anaconda3/envs/dev_refactor/lib/python3.12/site-packages/pcntoolkit/regression_model/blr/blr.py:343: LinAlgWarning: Ill-conditioned matrix (rcond=6.80416e-19): result may not be accurate.\n",
      "  invAXt: np.ndarray = linalg.solve(self.A, X.T, check_finite=False)\n",
      "/opt/anaconda3/envs/dev_refactor/lib/python3.12/site-packages/pcntoolkit/regression_model/blr/blr.py:343: LinAlgWarning: Ill-conditioned matrix (rcond=3.11062e-19): result may not be accurate.\n",
      "  invAXt: np.ndarray = linalg.solve(self.A, X.T, check_finite=False)\n",
      "/opt/anaconda3/envs/dev_refactor/lib/python3.12/site-packages/pcntoolkit/regression_model/blr/blr.py:343: LinAlgWarning: Ill-conditioned matrix (rcond=8.08389e-19): result may not be accurate.\n",
      "  invAXt: np.ndarray = linalg.solve(self.A, X.T, check_finite=False)\n",
      "/opt/anaconda3/envs/dev_refactor/lib/python3.12/site-packages/pcntoolkit/regression_model/blr/blr.py:343: LinAlgWarning: Ill-conditioned matrix (rcond=9.55008e-19): result may not be accurate.\n",
      "  invAXt: np.ndarray = linalg.solve(self.A, X.T, check_finite=False)\n",
      "/opt/anaconda3/envs/dev_refactor/lib/python3.12/site-packages/pcntoolkit/regression_model/blr/blr.py:343: LinAlgWarning: Ill-conditioned matrix (rcond=9.46079e-19): result may not be accurate.\n",
      "  invAXt: np.ndarray = linalg.solve(self.A, X.T, check_finite=False)\n",
      "/opt/anaconda3/envs/dev_refactor/lib/python3.12/site-packages/pcntoolkit/regression_model/blr/blr.py:343: LinAlgWarning: Ill-conditioned matrix (rcond=4.20333e-19): result may not be accurate.\n",
      "  invAXt: np.ndarray = linalg.solve(self.A, X.T, check_finite=False)\n",
      "/opt/anaconda3/envs/dev_refactor/lib/python3.12/site-packages/pcntoolkit/regression_model/blr/blr.py:343: LinAlgWarning: Ill-conditioned matrix (rcond=9.98097e-19): result may not be accurate.\n",
      "  invAXt: np.ndarray = linalg.solve(self.A, X.T, check_finite=False)\n",
      "/opt/anaconda3/envs/dev_refactor/lib/python3.12/site-packages/pcntoolkit/regression_model/blr/blr.py:343: LinAlgWarning: Ill-conditioned matrix (rcond=5.64447e-19): result may not be accurate.\n",
      "  invAXt: np.ndarray = linalg.solve(self.A, X.T, check_finite=False)\n",
      "/opt/anaconda3/envs/dev_refactor/lib/python3.12/site-packages/pcntoolkit/regression_model/blr/blr.py:343: LinAlgWarning: Ill-conditioned matrix (rcond=1.18242e-18): result may not be accurate.\n",
      "  invAXt: np.ndarray = linalg.solve(self.A, X.T, check_finite=False)\n",
      "/opt/anaconda3/envs/dev_refactor/lib/python3.12/site-packages/pcntoolkit/regression_model/blr/blr.py:343: LinAlgWarning: Ill-conditioned matrix (rcond=1.21244e-19): result may not be accurate.\n",
      "  invAXt: np.ndarray = linalg.solve(self.A, X.T, check_finite=False)\n",
      "/opt/anaconda3/envs/dev_refactor/lib/python3.12/site-packages/pcntoolkit/regression_model/blr/blr.py:343: LinAlgWarning: Ill-conditioned matrix (rcond=9.67438e-19): result may not be accurate.\n",
      "  invAXt: np.ndarray = linalg.solve(self.A, X.T, check_finite=False)\n",
      "/opt/anaconda3/envs/dev_refactor/lib/python3.12/site-packages/pcntoolkit/regression_model/blr/blr.py:343: LinAlgWarning: Ill-conditioned matrix (rcond=9.70569e-19): result may not be accurate.\n",
      "  invAXt: np.ndarray = linalg.solve(self.A, X.T, check_finite=False)\n",
      "/opt/anaconda3/envs/dev_refactor/lib/python3.12/site-packages/pcntoolkit/regression_model/blr/blr.py:343: LinAlgWarning: Ill-conditioned matrix (rcond=8.51128e-19): result may not be accurate.\n",
      "  invAXt: np.ndarray = linalg.solve(self.A, X.T, check_finite=False)\n",
      "/opt/anaconda3/envs/dev_refactor/lib/python3.12/site-packages/pcntoolkit/regression_model/blr/blr.py:343: LinAlgWarning: Ill-conditioned matrix (rcond=1.18025e-18): result may not be accurate.\n",
      "  invAXt: np.ndarray = linalg.solve(self.A, X.T, check_finite=False)\n",
      "/opt/anaconda3/envs/dev_refactor/lib/python3.12/site-packages/pcntoolkit/regression_model/blr/blr.py:343: LinAlgWarning: Ill-conditioned matrix (rcond=1.18044e-18): result may not be accurate.\n",
      "  invAXt: np.ndarray = linalg.solve(self.A, X.T, check_finite=False)\n",
      "/opt/anaconda3/envs/dev_refactor/lib/python3.12/site-packages/pcntoolkit/regression_model/blr/blr.py:343: LinAlgWarning: Ill-conditioned matrix (rcond=5.61145e-19): result may not be accurate.\n",
      "  invAXt: np.ndarray = linalg.solve(self.A, X.T, check_finite=False)\n",
      "/opt/anaconda3/envs/dev_refactor/lib/python3.12/site-packages/pcntoolkit/regression_model/blr/blr.py:343: LinAlgWarning: Ill-conditioned matrix (rcond=1.18185e-18): result may not be accurate.\n",
      "  invAXt: np.ndarray = linalg.solve(self.A, X.T, check_finite=False)\n",
      "/opt/anaconda3/envs/dev_refactor/lib/python3.12/site-packages/pcntoolkit/regression_model/blr/blr.py:343: LinAlgWarning: Ill-conditioned matrix (rcond=1.18049e-18): result may not be accurate.\n",
      "  invAXt: np.ndarray = linalg.solve(self.A, X.T, check_finite=False)\n",
      "/opt/anaconda3/envs/dev_refactor/lib/python3.12/site-packages/pcntoolkit/regression_model/blr/blr.py:343: LinAlgWarning: Ill-conditioned matrix (rcond=9.63815e-19): result may not be accurate.\n",
      "  invAXt: np.ndarray = linalg.solve(self.A, X.T, check_finite=False)\n",
      "/opt/anaconda3/envs/dev_refactor/lib/python3.12/site-packages/pcntoolkit/regression_model/blr/blr.py:343: LinAlgWarning: Ill-conditioned matrix (rcond=9.5812e-19): result may not be accurate.\n",
      "  invAXt: np.ndarray = linalg.solve(self.A, X.T, check_finite=False)\n",
      "/opt/anaconda3/envs/dev_refactor/lib/python3.12/site-packages/pcntoolkit/regression_model/blr/blr.py:343: LinAlgWarning: Ill-conditioned matrix (rcond=9.56403e-19): result may not be accurate.\n",
      "  invAXt: np.ndarray = linalg.solve(self.A, X.T, check_finite=False)\n",
      "/opt/anaconda3/envs/dev_refactor/lib/python3.12/site-packages/pcntoolkit/regression_model/blr/blr.py:343: LinAlgWarning: Ill-conditioned matrix (rcond=9.57237e-19): result may not be accurate.\n",
      "  invAXt: np.ndarray = linalg.solve(self.A, X.T, check_finite=False)\n",
      "/opt/anaconda3/envs/dev_refactor/lib/python3.12/site-packages/pcntoolkit/regression_model/blr/blr.py:343: LinAlgWarning: Ill-conditioned matrix (rcond=9.55012e-19): result may not be accurate.\n",
      "  invAXt: np.ndarray = linalg.solve(self.A, X.T, check_finite=False)\n",
      "/opt/anaconda3/envs/dev_refactor/lib/python3.12/site-packages/pcntoolkit/regression_model/blr/blr.py:343: LinAlgWarning: Ill-conditioned matrix (rcond=9.61057e-19): result may not be accurate.\n",
      "  invAXt: np.ndarray = linalg.solve(self.A, X.T, check_finite=False)\n",
      "/opt/anaconda3/envs/dev_refactor/lib/python3.12/site-packages/pcntoolkit/regression_model/blr/blr.py:343: LinAlgWarning: Ill-conditioned matrix (rcond=9.61996e-19): result may not be accurate.\n",
      "  invAXt: np.ndarray = linalg.solve(self.A, X.T, check_finite=False)\n",
      "/opt/anaconda3/envs/dev_refactor/lib/python3.12/site-packages/pcntoolkit/regression_model/blr/blr.py:343: LinAlgWarning: Ill-conditioned matrix (rcond=9.62106e-19): result may not be accurate.\n",
      "  invAXt: np.ndarray = linalg.solve(self.A, X.T, check_finite=False)\n",
      "/opt/anaconda3/envs/dev_refactor/lib/python3.12/site-packages/pcntoolkit/regression_model/blr/blr.py:343: LinAlgWarning: Ill-conditioned matrix (rcond=9.60379e-19): result may not be accurate.\n",
      "  invAXt: np.ndarray = linalg.solve(self.A, X.T, check_finite=False)\n",
      "/opt/anaconda3/envs/dev_refactor/lib/python3.12/site-packages/pcntoolkit/regression_model/blr/blr.py:343: LinAlgWarning: Ill-conditioned matrix (rcond=9.58293e-19): result may not be accurate.\n",
      "  invAXt: np.ndarray = linalg.solve(self.A, X.T, check_finite=False)\n",
      "/opt/anaconda3/envs/dev_refactor/lib/python3.12/site-packages/pcntoolkit/regression_model/blr/blr.py:343: LinAlgWarning: Ill-conditioned matrix (rcond=9.59562e-19): result may not be accurate.\n",
      "  invAXt: np.ndarray = linalg.solve(self.A, X.T, check_finite=False)\n",
      "/opt/anaconda3/envs/dev_refactor/lib/python3.12/site-packages/pcntoolkit/regression_model/blr/blr.py:343: LinAlgWarning: Ill-conditioned matrix (rcond=9.6209e-19): result may not be accurate.\n",
      "  invAXt: np.ndarray = linalg.solve(self.A, X.T, check_finite=False)\n",
      "/opt/anaconda3/envs/dev_refactor/lib/python3.12/site-packages/pcntoolkit/regression_model/blr/blr.py:343: LinAlgWarning: Ill-conditioned matrix (rcond=9.62128e-19): result may not be accurate.\n",
      "  invAXt: np.ndarray = linalg.solve(self.A, X.T, check_finite=False)\n",
      "/opt/anaconda3/envs/dev_refactor/lib/python3.12/site-packages/pcntoolkit/regression_model/blr/blr.py:343: LinAlgWarning: Ill-conditioned matrix (rcond=9.62028e-19): result may not be accurate.\n",
      "  invAXt: np.ndarray = linalg.solve(self.A, X.T, check_finite=False)\n",
      "/opt/anaconda3/envs/dev_refactor/lib/python3.12/site-packages/pcntoolkit/regression_model/blr/blr.py:343: LinAlgWarning: Ill-conditioned matrix (rcond=9.61756e-19): result may not be accurate.\n",
      "  invAXt: np.ndarray = linalg.solve(self.A, X.T, check_finite=False)\n",
      "/opt/anaconda3/envs/dev_refactor/lib/python3.12/site-packages/pcntoolkit/regression_model/blr/blr.py:343: LinAlgWarning: Ill-conditioned matrix (rcond=9.62062e-19): result may not be accurate.\n",
      "  invAXt: np.ndarray = linalg.solve(self.A, X.T, check_finite=False)\n",
      "/opt/anaconda3/envs/dev_refactor/lib/python3.12/site-packages/pcntoolkit/regression_model/blr/blr.py:343: LinAlgWarning: Ill-conditioned matrix (rcond=9.62033e-19): result may not be accurate.\n",
      "  invAXt: np.ndarray = linalg.solve(self.A, X.T, check_finite=False)\n",
      "/opt/anaconda3/envs/dev_refactor/lib/python3.12/site-packages/pcntoolkit/regression_model/blr/blr.py:343: LinAlgWarning: Ill-conditioned matrix (rcond=9.60588e-19): result may not be accurate.\n",
      "  invAXt: np.ndarray = linalg.solve(self.A, X.T, check_finite=False)\n",
      "/opt/anaconda3/envs/dev_refactor/lib/python3.12/site-packages/pcntoolkit/regression_model/blr/blr.py:343: LinAlgWarning: Ill-conditioned matrix (rcond=9.62248e-19): result may not be accurate.\n",
      "  invAXt: np.ndarray = linalg.solve(self.A, X.T, check_finite=False)\n",
      "/opt/anaconda3/envs/dev_refactor/lib/python3.12/site-packages/pcntoolkit/regression_model/blr/blr.py:343: LinAlgWarning: Ill-conditioned matrix (rcond=9.61643e-19): result may not be accurate.\n",
      "  invAXt: np.ndarray = linalg.solve(self.A, X.T, check_finite=False)\n",
      "/opt/anaconda3/envs/dev_refactor/lib/python3.12/site-packages/pcntoolkit/regression_model/blr/blr.py:343: LinAlgWarning: Ill-conditioned matrix (rcond=9.62149e-19): result may not be accurate.\n",
      "  invAXt: np.ndarray = linalg.solve(self.A, X.T, check_finite=False)\n",
      "/opt/anaconda3/envs/dev_refactor/lib/python3.12/site-packages/pcntoolkit/regression_model/blr/blr.py:343: LinAlgWarning: Ill-conditioned matrix (rcond=9.61013e-19): result may not be accurate.\n",
      "  invAXt: np.ndarray = linalg.solve(self.A, X.T, check_finite=False)\n",
      "/opt/anaconda3/envs/dev_refactor/lib/python3.12/site-packages/pcntoolkit/util/evaluator.py:341: RuntimeWarning: invalid value encountered in log\n",
      "  nll = -np.mean(y * np.log(yhat) + (1 - y) * np.log(1 - yhat))\n"
     ]
    },
    {
     "name": "stdout",
     "output_type": "stream",
     "text": [
      "Warning: Estimation of posterior distribution failed\n",
      "Warning: Estimation of posterior distribution failed\n",
      "Warning: Estimation of posterior distribution failed\n",
      "Warning: Estimation of posterior distribution failed\n",
      "Warning: Estimation of posterior distribution failed\n",
      "Warning: Estimation of posterior distribution failed\n",
      "Warning: Estimation of posterior distribution failed\n",
      "Warning: Estimation of posterior distribution failed\n",
      "Warning: Estimation of posterior distribution failed\n",
      "Warning: Estimation of posterior distribution failed\n",
      "Warning: Estimation of posterior distribution failed\n",
      "Warning: Estimation of posterior distribution failed\n",
      "Warning: Estimation of posterior distribution failed\n",
      "Warning: Estimation of posterior distribution failed\n",
      "Warning: Estimation of posterior distribution failed\n",
      "Warning: Estimation of posterior distribution failed\n",
      "Warning: Estimation of posterior distribution failed\n",
      "Warning: Estimation of posterior distribution failed\n",
      "Warning: Estimation of posterior distribution failed\n",
      "Warning: Estimation of posterior distribution failed\n",
      "Warning: Estimation of posterior distribution failed\n",
      "Warning: Estimation of posterior distribution failed\n",
      "Warning: Estimation of posterior distribution failed\n",
      "Warning: Estimation of posterior distribution failed\n",
      "Warning: Estimation of posterior distribution failed\n",
      "Warning: Estimation of posterior distribution failed\n",
      "Warning: Estimation of posterior distribution failed\n",
      "Warning: Estimation of posterior distribution failed\n",
      "Warning: Estimation of posterior distribution failed\n",
      "Warning: Estimation of posterior distribution failed\n",
      "Warning: Estimation of posterior distribution failed\n",
      "Warning: Estimation of posterior distribution failed\n",
      "Warning: Estimation of posterior distribution failed\n",
      "Warning: Estimation of posterior distribution failed\n",
      "Warning: Estimation of posterior distribution failed\n",
      "Warning: Estimation of posterior distribution failed\n",
      "Warning: Estimation of posterior distribution failed\n",
      "Warning: Estimation of posterior distribution failed\n",
      "Warning: Estimation of posterior distribution failed\n",
      "Warning: Estimation of posterior distribution failed\n",
      "Warning: Estimation of posterior distribution failed\n",
      "Warning: Estimation of posterior distribution failed\n",
      "Warning: Estimation of posterior distribution failed\n",
      "Warning: Estimation of posterior distribution failed\n",
      "Warning: Estimation of posterior distribution failed\n",
      "Warning: Estimation of posterior distribution failed\n",
      "Warning: Estimation of posterior distribution failed\n",
      "Warning: Estimation of posterior distribution failed\n",
      "Warning: Estimation of posterior distribution failed\n",
      "Warning: Estimation of posterior distribution failed\n",
      "Warning: Estimation of posterior distribution failed\n",
      "Warning: Estimation of posterior distribution failed\n",
      "Warning: Estimation of posterior distribution failed\n",
      "Warning: Estimation of posterior distribution failed\n",
      "32654 Saving model to resources/blr/save_dir/folds/fold_8\n",
      "Model saved to /Users/stijndeboer/Projects/PCN/PCNtoolkit/example_notebooks/resources/blr/save_dir/folds/fold_8/model\n",
      "Computing zscores for WM-hypointensities\n",
      "Computing centiles for WM-hypointensities\n",
      "Computing centiles for WM-hypointensities\n",
      "Results and plots saved to /Users/stijndeboer/Projects/PCN/PCNtoolkit/example_notebooks/resources/blr/save_dir/folds/fold_8/results and /Users/stijndeboer/Projects/PCN/PCNtoolkit/example_notebooks/resources/blr/save_dir/folds/fold_8/plots\n",
      "32654 Saving model to resources/blr/save_dir/folds/fold_8\n",
      "Model saved to /Users/stijndeboer/Projects/PCN/PCNtoolkit/example_notebooks/resources/blr/save_dir/folds/fold_8/model\n",
      "Going to fit and predict 1 models\n",
      "Fitting and predicting model for WM-hypointensities\n"
     ]
    },
    {
     "name": "stderr",
     "output_type": "stream",
     "text": [
      "/opt/anaconda3/envs/dev_refactor/lib/python3.12/site-packages/pcntoolkit/regression_model/blr/warp.py:522: RuntimeWarning: overflow encountered in sinh\n",
      "  y = np.sinh(b * np.arcsinh(x) - a)\n",
      "/opt/anaconda3/envs/dev_refactor/lib/python3.12/site-packages/pcntoolkit/regression_model/blr/blr.py:343: LinAlgWarning: Ill-conditioned matrix (rcond=1.65345e-18): result may not be accurate.\n",
      "  invAXt: np.ndarray = linalg.solve(self.A, X.T, check_finite=False)\n",
      "/opt/anaconda3/envs/dev_refactor/lib/python3.12/site-packages/pcntoolkit/regression_model/blr/warp.py:560: RuntimeWarning: overflow encountered in cosh\n",
      "  dx = (b * np.cosh(b * np.arcsinh(x) - a)) / np.sqrt(1 + x**2)\n",
      "/opt/anaconda3/envs/dev_refactor/lib/python3.12/site-packages/pcntoolkit/regression_model/blr/blr.py:343: LinAlgWarning: Ill-conditioned matrix (rcond=1.30238e-19): result may not be accurate.\n",
      "  invAXt: np.ndarray = linalg.solve(self.A, X.T, check_finite=False)\n",
      "/opt/anaconda3/envs/dev_refactor/lib/python3.12/site-packages/pcntoolkit/regression_model/blr/blr.py:343: LinAlgWarning: Ill-conditioned matrix (rcond=1.59609e-18): result may not be accurate.\n",
      "  invAXt: np.ndarray = linalg.solve(self.A, X.T, check_finite=False)\n",
      "/opt/anaconda3/envs/dev_refactor/lib/python3.12/site-packages/pcntoolkit/regression_model/blr/blr.py:343: LinAlgWarning: Ill-conditioned matrix (rcond=1.76336e-18): result may not be accurate.\n",
      "  invAXt: np.ndarray = linalg.solve(self.A, X.T, check_finite=False)\n",
      "/opt/anaconda3/envs/dev_refactor/lib/python3.12/site-packages/pcntoolkit/regression_model/blr/blr.py:343: LinAlgWarning: Ill-conditioned matrix (rcond=1.2001e-18): result may not be accurate.\n",
      "  invAXt: np.ndarray = linalg.solve(self.A, X.T, check_finite=False)\n",
      "/opt/anaconda3/envs/dev_refactor/lib/python3.12/site-packages/pcntoolkit/regression_model/blr/blr.py:343: LinAlgWarning: Ill-conditioned matrix (rcond=2.43282e-18): result may not be accurate.\n",
      "  invAXt: np.ndarray = linalg.solve(self.A, X.T, check_finite=False)\n",
      "/opt/anaconda3/envs/dev_refactor/lib/python3.12/site-packages/pcntoolkit/regression_model/blr/blr.py:343: LinAlgWarning: Ill-conditioned matrix (rcond=4.00758e-20): result may not be accurate.\n",
      "  invAXt: np.ndarray = linalg.solve(self.A, X.T, check_finite=False)\n",
      "/opt/anaconda3/envs/dev_refactor/lib/python3.12/site-packages/pcntoolkit/regression_model/blr/blr.py:343: LinAlgWarning: Ill-conditioned matrix (rcond=1.40864e-18): result may not be accurate.\n",
      "  invAXt: np.ndarray = linalg.solve(self.A, X.T, check_finite=False)\n",
      "/opt/anaconda3/envs/dev_refactor/lib/python3.12/site-packages/pcntoolkit/regression_model/blr/blr.py:343: LinAlgWarning: Ill-conditioned matrix (rcond=1.65788e-18): result may not be accurate.\n",
      "  invAXt: np.ndarray = linalg.solve(self.A, X.T, check_finite=False)\n",
      "/opt/anaconda3/envs/dev_refactor/lib/python3.12/site-packages/pcntoolkit/regression_model/blr/blr.py:343: LinAlgWarning: Ill-conditioned matrix (rcond=4.33056e-19): result may not be accurate.\n",
      "  invAXt: np.ndarray = linalg.solve(self.A, X.T, check_finite=False)\n",
      "/opt/anaconda3/envs/dev_refactor/lib/python3.12/site-packages/pcntoolkit/regression_model/blr/blr.py:343: LinAlgWarning: Ill-conditioned matrix (rcond=1.82368e-18): result may not be accurate.\n",
      "  invAXt: np.ndarray = linalg.solve(self.A, X.T, check_finite=False)\n",
      "/opt/anaconda3/envs/dev_refactor/lib/python3.12/site-packages/pcntoolkit/regression_model/blr/blr.py:343: LinAlgWarning: Ill-conditioned matrix (rcond=1.82193e-18): result may not be accurate.\n",
      "  invAXt: np.ndarray = linalg.solve(self.A, X.T, check_finite=False)\n",
      "/opt/anaconda3/envs/dev_refactor/lib/python3.12/site-packages/pcntoolkit/regression_model/blr/blr.py:343: LinAlgWarning: Ill-conditioned matrix (rcond=1.54232e-18): result may not be accurate.\n",
      "  invAXt: np.ndarray = linalg.solve(self.A, X.T, check_finite=False)\n",
      "/opt/anaconda3/envs/dev_refactor/lib/python3.12/site-packages/pcntoolkit/regression_model/blr/blr.py:343: LinAlgWarning: Ill-conditioned matrix (rcond=8.09565e-19): result may not be accurate.\n",
      "  invAXt: np.ndarray = linalg.solve(self.A, X.T, check_finite=False)\n",
      "/opt/anaconda3/envs/dev_refactor/lib/python3.12/site-packages/pcntoolkit/regression_model/blr/blr.py:343: LinAlgWarning: Ill-conditioned matrix (rcond=8.63354e-19): result may not be accurate.\n",
      "  invAXt: np.ndarray = linalg.solve(self.A, X.T, check_finite=False)\n",
      "/opt/anaconda3/envs/dev_refactor/lib/python3.12/site-packages/pcntoolkit/regression_model/blr/blr.py:343: LinAlgWarning: Ill-conditioned matrix (rcond=5.17473e-19): result may not be accurate.\n",
      "  invAXt: np.ndarray = linalg.solve(self.A, X.T, check_finite=False)\n",
      "/opt/anaconda3/envs/dev_refactor/lib/python3.12/site-packages/pcntoolkit/regression_model/blr/blr.py:343: LinAlgWarning: Ill-conditioned matrix (rcond=1.23952e-18): result may not be accurate.\n",
      "  invAXt: np.ndarray = linalg.solve(self.A, X.T, check_finite=False)\n",
      "/opt/anaconda3/envs/dev_refactor/lib/python3.12/site-packages/pcntoolkit/regression_model/blr/blr.py:343: LinAlgWarning: Ill-conditioned matrix (rcond=7.99771e-19): result may not be accurate.\n",
      "  invAXt: np.ndarray = linalg.solve(self.A, X.T, check_finite=False)\n",
      "/opt/anaconda3/envs/dev_refactor/lib/python3.12/site-packages/pcntoolkit/regression_model/blr/blr.py:343: LinAlgWarning: Ill-conditioned matrix (rcond=1.2175e-18): result may not be accurate.\n",
      "  invAXt: np.ndarray = linalg.solve(self.A, X.T, check_finite=False)\n",
      "/opt/anaconda3/envs/dev_refactor/lib/python3.12/site-packages/pcntoolkit/regression_model/blr/blr.py:343: LinAlgWarning: Ill-conditioned matrix (rcond=1.76981e-18): result may not be accurate.\n",
      "  invAXt: np.ndarray = linalg.solve(self.A, X.T, check_finite=False)\n",
      "/opt/anaconda3/envs/dev_refactor/lib/python3.12/site-packages/pcntoolkit/regression_model/blr/blr.py:343: LinAlgWarning: Ill-conditioned matrix (rcond=1.43909e-18): result may not be accurate.\n",
      "  invAXt: np.ndarray = linalg.solve(self.A, X.T, check_finite=False)\n",
      "/opt/anaconda3/envs/dev_refactor/lib/python3.12/site-packages/pcntoolkit/regression_model/blr/blr.py:343: LinAlgWarning: Ill-conditioned matrix (rcond=5.40896e-19): result may not be accurate.\n",
      "  invAXt: np.ndarray = linalg.solve(self.A, X.T, check_finite=False)\n",
      "/opt/anaconda3/envs/dev_refactor/lib/python3.12/site-packages/pcntoolkit/regression_model/blr/blr.py:343: LinAlgWarning: Ill-conditioned matrix (rcond=1.5531e-18): result may not be accurate.\n",
      "  invAXt: np.ndarray = linalg.solve(self.A, X.T, check_finite=False)\n",
      "/opt/anaconda3/envs/dev_refactor/lib/python3.12/site-packages/pcntoolkit/regression_model/blr/blr.py:343: LinAlgWarning: Ill-conditioned matrix (rcond=1.87614e-18): result may not be accurate.\n",
      "  invAXt: np.ndarray = linalg.solve(self.A, X.T, check_finite=False)\n",
      "/opt/anaconda3/envs/dev_refactor/lib/python3.12/site-packages/pcntoolkit/regression_model/blr/blr.py:343: LinAlgWarning: Ill-conditioned matrix (rcond=1.56397e-20): result may not be accurate.\n",
      "  invAXt: np.ndarray = linalg.solve(self.A, X.T, check_finite=False)\n",
      "/opt/anaconda3/envs/dev_refactor/lib/python3.12/site-packages/pcntoolkit/regression_model/blr/blr.py:343: LinAlgWarning: Ill-conditioned matrix (rcond=1.47639e-18): result may not be accurate.\n",
      "  invAXt: np.ndarray = linalg.solve(self.A, X.T, check_finite=False)\n",
      "/opt/anaconda3/envs/dev_refactor/lib/python3.12/site-packages/pcntoolkit/regression_model/blr/blr.py:343: LinAlgWarning: Ill-conditioned matrix (rcond=1.34881e-18): result may not be accurate.\n",
      "  invAXt: np.ndarray = linalg.solve(self.A, X.T, check_finite=False)\n",
      "/opt/anaconda3/envs/dev_refactor/lib/python3.12/site-packages/pcntoolkit/regression_model/blr/blr.py:343: LinAlgWarning: Ill-conditioned matrix (rcond=9.21774e-19): result may not be accurate.\n",
      "  invAXt: np.ndarray = linalg.solve(self.A, X.T, check_finite=False)\n",
      "/opt/anaconda3/envs/dev_refactor/lib/python3.12/site-packages/pcntoolkit/regression_model/blr/blr.py:343: LinAlgWarning: Ill-conditioned matrix (rcond=1.38295e-18): result may not be accurate.\n",
      "  invAXt: np.ndarray = linalg.solve(self.A, X.T, check_finite=False)\n",
      "/opt/anaconda3/envs/dev_refactor/lib/python3.12/site-packages/pcntoolkit/regression_model/blr/blr.py:343: LinAlgWarning: Ill-conditioned matrix (rcond=1.46715e-18): result may not be accurate.\n",
      "  invAXt: np.ndarray = linalg.solve(self.A, X.T, check_finite=False)\n",
      "/opt/anaconda3/envs/dev_refactor/lib/python3.12/site-packages/pcntoolkit/regression_model/blr/blr.py:343: LinAlgWarning: Ill-conditioned matrix (rcond=1.46934e-18): result may not be accurate.\n",
      "  invAXt: np.ndarray = linalg.solve(self.A, X.T, check_finite=False)\n",
      "/opt/anaconda3/envs/dev_refactor/lib/python3.12/site-packages/pcntoolkit/regression_model/blr/blr.py:343: LinAlgWarning: Ill-conditioned matrix (rcond=1.65361e-18): result may not be accurate.\n",
      "  invAXt: np.ndarray = linalg.solve(self.A, X.T, check_finite=False)\n",
      "/opt/anaconda3/envs/dev_refactor/lib/python3.12/site-packages/pcntoolkit/regression_model/blr/blr.py:343: LinAlgWarning: Ill-conditioned matrix (rcond=1.65346e-18): result may not be accurate.\n",
      "  invAXt: np.ndarray = linalg.solve(self.A, X.T, check_finite=False)\n",
      "/opt/anaconda3/envs/dev_refactor/lib/python3.12/site-packages/pcntoolkit/regression_model/blr/blr.py:343: LinAlgWarning: Ill-conditioned matrix (rcond=1.65376e-18): result may not be accurate.\n",
      "  invAXt: np.ndarray = linalg.solve(self.A, X.T, check_finite=False)\n",
      "/opt/anaconda3/envs/dev_refactor/lib/python3.12/site-packages/pcntoolkit/util/evaluator.py:341: RuntimeWarning: invalid value encountered in log\n",
      "  nll = -np.mean(y * np.log(yhat) + (1 - y) * np.log(1 - yhat))\n"
     ]
    },
    {
     "name": "stdout",
     "output_type": "stream",
     "text": [
      "Warning: Estimation of posterior distribution failed\n",
      "Warning: Estimation of posterior distribution failed\n",
      "Warning: Estimation of posterior distribution failed\n",
      "Warning: Estimation of posterior distribution failed\n",
      "Warning: Estimation of posterior distribution failed\n",
      "Warning: Estimation of posterior distribution failed\n",
      "Warning: Estimation of posterior distribution failed\n",
      "Warning: Estimation of posterior distribution failed\n",
      "Warning: Estimation of posterior distribution failed\n",
      "Warning: Estimation of posterior distribution failed\n",
      "32653 Saving model to resources/blr/save_dir/folds/fold_8\n",
      "Model saved to /Users/stijndeboer/Projects/PCN/PCNtoolkit/example_notebooks/resources/blr/save_dir/folds/fold_8/model\n",
      "Computing zscores for rh_MeanThickness_thickness\n",
      "Computing centiles for rh_MeanThickness_thickness\n",
      "Computing centiles for rh_MeanThickness_thickness\n",
      "Results and plots saved to /Users/stijndeboer/Projects/PCN/PCNtoolkit/example_notebooks/resources/blr/save_dir/folds/fold_8/results and /Users/stijndeboer/Projects/PCN/PCNtoolkit/example_notebooks/resources/blr/save_dir/folds/fold_8/plots\n",
      "32653 Saving model to resources/blr/save_dir/folds/fold_8\n",
      "Model saved to /Users/stijndeboer/Projects/PCN/PCNtoolkit/example_notebooks/resources/blr/save_dir/folds/fold_8/model\n",
      "Going to fit and predict 1 models\n",
      "Fitting and predicting model for rh_MeanThickness_thickness\n"
     ]
    },
    {
     "name": "stderr",
     "output_type": "stream",
     "text": [
      "/opt/anaconda3/envs/dev_refactor/lib/python3.12/site-packages/pcntoolkit/regression_model/blr/blr.py:282: RuntimeWarning: divide by zero encountered in divide\n",
      "  beta = beta/(delta**2)\n",
      "/opt/anaconda3/envs/dev_refactor/lib/python3.12/site-packages/pcntoolkit/regression_model/blr/warp.py:522: RuntimeWarning: overflow encountered in sinh\n",
      "  y = np.sinh(b * np.arcsinh(x) - a)\n",
      "/opt/anaconda3/envs/dev_refactor/lib/python3.12/site-packages/pcntoolkit/regression_model/blr/blr.py:343: LinAlgWarning: Ill-conditioned matrix (rcond=1.47674e-21): result may not be accurate.\n",
      "  invAXt: np.ndarray = linalg.solve(self.A, X.T, check_finite=False)\n",
      "/opt/anaconda3/envs/dev_refactor/lib/python3.12/site-packages/pcntoolkit/regression_model/blr/warp.py:560: RuntimeWarning: overflow encountered in cosh\n",
      "  dx = (b * np.cosh(b * np.arcsinh(x) - a)) / np.sqrt(1 + x**2)\n",
      "/opt/anaconda3/envs/dev_refactor/lib/python3.12/site-packages/pcntoolkit/regression_model/blr/blr.py:343: LinAlgWarning: Ill-conditioned matrix (rcond=1.47839e-21): result may not be accurate.\n",
      "  invAXt: np.ndarray = linalg.solve(self.A, X.T, check_finite=False)\n",
      "/opt/anaconda3/envs/dev_refactor/lib/python3.12/site-packages/pcntoolkit/regression_model/blr/blr.py:343: LinAlgWarning: Ill-conditioned matrix (rcond=1.43178e-21): result may not be accurate.\n",
      "  invAXt: np.ndarray = linalg.solve(self.A, X.T, check_finite=False)\n",
      "/opt/anaconda3/envs/dev_refactor/lib/python3.12/site-packages/pcntoolkit/regression_model/blr/blr.py:343: LinAlgWarning: Ill-conditioned matrix (rcond=1.39877e-21): result may not be accurate.\n",
      "  invAXt: np.ndarray = linalg.solve(self.A, X.T, check_finite=False)\n",
      "/opt/anaconda3/envs/dev_refactor/lib/python3.12/site-packages/pcntoolkit/regression_model/blr/blr.py:343: LinAlgWarning: Ill-conditioned matrix (rcond=1.46619e-21): result may not be accurate.\n",
      "  invAXt: np.ndarray = linalg.solve(self.A, X.T, check_finite=False)\n",
      "/opt/anaconda3/envs/dev_refactor/lib/python3.12/site-packages/pcntoolkit/regression_model/blr/blr.py:343: LinAlgWarning: Ill-conditioned matrix (rcond=1.5309e-21): result may not be accurate.\n",
      "  invAXt: np.ndarray = linalg.solve(self.A, X.T, check_finite=False)\n",
      "/opt/anaconda3/envs/dev_refactor/lib/python3.12/site-packages/pcntoolkit/regression_model/blr/blr.py:343: LinAlgWarning: Ill-conditioned matrix (rcond=1.54926e-21): result may not be accurate.\n",
      "  invAXt: np.ndarray = linalg.solve(self.A, X.T, check_finite=False)\n",
      "/opt/anaconda3/envs/dev_refactor/lib/python3.12/site-packages/pcntoolkit/regression_model/blr/blr.py:343: LinAlgWarning: Ill-conditioned matrix (rcond=1.49462e-21): result may not be accurate.\n",
      "  invAXt: np.ndarray = linalg.solve(self.A, X.T, check_finite=False)\n",
      "/opt/anaconda3/envs/dev_refactor/lib/python3.12/site-packages/pcntoolkit/regression_model/blr/blr.py:343: LinAlgWarning: Ill-conditioned matrix (rcond=1.55421e-21): result may not be accurate.\n",
      "  invAXt: np.ndarray = linalg.solve(self.A, X.T, check_finite=False)\n",
      "/opt/anaconda3/envs/dev_refactor/lib/python3.12/site-packages/pcntoolkit/regression_model/blr/blr.py:343: LinAlgWarning: Ill-conditioned matrix (rcond=1.40581e-21): result may not be accurate.\n",
      "  invAXt: np.ndarray = linalg.solve(self.A, X.T, check_finite=False)\n",
      "/opt/anaconda3/envs/dev_refactor/lib/python3.12/site-packages/pcntoolkit/regression_model/blr/blr.py:343: LinAlgWarning: Ill-conditioned matrix (rcond=1.47351e-21): result may not be accurate.\n",
      "  invAXt: np.ndarray = linalg.solve(self.A, X.T, check_finite=False)\n",
      "/opt/anaconda3/envs/dev_refactor/lib/python3.12/site-packages/pcntoolkit/regression_model/blr/blr.py:343: LinAlgWarning: Ill-conditioned matrix (rcond=1.52931e-21): result may not be accurate.\n",
      "  invAXt: np.ndarray = linalg.solve(self.A, X.T, check_finite=False)\n",
      "/opt/anaconda3/envs/dev_refactor/lib/python3.12/site-packages/pcntoolkit/regression_model/blr/blr.py:343: LinAlgWarning: Ill-conditioned matrix (rcond=1.4782e-21): result may not be accurate.\n",
      "  invAXt: np.ndarray = linalg.solve(self.A, X.T, check_finite=False)\n",
      "/opt/anaconda3/envs/dev_refactor/lib/python3.12/site-packages/pcntoolkit/regression_model/blr/blr.py:343: LinAlgWarning: Ill-conditioned matrix (rcond=1.47139e-21): result may not be accurate.\n",
      "  invAXt: np.ndarray = linalg.solve(self.A, X.T, check_finite=False)\n",
      "/opt/anaconda3/envs/dev_refactor/lib/python3.12/site-packages/pcntoolkit/regression_model/blr/blr.py:343: LinAlgWarning: Ill-conditioned matrix (rcond=1.47831e-21): result may not be accurate.\n",
      "  invAXt: np.ndarray = linalg.solve(self.A, X.T, check_finite=False)\n",
      "/opt/anaconda3/envs/dev_refactor/lib/python3.12/site-packages/pcntoolkit/regression_model/blr/blr.py:343: LinAlgWarning: Ill-conditioned matrix (rcond=1.47796e-21): result may not be accurate.\n",
      "  invAXt: np.ndarray = linalg.solve(self.A, X.T, check_finite=False)\n",
      "/opt/anaconda3/envs/dev_refactor/lib/python3.12/site-packages/pcntoolkit/regression_model/blr/blr.py:343: LinAlgWarning: Ill-conditioned matrix (rcond=1.47642e-21): result may not be accurate.\n",
      "  invAXt: np.ndarray = linalg.solve(self.A, X.T, check_finite=False)\n",
      "/opt/anaconda3/envs/dev_refactor/lib/python3.12/site-packages/pcntoolkit/regression_model/blr/blr.py:343: LinAlgWarning: Ill-conditioned matrix (rcond=1.34584e-21): result may not be accurate.\n",
      "  invAXt: np.ndarray = linalg.solve(self.A, X.T, check_finite=False)\n",
      "/opt/anaconda3/envs/dev_refactor/lib/python3.12/site-packages/pcntoolkit/regression_model/blr/blr.py:343: LinAlgWarning: Ill-conditioned matrix (rcond=1.47767e-21): result may not be accurate.\n",
      "  invAXt: np.ndarray = linalg.solve(self.A, X.T, check_finite=False)\n",
      "/opt/anaconda3/envs/dev_refactor/lib/python3.12/site-packages/pcntoolkit/regression_model/blr/blr.py:343: LinAlgWarning: Ill-conditioned matrix (rcond=1.5531e-21): result may not be accurate.\n",
      "  invAXt: np.ndarray = linalg.solve(self.A, X.T, check_finite=False)\n",
      "/opt/anaconda3/envs/dev_refactor/lib/python3.12/site-packages/pcntoolkit/regression_model/blr/blr.py:343: LinAlgWarning: Ill-conditioned matrix (rcond=1.47342e-21): result may not be accurate.\n",
      "  invAXt: np.ndarray = linalg.solve(self.A, X.T, check_finite=False)\n",
      "/opt/anaconda3/envs/dev_refactor/lib/python3.12/site-packages/pcntoolkit/regression_model/blr/blr.py:343: LinAlgWarning: Ill-conditioned matrix (rcond=1.47711e-21): result may not be accurate.\n",
      "  invAXt: np.ndarray = linalg.solve(self.A, X.T, check_finite=False)\n",
      "/opt/anaconda3/envs/dev_refactor/lib/python3.12/site-packages/pcntoolkit/regression_model/blr/blr.py:343: LinAlgWarning: Ill-conditioned matrix (rcond=1.50368e-21): result may not be accurate.\n",
      "  invAXt: np.ndarray = linalg.solve(self.A, X.T, check_finite=False)\n",
      "/opt/anaconda3/envs/dev_refactor/lib/python3.12/site-packages/pcntoolkit/regression_model/blr/blr.py:343: LinAlgWarning: Ill-conditioned matrix (rcond=1.46788e-21): result may not be accurate.\n",
      "  invAXt: np.ndarray = linalg.solve(self.A, X.T, check_finite=False)\n",
      "/opt/anaconda3/envs/dev_refactor/lib/python3.12/site-packages/pcntoolkit/regression_model/blr/blr.py:343: LinAlgWarning: Ill-conditioned matrix (rcond=1.47848e-21): result may not be accurate.\n",
      "  invAXt: np.ndarray = linalg.solve(self.A, X.T, check_finite=False)\n",
      "/opt/anaconda3/envs/dev_refactor/lib/python3.12/site-packages/pcntoolkit/regression_model/blr/blr.py:343: LinAlgWarning: Ill-conditioned matrix (rcond=1.47786e-21): result may not be accurate.\n",
      "  invAXt: np.ndarray = linalg.solve(self.A, X.T, check_finite=False)\n",
      "/opt/anaconda3/envs/dev_refactor/lib/python3.12/site-packages/pcntoolkit/regression_model/blr/blr.py:343: LinAlgWarning: Ill-conditioned matrix (rcond=1.47817e-21): result may not be accurate.\n",
      "  invAXt: np.ndarray = linalg.solve(self.A, X.T, check_finite=False)\n",
      "/opt/anaconda3/envs/dev_refactor/lib/python3.12/site-packages/pcntoolkit/regression_model/blr/blr.py:343: LinAlgWarning: Ill-conditioned matrix (rcond=1.4784e-21): result may not be accurate.\n",
      "  invAXt: np.ndarray = linalg.solve(self.A, X.T, check_finite=False)\n",
      "/opt/anaconda3/envs/dev_refactor/lib/python3.12/site-packages/pcntoolkit/regression_model/blr/blr.py:343: LinAlgWarning: Ill-conditioned matrix (rcond=1.47633e-21): result may not be accurate.\n",
      "  invAXt: np.ndarray = linalg.solve(self.A, X.T, check_finite=False)\n",
      "/opt/anaconda3/envs/dev_refactor/lib/python3.12/site-packages/pcntoolkit/regression_model/blr/blr.py:343: LinAlgWarning: Ill-conditioned matrix (rcond=1.47776e-21): result may not be accurate.\n",
      "  invAXt: np.ndarray = linalg.solve(self.A, X.T, check_finite=False)\n",
      "/opt/anaconda3/envs/dev_refactor/lib/python3.12/site-packages/pcntoolkit/regression_model/blr/blr.py:343: LinAlgWarning: Ill-conditioned matrix (rcond=1.47748e-21): result may not be accurate.\n",
      "  invAXt: np.ndarray = linalg.solve(self.A, X.T, check_finite=False)\n",
      "/opt/anaconda3/envs/dev_refactor/lib/python3.12/site-packages/pcntoolkit/regression_model/blr/blr.py:343: LinAlgWarning: Ill-conditioned matrix (rcond=1.47668e-21): result may not be accurate.\n",
      "  invAXt: np.ndarray = linalg.solve(self.A, X.T, check_finite=False)\n",
      "/opt/anaconda3/envs/dev_refactor/lib/python3.12/site-packages/pcntoolkit/util/evaluator.py:341: RuntimeWarning: invalid value encountered in log\n",
      "  nll = -np.mean(y * np.log(yhat) + (1 - y) * np.log(1 - yhat))\n"
     ]
    },
    {
     "name": "stdout",
     "output_type": "stream",
     "text": [
      "Warning: Estimation of posterior distribution failed\n",
      "Warning: Estimation of posterior distribution failed\n",
      "Warning: Estimation of posterior distribution failed\n",
      "Warning: Estimation of posterior distribution failed\n",
      "Warning: Estimation of posterior distribution failed\n",
      "Warning: Estimation of posterior distribution failed\n",
      "Warning: Estimation of posterior distribution failed\n",
      "Warning: Estimation of posterior distribution failed\n",
      "Warning: Estimation of posterior distribution failed\n",
      "Warning: Estimation of posterior distribution failed\n",
      "Warning: Estimation of posterior distribution failed\n",
      "Warning: Estimation of posterior distribution failed\n",
      "Warning: Estimation of posterior distribution failed\n",
      "Warning: Estimation of posterior distribution failed\n",
      "Warning: Estimation of posterior distribution failed\n",
      "Warning: Estimation of posterior distribution failed\n",
      "Warning: Estimation of posterior distribution failed\n",
      "Warning: Estimation of posterior distribution failed\n",
      "Warning: Estimation of posterior distribution failed\n",
      "Warning: Estimation of posterior distribution failed\n",
      "Warning: Estimation of posterior distribution failed\n",
      "Warning: Estimation of posterior distribution failed\n",
      "Warning: Estimation of posterior distribution failed\n",
      "32653 Saving model to resources/blr/save_dir/folds/fold_9\n",
      "Model saved to /Users/stijndeboer/Projects/PCN/PCNtoolkit/example_notebooks/resources/blr/save_dir/folds/fold_9/model\n",
      "Computing zscores for rh_MeanThickness_thickness\n",
      "Computing centiles for rh_MeanThickness_thickness\n",
      "Computing centiles for rh_MeanThickness_thickness\n",
      "32654 Saving model to resources/blr/save_dir/folds/fold_9\n",
      "Model saved to /Users/stijndeboer/Projects/PCN/PCNtoolkit/example_notebooks/resources/blr/save_dir/folds/fold_9/model\n",
      "Computing zscores for WM-hypointensities\n",
      "Computing centiles for WM-hypointensities\n",
      "Computing centiles for WM-hypointensities\n",
      "Results and plots saved to /Users/stijndeboer/Projects/PCN/PCNtoolkit/example_notebooks/resources/blr/save_dir/folds/fold_9/results and /Users/stijndeboer/Projects/PCN/PCNtoolkit/example_notebooks/resources/blr/save_dir/folds/fold_9/plots\n",
      "32653 Saving model to resources/blr/save_dir/folds/fold_9\n",
      "Model saved to /Users/stijndeboer/Projects/PCN/PCNtoolkit/example_notebooks/resources/blr/save_dir/folds/fold_9/model\n"
     ]
    },
    {
     "name": "stderr",
     "output_type": "stream",
     "text": [
      "/opt/anaconda3/envs/dev_refactor/lib/python3.12/site-packages/pcntoolkit/util/evaluator.py:341: RuntimeWarning: invalid value encountered in log\n",
      "  nll = -np.mean(y * np.log(yhat) + (1 - y) * np.log(1 - yhat))\n"
     ]
    },
    {
     "name": "stdout",
     "output_type": "stream",
     "text": [
      "Results and plots saved to /Users/stijndeboer/Projects/PCN/PCNtoolkit/example_notebooks/resources/blr/save_dir/folds/fold_9/results and /Users/stijndeboer/Projects/PCN/PCNtoolkit/example_notebooks/resources/blr/save_dir/folds/fold_9/plots\n",
      "32654 Saving model to resources/blr/save_dir/folds/fold_9\n",
      "Model saved to /Users/stijndeboer/Projects/PCN/PCNtoolkit/example_notebooks/resources/blr/save_dir/folds/fold_9/model\n",
      "\n",
      "All jobs completed!\n"
     ]
    }
   ],
   "source": [
    "runner.fit_predict(norm_blr, train)"
   ]
  },
  {
   "cell_type": "markdown",
   "metadata": {},
   "source": [
    "### Loading a fold model\n",
    "We can load a model for a specific fold by calling `load_fold_model` on the runner object. This will return a `NormBLR` object, which we can inspect and use to predict on new data.\n"
   ]
  },
  {
   "cell_type": "code",
   "execution_count": 8,
   "metadata": {},
   "outputs": [
    {
     "name": "stdout",
     "output_type": "stream",
     "text": [
      "Configuration of normative model is valid.\n",
      "Configuration of normative model is valid.\n",
      "Configuration of regression model is valid.\n",
      "Configuration of regression model is valid.\n",
      "Configuration of regression model is valid.\n",
      "Configuration of regression model is valid.\n",
      "Going to predict 2 models\n",
      "Predicting model for rh_MeanThickness_thickness\n",
      "Predicting model for WM-hypointensities\n",
      "Computing zscores for rh_MeanThickness_thickness\n",
      "Computing zscores for WM-hypointensities\n",
      "Computing centiles for rh_MeanThickness_thickness\n",
      "Computing centiles for WM-hypointensities\n",
      "Computing centiles for rh_MeanThickness_thickness\n",
      "Computing centiles for WM-hypointensities\n"
     ]
    },
    {
     "name": "stderr",
     "output_type": "stream",
     "text": [
      "/opt/anaconda3/envs/dev_refactor/lib/python3.12/site-packages/pcntoolkit/util/evaluator.py:341: RuntimeWarning: invalid value encountered in log\n",
      "  nll = -np.mean(y * np.log(yhat) + (1 - y) * np.log(1 - yhat))\n"
     ]
    },
    {
     "name": "stdout",
     "output_type": "stream",
     "text": [
      "Results and plots saved to /Users/stijndeboer/Projects/PCN/PCNtoolkit/example_notebooks/resources/blr/save_dir/folds/fold_0/results and /Users/stijndeboer/Projects/PCN/PCNtoolkit/example_notebooks/resources/blr/save_dir/folds/fold_0/plots\n"
     ]
    },
    {
     "data": {
      "text/plain": [
       "<pcntoolkit.normative_model.norm_blr.NormBLR at 0x173ae3830>"
      ]
     },
     "metadata": {},
     "output_type": "display_data"
    }
   ],
   "source": [
    "fold_model = runner.load_fold_model(0)\n",
    "fold_model.predict(test)\n",
    "\n",
    "display(fold_model)"
   ]
  },
  {
   "cell_type": "markdown",
   "metadata": {},
   "source": [
    "## Inspecting the model \n",
    "\n",
    "The norm_blr model contains a collection of regression models, one for each response variable. We can inspect those models individually by calling `norm_blr.regression_models.get(\"{responsevar}\")`"
   ]
  },
  {
   "cell_type": "code",
   "execution_count": 9,
   "metadata": {},
   "outputs": [
    {
     "data": {
      "text/plain": [
       "{'_name': 'rh_MeanThickness_thickness',\n",
       " '_reg_conf': BLRConf(n_iter=1000, tol=1e-05, ard=False, optimizer='l-bfgs-b', l_bfgs_b_l=0.1, l_bfgs_b_epsilon=0.1, l_bfgs_b_norm='l2', intercept=False, random_intercept=True, heteroskedastic=True, intercept_var=False, random_intercept_var=True, warp='WarpSinhArcsinh', warp_reparam=True),\n",
       " 'is_fitted': True,\n",
       " '_is_from_dict': True,\n",
       " 'hyp': array([-7.98846121e-03,  3.19939145e-01,  7.11195200e-01,  2.58949745e-01,\n",
       "        -2.88577058e-02, -5.91439943e-02, -7.14464414e-03,  4.72354122e-01,\n",
       "         5.80013512e-01,  1.58141055e-02,  7.50597427e-02,  1.82371592e-02,\n",
       "         1.68802417e-03,  4.29198828e-02,  2.53382957e-01,  1.06291257e-01,\n",
       "         4.27580740e-01, -2.35446219e-02, -1.10923000e-01,  6.13226420e-02,\n",
       "         3.84082683e-02, -6.88920694e-03,  1.24636229e-01,  3.17463513e-02,\n",
       "         5.63562904e-02,  1.42691806e-02, -3.58819435e-02,  1.35507330e-03,\n",
       "        -3.95532312e-02, -7.17498583e-03, -4.86411274e-01, -2.55170610e-01,\n",
       "        -1.92782462e-02, -5.41752787e-02,  6.21913026e-03,  5.35776116e-03,\n",
       "        -2.61816384e-03, -6.07012277e-02, -2.56480636e-03,  5.13928182e-03,\n",
       "         6.19566660e-03, -4.68224922e-03,  5.68168923e-03,  3.86939524e-03,\n",
       "         7.94687122e-03, -5.59382084e-03,  8.22542290e-03,  3.63048810e-03,\n",
       "         7.03451319e-03,  6.96818129e-03,  2.38957719e-03,  3.10502045e-03,\n",
       "         1.39713050e-03,  7.21054520e-03,  7.84187937e-03,  7.97679584e-03,\n",
       "         3.00060372e-04,  7.65909544e-03,  6.52433382e-03,  1.84185820e-03,\n",
       "        -5.18953996e-03,  2.16128146e-03]),\n",
       " 'nlZ': 791.6605112714392,\n",
       " 'N': 669,\n",
       " 'D': 30,\n",
       " 'lambda_n_vec': array([2.14361385, 2.17723945, 2.21041761, 2.24310587, 2.27526153,\n",
       "        2.3068417 , 2.33780341, 2.36810369, 2.39769965, 2.42654858,\n",
       "        2.45460806, 2.48183601, 2.50819082, 2.53363144, 2.5581175 ,\n",
       "        2.58160935, 2.60406822, 2.62545629, 2.6457368 , 2.66487412,\n",
       "        2.6828339 , 2.6995831 , 2.71509016, 2.72932501, 2.74225923,\n",
       "        2.75386609, 2.76412065, 2.77299984, 2.78048256, 2.78654971,\n",
       "        2.79118432, 2.79438442, 2.79617886, 2.79660262, 2.79569275,\n",
       "        2.7934882 , 2.79002962, 2.78535922, 2.77952054, 2.77255834,\n",
       "        2.76451837, 2.75544725, 2.74539229, 2.73440133, 2.72252262,\n",
       "        2.70980462, 2.69629594, 2.68204516, 2.66710071, 2.65151078,\n",
       "        2.6353232 , 2.61858534, 2.60134401, 2.58364541, 2.565535  ,\n",
       "        2.54705749, 2.52825672, 2.50917566, 2.48985632, 2.47033973,\n",
       "        2.45066591, 2.43087383, 2.4110014 , 2.39108542, 2.37116164,\n",
       "        2.35126469, 2.33142809, 2.31168431, 2.29206471, 2.2725996 ,\n",
       "        2.25331822, 2.23424882, 2.21541863, 2.19685393, 2.17858005,\n",
       "        2.16062086, 2.14298644, 2.12567366, 2.10867888, 2.09199852,\n",
       "        2.07562907, 2.05956708, 2.04380917, 2.02835203, 2.01319239,\n",
       "        1.99832706, 1.98375293, 1.96946693, 1.95546606, 1.94174739,\n",
       "        1.92830805, 1.91514523, 1.9022562 , 1.88963827, 1.87728884,\n",
       "        1.86520534, 1.85338529, 1.84182628, 1.83052594, 1.81948196,\n",
       "        1.80869214, 1.79815428, 1.78786629, 1.77782613, 1.76803182,\n",
       "        1.75848144, 1.74917315, 1.74010516, 1.73127575, 1.72268326,\n",
       "        1.7143261 , 1.70620275, 1.69831174, 1.69065168, 1.68322123,\n",
       "        1.67601913, 1.66904418, 1.66229525, 1.65577127, 1.64947125,\n",
       "        1.64339437, 1.63754088, 1.63191145, 1.62650685, 1.62132788,\n",
       "        1.61637541, 1.61165034, 1.60715366, 1.60288642, 1.59884972,\n",
       "        1.59504474, 1.59147274, 1.58813504, 1.58503305, 1.58216826,\n",
       "        1.57954223, 1.57715664, 1.57501323, 1.57311386, 1.57146047,\n",
       "        1.5700551 , 1.56889992, 1.5679972 , 1.5673493 , 1.56695875,\n",
       "        1.56682815, 1.56696025, 1.56735795, 1.56802426, 1.56896233]),\n",
       " 'Sigma_a': array([[1.01946527, 0.        , 0.        , 0.        , 0.        ,\n",
       "         0.        , 0.        , 0.        , 0.        , 0.        ,\n",
       "         0.        , 0.        , 0.        , 0.        , 0.        ,\n",
       "         0.        , 0.        , 0.        , 0.        , 0.        ,\n",
       "         0.        , 0.        , 0.        , 0.        , 0.        ,\n",
       "         0.        , 0.        , 0.        , 0.        , 0.        ],\n",
       "        [0.        , 1.05566962, 0.        , 0.        , 0.        ,\n",
       "         0.        , 0.        , 0.        , 0.        , 0.        ,\n",
       "         0.        , 0.        , 0.        , 0.        , 0.        ,\n",
       "         0.        , 0.        , 0.        , 0.        , 0.        ,\n",
       "         0.        , 0.        , 0.        , 0.        , 0.        ,\n",
       "         0.        , 0.        , 0.        , 0.        , 0.        ],\n",
       "        [0.        , 0.        , 0.99380017, 0.        , 0.        ,\n",
       "         0.        , 0.        , 0.        , 0.        , 0.        ,\n",
       "         0.        , 0.        , 0.        , 0.        , 0.        ,\n",
       "         0.        , 0.        , 0.        , 0.        , 0.        ,\n",
       "         0.        , 0.        , 0.        , 0.        , 0.        ,\n",
       "         0.        , 0.        , 0.        , 0.        , 0.        ],\n",
       "        [0.        , 0.        , 0.        , 0.99465657, 0.        ,\n",
       "         0.        , 0.        , 0.        , 0.        , 0.        ,\n",
       "         0.        , 0.        , 0.        , 0.        , 0.        ,\n",
       "         0.        , 0.        , 0.        , 0.        , 0.        ,\n",
       "         0.        , 0.        , 0.        , 0.        , 0.        ,\n",
       "         0.        , 0.        , 0.        , 0.        , 0.        ],\n",
       "        [0.        , 0.        , 0.        , 0.        , 1.00262159,\n",
       "         0.        , 0.        , 0.        , 0.        , 0.        ,\n",
       "         0.        , 0.        , 0.        , 0.        , 0.        ,\n",
       "         0.        , 0.        , 0.        , 0.        , 0.        ,\n",
       "         0.        , 0.        , 0.        , 0.        , 0.        ,\n",
       "         0.        , 0.        , 0.        , 0.        , 0.        ],\n",
       "        [0.        , 0.        , 0.        , 0.        , 0.        ,\n",
       "         1.0625814 , 0.        , 0.        , 0.        , 0.        ,\n",
       "         0.        , 0.        , 0.        , 0.        , 0.        ,\n",
       "         0.        , 0.        , 0.        , 0.        , 0.        ,\n",
       "         0.        , 0.        , 0.        , 0.        , 0.        ,\n",
       "         0.        , 0.        , 0.        , 0.        , 0.        ],\n",
       "        [0.        , 0.        , 0.        , 0.        , 0.        ,\n",
       "         0.        , 1.0025681 , 0.        , 0.        , 0.        ,\n",
       "         0.        , 0.        , 0.        , 0.        , 0.        ,\n",
       "         0.        , 0.        , 0.        , 0.        , 0.        ,\n",
       "         0.        , 0.        , 0.        , 0.        , 0.        ,\n",
       "         0.        , 0.        , 0.        , 0.        , 0.        ],\n",
       "        [0.        , 0.        , 0.        , 0.        , 0.        ,\n",
       "         0.        , 0.        , 0.9948739 , 0.        , 0.        ,\n",
       "         0.        , 0.        , 0.        , 0.        , 0.        ,\n",
       "         0.        , 0.        , 0.        , 0.        , 0.        ,\n",
       "         0.        , 0.        , 0.        , 0.        , 0.        ,\n",
       "         0.        , 0.        , 0.        , 0.        , 0.        ],\n",
       "        [0.        , 0.        , 0.        , 0.        , 0.        ,\n",
       "         0.        , 0.        , 0.        , 0.99382349, 0.        ,\n",
       "         0.        , 0.        , 0.        , 0.        , 0.        ,\n",
       "         0.        , 0.        , 0.        , 0.        , 0.        ,\n",
       "         0.        , 0.        , 0.        , 0.        , 0.        ,\n",
       "         0.        , 0.        , 0.        , 0.        , 0.        ],\n",
       "        [0.        , 0.        , 0.        , 0.        , 0.        ,\n",
       "         0.        , 0.        , 0.        , 0.        , 1.00469323,\n",
       "         0.        , 0.        , 0.        , 0.        , 0.        ,\n",
       "         0.        , 0.        , 0.        , 0.        , 0.        ,\n",
       "         0.        , 0.        , 0.        , 0.        , 0.        ,\n",
       "         0.        , 0.        , 0.        , 0.        , 0.        ],\n",
       "        [0.        , 0.        , 0.        , 0.        , 0.        ,\n",
       "         0.        , 0.        , 0.        , 0.        , 0.        ,\n",
       "         0.99433442, 0.        , 0.        , 0.        , 0.        ,\n",
       "         0.        , 0.        , 0.        , 0.        , 0.        ,\n",
       "         0.        , 0.        , 0.        , 0.        , 0.        ,\n",
       "         0.        , 0.        , 0.        , 0.        , 0.        ],\n",
       "        [0.        , 0.        , 0.        , 0.        , 0.        ,\n",
       "         0.        , 0.        , 0.        , 0.        , 0.        ,\n",
       "         0.        , 0.99613808, 0.        , 0.        , 0.        ,\n",
       "         0.        , 0.        , 0.        , 0.        , 0.        ,\n",
       "         0.        , 0.        , 0.        , 0.        , 0.        ,\n",
       "         0.        , 0.        , 0.        , 0.        , 0.        ],\n",
       "        [0.        , 0.        , 0.        , 0.        , 0.        ,\n",
       "         0.        , 0.        , 0.        , 0.        , 0.        ,\n",
       "         0.        , 0.        , 0.99208462, 0.        , 0.        ,\n",
       "         0.        , 0.        , 0.        , 0.        , 0.        ,\n",
       "         0.        , 0.        , 0.        , 0.        , 0.        ,\n",
       "         0.        , 0.        , 0.        , 0.        , 0.        ],\n",
       "        [0.        , 0.        , 0.        , 0.        , 0.        ,\n",
       "         0.        , 0.        , 0.        , 0.        , 0.        ,\n",
       "         0.        , 0.        , 0.        , 1.0056095 , 0.        ,\n",
       "         0.        , 0.        , 0.        , 0.        , 0.        ,\n",
       "         0.        , 0.        , 0.        , 0.        , 0.        ,\n",
       "         0.        , 0.        , 0.        , 0.        , 0.        ],\n",
       "        [0.        , 0.        , 0.        , 0.        , 0.        ,\n",
       "         0.        , 0.        , 0.        , 0.        , 0.        ,\n",
       "         0.        , 0.        , 0.        , 0.        , 0.99180831,\n",
       "         0.        , 0.        , 0.        , 0.        , 0.        ,\n",
       "         0.        , 0.        , 0.        , 0.        , 0.        ,\n",
       "         0.        , 0.        , 0.        , 0.        , 0.        ],\n",
       "        [0.        , 0.        , 0.        , 0.        , 0.        ,\n",
       "         0.        , 0.        , 0.        , 0.        , 0.        ,\n",
       "         0.        , 0.        , 0.        , 0.        , 0.        ,\n",
       "         0.99637609, 0.        , 0.        , 0.        , 0.        ,\n",
       "         0.        , 0.        , 0.        , 0.        , 0.        ,\n",
       "         0.        , 0.        , 0.        , 0.        , 0.        ],\n",
       "        [0.        , 0.        , 0.        , 0.        , 0.        ,\n",
       "         0.        , 0.        , 0.        , 0.        , 0.        ,\n",
       "         0.        , 0.        , 0.        , 0.        , 0.        ,\n",
       "         0.        , 0.99299017, 0.        , 0.        , 0.        ,\n",
       "         0.        , 0.        , 0.        , 0.        , 0.        ,\n",
       "         0.        , 0.        , 0.        , 0.        , 0.        ],\n",
       "        [0.        , 0.        , 0.        , 0.        , 0.        ,\n",
       "         0.        , 0.        , 0.        , 0.        , 0.        ,\n",
       "         0.        , 0.        , 0.        , 0.        , 0.        ,\n",
       "         0.        , 0.        , 0.99305604, 0.        , 0.        ,\n",
       "         0.        , 0.        , 0.        , 0.        , 0.        ,\n",
       "         0.        , 0.        , 0.        , 0.        , 0.        ],\n",
       "        [0.        , 0.        , 0.        , 0.        , 0.        ,\n",
       "         0.        , 0.        , 0.        , 0.        , 0.        ,\n",
       "         0.        , 0.        , 0.        , 0.        , 0.        ,\n",
       "         0.        , 0.        , 0.        , 0.99761328, 0.        ,\n",
       "         0.        , 0.        , 0.        , 0.        , 0.        ,\n",
       "         0.        , 0.        , 0.        , 0.        , 0.        ],\n",
       "        [0.        , 0.        , 0.        , 0.        , 0.        ,\n",
       "         0.        , 0.        , 0.        , 0.        , 0.        ,\n",
       "         0.        , 0.        , 0.        , 0.        , 0.        ,\n",
       "         0.        , 0.        , 0.        , 0.        , 0.9968998 ,\n",
       "         0.        , 0.        , 0.        , 0.        , 0.        ,\n",
       "         0.        , 0.        , 0.        , 0.        , 0.        ],\n",
       "        [0.        , 0.        , 0.        , 0.        , 0.        ,\n",
       "         0.        , 0.        , 0.        , 0.        , 0.        ,\n",
       "         0.        , 0.        , 0.        , 0.        , 0.        ,\n",
       "         0.        , 0.        , 0.        , 0.        , 0.        ,\n",
       "         0.99860385, 0.        , 0.        , 0.        , 0.        ,\n",
       "         0.        , 0.        , 0.        , 0.        , 0.        ],\n",
       "        [0.        , 0.        , 0.        , 0.        , 0.        ,\n",
       "         0.        , 0.        , 0.        , 0.        , 0.        ,\n",
       "         0.        , 0.        , 0.        , 0.        , 0.        ,\n",
       "         0.        , 0.        , 0.        , 0.        , 0.        ,\n",
       "         0.        , 0.99281539, 0.        , 0.        , 0.        ,\n",
       "         0.        , 0.        , 0.        , 0.        , 0.        ],\n",
       "        [0.        , 0.        , 0.        , 0.        , 0.        ,\n",
       "         0.        , 0.        , 0.        , 0.        , 0.        ,\n",
       "         0.        , 0.        , 0.        , 0.        , 0.        ,\n",
       "         0.        , 0.        , 0.        , 0.        , 0.        ,\n",
       "         0.        , 0.        , 0.99218879, 0.        , 0.        ,\n",
       "         0.        , 0.        , 0.        , 0.        , 0.        ],\n",
       "        [0.        , 0.        , 0.        , 0.        , 0.        ,\n",
       "         0.        , 0.        , 0.        , 0.        , 0.        ,\n",
       "         0.        , 0.        , 0.        , 0.        , 0.        ,\n",
       "         0.        , 0.        , 0.        , 0.        , 0.        ,\n",
       "         0.        , 0.        , 0.        , 0.99205493, 0.        ,\n",
       "         0.        , 0.        , 0.        , 0.        , 0.        ],\n",
       "        [0.        , 0.        , 0.        , 0.        , 0.        ,\n",
       "         0.        , 0.        , 0.        , 0.        , 0.        ,\n",
       "         0.        , 0.        , 0.        , 0.        , 0.        ,\n",
       "         0.        , 0.        , 0.        , 0.        , 0.        ,\n",
       "         0.        , 0.        , 0.        , 0.        , 0.99969998,\n",
       "         0.        , 0.        , 0.        , 0.        , 0.        ],\n",
       "        [0.        , 0.        , 0.        , 0.        , 0.        ,\n",
       "         0.        , 0.        , 0.        , 0.        , 0.        ,\n",
       "         0.        , 0.        , 0.        , 0.        , 0.        ,\n",
       "         0.        , 0.        , 0.        , 0.        , 0.        ,\n",
       "         0.        , 0.        , 0.        , 0.        , 0.        ,\n",
       "         0.99237016, 0.        , 0.        , 0.        , 0.        ],\n",
       "        [0.        , 0.        , 0.        , 0.        , 0.        ,\n",
       "         0.        , 0.        , 0.        , 0.        , 0.        ,\n",
       "         0.        , 0.        , 0.        , 0.        , 0.        ,\n",
       "         0.        , 0.        , 0.        , 0.        , 0.        ,\n",
       "         0.        , 0.        , 0.        , 0.        , 0.        ,\n",
       "         0.        , 0.9934969 , 0.        , 0.        , 0.        ],\n",
       "        [0.        , 0.        , 0.        , 0.        , 0.        ,\n",
       "         0.        , 0.        , 0.        , 0.        , 0.        ,\n",
       "         0.        , 0.        , 0.        , 0.        , 0.        ,\n",
       "         0.        , 0.        , 0.        , 0.        , 0.        ,\n",
       "         0.        , 0.        , 0.        , 0.        , 0.        ,\n",
       "         0.        , 0.        , 0.99815984, 0.        , 0.        ],\n",
       "        [0.        , 0.        , 0.        , 0.        , 0.        ,\n",
       "         0.        , 0.        , 0.        , 0.        , 0.        ,\n",
       "         0.        , 0.        , 0.        , 0.        , 0.        ,\n",
       "         0.        , 0.        , 0.        , 0.        , 0.        ,\n",
       "         0.        , 0.        , 0.        , 0.        , 0.        ,\n",
       "         0.        , 0.        , 0.        , 1.00520303, 0.        ],\n",
       "        [0.        , 0.        , 0.        , 0.        , 0.        ,\n",
       "         0.        , 0.        , 0.        , 0.        , 0.        ,\n",
       "         0.        , 0.        , 0.        , 0.        , 0.        ,\n",
       "         0.        , 0.        , 0.        , 0.        , 0.        ,\n",
       "         0.        , 0.        , 0.        , 0.        , 0.        ,\n",
       "         0.        , 0.        , 0.        , 0.        , 0.90288392]]),\n",
       " 'Lambda_a': array([[0.98090639, 0.        , 0.        , 0.        , 0.        ,\n",
       "         0.        , 0.        , 0.        , 0.        , 0.        ,\n",
       "         0.        , 0.        , 0.        , 0.        , 0.        ,\n",
       "         0.        , 0.        , 0.        , 0.        , 0.        ,\n",
       "         0.        , 0.        , 0.        , 0.        , 0.        ,\n",
       "         0.        , 0.        , 0.        , 0.        , 0.        ],\n",
       "        [0.        , 0.94726606, 0.        , 0.        , 0.        ,\n",
       "         0.        , 0.        , 0.        , 0.        , 0.        ,\n",
       "         0.        , 0.        , 0.        , 0.        , 0.        ,\n",
       "         0.        , 0.        , 0.        , 0.        , 0.        ,\n",
       "         0.        , 0.        , 0.        , 0.        , 0.        ,\n",
       "         0.        , 0.        , 0.        , 0.        , 0.        ],\n",
       "        [0.        , 0.        , 1.00623851, 0.        , 0.        ,\n",
       "         0.        , 0.        , 0.        , 0.        , 0.        ,\n",
       "         0.        , 0.        , 0.        , 0.        , 0.        ,\n",
       "         0.        , 0.        , 0.        , 0.        , 0.        ,\n",
       "         0.        , 0.        , 0.        , 0.        , 0.        ,\n",
       "         0.        , 0.        , 0.        , 0.        , 0.        ],\n",
       "        [0.        , 0.        , 0.        , 1.00537214, 0.        ,\n",
       "         0.        , 0.        , 0.        , 0.        , 0.        ,\n",
       "         0.        , 0.        , 0.        , 0.        , 0.        ,\n",
       "         0.        , 0.        , 0.        , 0.        , 0.        ,\n",
       "         0.        , 0.        , 0.        , 0.        , 0.        ,\n",
       "         0.        , 0.        , 0.        , 0.        , 0.        ],\n",
       "        [0.        , 0.        , 0.        , 0.        , 0.99738526,\n",
       "         0.        , 0.        , 0.        , 0.        , 0.        ,\n",
       "         0.        , 0.        , 0.        , 0.        , 0.        ,\n",
       "         0.        , 0.        , 0.        , 0.        , 0.        ,\n",
       "         0.        , 0.        , 0.        , 0.        , 0.        ,\n",
       "         0.        , 0.        , 0.        , 0.        , 0.        ],\n",
       "        [0.        , 0.        , 0.        , 0.        , 0.        ,\n",
       "         0.94110437, 0.        , 0.        , 0.        , 0.        ,\n",
       "         0.        , 0.        , 0.        , 0.        , 0.        ,\n",
       "         0.        , 0.        , 0.        , 0.        , 0.        ,\n",
       "         0.        , 0.        , 0.        , 0.        , 0.        ,\n",
       "         0.        , 0.        , 0.        , 0.        , 0.        ],\n",
       "        [0.        , 0.        , 0.        , 0.        , 0.        ,\n",
       "         0.        , 0.99743848, 0.        , 0.        , 0.        ,\n",
       "         0.        , 0.        , 0.        , 0.        , 0.        ,\n",
       "         0.        , 0.        , 0.        , 0.        , 0.        ,\n",
       "         0.        , 0.        , 0.        , 0.        , 0.        ,\n",
       "         0.        , 0.        , 0.        , 0.        , 0.        ],\n",
       "        [0.        , 0.        , 0.        , 0.        , 0.        ,\n",
       "         0.        , 0.        , 1.00515251, 0.        , 0.        ,\n",
       "         0.        , 0.        , 0.        , 0.        , 0.        ,\n",
       "         0.        , 0.        , 0.        , 0.        , 0.        ,\n",
       "         0.        , 0.        , 0.        , 0.        , 0.        ,\n",
       "         0.        , 0.        , 0.        , 0.        , 0.        ],\n",
       "        [0.        , 0.        , 0.        , 0.        , 0.        ,\n",
       "         0.        , 0.        , 0.        , 1.0062149 , 0.        ,\n",
       "         0.        , 0.        , 0.        , 0.        , 0.        ,\n",
       "         0.        , 0.        , 0.        , 0.        , 0.        ,\n",
       "         0.        , 0.        , 0.        , 0.        , 0.        ,\n",
       "         0.        , 0.        , 0.        , 0.        , 0.        ],\n",
       "        [0.        , 0.        , 0.        , 0.        , 0.        ,\n",
       "         0.        , 0.        , 0.        , 0.        , 0.9953287 ,\n",
       "         0.        , 0.        , 0.        , 0.        , 0.        ,\n",
       "         0.        , 0.        , 0.        , 0.        , 0.        ,\n",
       "         0.        , 0.        , 0.        , 0.        , 0.        ,\n",
       "         0.        , 0.        , 0.        , 0.        , 0.        ],\n",
       "        [0.        , 0.        , 0.        , 0.        , 0.        ,\n",
       "         0.        , 0.        , 0.        , 0.        , 0.        ,\n",
       "         1.00569786, 0.        , 0.        , 0.        , 0.        ,\n",
       "         0.        , 0.        , 0.        , 0.        , 0.        ,\n",
       "         0.        , 0.        , 0.        , 0.        , 0.        ,\n",
       "         0.        , 0.        , 0.        , 0.        , 0.        ],\n",
       "        [0.        , 0.        , 0.        , 0.        , 0.        ,\n",
       "         0.        , 0.        , 0.        , 0.        , 0.        ,\n",
       "         0.        , 1.00387689, 0.        , 0.        , 0.        ,\n",
       "         0.        , 0.        , 0.        , 0.        , 0.        ,\n",
       "         0.        , 0.        , 0.        , 0.        , 0.        ,\n",
       "         0.        , 0.        , 0.        , 0.        , 0.        ],\n",
       "        [0.        , 0.        , 0.        , 0.        , 0.        ,\n",
       "         0.        , 0.        , 0.        , 0.        , 0.        ,\n",
       "         0.        , 0.        , 1.00797853, 0.        , 0.        ,\n",
       "         0.        , 0.        , 0.        , 0.        , 0.        ,\n",
       "         0.        , 0.        , 0.        , 0.        , 0.        ,\n",
       "         0.        , 0.        , 0.        , 0.        , 0.        ],\n",
       "        [0.        , 0.        , 0.        , 0.        , 0.        ,\n",
       "         0.        , 0.        , 0.        , 0.        , 0.        ,\n",
       "         0.        , 0.        , 0.        , 0.9944218 , 0.        ,\n",
       "         0.        , 0.        , 0.        , 0.        , 0.        ,\n",
       "         0.        , 0.        , 0.        , 0.        , 0.        ,\n",
       "         0.        , 0.        , 0.        , 0.        , 0.        ],\n",
       "        [0.        , 0.        , 0.        , 0.        , 0.        ,\n",
       "         0.        , 0.        , 0.        , 0.        , 0.        ,\n",
       "         0.        , 0.        , 0.        , 0.        , 1.00825934,\n",
       "         0.        , 0.        , 0.        , 0.        , 0.        ,\n",
       "         0.        , 0.        , 0.        , 0.        , 0.        ,\n",
       "         0.        , 0.        , 0.        , 0.        , 0.        ],\n",
       "        [0.        , 0.        , 0.        , 0.        , 0.        ,\n",
       "         0.        , 0.        , 0.        , 0.        , 0.        ,\n",
       "         0.        , 0.        , 0.        , 0.        , 0.        ,\n",
       "         1.00363709, 0.        , 0.        , 0.        , 0.        ,\n",
       "         0.        , 0.        , 0.        , 0.        , 0.        ,\n",
       "         0.        , 0.        , 0.        , 0.        , 0.        ],\n",
       "        [0.        , 0.        , 0.        , 0.        , 0.        ,\n",
       "         0.        , 0.        , 0.        , 0.        , 0.        ,\n",
       "         0.        , 0.        , 0.        , 0.        , 0.        ,\n",
       "         0.        , 1.00705931, 0.        , 0.        , 0.        ,\n",
       "         0.        , 0.        , 0.        , 0.        , 0.        ,\n",
       "         0.        , 0.        , 0.        , 0.        , 0.        ],\n",
       "        [0.        , 0.        , 0.        , 0.        , 0.        ,\n",
       "         0.        , 0.        , 0.        , 0.        , 0.        ,\n",
       "         0.        , 0.        , 0.        , 0.        , 0.        ,\n",
       "         0.        , 0.        , 1.00699252, 0.        , 0.        ,\n",
       "         0.        , 0.        , 0.        , 0.        , 0.        ,\n",
       "         0.        , 0.        , 0.        , 0.        , 0.        ],\n",
       "        [0.        , 0.        , 0.        , 0.        , 0.        ,\n",
       "         0.        , 0.        , 0.        , 0.        , 0.        ,\n",
       "         0.        , 0.        , 0.        , 0.        , 0.        ,\n",
       "         0.        , 0.        , 0.        , 1.00239243, 0.        ,\n",
       "         0.        , 0.        , 0.        , 0.        , 0.        ,\n",
       "         0.        , 0.        , 0.        , 0.        , 0.        ],\n",
       "        [0.        , 0.        , 0.        , 0.        , 0.        ,\n",
       "         0.        , 0.        , 0.        , 0.        , 0.        ,\n",
       "         0.        , 0.        , 0.        , 0.        , 0.        ,\n",
       "         0.        , 0.        , 0.        , 0.        , 1.00310985,\n",
       "         0.        , 0.        , 0.        , 0.        , 0.        ,\n",
       "         0.        , 0.        , 0.        , 0.        , 0.        ],\n",
       "        [0.        , 0.        , 0.        , 0.        , 0.        ,\n",
       "         0.        , 0.        , 0.        , 0.        , 0.        ,\n",
       "         0.        , 0.        , 0.        , 0.        , 0.        ,\n",
       "         0.        , 0.        , 0.        , 0.        , 0.        ,\n",
       "         1.00139811, 0.        , 0.        , 0.        , 0.        ,\n",
       "         0.        , 0.        , 0.        , 0.        , 0.        ],\n",
       "        [0.        , 0.        , 0.        , 0.        , 0.        ,\n",
       "         0.        , 0.        , 0.        , 0.        , 0.        ,\n",
       "         0.        , 0.        , 0.        , 0.        , 0.        ,\n",
       "         0.        , 0.        , 0.        , 0.        , 0.        ,\n",
       "         0.        , 1.0072366 , 0.        , 0.        , 0.        ,\n",
       "         0.        , 0.        , 0.        , 0.        , 0.        ],\n",
       "        [0.        , 0.        , 0.        , 0.        , 0.        ,\n",
       "         0.        , 0.        , 0.        , 0.        , 0.        ,\n",
       "         0.        , 0.        , 0.        , 0.        , 0.        ,\n",
       "         0.        , 0.        , 0.        , 0.        , 0.        ,\n",
       "         0.        , 0.        , 1.00787271, 0.        , 0.        ,\n",
       "         0.        , 0.        , 0.        , 0.        , 0.        ],\n",
       "        [0.        , 0.        , 0.        , 0.        , 0.        ,\n",
       "         0.        , 0.        , 0.        , 0.        , 0.        ,\n",
       "         0.        , 0.        , 0.        , 0.        , 0.        ,\n",
       "         0.        , 0.        , 0.        , 0.        , 0.        ,\n",
       "         0.        , 0.        , 0.        , 1.0080087 , 0.        ,\n",
       "         0.        , 0.        , 0.        , 0.        , 0.        ],\n",
       "        [0.        , 0.        , 0.        , 0.        , 0.        ,\n",
       "         0.        , 0.        , 0.        , 0.        , 0.        ,\n",
       "         0.        , 0.        , 0.        , 0.        , 0.        ,\n",
       "         0.        , 0.        , 0.        , 0.        , 0.        ,\n",
       "         0.        , 0.        , 0.        , 0.        , 1.00030011,\n",
       "         0.        , 0.        , 0.        , 0.        , 0.        ],\n",
       "        [0.        , 0.        , 0.        , 0.        , 0.        ,\n",
       "         0.        , 0.        , 0.        , 0.        , 0.        ,\n",
       "         0.        , 0.        , 0.        , 0.        , 0.        ,\n",
       "         0.        , 0.        , 0.        , 0.        , 0.        ,\n",
       "         0.        , 0.        , 0.        , 0.        , 0.        ,\n",
       "         1.0076885 , 0.        , 0.        , 0.        , 0.        ],\n",
       "        [0.        , 0.        , 0.        , 0.        , 0.        ,\n",
       "         0.        , 0.        , 0.        , 0.        , 0.        ,\n",
       "         0.        , 0.        , 0.        , 0.        , 0.        ,\n",
       "         0.        , 0.        , 0.        , 0.        , 0.        ,\n",
       "         0.        , 0.        , 0.        , 0.        , 0.        ,\n",
       "         0.        , 1.00654566, 0.        , 0.        , 0.        ],\n",
       "        [0.        , 0.        , 0.        , 0.        , 0.        ,\n",
       "         0.        , 0.        , 0.        , 0.        , 0.        ,\n",
       "         0.        , 0.        , 0.        , 0.        , 0.        ,\n",
       "         0.        , 0.        , 0.        , 0.        , 0.        ,\n",
       "         0.        , 0.        , 0.        , 0.        , 0.        ,\n",
       "         0.        , 0.        , 1.00184356, 0.        , 0.        ],\n",
       "        [0.        , 0.        , 0.        , 0.        , 0.        ,\n",
       "         0.        , 0.        , 0.        , 0.        , 0.        ,\n",
       "         0.        , 0.        , 0.        , 0.        , 0.        ,\n",
       "         0.        , 0.        , 0.        , 0.        , 0.        ,\n",
       "         0.        , 0.        , 0.        , 0.        , 0.        ,\n",
       "         0.        , 0.        , 0.        , 0.9948239 , 0.        ],\n",
       "        [0.        , 0.        , 0.        , 0.        , 0.        ,\n",
       "         0.        , 0.        , 0.        , 0.        , 0.        ,\n",
       "         0.        , 0.        , 0.        , 0.        , 0.        ,\n",
       "         0.        , 0.        , 0.        , 0.        , 0.        ,\n",
       "         0.        , 0.        , 0.        , 0.        , 0.        ,\n",
       "         0.        , 0.        , 0.        , 0.        , 1.10756209]]),\n",
       " 'hyp0': None,\n",
       " 'n_hyp': 0,\n",
       " 'var_D': 0,\n",
       " 'alpha': None,\n",
       " 'beta': None,\n",
       " 'gamma': array([-0.48641127, -0.25517061]),\n",
       " 'm': array([ 1.18657122,  1.58319981, -0.19659989, -0.41328995, -0.69287981,\n",
       "        -2.12459895, -0.47191468, -0.60642484, -0.49830681, -0.84960842,\n",
       "        -0.37876186, -0.47493502, -0.09744907, -0.9074932 , -0.06221867,\n",
       "         0.50669353, -0.24261413, -0.29473017,  0.55869489,  0.50761942,\n",
       "         0.552128  ,  0.07748589,  0.09817511, -0.05298755, -0.68414542,\n",
       "         0.13321434, -0.3429545 , -0.53108897,  0.75671128,  0.55728456]),\n",
       " 'A': array([[2.07090253e+00, 5.24853003e+00, 3.42943398e+00, 4.74717932e-01,\n",
       "         0.00000000e+00, 0.00000000e+00, 0.00000000e+00, 3.46646162e+00,\n",
       "         6.77621646e+00, 8.61362454e-01, 1.22396484e-01, 1.03006898e-03,\n",
       "         4.96165101e-04, 8.05762238e-02, 1.21902172e+00, 6.92291168e-06,\n",
       "         1.83079453e+00, 0.00000000e+00, 5.61717773e-02, 2.49301445e-02,\n",
       "         1.09580125e-01, 0.00000000e+00, 5.90227616e+00, 4.03158061e-03,\n",
       "         5.10363856e-03, 8.85680668e-03, 4.84558071e-04, 0.00000000e+00,\n",
       "         7.54874448e-03, 8.00997122e-03],\n",
       "        [5.24853003e+00, 1.92093079e+02, 2.98236455e+02, 7.25900946e+01,\n",
       "         1.31528137e-01, 0.00000000e+00, 0.00000000e+00, 2.97173053e+02,\n",
       "         2.70179367e+02, 1.73170237e+01, 1.31617322e+01, 8.65801855e+00,\n",
       "         5.52640949e+00, 1.30414316e+01, 1.70516702e+02, 6.57624644e+00,\n",
       "         2.04204855e+02, 2.12600084e+00, 1.22106421e+01, 7.86087816e+00,\n",
       "         1.28115365e+01, 0.00000000e+00, 4.87644373e+01, 4.78776338e+00,\n",
       "         1.01408232e+01, 5.75697640e+00, 3.87584222e+00, 0.00000000e+00,\n",
       "         6.73867406e+00, 1.32764265e+01],\n",
       "        [3.42943398e+00, 2.98236455e+02, 5.83714737e+02, 1.94087449e+02,\n",
       "         4.61496405e+00, 2.75700086e-02, 0.00000000e+00, 5.66881517e+02,\n",
       "         5.16222854e+02, 2.33289652e+01, 2.15274374e+01, 2.73357890e+01,\n",
       "         2.52764821e+01, 2.47086218e+01, 2.82978152e+02, 3.10033986e+01,\n",
       "         3.30004090e+02, 1.52600908e+01, 3.76415838e+01, 1.64058373e+01,\n",
       "         2.09617014e+01, 1.44912818e-02, 8.17795529e+01, 2.13182115e+01,\n",
       "         2.29263709e+01, 2.61608932e+01, 1.51458858e+01, 3.65514188e-01,\n",
       "         2.05007347e+01, 3.84605655e+01],\n",
       "        [4.74717932e-01, 7.25900946e+01, 1.94087449e+02, 1.33271829e+02,\n",
       "         2.56045815e+01, 2.38425153e+00, 2.44164930e-02, 2.08509259e+02,\n",
       "         2.18922708e+02, 7.82203096e+00, 8.78269299e+00, 1.59711834e+01,\n",
       "         1.57825453e+01, 8.66941322e+00, 6.60642575e+01, 1.85513780e+01,\n",
       "         7.76554120e+01, 2.46393154e+01, 4.73158279e+01, 4.75605932e+00,\n",
       "         5.14208812e+00, 4.04608175e+00, 4.46950757e+01, 1.98889953e+01,\n",
       "         6.59812115e+00, 1.44135391e+01, 1.22749890e+01, 1.57221112e+00,\n",
       "         8.87604667e+00, 1.39147038e+01],\n",
       "        [0.00000000e+00, 1.31528137e-01, 4.61496405e+00, 2.56045815e+01,\n",
       "         2.71260051e+01, 7.71053256e+00, 2.39563356e-01, 3.08668987e+01,\n",
       "         3.35628907e+01, 2.30826533e-01, 1.05023829e+01, 2.88192575e+00,\n",
       "         4.86346113e-01, 2.10022501e-01, 3.75814774e-03, 4.36536456e-01,\n",
       "         5.27432391e-02, 8.11529037e+00, 2.25053346e+01, 4.42702058e-03,\n",
       "         5.15669637e-03, 1.10126219e+01, 3.85250541e+00, 2.16430071e+00,\n",
       "         1.17749317e-03, 2.02938831e-01, 1.19621897e+00, 4.22632195e-01,\n",
       "         1.18656662e-01, 2.39870739e-02],\n",
       "        [0.00000000e+00, 0.00000000e+00, 2.75700086e-02, 2.38425153e+00,\n",
       "         7.71053256e+00, 6.50215455e+00, 5.01526038e-01, 9.15182604e+00,\n",
       "         7.03310428e+00, 0.00000000e+00, 5.82547168e+00, 7.91726870e-02,\n",
       "         0.00000000e+00, 0.00000000e+00, 0.00000000e+00, 0.00000000e+00,\n",
       "         0.00000000e+00, 2.27637841e-01, 5.86943975e+00, 0.00000000e+00,\n",
       "         0.00000000e+00, 4.18016905e+00, 2.04344730e-03, 9.87490166e-04,\n",
       "         0.00000000e+00, 0.00000000e+00, 0.00000000e+00, 8.36794062e-06,\n",
       "         0.00000000e+00, 0.00000000e+00],\n",
       "        [0.00000000e+00, 0.00000000e+00, 0.00000000e+00, 2.44164930e-02,\n",
       "         2.39563356e-01, 5.01526038e-01, 1.14508853e+00, 8.87118720e-01,\n",
       "         2.60372213e-02, 0.00000000e+00, 2.55874523e-01, 0.00000000e+00,\n",
       "         0.00000000e+00, 0.00000000e+00, 0.00000000e+00, 0.00000000e+00,\n",
       "         0.00000000e+00, 0.00000000e+00, 6.42648025e-01, 0.00000000e+00,\n",
       "         0.00000000e+00, 1.46333928e-02, 0.00000000e+00, 0.00000000e+00,\n",
       "         0.00000000e+00, 0.00000000e+00, 0.00000000e+00, 0.00000000e+00,\n",
       "         0.00000000e+00, 0.00000000e+00],\n",
       "        [3.46646162e+00, 2.97173053e+02, 5.66881517e+02, 2.08509259e+02,\n",
       "         3.08668987e+01, 9.15182604e+00, 8.87118720e-01, 1.11794129e+03,\n",
       "         0.00000000e+00, 5.54580229e+00, 2.95869736e+01, 2.89656098e+01,\n",
       "         2.92372431e+01, 0.00000000e+00, 3.07216836e+02, 2.70489137e+01,\n",
       "         3.64707403e+02, 3.08862952e+01, 6.21003980e+01, 0.00000000e+00,\n",
       "         1.41113009e+01, 6.58873041e+00, 8.75370387e+01, 8.47278298e+00,\n",
       "         2.03087381e+01, 1.91613481e+01, 2.69562080e+01, 0.00000000e+00,\n",
       "         1.31552703e+01, 3.53492421e+01],\n",
       "        [6.77621646e+00, 2.70179367e+02, 5.16222854e+02, 2.18922708e+02,\n",
       "         3.35628907e+01, 7.03310428e+00, 2.60372213e-02, 0.00000000e+00,\n",
       "         1.05372939e+03, 4.40144066e+01, 3.05910146e+01, 2.59615096e+01,\n",
       "         1.78350361e+01, 4.67100653e+01, 2.13565056e+02, 2.95186527e+01,\n",
       "         2.49040492e+02, 1.94820400e+01, 6.41412500e+01, 2.90521319e+01,\n",
       "         2.49187620e+01, 1.26792670e+01, 9.74588523e+01, 3.96915069e+01,\n",
       "         1.93628583e+01, 2.73818563e+01, 5.53721252e+00, 2.36036587e+00,\n",
       "         2.30863905e+01, 3.03344509e+01],\n",
       "        [8.61362454e-01, 1.73170237e+01, 2.33289652e+01, 7.82203096e+00,\n",
       "         2.30826533e-01, 0.00000000e+00, 0.00000000e+00, 5.54580229e+00,\n",
       "         4.40144066e+01, 5.05555375e+01, 0.00000000e+00, 0.00000000e+00,\n",
       "         0.00000000e+00, 0.00000000e+00, 0.00000000e+00, 0.00000000e+00,\n",
       "         0.00000000e+00, 0.00000000e+00, 0.00000000e+00, 0.00000000e+00,\n",
       "         0.00000000e+00, 0.00000000e+00, 0.00000000e+00, 0.00000000e+00,\n",
       "         0.00000000e+00, 0.00000000e+00, 0.00000000e+00, 0.00000000e+00,\n",
       "         0.00000000e+00, 0.00000000e+00],\n",
       "        [1.22396484e-01, 1.31617322e+01, 2.15274374e+01, 8.78269299e+00,\n",
       "         1.05023829e+01, 5.82547168e+00, 2.55874523e-01, 2.95869736e+01,\n",
       "         3.05910146e+01, 0.00000000e+00, 6.11836861e+01, 0.00000000e+00,\n",
       "         0.00000000e+00, 0.00000000e+00, 0.00000000e+00, 0.00000000e+00,\n",
       "         0.00000000e+00, 0.00000000e+00, 0.00000000e+00, 0.00000000e+00,\n",
       "         0.00000000e+00, 0.00000000e+00, 0.00000000e+00, 0.00000000e+00,\n",
       "         0.00000000e+00, 0.00000000e+00, 0.00000000e+00, 0.00000000e+00,\n",
       "         0.00000000e+00, 0.00000000e+00],\n",
       "        [1.03006898e-03, 8.65801855e+00, 2.73357890e+01, 1.59711834e+01,\n",
       "         2.88192575e+00, 7.91726870e-02, 0.00000000e+00, 2.89656098e+01,\n",
       "         2.59615096e+01, 0.00000000e+00, 0.00000000e+00, 5.59309963e+01,\n",
       "         0.00000000e+00, 0.00000000e+00, 0.00000000e+00, 0.00000000e+00,\n",
       "         0.00000000e+00, 0.00000000e+00, 0.00000000e+00, 0.00000000e+00,\n",
       "         0.00000000e+00, 0.00000000e+00, 0.00000000e+00, 0.00000000e+00,\n",
       "         0.00000000e+00, 0.00000000e+00, 0.00000000e+00, 0.00000000e+00,\n",
       "         0.00000000e+00, 0.00000000e+00],\n",
       "        [4.96165101e-04, 5.52640949e+00, 2.52764821e+01, 1.57825453e+01,\n",
       "         4.86346113e-01, 0.00000000e+00, 0.00000000e+00, 2.92372431e+01,\n",
       "         1.78350361e+01, 0.00000000e+00, 0.00000000e+00, 0.00000000e+00,\n",
       "         4.80802578e+01, 0.00000000e+00, 0.00000000e+00, 0.00000000e+00,\n",
       "         0.00000000e+00, 0.00000000e+00, 0.00000000e+00, 0.00000000e+00,\n",
       "         0.00000000e+00, 0.00000000e+00, 0.00000000e+00, 0.00000000e+00,\n",
       "         0.00000000e+00, 0.00000000e+00, 0.00000000e+00, 0.00000000e+00,\n",
       "         0.00000000e+00, 0.00000000e+00],\n",
       "        [8.05762238e-02, 1.30414316e+01, 2.47086218e+01, 8.66941322e+00,\n",
       "         2.10022501e-01, 0.00000000e+00, 0.00000000e+00, 0.00000000e+00,\n",
       "         4.67100653e+01, 0.00000000e+00, 0.00000000e+00, 0.00000000e+00,\n",
       "         0.00000000e+00, 4.77044871e+01, 0.00000000e+00, 0.00000000e+00,\n",
       "         0.00000000e+00, 0.00000000e+00, 0.00000000e+00, 0.00000000e+00,\n",
       "         0.00000000e+00, 0.00000000e+00, 0.00000000e+00, 0.00000000e+00,\n",
       "         0.00000000e+00, 0.00000000e+00, 0.00000000e+00, 0.00000000e+00,\n",
       "         0.00000000e+00, 0.00000000e+00],\n",
       "        [1.21902172e+00, 1.70516702e+02, 2.82978152e+02, 6.60642575e+01,\n",
       "         3.75814774e-03, 0.00000000e+00, 0.00000000e+00, 3.07216836e+02,\n",
       "         2.13565056e+02, 0.00000000e+00, 0.00000000e+00, 0.00000000e+00,\n",
       "         0.00000000e+00, 0.00000000e+00, 5.21790152e+02, 0.00000000e+00,\n",
       "         0.00000000e+00, 0.00000000e+00, 0.00000000e+00, 0.00000000e+00,\n",
       "         0.00000000e+00, 0.00000000e+00, 0.00000000e+00, 0.00000000e+00,\n",
       "         0.00000000e+00, 0.00000000e+00, 0.00000000e+00, 0.00000000e+00,\n",
       "         0.00000000e+00, 0.00000000e+00],\n",
       "        [6.92291168e-06, 6.57624644e+00, 3.10033986e+01, 1.85513780e+01,\n",
       "         4.36536456e-01, 0.00000000e+00, 0.00000000e+00, 2.70489137e+01,\n",
       "         2.95186527e+01, 0.00000000e+00, 0.00000000e+00, 0.00000000e+00,\n",
       "         0.00000000e+00, 0.00000000e+00, 0.00000000e+00, 5.75712036e+01,\n",
       "         0.00000000e+00, 0.00000000e+00, 0.00000000e+00, 0.00000000e+00,\n",
       "         0.00000000e+00, 0.00000000e+00, 0.00000000e+00, 0.00000000e+00,\n",
       "         0.00000000e+00, 0.00000000e+00, 0.00000000e+00, 0.00000000e+00,\n",
       "         0.00000000e+00, 0.00000000e+00],\n",
       "        [1.83079453e+00, 2.04204855e+02, 3.30004090e+02, 7.76554120e+01,\n",
       "         5.27432391e-02, 0.00000000e+00, 0.00000000e+00, 3.64707403e+02,\n",
       "         2.49040492e+02, 0.00000000e+00, 0.00000000e+00, 0.00000000e+00,\n",
       "         0.00000000e+00, 0.00000000e+00, 0.00000000e+00, 0.00000000e+00,\n",
       "         6.14754955e+02, 0.00000000e+00, 0.00000000e+00, 0.00000000e+00,\n",
       "         0.00000000e+00, 0.00000000e+00, 0.00000000e+00, 0.00000000e+00,\n",
       "         0.00000000e+00, 0.00000000e+00, 0.00000000e+00, 0.00000000e+00,\n",
       "         0.00000000e+00, 0.00000000e+00],\n",
       "        [0.00000000e+00, 2.12600084e+00, 1.52600908e+01, 2.46393154e+01,\n",
       "         8.11529037e+00, 2.27637841e-01, 0.00000000e+00, 3.08862952e+01,\n",
       "         1.94820400e+01, 0.00000000e+00, 0.00000000e+00, 0.00000000e+00,\n",
       "         0.00000000e+00, 0.00000000e+00, 0.00000000e+00, 0.00000000e+00,\n",
       "         0.00000000e+00, 5.13753277e+01, 0.00000000e+00, 0.00000000e+00,\n",
       "         0.00000000e+00, 0.00000000e+00, 0.00000000e+00, 0.00000000e+00,\n",
       "         0.00000000e+00, 0.00000000e+00, 0.00000000e+00, 0.00000000e+00,\n",
       "         0.00000000e+00, 0.00000000e+00],\n",
       "        [5.61717773e-02, 1.22106421e+01, 3.76415838e+01, 4.73158279e+01,\n",
       "         2.25053346e+01, 5.86943975e+00, 6.42648025e-01, 6.21003980e+01,\n",
       "         6.41412500e+01, 0.00000000e+00, 0.00000000e+00, 0.00000000e+00,\n",
       "         0.00000000e+00, 0.00000000e+00, 0.00000000e+00, 0.00000000e+00,\n",
       "         0.00000000e+00, 0.00000000e+00, 1.27244040e+02, 0.00000000e+00,\n",
       "         0.00000000e+00, 0.00000000e+00, 0.00000000e+00, 0.00000000e+00,\n",
       "         0.00000000e+00, 0.00000000e+00, 0.00000000e+00, 0.00000000e+00,\n",
       "         0.00000000e+00, 0.00000000e+00],\n",
       "        [2.49301445e-02, 7.86087816e+00, 1.64058373e+01, 4.75605932e+00,\n",
       "         4.42702058e-03, 0.00000000e+00, 0.00000000e+00, 0.00000000e+00,\n",
       "         2.90521319e+01, 0.00000000e+00, 0.00000000e+00, 0.00000000e+00,\n",
       "         0.00000000e+00, 0.00000000e+00, 0.00000000e+00, 0.00000000e+00,\n",
       "         0.00000000e+00, 0.00000000e+00, 0.00000000e+00, 3.00552418e+01,\n",
       "         0.00000000e+00, 0.00000000e+00, 0.00000000e+00, 0.00000000e+00,\n",
       "         0.00000000e+00, 0.00000000e+00, 0.00000000e+00, 0.00000000e+00,\n",
       "         0.00000000e+00, 0.00000000e+00],\n",
       "        [1.09580125e-01, 1.28115365e+01, 2.09617014e+01, 5.14208812e+00,\n",
       "         5.15669637e-03, 0.00000000e+00, 0.00000000e+00, 1.41113009e+01,\n",
       "         2.49187620e+01, 0.00000000e+00, 0.00000000e+00, 0.00000000e+00,\n",
       "         0.00000000e+00, 0.00000000e+00, 0.00000000e+00, 0.00000000e+00,\n",
       "         0.00000000e+00, 0.00000000e+00, 0.00000000e+00, 0.00000000e+00,\n",
       "         4.00314610e+01, 0.00000000e+00, 0.00000000e+00, 0.00000000e+00,\n",
       "         0.00000000e+00, 0.00000000e+00, 0.00000000e+00, 0.00000000e+00,\n",
       "         0.00000000e+00, 0.00000000e+00],\n",
       "        [0.00000000e+00, 0.00000000e+00, 1.44912818e-02, 4.04608175e+00,\n",
       "         1.10126219e+01, 4.18016905e+00, 1.46333928e-02, 6.58873041e+00,\n",
       "         1.26792670e+01, 0.00000000e+00, 0.00000000e+00, 0.00000000e+00,\n",
       "         0.00000000e+00, 0.00000000e+00, 0.00000000e+00, 0.00000000e+00,\n",
       "         0.00000000e+00, 0.00000000e+00, 0.00000000e+00, 0.00000000e+00,\n",
       "         0.00000000e+00, 2.02752340e+01, 0.00000000e+00, 0.00000000e+00,\n",
       "         0.00000000e+00, 0.00000000e+00, 0.00000000e+00, 0.00000000e+00,\n",
       "         0.00000000e+00, 0.00000000e+00],\n",
       "        [5.90227616e+00, 4.87644373e+01, 8.17795529e+01, 4.46950757e+01,\n",
       "         3.85250541e+00, 2.04344730e-03, 0.00000000e+00, 8.75370387e+01,\n",
       "         9.74588523e+01, 0.00000000e+00, 0.00000000e+00, 0.00000000e+00,\n",
       "         0.00000000e+00, 0.00000000e+00, 0.00000000e+00, 0.00000000e+00,\n",
       "         0.00000000e+00, 0.00000000e+00, 0.00000000e+00, 0.00000000e+00,\n",
       "         0.00000000e+00, 0.00000000e+00, 1.86003764e+02, 0.00000000e+00,\n",
       "         0.00000000e+00, 0.00000000e+00, 0.00000000e+00, 0.00000000e+00,\n",
       "         0.00000000e+00, 0.00000000e+00],\n",
       "        [4.03158061e-03, 4.78776338e+00, 2.13182115e+01, 1.98889953e+01,\n",
       "         2.16430071e+00, 9.87490166e-04, 0.00000000e+00, 8.47278298e+00,\n",
       "         3.96915069e+01, 0.00000000e+00, 0.00000000e+00, 0.00000000e+00,\n",
       "         0.00000000e+00, 0.00000000e+00, 0.00000000e+00, 0.00000000e+00,\n",
       "         0.00000000e+00, 0.00000000e+00, 0.00000000e+00, 0.00000000e+00,\n",
       "         0.00000000e+00, 0.00000000e+00, 0.00000000e+00, 4.91722986e+01,\n",
       "         0.00000000e+00, 0.00000000e+00, 0.00000000e+00, 0.00000000e+00,\n",
       "         0.00000000e+00, 0.00000000e+00],\n",
       "        [5.10363856e-03, 1.01408232e+01, 2.29263709e+01, 6.59812115e+00,\n",
       "         1.17749317e-03, 0.00000000e+00, 0.00000000e+00, 2.03087381e+01,\n",
       "         1.93628583e+01, 0.00000000e+00, 0.00000000e+00, 0.00000000e+00,\n",
       "         0.00000000e+00, 0.00000000e+00, 0.00000000e+00, 0.00000000e+00,\n",
       "         0.00000000e+00, 0.00000000e+00, 0.00000000e+00, 0.00000000e+00,\n",
       "         0.00000000e+00, 0.00000000e+00, 0.00000000e+00, 0.00000000e+00,\n",
       "         4.06718965e+01, 0.00000000e+00, 0.00000000e+00, 0.00000000e+00,\n",
       "         0.00000000e+00, 0.00000000e+00],\n",
       "        [8.85680668e-03, 5.75697640e+00, 2.61608932e+01, 1.44135391e+01,\n",
       "         2.02938831e-01, 0.00000000e+00, 0.00000000e+00, 1.91613481e+01,\n",
       "         2.73818563e+01, 0.00000000e+00, 0.00000000e+00, 0.00000000e+00,\n",
       "         0.00000000e+00, 0.00000000e+00, 0.00000000e+00, 0.00000000e+00,\n",
       "         0.00000000e+00, 0.00000000e+00, 0.00000000e+00, 0.00000000e+00,\n",
       "         0.00000000e+00, 0.00000000e+00, 0.00000000e+00, 0.00000000e+00,\n",
       "         0.00000000e+00, 4.75508929e+01, 0.00000000e+00, 0.00000000e+00,\n",
       "         0.00000000e+00, 0.00000000e+00],\n",
       "        [4.84558071e-04, 3.87584222e+00, 1.51458858e+01, 1.22749890e+01,\n",
       "         1.19621897e+00, 0.00000000e+00, 0.00000000e+00, 2.69562080e+01,\n",
       "         5.53721252e+00, 0.00000000e+00, 0.00000000e+00, 0.00000000e+00,\n",
       "         0.00000000e+00, 0.00000000e+00, 0.00000000e+00, 0.00000000e+00,\n",
       "         0.00000000e+00, 0.00000000e+00, 0.00000000e+00, 0.00000000e+00,\n",
       "         0.00000000e+00, 0.00000000e+00, 0.00000000e+00, 0.00000000e+00,\n",
       "         0.00000000e+00, 0.00000000e+00, 3.34999662e+01, 0.00000000e+00,\n",
       "         0.00000000e+00, 0.00000000e+00],\n",
       "        [0.00000000e+00, 0.00000000e+00, 3.65514188e-01, 1.57221112e+00,\n",
       "         4.22632195e-01, 8.36794062e-06, 0.00000000e+00, 0.00000000e+00,\n",
       "         2.36036587e+00, 0.00000000e+00, 0.00000000e+00, 0.00000000e+00,\n",
       "         0.00000000e+00, 0.00000000e+00, 0.00000000e+00, 0.00000000e+00,\n",
       "         0.00000000e+00, 0.00000000e+00, 0.00000000e+00, 0.00000000e+00,\n",
       "         0.00000000e+00, 0.00000000e+00, 0.00000000e+00, 0.00000000e+00,\n",
       "         0.00000000e+00, 0.00000000e+00, 0.00000000e+00, 3.36220943e+00,\n",
       "         0.00000000e+00, 0.00000000e+00],\n",
       "        [7.54874448e-03, 6.73867406e+00, 2.05007347e+01, 8.87604667e+00,\n",
       "         1.18656662e-01, 0.00000000e+00, 0.00000000e+00, 1.31552703e+01,\n",
       "         2.30863905e+01, 0.00000000e+00, 0.00000000e+00, 0.00000000e+00,\n",
       "         0.00000000e+00, 0.00000000e+00, 0.00000000e+00, 0.00000000e+00,\n",
       "         0.00000000e+00, 0.00000000e+00, 0.00000000e+00, 0.00000000e+00,\n",
       "         0.00000000e+00, 0.00000000e+00, 0.00000000e+00, 0.00000000e+00,\n",
       "         0.00000000e+00, 0.00000000e+00, 0.00000000e+00, 0.00000000e+00,\n",
       "         3.72364847e+01, 0.00000000e+00],\n",
       "        [8.00997122e-03, 1.32764265e+01, 3.84605655e+01, 1.39147038e+01,\n",
       "         2.39870739e-02, 0.00000000e+00, 0.00000000e+00, 3.53492421e+01,\n",
       "         3.03344509e+01, 0.00000000e+00, 0.00000000e+00, 0.00000000e+00,\n",
       "         0.00000000e+00, 0.00000000e+00, 0.00000000e+00, 0.00000000e+00,\n",
       "         0.00000000e+00, 0.00000000e+00, 0.00000000e+00, 0.00000000e+00,\n",
       "         0.00000000e+00, 0.00000000e+00, 0.00000000e+00, 0.00000000e+00,\n",
       "         0.00000000e+00, 0.00000000e+00, 0.00000000e+00, 0.00000000e+00,\n",
       "         0.00000000e+00, 6.67912550e+01]]),\n",
       " 'dnlZ': None,\n",
       " 'ys': array([-0.23888502, -0.25825008, -0.27966754, -0.3030235 , -0.32820408,\n",
       "        -0.35509539, -0.38358353, -0.41355461, -0.44489474, -0.47749003,\n",
       "        -0.51122658, -0.54599051, -0.58166793, -0.61814493, -0.65530764,\n",
       "        -0.69304216, -0.73123459, -0.76977105, -0.80853765, -0.84742049,\n",
       "        -0.88630568, -0.92507933, -0.96362755, -1.00183644, -1.03959212,\n",
       "        -1.0767807 , -1.11328827, -1.14900096, -1.18380487, -1.2175861 ,\n",
       "        -1.25023096, -1.2816659 , -1.31190696, -1.34098232, -1.36892014,\n",
       "        -1.3957486 , -1.42149586, -1.44619008, -1.46985945, -1.49253213,\n",
       "        -1.51423629, -1.53500009, -1.55485171, -1.57381931, -1.59193107,\n",
       "        -1.60921516, -1.62569973, -1.64141297, -1.65638304, -1.6706381 ,\n",
       "        -1.68420634, -1.69711592, -1.709395  , -1.72107175, -1.73217436,\n",
       "        -1.74273097, -1.75276977, -1.76231893, -1.7714066 , -1.78006096,\n",
       "        -1.78831019, -1.79618244, -1.80370589, -1.81090871, -1.81781906,\n",
       "        -1.82446511, -1.83087504, -1.83707702, -1.8430992 , -1.84896977,\n",
       "        -1.85471689, -1.86036872, -1.86595345, -1.87149923, -1.87703424,\n",
       "        -1.88258647, -1.88818013, -1.89383558, -1.89957304, -1.90541272,\n",
       "        -1.91137482, -1.91747956, -1.92374715, -1.93019779, -1.93685171,\n",
       "        -1.9437291 , -1.95085019, -1.95823517, -1.96590426, -1.97387768,\n",
       "        -1.98217563, -1.99081832, -1.99982596, -2.00921876, -2.01901694,\n",
       "        -2.0292407 , -2.03991026, -2.05104582, -2.06266759, -2.07479579,\n",
       "        -2.08745063, -2.10065232, -2.11442106, -2.12877707, -2.14374055,\n",
       "        -2.15933173, -2.1755708 , -2.19247798, -2.21007349, -2.22837752,\n",
       "        -2.24741029, -2.26719202, -2.2877429 , -2.30908316, -2.331233  ,\n",
       "        -2.35421263, -2.37804227, -2.40274212, -2.42833239, -2.4548333 ,\n",
       "        -2.48224797, -2.51045323, -2.53926933, -2.56851624, -2.59801392,\n",
       "        -2.62758234, -2.65704148, -2.68621131, -2.7149118 , -2.74296292,\n",
       "        -2.77018464, -2.79639693, -2.82141976, -2.8450731 , -2.86717692,\n",
       "        -2.8875512 , -2.9060159 , -2.922391  , -2.93649646, -2.94815225,\n",
       "        -2.95717836, -2.96339474, -2.96662136, -2.96667821, -2.96338525,\n",
       "        -2.95656244, -2.94602977, -2.93160719, -2.91311469, -2.89037223]),\n",
       " 's2': array([0.34803499, 0.33456507, 0.32297487, 0.31298387, 0.30434704,\n",
       "        0.29685172, 0.29031472, 0.28457957, 0.27951383, 0.27500654,\n",
       "        0.27096591, 0.26731697, 0.26399951, 0.26096602, 0.25817988,\n",
       "        0.25561359, 0.25324719, 0.25106675, 0.24906308, 0.24723048,\n",
       "        0.24556569, 0.2440669 , 0.24273301, 0.24156286, 0.24055475,\n",
       "        0.23970596, 0.23901252, 0.23846899, 0.23806848, 0.23780274,\n",
       "        0.23766239, 0.23763756, 0.2377195 , 0.237901  , 0.23817628,\n",
       "        0.23854076, 0.23899098, 0.23952439, 0.2401392 , 0.24083433,\n",
       "        0.24160918, 0.24246357, 0.24339763, 0.24441168, 0.24550612,\n",
       "        0.24668139, 0.24793785, 0.24927572, 0.250695  , 0.25219547,\n",
       "        0.25377655, 0.25543734, 0.25717654, 0.25899242, 0.26088285,\n",
       "        0.26284523, 0.26487651, 0.26697318, 0.26913134, 0.27134661,\n",
       "        0.27361426, 0.27592919, 0.27828596, 0.28067889, 0.28310207,\n",
       "        0.28554944, 0.28801485, 0.29049217, 0.29297535, 0.2954585 ,\n",
       "        0.29793604, 0.30040276, 0.30285398, 0.30528563, 0.30769443,\n",
       "        0.31007816, 0.312439  , 0.31478319, 0.31711738, 0.31944831,\n",
       "        0.32178265, 0.32412681, 0.32648684, 0.32886831, 0.33127614,\n",
       "        0.33371459, 0.33618711, 0.33869629, 0.34124384, 0.3438305 ,\n",
       "        0.34645605, 0.34911928, 0.351818  , 0.35454906, 0.35730839,\n",
       "        0.360091  , 0.36289111, 0.36570216, 0.36851695, 0.37132768,\n",
       "        0.37412614, 0.37690378, 0.37965187, 0.38236169, 0.38502467,\n",
       "        0.38763256, 0.39017769, 0.39265312, 0.39505293, 0.39737241,\n",
       "        0.39960833, 0.40175926, 0.40382578, 0.40581084, 0.40772003,\n",
       "        0.40956195, 0.41134852, 0.41309535, 0.4148221 , 0.41655289,\n",
       "        0.41831691, 0.4201483 , 0.42207961, 0.42413887, 0.42634881,\n",
       "        0.42872632, 0.43128221, 0.43402112, 0.4369418 , 0.44003751,\n",
       "        0.4432968 , 0.44670439, 0.45024243, 0.45389194, 0.45763451,\n",
       "        0.4614542 , 0.46533981, 0.46928728, 0.47330234, 0.47740352,\n",
       "        0.48162529, 0.48602146, 0.49066892, 0.49567151, 0.50116422,\n",
       "        0.50731758, 0.51434236, 0.52249443, 0.53207997, 0.54346084]),\n",
       " 'warp': <pcntoolkit.regression_model.blr.warp.WarpSinhArcsinh at 0x17372ba10>,\n",
       " 'warp_reparam': True,\n",
       " 'warp_params': 2,\n",
       " 'n_gamma': 2}"
      ]
     },
     "execution_count": 9,
     "metadata": {},
     "output_type": "execute_result"
    }
   ],
   "source": [
    "model = fold_model.regression_models.get(\"rh_MeanThickness_thickness\")  # type: ignore\n",
    "model.__dict__"
   ]
  },
  {
   "cell_type": "markdown",
   "metadata": {},
   "source": [
    "## Evaluation\n",
    "Calling `predict` will extend the predict_data object with a number of useful arrays.\n",
    "1. `measures`: DataArray, which contains a number of evaluation statistics. \n",
    "1. `zscores`: the predicted z-scores for each datapoint.  \n",
    "1. `centiles`: the predicted centiles of variation evaluated at each covariate in the dataset. \n"
   ]
  },
  {
   "cell_type": "code",
   "execution_count": 10,
   "metadata": {},
   "outputs": [
    {
     "data": {
      "text/html": [
       "<div>\n",
       "<style scoped>\n",
       "    .dataframe tbody tr th:only-of-type {\n",
       "        vertical-align: middle;\n",
       "    }\n",
       "\n",
       "    .dataframe tbody tr th {\n",
       "        vertical-align: top;\n",
       "    }\n",
       "\n",
       "    .dataframe thead th {\n",
       "        text-align: right;\n",
       "    }\n",
       "</style>\n",
       "<table border=\"1\" class=\"dataframe\">\n",
       "  <thead>\n",
       "    <tr style=\"text-align: right;\">\n",
       "      <th>response_vars</th>\n",
       "      <th>rh_MeanThickness_thickness</th>\n",
       "      <th>WM-hypointensities</th>\n",
       "    </tr>\n",
       "    <tr>\n",
       "      <th>statistics</th>\n",
       "      <th></th>\n",
       "      <th></th>\n",
       "    </tr>\n",
       "  </thead>\n",
       "  <tbody>\n",
       "    <tr>\n",
       "      <th>Rho</th>\n",
       "      <td>0.555718</td>\n",
       "      <td>0.558820</td>\n",
       "    </tr>\n",
       "    <tr>\n",
       "      <th>RMSE</th>\n",
       "      <td>0.078081</td>\n",
       "      <td>534.101204</td>\n",
       "    </tr>\n",
       "    <tr>\n",
       "      <th>SMSE</th>\n",
       "      <td>0.682714</td>\n",
       "      <td>0.633821</td>\n",
       "    </tr>\n",
       "    <tr>\n",
       "      <th>ExpV</th>\n",
       "      <td>0.334615</td>\n",
       "      <td>0.383654</td>\n",
       "    </tr>\n",
       "    <tr>\n",
       "      <th>NLL</th>\n",
       "      <td>NaN</td>\n",
       "      <td>NaN</td>\n",
       "    </tr>\n",
       "    <tr>\n",
       "      <th>ShapiroW</th>\n",
       "      <td>0.977854</td>\n",
       "      <td>0.993941</td>\n",
       "    </tr>\n",
       "  </tbody>\n",
       "</table>\n",
       "</div>"
      ],
      "text/plain": [
       "response_vars  rh_MeanThickness_thickness  WM-hypointensities\n",
       "statistics                                                   \n",
       "Rho                              0.555718            0.558820\n",
       "RMSE                             0.078081          534.101204\n",
       "SMSE                             0.682714            0.633821\n",
       "ExpV                             0.334615            0.383654\n",
       "NLL                                   NaN                 NaN\n",
       "ShapiroW                         0.977854            0.993941"
      ]
     },
     "metadata": {},
     "output_type": "display_data"
    }
   ],
   "source": [
    "display(test.measures.to_pandas().T)\n"
   ]
  },
  {
   "cell_type": "markdown",
   "metadata": {},
   "source": [
    "Datasets with a zscores DataArray will have the `.plot_qq()` function available:"
   ]
  },
  {
   "cell_type": "code",
   "execution_count": 11,
   "metadata": {},
   "outputs": [
    {
     "data": {
      "text/html": [
       "<div>\n",
       "<style scoped>\n",
       "    .dataframe tbody tr th:only-of-type {\n",
       "        vertical-align: middle;\n",
       "    }\n",
       "\n",
       "    .dataframe tbody tr th {\n",
       "        vertical-align: top;\n",
       "    }\n",
       "\n",
       "    .dataframe thead th {\n",
       "        text-align: right;\n",
       "    }\n",
       "</style>\n",
       "<table border=\"1\" class=\"dataframe\">\n",
       "  <thead>\n",
       "    <tr style=\"text-align: right;\">\n",
       "      <th>response_vars</th>\n",
       "      <th>rh_MeanThickness_thickness</th>\n",
       "      <th>WM-hypointensities</th>\n",
       "    </tr>\n",
       "    <tr>\n",
       "      <th>datapoints</th>\n",
       "      <th></th>\n",
       "      <th></th>\n",
       "    </tr>\n",
       "  </thead>\n",
       "  <tbody>\n",
       "    <tr>\n",
       "      <th>515</th>\n",
       "      <td>-1.439253</td>\n",
       "      <td>-0.369922</td>\n",
       "    </tr>\n",
       "    <tr>\n",
       "      <th>441</th>\n",
       "      <td>-1.041670</td>\n",
       "      <td>-0.699890</td>\n",
       "    </tr>\n",
       "    <tr>\n",
       "      <th>1029</th>\n",
       "      <td>0.980233</td>\n",
       "      <td>0.877266</td>\n",
       "    </tr>\n",
       "    <tr>\n",
       "      <th>64</th>\n",
       "      <td>-2.536797</td>\n",
       "      <td>0.442108</td>\n",
       "    </tr>\n",
       "    <tr>\n",
       "      <th>654</th>\n",
       "      <td>1.013305</td>\n",
       "      <td>-1.819039</td>\n",
       "    </tr>\n",
       "    <tr>\n",
       "      <th>...</th>\n",
       "      <td>...</td>\n",
       "      <td>...</td>\n",
       "    </tr>\n",
       "    <tr>\n",
       "      <th>611</th>\n",
       "      <td>-1.438304</td>\n",
       "      <td>2.129770</td>\n",
       "    </tr>\n",
       "    <tr>\n",
       "      <th>549</th>\n",
       "      <td>-1.468916</td>\n",
       "      <td>2.383562</td>\n",
       "    </tr>\n",
       "    <tr>\n",
       "      <th>640</th>\n",
       "      <td>0.234414</td>\n",
       "      <td>-2.003428</td>\n",
       "    </tr>\n",
       "    <tr>\n",
       "      <th>648</th>\n",
       "      <td>1.646950</td>\n",
       "      <td>0.055926</td>\n",
       "    </tr>\n",
       "    <tr>\n",
       "      <th>635</th>\n",
       "      <td>0.127457</td>\n",
       "      <td>-1.837874</td>\n",
       "    </tr>\n",
       "  </tbody>\n",
       "</table>\n",
       "<p>186 rows × 2 columns</p>\n",
       "</div>"
      ],
      "text/plain": [
       "response_vars  rh_MeanThickness_thickness  WM-hypointensities\n",
       "datapoints                                                   \n",
       "515                             -1.439253           -0.369922\n",
       "441                             -1.041670           -0.699890\n",
       "1029                             0.980233            0.877266\n",
       "64                              -2.536797            0.442108\n",
       "654                              1.013305           -1.819039\n",
       "...                                   ...                 ...\n",
       "611                             -1.438304            2.129770\n",
       "549                             -1.468916            2.383562\n",
       "640                              0.234414           -2.003428\n",
       "648                              1.646950            0.055926\n",
       "635                              0.127457           -1.837874\n",
       "\n",
       "[186 rows x 2 columns]"
      ]
     },
     "metadata": {},
     "output_type": "display_data"
    }
   ],
   "source": [
    "display(test.zscores.to_pandas())  # the zscores"
   ]
  },
  {
   "cell_type": "code",
   "execution_count": 12,
   "metadata": {},
   "outputs": [
    {
     "data": {
      "text/html": [
       "<div>\n",
       "<style scoped>\n",
       "    .dataframe tbody tr th:only-of-type {\n",
       "        vertical-align: middle;\n",
       "    }\n",
       "\n",
       "    .dataframe tbody tr th {\n",
       "        vertical-align: top;\n",
       "    }\n",
       "\n",
       "    .dataframe thead tr th {\n",
       "        text-align: left;\n",
       "    }\n",
       "\n",
       "    .dataframe thead tr:last-of-type th {\n",
       "        text-align: right;\n",
       "    }\n",
       "</style>\n",
       "<table border=\"1\" class=\"dataframe\">\n",
       "  <thead>\n",
       "    <tr>\n",
       "      <th></th>\n",
       "      <th colspan=\"10\" halign=\"left\">centiles</th>\n",
       "    </tr>\n",
       "    <tr>\n",
       "      <th>response_vars</th>\n",
       "      <th>rh_MeanThickness_thickness</th>\n",
       "      <th>WM-hypointensities</th>\n",
       "      <th>rh_MeanThickness_thickness</th>\n",
       "      <th>WM-hypointensities</th>\n",
       "      <th>rh_MeanThickness_thickness</th>\n",
       "      <th>WM-hypointensities</th>\n",
       "      <th>rh_MeanThickness_thickness</th>\n",
       "      <th>WM-hypointensities</th>\n",
       "      <th>rh_MeanThickness_thickness</th>\n",
       "      <th>WM-hypointensities</th>\n",
       "    </tr>\n",
       "    <tr>\n",
       "      <th>cdf</th>\n",
       "      <th>0.05</th>\n",
       "      <th>0.05</th>\n",
       "      <th>0.25</th>\n",
       "      <th>0.25</th>\n",
       "      <th>0.50</th>\n",
       "      <th>0.50</th>\n",
       "      <th>0.75</th>\n",
       "      <th>0.75</th>\n",
       "      <th>0.95</th>\n",
       "      <th>0.95</th>\n",
       "    </tr>\n",
       "    <tr>\n",
       "      <th>datapoints</th>\n",
       "      <th></th>\n",
       "      <th></th>\n",
       "      <th></th>\n",
       "      <th></th>\n",
       "      <th></th>\n",
       "      <th></th>\n",
       "      <th></th>\n",
       "      <th></th>\n",
       "      <th></th>\n",
       "      <th></th>\n",
       "    </tr>\n",
       "  </thead>\n",
       "  <tbody>\n",
       "    <tr>\n",
       "      <th>515</th>\n",
       "      <td>2.446909</td>\n",
       "      <td>861.706225</td>\n",
       "      <td>2.492986</td>\n",
       "      <td>1050.943437</td>\n",
       "      <td>2.529192</td>\n",
       "      <td>1191.860756</td>\n",
       "      <td>2.571355</td>\n",
       "      <td>1346.191342</td>\n",
       "      <td>2.644979</td>\n",
       "      <td>1609.283368</td>\n",
       "    </tr>\n",
       "    <tr>\n",
       "      <th>441</th>\n",
       "      <td>2.445264</td>\n",
       "      <td>996.919679</td>\n",
       "      <td>2.487536</td>\n",
       "      <td>1180.021093</td>\n",
       "      <td>2.520140</td>\n",
       "      <td>1319.762007</td>\n",
       "      <td>2.557426</td>\n",
       "      <td>1476.306211</td>\n",
       "      <td>2.621811</td>\n",
       "      <td>1750.458268</td>\n",
       "    </tr>\n",
       "    <tr>\n",
       "      <th>1029</th>\n",
       "      <td>2.466307</td>\n",
       "      <td>599.984473</td>\n",
       "      <td>2.528709</td>\n",
       "      <td>819.774953</td>\n",
       "      <td>2.582606</td>\n",
       "      <td>977.682098</td>\n",
       "      <td>2.648185</td>\n",
       "      <td>1144.928248</td>\n",
       "      <td>2.762003</td>\n",
       "      <td>1419.027883</td>\n",
       "    </tr>\n",
       "    <tr>\n",
       "      <th>64</th>\n",
       "      <td>2.346867</td>\n",
       "      <td>561.672483</td>\n",
       "      <td>2.400730</td>\n",
       "      <td>775.181279</td>\n",
       "      <td>2.437405</td>\n",
       "      <td>927.414418</td>\n",
       "      <td>2.475004</td>\n",
       "      <td>1086.869092</td>\n",
       "      <td>2.536655</td>\n",
       "      <td>1342.195704</td>\n",
       "    </tr>\n",
       "    <tr>\n",
       "      <th>654</th>\n",
       "      <td>2.331738</td>\n",
       "      <td>609.803798</td>\n",
       "      <td>2.401821</td>\n",
       "      <td>951.112641</td>\n",
       "      <td>2.449355</td>\n",
       "      <td>1210.623735</td>\n",
       "      <td>2.499828</td>\n",
       "      <td>1522.639478</td>\n",
       "      <td>2.592272</td>\n",
       "      <td>2235.325741</td>\n",
       "    </tr>\n",
       "    <tr>\n",
       "      <th>...</th>\n",
       "      <td>...</td>\n",
       "      <td>...</td>\n",
       "      <td>...</td>\n",
       "      <td>...</td>\n",
       "      <td>...</td>\n",
       "      <td>...</td>\n",
       "      <td>...</td>\n",
       "      <td>...</td>\n",
       "      <td>...</td>\n",
       "      <td>...</td>\n",
       "    </tr>\n",
       "    <tr>\n",
       "      <th>611</th>\n",
       "      <td>2.358473</td>\n",
       "      <td>742.205413</td>\n",
       "      <td>2.422868</td>\n",
       "      <td>1065.446826</td>\n",
       "      <td>2.467736</td>\n",
       "      <td>1319.739596</td>\n",
       "      <td>2.517201</td>\n",
       "      <td>1636.175458</td>\n",
       "      <td>2.609174</td>\n",
       "      <td>2376.119989</td>\n",
       "    </tr>\n",
       "    <tr>\n",
       "      <th>549</th>\n",
       "      <td>2.229071</td>\n",
       "      <td>707.149099</td>\n",
       "      <td>2.303618</td>\n",
       "      <td>1005.198073</td>\n",
       "      <td>2.352716</td>\n",
       "      <td>1232.854769</td>\n",
       "      <td>2.399872</td>\n",
       "      <td>1501.672439</td>\n",
       "      <td>2.467007</td>\n",
       "      <td>2066.644830</td>\n",
       "    </tr>\n",
       "    <tr>\n",
       "      <th>640</th>\n",
       "      <td>2.248933</td>\n",
       "      <td>900.221587</td>\n",
       "      <td>2.329877</td>\n",
       "      <td>1321.571642</td>\n",
       "      <td>2.382927</td>\n",
       "      <td>1715.236722</td>\n",
       "      <td>2.434318</td>\n",
       "      <td>2353.028304</td>\n",
       "      <td>2.513112</td>\n",
       "      <td>4391.883206</td>\n",
       "    </tr>\n",
       "    <tr>\n",
       "      <th>648</th>\n",
       "      <td>2.388047</td>\n",
       "      <td>741.647290</td>\n",
       "      <td>2.446231</td>\n",
       "      <td>1022.154710</td>\n",
       "      <td>2.488429</td>\n",
       "      <td>1236.278469</td>\n",
       "      <td>2.536697</td>\n",
       "      <td>1486.624936</td>\n",
       "      <td>2.626087</td>\n",
       "      <td>1994.656205</td>\n",
       "    </tr>\n",
       "    <tr>\n",
       "      <th>635</th>\n",
       "      <td>2.498333</td>\n",
       "      <td>510.593780</td>\n",
       "      <td>2.572270</td>\n",
       "      <td>764.562926</td>\n",
       "      <td>2.638067</td>\n",
       "      <td>946.177162</td>\n",
       "      <td>2.716134</td>\n",
       "      <td>1139.002257</td>\n",
       "      <td>2.846561</td>\n",
       "      <td>1462.011431</td>\n",
       "    </tr>\n",
       "  </tbody>\n",
       "</table>\n",
       "<p>186 rows × 10 columns</p>\n",
       "</div>"
      ],
      "text/plain": [
       "                                centiles                     \\\n",
       "response_vars rh_MeanThickness_thickness WM-hypointensities   \n",
       "cdf                                 0.05               0.05   \n",
       "datapoints                                                    \n",
       "515                             2.446909         861.706225   \n",
       "441                             2.445264         996.919679   \n",
       "1029                            2.466307         599.984473   \n",
       "64                              2.346867         561.672483   \n",
       "654                             2.331738         609.803798   \n",
       "...                                  ...                ...   \n",
       "611                             2.358473         742.205413   \n",
       "549                             2.229071         707.149099   \n",
       "640                             2.248933         900.221587   \n",
       "648                             2.388047         741.647290   \n",
       "635                             2.498333         510.593780   \n",
       "\n",
       "                                                             \\\n",
       "response_vars rh_MeanThickness_thickness WM-hypointensities   \n",
       "cdf                                 0.25               0.25   \n",
       "datapoints                                                    \n",
       "515                             2.492986        1050.943437   \n",
       "441                             2.487536        1180.021093   \n",
       "1029                            2.528709         819.774953   \n",
       "64                              2.400730         775.181279   \n",
       "654                             2.401821         951.112641   \n",
       "...                                  ...                ...   \n",
       "611                             2.422868        1065.446826   \n",
       "549                             2.303618        1005.198073   \n",
       "640                             2.329877        1321.571642   \n",
       "648                             2.446231        1022.154710   \n",
       "635                             2.572270         764.562926   \n",
       "\n",
       "                                                             \\\n",
       "response_vars rh_MeanThickness_thickness WM-hypointensities   \n",
       "cdf                                 0.50               0.50   \n",
       "datapoints                                                    \n",
       "515                             2.529192        1191.860756   \n",
       "441                             2.520140        1319.762007   \n",
       "1029                            2.582606         977.682098   \n",
       "64                              2.437405         927.414418   \n",
       "654                             2.449355        1210.623735   \n",
       "...                                  ...                ...   \n",
       "611                             2.467736        1319.739596   \n",
       "549                             2.352716        1232.854769   \n",
       "640                             2.382927        1715.236722   \n",
       "648                             2.488429        1236.278469   \n",
       "635                             2.638067         946.177162   \n",
       "\n",
       "                                                             \\\n",
       "response_vars rh_MeanThickness_thickness WM-hypointensities   \n",
       "cdf                                 0.75               0.75   \n",
       "datapoints                                                    \n",
       "515                             2.571355        1346.191342   \n",
       "441                             2.557426        1476.306211   \n",
       "1029                            2.648185        1144.928248   \n",
       "64                              2.475004        1086.869092   \n",
       "654                             2.499828        1522.639478   \n",
       "...                                  ...                ...   \n",
       "611                             2.517201        1636.175458   \n",
       "549                             2.399872        1501.672439   \n",
       "640                             2.434318        2353.028304   \n",
       "648                             2.536697        1486.624936   \n",
       "635                             2.716134        1139.002257   \n",
       "\n",
       "                                                             \n",
       "response_vars rh_MeanThickness_thickness WM-hypointensities  \n",
       "cdf                                 0.95               0.95  \n",
       "datapoints                                                   \n",
       "515                             2.644979        1609.283368  \n",
       "441                             2.621811        1750.458268  \n",
       "1029                            2.762003        1419.027883  \n",
       "64                              2.536655        1342.195704  \n",
       "654                             2.592272        2235.325741  \n",
       "...                                  ...                ...  \n",
       "611                             2.609174        2376.119989  \n",
       "549                             2.467007        2066.644830  \n",
       "640                             2.513112        4391.883206  \n",
       "648                             2.626087        1994.656205  \n",
       "635                             2.846561        1462.011431  \n",
       "\n",
       "[186 rows x 10 columns]"
      ]
     },
     "metadata": {},
     "output_type": "display_data"
    }
   ],
   "source": [
    "display(test.centiles.to_dataframe().unstack(level=[\"response_vars\", \"cdf\"]))"
   ]
  },
  {
   "cell_type": "code",
   "execution_count": 13,
   "metadata": {},
   "outputs": [
    {
     "data": {
      "image/png": "[encoded data removed]",
      "text/plain": [
       "<Figure size 640x480 with 1 Axes>"
      ]
     },
     "metadata": {},
     "output_type": "display_data"
    },
    {
     "data": {
      "image/png": "[encoded data removed]",
      "text/plain": [
       "<Figure size 640x480 with 1 Axes>"
      ]
     },
     "metadata": {},
     "output_type": "display_data"
    }
   ],
   "source": [
    "plot_qq(test)"
   ]
  },
  {
   "cell_type": "markdown",
   "metadata": {},
   "source": [
    "And `plot_centiles()` can be called as a function of the model. A synthetic dataset is created internally, so we need to pass the original dataset (`train` in this case) as a template. We also need to pass which covariate is to be plotted on the x-axis, and the batch-effects for which the centiles are to be plotted. \n",
    "\n",
    "The lines correspond to the CDF values of: [0.05, 0.25, 0.5, 0.75, 0.95]. It is also possible to pass a list of CDF values to plot.\n",
    "\n",
    "It may seem strange that the centiles do not match the plotted data, but that is because the centiles are calculated for a single batch effect, and it is superimposed on the full dataset. The blue markers correspond to the data for which the centiles are calculated. "
   ]
  },
  {
   "cell_type": "code",
   "execution_count": 14,
   "metadata": {},
   "outputs": [
    {
     "name": "stdout",
     "output_type": "stream",
     "text": [
      "Computing centiles for rh_MeanThickness_thickness\n",
      "Computing centiles for WM-hypointensities\n"
     ]
    },
    {
     "data": {
      "image/png": "[encoded data removed]",
      "text/plain": [
       "<Figure size 640x480 with 1 Axes>"
      ]
     },
     "metadata": {},
     "output_type": "display_data"
    },
    {
     "data": {
      "image/png": "[encoded data removed]",
      "text/plain": [
       "<Figure size 640x480 with 1 Axes>"
      ]
     },
     "metadata": {},
     "output_type": "display_data"
    }
   ],
   "source": [
    "plot_centiles(\n",
    "    fold_model,\n",
    "    train,\n",
    "    covariate=\"age\",\n",
    "    show_data=True,\n",
    "    hue_data=\"sex\",\n",
    "    markers_data=\"site\",\n",
    ")"
   ]
  },
  {
   "cell_type": "markdown",
   "metadata": {},
   "source": [
    "The values of 0.1587 and 0.8413 correspond to a standard deviation of -1 and 1. We plot the centiles again for these values, and we also highlight a specific site. \n"
   ]
  },
  {
   "cell_type": "code",
   "execution_count": 15,
   "metadata": {},
   "outputs": [
    {
     "name": "stdout",
     "output_type": "stream",
     "text": [
      "Computing centiles for rh_MeanThickness_thickness\n",
      "Computing centiles for WM-hypointensities\n"
     ]
    },
    {
     "data": {
      "image/png": "[encoded data removed]",
      "text/plain": [
       "<Figure size 640x480 with 1 Axes>"
      ]
     },
     "metadata": {},
     "output_type": "display_data"
    },
    {
     "data": {
      "image/png": "[encoded data removed]",
      "text/plain": [
       "<Figure size 640x480 with 1 Axes>"
      ]
     },
     "metadata": {},
     "output_type": "display_data"
    }
   ],
   "source": [
    "plot_centiles(\n",
    "    fold_model,\n",
    "    train,\n",
    "    covariate=\"age\",\n",
    "    cummul_densities=[0.1587, 0.8413],\n",
    "    show_data=True,\n",
    "    batch_effects={\"site\": [\"Beijing_Zang\"]},\n",
    ")"
   ]
  },
  {
   "cell_type": "markdown",
   "metadata": {},
   "source": [
    "# Transfering with the runner\n",
    "\n",
    "The runner can also be used to transfer or extenda model to a new dataset. This is done by calling `transfer` on the runner object. This will transfer the model to the new dataset, and save the transfered model in the save directory.\n",
    "\n",
    "runner.transfer(transfer_train, transfer_test)\n",
    "\n",
    "Let's first fit an HBR model, and then transfer it to the transfer dataset.\n",
    "\n"
   ]
  },
  {
   "cell_type": "code",
   "execution_count": 15,
   "metadata": {},
   "outputs": [
    {
     "name": "stdout",
     "output_type": "stream",
     "text": [
      "Configuration of normative model is valid.\n"
     ]
    }
   ],
   "source": [
    "from pcntoolkit.normative_model.norm_hbr import NormHBR\n",
    "from pcntoolkit.regression_model.hbr.hbr_conf import HBRConf\n",
    "from pcntoolkit.regression_model.hbr.param import make_param\n",
    "\n",
    "\n",
    "mu = make_param(\n",
    "    name=\"mu\",\n",
    "    linear=True,\n",
    "    slope=make_param(dist_name=\"Normal\", dist_params=(0.0, 5.0)),\n",
    "    intercept=make_param(\n",
    "        random=True,\n",
    "        sigma=make_param(dist_name=\"HalfNormal\", dist_params=(1.0,)),\n",
    "        mu=make_param(dist_name=\"Normal\", dist_params=(0.0, 0.5)),\n",
    "    ),\n",
    ")\n",
    "sigma = make_param(\n",
    "    name=\"sigma\",\n",
    "    linear=True,\n",
    "    slope=make_param(dist_name=\"Normal\", dist_params=(0.0, 3.0)),\n",
    "    intercept=make_param(\n",
    "        dist_name=\"Normal\",\n",
    "        dist_params=(\n",
    "            1.0,\n",
    "            1.0,\n",
    "        ),\n",
    "    ),\n",
    "    mapping=\"softplus\",\n",
    "    mapping_params=(0.0, 3.0),\n",
    ")\n",
    "\n",
    "# Configure the HBRConf object\n",
    "hbr_conf = HBRConf(\n",
    "    draws=2048,\n",
    "    tune=512,\n",
    "    chains=4,\n",
    "    pymc_cores=16,\n",
    "    likelihood=\"Normal\",\n",
    "    mu=mu,\n",
    "    sigma=sigma,\n",
    "    nuts_sampler=\"nutpie\",\n",
    ")\n",
    "save_dir = \"resources/hbr_transfer_runner/save_dir\"\n",
    "\n",
    "norm_conf = NormConf(\n",
    "    savemodel=True,\n",
    "    saveresults=True,\n",
    "    save_dir=\"resources/hbr_transfer_runner/save_dir\",\n",
    "    inscaler=\"standardize\",\n",
    "    outscaler=\"standardize\",\n",
    "    basis_function=\"bspline\",\n",
    "    basis_function_kwargs={\"order\": 3, \"nknots\": 5},\n",
    ")\n",
    "\n",
    "norm_hbr = NormHBR(norm_conf=norm_conf, reg_conf=hbr_conf)\n",
    "\n",
    "runner = Runner(\n",
    "    cross_validate=False,\n",
    "    parallelize=True,\n",
    "    job_type=\"local\",  # or \"slurm\" if you are on a slurm cluster\n",
    "    n_jobs=2,\n",
    "    log_dir=\"resources/hbr_transfer_runner/log_dir\",\n",
    "    temp_dir=\"resources/hbr_transfer_runner/temp_dir\",\n",
    ")\n",
    "\n",
    "runner.fit_predict(norm_hbr, train, test)\n",
    "\n",
    "to_transfer = NormHBR.load(\"resources/hbr_transfer_runner/save_dir\")"
   ]
  },
  {
   "cell_type": "markdown",
   "metadata": {},
   "source": [
    "Now we use the runner to transfer the model to the transfer dataset.\n"
   ]
  },
  {
   "cell_type": "code",
   "execution_count": 16,
   "metadata": {},
   "outputs": [
    {
     "name": "stdout",
     "output_type": "stream",
     "text": [
      "Going to transfer 2 models\n",
      "Transferring model for rh_MeanThickness_thickness\n",
      "Going to transfer 2 models\n",
      "Transferring model for WM-hypointensities\n",
      "Configuration of normative model is valid.\n",
      "33448 Saving model to resources/hbr_transfer_runner/save_dir_transfer\n",
      "Configuration of normative model is valid.\n",
      "33447 Saving model to resources/hbr_transfer_runner/save_dir_transfer\n",
      "Model saved to /Users/stijndeboer/Projects/PCN/PCNtoolkit/example_notebooks/resources/hbr_transfer_runner/save_dir_transfer/model\n",
      "Going to predict 1 models\n",
      "Predicting model for WM-hypointensities\n",
      "\u001b[2KSampling ... \u001b[90m━━━━━━━━━━━━━━━━━━━━━━━━━━━━━━━━━━━━━━━━\u001b[0m \u001b[35m  0%\u001b[0m \u001b[36m-:--:--\u001b[0m / \u001b[33m0:00:00\u001b[0mModel saved to /Users/stijndeboer/Projects/PCN/PCNtoolkit/example_notebooks/resources/hbr_transfer_runner/save_dir_transfer/model\n",
      "Going to predict 1 models\n",
      "Predicting model for rh_MeanThickness_thickness\n",
      "\u001b[2KSampling ... \u001b[90m━━━━━━━━━━━━━━━━━━━━━━━━━━━━━━━━━━━━━━━━\u001b[0m \u001b[35m  0%\u001b[0m \u001b[36m-:--:--\u001b[0m / \u001b[33m0:00:00\u001b[0m/ \u001b[33m0:00:00\u001b[0m\u001b[?25l"
     ]
    },
    {
     "name": "stderr",
     "output_type": "stream",
     "text": [
      "Sampling: [y_pred]\n",
      "Sampling: [y_pred]\n"
     ]
    },
    {
     "name": "stdout",
     "output_type": "stream",
     "text": [
      "\u001b[2KSampling ... \u001b[32m━━━━━━━━━━━━━━━━━━━━━━━━━━━━━━━━━━━━━━━━\u001b[0m \u001b[35m100%\u001b[0m \u001b[36m0:00:00\u001b[0m / \u001b[33m0:00:00\u001b[0m/ \u001b[33m0:00:00\u001b[0m\n",
      "\u001b[?25hComputing zscores for WM-hypointensities\n",
      "\u001b[2KSampling ... \u001b[94m━━━━━━━━━━━━━━━━━━━━━━━━━━━━━\u001b[0m\u001b[94m╸\u001b[0m\u001b[90m━━━━━━━━━━\u001b[0m \u001b[35m 74%\u001b[0m \u001b[36m0:00:01\u001b[0m / \u001b[33m0:00:00\u001b[0m"
     ]
    },
    {
     "name": "stderr",
     "output_type": "stream",
     "text": [
      "Sampling: [y_pred]\n",
      "Sampling: [y_pred]\n"
     ]
    },
    {
     "name": "stdout",
     "output_type": "stream",
     "text": [
      "\u001b[2KSampling ... \u001b[32m━━━━━━━━━━━━━━━━━━━━━━━━━━━━━━━━━━━━━━━━\u001b[0m \u001b[35m100%\u001b[0m \u001b[36m0:00:00\u001b[0m / \u001b[33m0:00:00\u001b[0m\n",
      "\u001b[?25hComputing zscores for rh_MeanThickness_thickness\n",
      "\u001b[2KSampling ... \u001b[32m━━━━━━━━━━━━━━━━━━━━━━━━━━━━━━━━━━━━━━━━\u001b[0m \u001b[35m100%\u001b[0m \u001b[36m0:00:00\u001b[0m / \u001b[33m0:00:00\u001b[0m/ \u001b[33m0:00:00\u001b[0m\u001b[?25l\n",
      "\u001b[?25hComputing centiles for WM-hypointensities\n",
      "\u001b[2KSampling ... \u001b[32m━━━━━━━━━━━━━━━━━━━━━━━━━━━━━━━━━━━━━━━━\u001b[0m \u001b[35m100%\u001b[0m \u001b[36m0:00:00\u001b[0m / \u001b[33m0:00:00\u001b[0m/ \u001b[33m0:00:00\u001b[0m\u001b[?25l\n",
      "\u001b[?25hComputing centiles for rh_MeanThickness_thickness\n",
      "\u001b[2KSampling ... \u001b[94m━━━━━━━━━━━━━━━\u001b[0m\u001b[90m╺\u001b[0m\u001b[90m━━━━━━━━━━━━━━━━━━━━━━━━\u001b[0m \u001b[35m 38%\u001b[0m \u001b[36m0:00:01\u001b[0m / \u001b[33m0:00:00\u001b[0m"
     ]
    },
    {
     "name": "stderr",
     "output_type": "stream",
     "text": [
      "Sampling: [y_pred]\n",
      "Sampling: [y_pred]\n"
     ]
    },
    {
     "name": "stdout",
     "output_type": "stream",
     "text": [
      "\u001b[2KSampling ... \u001b[32m━━━━━━━━━━━━━━━━━━━━━━━━━━━━━━━━━━━━━━━━\u001b[0m \u001b[35m100%\u001b[0m \u001b[36m0:00:00\u001b[0m / \u001b[33m0:00:00\u001b[0m/ \u001b[33m0:00:00\u001b[0m\n",
      "\u001b[?25hComputing centiles for WM-hypointensities\n"
     ]
    },
    {
     "name": "stderr",
     "output_type": "stream",
     "text": [
      "/opt/anaconda3/envs/dev_refactor/lib/python3.12/site-packages/pcntoolkit/util/evaluator.py:232: ConstantInputWarning: An input array is constant; the correlation coefficient is not defined.\n",
      "  rho, _ = stats.spearmanr(y, yhat)\n",
      "/opt/anaconda3/envs/dev_refactor/lib/python3.12/site-packages/pcntoolkit/util/evaluator.py:341: RuntimeWarning: invalid value encountered in log\n",
      "  nll = -np.mean(y * np.log(yhat) + (1 - y) * np.log(1 - yhat))\n",
      "Sampling: [y_pred]\n",
      "/opt/anaconda3/envs/dev_refactor/lib/python3.12/site-packages/pcntoolkit/util/evaluator.py:232: ConstantInputWarning: An input array is constant; the correlation coefficient is not defined.\n",
      "  rho, _ = stats.spearmanr(y, yhat)\n",
      "/opt/anaconda3/envs/dev_refactor/lib/python3.12/site-packages/pcntoolkit/util/evaluator.py:341: RuntimeWarning: invalid value encountered in log\n",
      "  nll = -np.mean(y * np.log(yhat) + (1 - y) * np.log(1 - yhat))\n",
      "Sampling: [y_pred]\n"
     ]
    },
    {
     "name": "stdout",
     "output_type": "stream",
     "text": [
      "\u001b[2KSampling ... \u001b[32m━━━━━━━━━━━━━━━━━━━━━━━━━━━━━━━━━━━━━━━━\u001b[0m \u001b[35m100%\u001b[0m \u001b[36m0:00:00\u001b[0m / \u001b[33m0:00:00\u001b[0m/ \u001b[33m0:00:00\u001b[0m\u001b[?25l\n",
      "\u001b[?25hComputing centiles for rh_MeanThickness_thickness\n",
      "\u001b[2KSampling ... \u001b[32m━━━━━━━━━━━━━━━━━━━━━━━━━━━━━━━━━━━━━━━━\u001b[0m \u001b[35m100%\u001b[0m \u001b[36m0:00:00\u001b[0m / \u001b[33m0:00:00\u001b[0m/ \u001b[33m0:00:00\u001b[0m\u001b[?25l\n",
      "\u001b[2KSampling ... \u001b[32m━━━━━━━━━━━━━━━━━━━━━━━━━━━━━━━━━━━━━━━━\u001b[0m \u001b[35m100%\u001b[0m \u001b[36m0:00:00\u001b[0m / \u001b[33m0:00:00\u001b[0m00:00\u001b[0m00:00\u001b[0m\n",
      "\u001b[?25hResults and plots saved to /Users/stijndeboer/Projects/PCN/PCNtoolkit/example_notebooks/resources/hbr_transfer_runner/save_dir_transfer/results and /Users/stijndeboer/Projects/PCN/PCNtoolkit/example_notebooks/resources/hbr_transfer_runner/save_dir_transfer/plots\n",
      "Results and plots saved to /Users/stijndeboer/Projects/PCN/PCNtoolkit/example_notebooks/resources/hbr_transfer_runner/save_dir_transfer/results and /Users/stijndeboer/Projects/PCN/PCNtoolkit/example_notebooks/resources/hbr_transfer_runner/save_dir_transfer/plots\n",
      "\n",
      "All jobs completed!\n"
     ]
    }
   ],
   "source": [
    "runner.transfer_predict(to_transfer, transfer_train, transfer_test)\n"
   ]
  },
  {
   "cell_type": "markdown",
   "metadata": {},
   "source": [
    "And that's it, now you have seen how to:\n",
    "- Use the runner to do cross-validation in parallel\n",
    "- Inspect the model of a specific fold\n",
    "- Evaluate the model on a test set\n",
    "- Create useful plots\n",
    "\n",
    "We hope this tutorial was useful. If you have any questions or remarks, please let us know on GitHub. Thanks!\n"
   ]
  },
  {
   "cell_type": "markdown",
   "metadata": {},
   "source": []
  },
  {
   "cell_type": "code",
   "execution_count": 17,
   "metadata": {},
   "outputs": [
    {
     "name": "stdout",
     "output_type": "stream",
     "text": [
      "Going to predict 2 models\n",
      "Predicting model for rh_MeanThickness_thickness\n"
     ]
    },
    {
     "name": "stderr",
     "output_type": "stream",
     "text": [
      "Sampling: [site_offset_intercept_mu, y_pred]\n"
     ]
    },
    {
     "data": {
      "application/vnd.jupyter.widget-view+json": {
       "model_id": "0a63f4e6df4343de85232d791067c19e",
       "version_major": 2,
       "version_minor": 0
      },
      "text/plain": [
       "Output()"
      ]
     },
     "metadata": {},
     "output_type": "display_data"
    },
    {
     "data": {
      "text/html": [
       "<pre style=\"white-space:pre;overflow-x:auto;line-height:normal;font-family:Menlo,'DejaVu Sans Mono',consolas,'Courier New',monospace\"></pre>\n"
      ],
      "text/plain": []
     },
     "metadata": {},
     "output_type": "display_data"
    },
    {
     "name": "stdout",
     "output_type": "stream",
     "text": [
      "Predicting model for WM-hypointensities\n"
     ]
    },
    {
     "name": "stderr",
     "output_type": "stream",
     "text": [
      "Sampling: [site_offset_intercept_mu, y_pred]\n"
     ]
    },
    {
     "data": {
      "application/vnd.jupyter.widget-view+json": {
       "model_id": "69e4e1aa1d024a4ba2f2fad4b8a79a6b",
       "version_major": 2,
       "version_minor": 0
      },
      "text/plain": [
       "Output()"
      ]
     },
     "metadata": {},
     "output_type": "display_data"
    },
    {
     "data": {
      "text/html": [
       "<pre style=\"white-space:pre;overflow-x:auto;line-height:normal;font-family:Menlo,'DejaVu Sans Mono',consolas,'Courier New',monospace\"></pre>\n"
      ],
      "text/plain": []
     },
     "metadata": {},
     "output_type": "display_data"
    },
    {
     "name": "stdout",
     "output_type": "stream",
     "text": [
      "Computing zscores for rh_MeanThickness_thickness\n"
     ]
    },
    {
     "name": "stderr",
     "output_type": "stream",
     "text": [
      "Sampling: [site_offset_intercept_mu, y_pred]\n"
     ]
    },
    {
     "data": {
      "application/vnd.jupyter.widget-view+json": {
       "model_id": "4db13e90462145738cba185a6288d6e6",
       "version_major": 2,
       "version_minor": 0
      },
      "text/plain": [
       "Output()"
      ]
     },
     "metadata": {},
     "output_type": "display_data"
    },
    {
     "data": {
      "text/html": [
       "<pre style=\"white-space:pre;overflow-x:auto;line-height:normal;font-family:Menlo,'DejaVu Sans Mono',consolas,'Courier New',monospace\"></pre>\n"
      ],
      "text/plain": []
     },
     "metadata": {},
     "output_type": "display_data"
    },
    {
     "name": "stdout",
     "output_type": "stream",
     "text": [
      "Computing zscores for WM-hypointensities\n"
     ]
    },
    {
     "name": "stderr",
     "output_type": "stream",
     "text": [
      "Sampling: [site_offset_intercept_mu, y_pred]\n"
     ]
    },
    {
     "data": {
      "application/vnd.jupyter.widget-view+json": {
       "model_id": "175689fc89234f79a8485399ac58007b",
       "version_major": 2,
       "version_minor": 0
      },
      "text/plain": [
       "Output()"
      ]
     },
     "metadata": {},
     "output_type": "display_data"
    },
    {
     "data": {
      "text/html": [
       "<pre style=\"white-space:pre;overflow-x:auto;line-height:normal;font-family:Menlo,'DejaVu Sans Mono',consolas,'Courier New',monospace\"></pre>\n"
      ],
      "text/plain": []
     },
     "metadata": {},
     "output_type": "display_data"
    },
    {
     "name": "stdout",
     "output_type": "stream",
     "text": [
      "Computing centiles for rh_MeanThickness_thickness\n"
     ]
    },
    {
     "name": "stderr",
     "output_type": "stream",
     "text": [
      "Sampling: [site_offset_intercept_mu, y_pred]\n"
     ]
    },
    {
     "data": {
      "application/vnd.jupyter.widget-view+json": {
       "model_id": "9e12ca35a6f042d5be335e5bc0543fbc",
       "version_major": 2,
       "version_minor": 0
      },
      "text/plain": [
       "Output()"
      ]
     },
     "metadata": {},
     "output_type": "display_data"
    },
    {
     "data": {
      "text/html": [
       "<pre style=\"white-space:pre;overflow-x:auto;line-height:normal;font-family:Menlo,'DejaVu Sans Mono',consolas,'Courier New',monospace\"></pre>\n"
      ],
      "text/plain": []
     },
     "metadata": {},
     "output_type": "display_data"
    },
    {
     "name": "stdout",
     "output_type": "stream",
     "text": [
      "Computing centiles for WM-hypointensities\n"
     ]
    },
    {
     "name": "stderr",
     "output_type": "stream",
     "text": [
      "Sampling: [site_offset_intercept_mu, y_pred]\n"
     ]
    },
    {
     "data": {
      "application/vnd.jupyter.widget-view+json": {
       "model_id": "5985fd2508b446efaba9b4662784c10f",
       "version_major": 2,
       "version_minor": 0
      },
      "text/plain": [
       "Output()"
      ]
     },
     "metadata": {},
     "output_type": "display_data"
    },
    {
     "data": {
      "text/html": [
       "<pre style=\"white-space:pre;overflow-x:auto;line-height:normal;font-family:Menlo,'DejaVu Sans Mono',consolas,'Courier New',monospace\"></pre>\n"
      ],
      "text/plain": []
     },
     "metadata": {},
     "output_type": "display_data"
    },
    {
     "name": "stderr",
     "output_type": "stream",
     "text": [
      "/opt/anaconda3/envs/dev_refactor/lib/python3.12/site-packages/pcntoolkit/util/evaluator.py:341: RuntimeWarning: invalid value encountered in log\n",
      "  nll = -np.mean(y * np.log(yhat) + (1 - y) * np.log(1 - yhat))\n"
     ]
    },
    {
     "name": "stdout",
     "output_type": "stream",
     "text": [
      "Computing centiles for rh_MeanThickness_thickness\n"
     ]
    },
    {
     "name": "stderr",
     "output_type": "stream",
     "text": [
      "Sampling: [site_offset_intercept_mu, y_pred]\n"
     ]
    },
    {
     "data": {
      "application/vnd.jupyter.widget-view+json": {
       "model_id": "bf6167c92fbe49ddbc8b267788c9adc0",
       "version_major": 2,
       "version_minor": 0
      },
      "text/plain": [
       "Output()"
      ]
     },
     "metadata": {},
     "output_type": "display_data"
    },
    {
     "data": {
      "text/html": [
       "<pre style=\"white-space:pre;overflow-x:auto;line-height:normal;font-family:Menlo,'DejaVu Sans Mono',consolas,'Courier New',monospace\"></pre>\n"
      ],
      "text/plain": []
     },
     "metadata": {},
     "output_type": "display_data"
    },
    {
     "name": "stdout",
     "output_type": "stream",
     "text": [
      "Computing centiles for WM-hypointensities\n"
     ]
    },
    {
     "name": "stderr",
     "output_type": "stream",
     "text": [
      "Sampling: [site_offset_intercept_mu, y_pred]\n"
     ]
    },
    {
     "data": {
      "application/vnd.jupyter.widget-view+json": {
       "model_id": "358855ca10a54c42964d81a5b3bc1260",
       "version_major": 2,
       "version_minor": 0
      },
      "text/plain": [
       "Output()"
      ]
     },
     "metadata": {},
     "output_type": "display_data"
    },
    {
     "data": {
      "text/html": [
       "<pre style=\"white-space:pre;overflow-x:auto;line-height:normal;font-family:Menlo,'DejaVu Sans Mono',consolas,'Courier New',monospace\"></pre>\n"
      ],
      "text/plain": []
     },
     "metadata": {},
     "output_type": "display_data"
    },
    {
     "name": "stdout",
     "output_type": "stream",
     "text": [
      "Results and plots saved to /Users/stijndeboer/Projects/PCN/PCNtoolkit/example_notebooks/resources/hbr_transfer_runner/save_dir/results and /Users/stijndeboer/Projects/PCN/PCNtoolkit/example_notebooks/resources/hbr_transfer_runner/save_dir/plots\n",
      "Configuration of normative model is valid.\n",
      "Going to predict 2 models\n",
      "Predicting model for rh_MeanThickness_thickness\n"
     ]
    },
    {
     "name": "stderr",
     "output_type": "stream",
     "text": [
      "Sampling: [site_offset_intercept_mu, y_pred]\n"
     ]
    },
    {
     "data": {
      "application/vnd.jupyter.widget-view+json": {
       "model_id": "632a8c7434a74417949fe62bd31526ab",
       "version_major": 2,
       "version_minor": 0
      },
      "text/plain": [
       "Output()"
      ]
     },
     "metadata": {},
     "output_type": "display_data"
    },
    {
     "data": {
      "text/html": [
       "<pre style=\"white-space:pre;overflow-x:auto;line-height:normal;font-family:Menlo,'DejaVu Sans Mono',consolas,'Courier New',monospace\"></pre>\n"
      ],
      "text/plain": []
     },
     "metadata": {},
     "output_type": "display_data"
    },
    {
     "name": "stdout",
     "output_type": "stream",
     "text": [
      "Predicting model for WM-hypointensities\n"
     ]
    },
    {
     "name": "stderr",
     "output_type": "stream",
     "text": [
      "Sampling: [site_offset_intercept_mu, y_pred]\n"
     ]
    },
    {
     "data": {
      "application/vnd.jupyter.widget-view+json": {
       "model_id": "479929cf27624cb395d9252de452a2cf",
       "version_major": 2,
       "version_minor": 0
      },
      "text/plain": [
       "Output()"
      ]
     },
     "metadata": {},
     "output_type": "display_data"
    },
    {
     "data": {
      "text/html": [
       "<pre style=\"white-space:pre;overflow-x:auto;line-height:normal;font-family:Menlo,'DejaVu Sans Mono',consolas,'Courier New',monospace\"></pre>\n"
      ],
      "text/plain": []
     },
     "metadata": {},
     "output_type": "display_data"
    },
    {
     "name": "stdout",
     "output_type": "stream",
     "text": [
      "Computing zscores for rh_MeanThickness_thickness\n"
     ]
    },
    {
     "name": "stderr",
     "output_type": "stream",
     "text": [
      "Sampling: [site_offset_intercept_mu, y_pred]\n"
     ]
    },
    {
     "data": {
      "application/vnd.jupyter.widget-view+json": {
       "model_id": "c08b05004cad4e30b9611175f54242b3",
       "version_major": 2,
       "version_minor": 0
      },
      "text/plain": [
       "Output()"
      ]
     },
     "metadata": {},
     "output_type": "display_data"
    },
    {
     "data": {
      "text/html": [
       "<pre style=\"white-space:pre;overflow-x:auto;line-height:normal;font-family:Menlo,'DejaVu Sans Mono',consolas,'Courier New',monospace\"></pre>\n"
      ],
      "text/plain": []
     },
     "metadata": {},
     "output_type": "display_data"
    },
    {
     "name": "stdout",
     "output_type": "stream",
     "text": [
      "Computing zscores for WM-hypointensities\n"
     ]
    },
    {
     "name": "stderr",
     "output_type": "stream",
     "text": [
      "Sampling: [site_offset_intercept_mu, y_pred]\n"
     ]
    },
    {
     "data": {
      "application/vnd.jupyter.widget-view+json": {
       "model_id": "d1f2249bf2814fe69e6613208cbc1804",
       "version_major": 2,
       "version_minor": 0
      },
      "text/plain": [
       "Output()"
      ]
     },
     "metadata": {},
     "output_type": "display_data"
    },
    {
     "data": {
      "text/html": [
       "<pre style=\"white-space:pre;overflow-x:auto;line-height:normal;font-family:Menlo,'DejaVu Sans Mono',consolas,'Courier New',monospace\"></pre>\n"
      ],
      "text/plain": []
     },
     "metadata": {},
     "output_type": "display_data"
    },
    {
     "name": "stdout",
     "output_type": "stream",
     "text": [
      "Computing centiles for rh_MeanThickness_thickness\n"
     ]
    },
    {
     "name": "stderr",
     "output_type": "stream",
     "text": [
      "Sampling: [site_offset_intercept_mu, y_pred]\n"
     ]
    },
    {
     "data": {
      "application/vnd.jupyter.widget-view+json": {
       "model_id": "1df7db638f9d44e1be65a11b54a03478",
       "version_major": 2,
       "version_minor": 0
      },
      "text/plain": [
       "Output()"
      ]
     },
     "metadata": {},
     "output_type": "display_data"
    },
    {
     "data": {
      "text/html": [
       "<pre style=\"white-space:pre;overflow-x:auto;line-height:normal;font-family:Menlo,'DejaVu Sans Mono',consolas,'Courier New',monospace\"></pre>\n"
      ],
      "text/plain": []
     },
     "metadata": {},
     "output_type": "display_data"
    },
    {
     "name": "stdout",
     "output_type": "stream",
     "text": [
      "Computing centiles for WM-hypointensities\n"
     ]
    },
    {
     "name": "stderr",
     "output_type": "stream",
     "text": [
      "Sampling: [site_offset_intercept_mu, y_pred]\n"
     ]
    },
    {
     "data": {
      "application/vnd.jupyter.widget-view+json": {
       "model_id": "0e6f44d7436e44e9accf5eb6df414be8",
       "version_major": 2,
       "version_minor": 0
      },
      "text/plain": [
       "Output()"
      ]
     },
     "metadata": {},
     "output_type": "display_data"
    },
    {
     "data": {
      "text/html": [
       "<pre style=\"white-space:pre;overflow-x:auto;line-height:normal;font-family:Menlo,'DejaVu Sans Mono',consolas,'Courier New',monospace\"></pre>\n"
      ],
      "text/plain": []
     },
     "metadata": {},
     "output_type": "display_data"
    },
    {
     "name": "stderr",
     "output_type": "stream",
     "text": [
      "/opt/anaconda3/envs/dev_refactor/lib/python3.12/site-packages/pcntoolkit/util/evaluator.py:341: RuntimeWarning: invalid value encountered in log\n",
      "  nll = -np.mean(y * np.log(yhat) + (1 - y) * np.log(1 - yhat))\n"
     ]
    },
    {
     "name": "stdout",
     "output_type": "stream",
     "text": [
      "Computing centiles for rh_MeanThickness_thickness\n"
     ]
    },
    {
     "name": "stderr",
     "output_type": "stream",
     "text": [
      "Sampling: [site_offset_intercept_mu, y_pred]\n"
     ]
    },
    {
     "data": {
      "application/vnd.jupyter.widget-view+json": {
       "model_id": "44090e25a30544878aeb9b70df9062a2",
       "version_major": 2,
       "version_minor": 0
      },
      "text/plain": [
       "Output()"
      ]
     },
     "metadata": {},
     "output_type": "display_data"
    },
    {
     "data": {
      "text/html": [
       "<pre style=\"white-space:pre;overflow-x:auto;line-height:normal;font-family:Menlo,'DejaVu Sans Mono',consolas,'Courier New',monospace\"></pre>\n"
      ],
      "text/plain": []
     },
     "metadata": {},
     "output_type": "display_data"
    },
    {
     "name": "stdout",
     "output_type": "stream",
     "text": [
      "Computing centiles for WM-hypointensities\n"
     ]
    },
    {
     "name": "stderr",
     "output_type": "stream",
     "text": [
      "Sampling: [site_offset_intercept_mu, y_pred]\n"
     ]
    },
    {
     "data": {
      "application/vnd.jupyter.widget-view+json": {
       "model_id": "690aec2f20b644268437c739242a03ff",
       "version_major": 2,
       "version_minor": 0
      },
      "text/plain": [
       "Output()"
      ]
     },
     "metadata": {},
     "output_type": "display_data"
    },
    {
     "data": {
      "text/html": [
       "<pre style=\"white-space:pre;overflow-x:auto;line-height:normal;font-family:Menlo,'DejaVu Sans Mono',consolas,'Courier New',monospace\"></pre>\n"
      ],
      "text/plain": []
     },
     "metadata": {},
     "output_type": "display_data"
    },
    {
     "name": "stdout",
     "output_type": "stream",
     "text": [
      "Results and plots saved to /Users/stijndeboer/Projects/PCN/PCNtoolkit/example_notebooks/resources/hbr_transfer_runner/save_dir/results and /Users/stijndeboer/Projects/PCN/PCNtoolkit/example_notebooks/resources/hbr_transfer_runner/save_dir/plots\n"
     ]
    }
   ],
   "source": [
    "to_transfer.predict(transfer_test)\n",
    "original_model = NormHBR.load(\"resources/hbr_transfer_runner/save_dir\")\n",
    "try:\n",
    "    original_model.predict(transfer_test)\n",
    "except Exception as e:\n",
    "    print(e)\n"
   ]
  },
  {
   "cell_type": "markdown",
   "metadata": {},
   "source": []
  }
 ],
 "metadata": {
  "kernelspec": {
   "display_name": "dev_refactor",
   "language": "python",
   "name": "python3"
  },
  "language_info": {
   "codemirror_mode": {
    "name": "ipython",
    "version": 3
   },
   "file_extension": ".py",
   "mimetype": "text/x-python",
   "name": "python",
   "nbconvert_exporter": "python",
   "pygments_lexer": "ipython3",
   "version": "3.12.0"
  }
 },
 "nbformat": 4,
 "nbformat_minor": 4
}
