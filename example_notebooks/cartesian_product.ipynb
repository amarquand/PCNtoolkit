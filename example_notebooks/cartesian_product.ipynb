{
 "cells": [
  {
   "cell_type": "code",
   "execution_count": 11,
   "metadata": {},
   "outputs": [],
   "source": [
    "import pymc as pm\n",
    "import pytensor as pt\n"
   ]
  },
  {
   "cell_type": "code",
   "execution_count": 49,
   "metadata": {},
   "outputs": [
    {
     "name": "stdout",
     "output_type": "stream",
     "text": [
      "[3]\n"
     ]
    }
   ],
   "source": [
    "shape_a = ()\n",
    "shape_b = \n",
    "\n",
    "\n",
    "with pm.Model() as model:\n",
    "    a = pm.Normal(\"a\", 0, 1, shape=shape_a)\n",
    "    b = pm.Normal(\"b\", 0, 1, shape=shape_b)\n",
    "\n",
    "    a_nones = len(a.shape.eval()) * [None]\n",
    "    b_nones = len(b.shape.eval()) * [None]\n",
    "\n",
    "    c = pt.tensor.mul(a[*b_nones], b[..., *a_nones])\n",
    "    print(c.shape.eval())\n"
   ]
  },
  {
   "cell_type": "code",
   "execution_count": null,
   "metadata": {},
   "outputs": [],
   "source": []
  }
 ],
 "metadata": {
  "kernelspec": {
   "display_name": "dev_refactor_2",
   "language": "python",
   "name": "python3"
  },
  "language_info": {
   "codemirror_mode": {
    "name": "ipython",
    "version": 3
   },
   "file_extension": ".py",
   "mimetype": "text/x-python",
   "name": "python",
   "nbconvert_exporter": "python",
   "pygments_lexer": "ipython3",
   "version": "3.12.0"
  }
 },
 "nbformat": 4,
 "nbformat_minor": 2
}
