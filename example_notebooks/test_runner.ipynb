{
 "cells": [
  {
   "cell_type": "markdown",
   "metadata": {},
   "source": [
    "# Test Runner\n"
   ]
  },
  {
   "cell_type": "markdown",
   "metadata": {},
   "source": [
    "### Imports"
   ]
  },
  {
   "cell_type": "markdown",
   "metadata": {},
   "source": []
  },
  {
   "cell_type": "code",
   "execution_count": 12,
   "metadata": {
    "notebookRunGroups": {
     "groupValue": "1"
    }
   },
   "outputs": [],
   "source": [
    "import os\n",
    "\n",
    "# os.environ[\"OPENBLAS_NUM_THREADS\"] = \"1\"\n",
    "import pandas as pd\n",
    "import numpy as np\n",
    "import matplotlib.pyplot as plt\n",
    "from pcntoolkit.dataio.norm_data import NormData\n",
    "from pcntoolkit.normative_model.norm_conf import NormConf\n",
    "from pcntoolkit.normative_model.norm_blr import NormBLR\n",
    "from pcntoolkit.regression_model.blr.blr_conf import BLRConf\n",
    "from pcntoolkit.normative_model.norm_factory import load_normative_model\n",
    "from pcntoolkit.normative_model.norm_factory import create_normative_model\n",
    "from pcntoolkit.regression_model.hbr.hbr_conf import HBRConf\n",
    "from pcntoolkit.runner import Runner\n",
    "from pcntoolkit.regression_model.hbr.param import Param\n",
    "import seaborn as sns\n",
    "import arviz as az\n"
   ]
  },
  {
   "cell_type": "markdown",
   "metadata": {},
   "source": [
    "# Load data"
   ]
  },
  {
   "cell_type": "markdown",
   "metadata": {},
   "source": [
    "First we download a small example dataset from github. Saving this dataset on your local device (under 'resources/data/fcon1000.csv' for example) saves time and bandwidth if you re-run this notebook."
   ]
  },
  {
   "cell_type": "markdown",
   "metadata": {},
   "source": [
    "First we download a small example dataset from github. Saving this dataset on your local device (under 'resources/data/fcon1000.csv' for example) saves time and bandwidth if you re-run this notebook."
   ]
  },
  {
   "cell_type": "code",
   "execution_count": 13,
   "metadata": {
    "notebookRunGroups": {
     "groupValue": "1"
    }
   },
   "outputs": [],
   "source": [
    "# First download the dataset from github\n",
    "# fcon=pd.read_csv(\"https://raw.githubusercontent.com/pcn-toolkit/pcn-toolkit/master/resources/data/fcon1000.csv\")\n",
    "data = pd.read_csv(\"resources/data/fcon1000.csv\")"
   ]
  },
  {
   "cell_type": "markdown",
   "metadata": {},
   "source": [
    "Plot the distribution of sex and site in the data."
   ]
  },
  {
   "cell_type": "code",
   "execution_count": 14,
   "metadata": {
    "notebookRunGroups": {
     "groupValue": "1"
    }
   },
   "outputs": [],
   "source": [
    "data[\"sex \"] = np.where(data[\"sex\"] == 1, [\"male\"], [\"female\"])"
   ]
  },
  {
   "cell_type": "markdown",
   "metadata": {},
   "source": [
    "Our HBR models will use random effects to model differences between sites. Because the random effects are best captured when there are enough samples of each effect in the data, we will have to remove some sites that are too small. We will filter out sites for which any of the sexes is represented by less than 10 samples"
   ]
  },
  {
   "cell_type": "code",
   "execution_count": 15,
   "metadata": {
    "notebookRunGroups": {
     "groupValue": "1"
    }
   },
   "outputs": [],
   "source": [
    "# Group the data by site and sex\n",
    "site_counts = data.groupby([\"site\", \"sex\"]).size().reset_index(name=\"counts\")  # type: ignore\n",
    "\n",
    "# Get the sites with only one sex present\n",
    "sex_count_per_site = site_counts[\"site\"].value_counts()\n",
    "sites_with_one_sex = sex_count_per_site[sex_count_per_site == 1]\n",
    "sites_with_one_sex.index\n",
    "\n",
    "# remove the sites with less than 10 samples\n",
    "data = data[~data[\"site\"].isin(sites_with_one_sex.index)]\n",
    "\n",
    "\n",
    "# find the sites that have less than 10 samples\n",
    "site_counts = site_counts[site_counts[\"counts\"] < 10]\n",
    "\n",
    "# remove the sites with less than 10 samples\n",
    "data = data[~data[\"site\"].isin(site_counts[\"site\"])]\n"
   ]
  },
  {
   "cell_type": "markdown",
   "metadata": {},
   "source": [
    "We find the seven largest sites, which we will use for train and transfer. Two of those are randomly selected for transfering later."
   ]
  },
  {
   "cell_type": "code",
   "execution_count": 16,
   "metadata": {
    "notebookRunGroups": {
     "groupValue": "1"
    }
   },
   "outputs": [],
   "source": [
    "site_counts = data.groupby([\"site\"]).size().reset_index(name=\"counts\")  # type: ignore\n",
    "site_counts = site_counts.sort_values(\"counts\", ascending=False)\n",
    "site_counts = site_counts.head(7)\n",
    "\n",
    "np.random.seed(45)\n",
    "# randomly select 2 sites from the top 7 sites for transfering\n",
    "transfer_sites = site_counts.sample(2)[\"site\"]\n",
    "transfer_data = data[data[\"site\"].isin(transfer_sites)]\n",
    "\n",
    "# The remaining sites are used for training the model\n",
    "fit_sites = site_counts[~site_counts.isin(transfer_sites)][\"site\"]\n",
    "fit_sites.dropna(inplace=True)\n",
    "fit_data = data[data[\"site\"].isin(fit_sites)]"
   ]
  },
  {
   "cell_type": "markdown",
   "metadata": {},
   "source": [
    "Next, we load the data into `NormData` objects. All functions in the PCNtoolkit expect the data to be provided as instances of the `NormData` class. The class manages all preprocessing, basis expansions, and dimensions. "
   ]
  },
  {
   "cell_type": "code",
   "execution_count": 17,
   "metadata": {
    "notebookRunGroups": {
     "groupValue": "1"
    },
    "scrolled": true
   },
   "outputs": [],
   "source": [
    "covariates = [\"age\"]\n",
    "batch_effects = [\"sex\", \"site\"]\n",
    "response_vars = [\"rh_MeanThickness_thickness\", \"WM-hypointensities\"]\n",
    "\n",
    "# Create a normdata object from the downloaded data\n",
    "normdata = NormData.from_dataframe(\n",
    "    name=\"fit\",  # name of the dataset\n",
    "    dataframe=fit_data,  # pandas dataframe\n",
    "    covariates=covariates,\n",
    "    batch_effects=batch_effects,\n",
    "    response_vars=response_vars,\n",
    ")\n",
    "\n",
    "# Create a transfer data object from the downloaded data\n",
    "transfer_data = NormData.from_dataframe(\n",
    "    name=\"transfer\",\n",
    "    dataframe=transfer_data,\n",
    "    covariates=covariates,\n",
    "    batch_effects=batch_effects,\n",
    "    response_vars=response_vars,\n",
    ")\n"
   ]
  },
  {
   "cell_type": "markdown",
   "metadata": {},
   "source": [
    "## Configure the normative model\n",
    "\n",
    "The normative model will be configured using a `NormConf` object, containing save and log paths and the preprocessing configurations, and a `RegConf` object, specific to the regression model type. Our `NormConf` configuration contains canonical paths, a standardization step for both the input as as the output data, and a Bspline basis expansion."
   ]
  },
  {
   "cell_type": "code",
   "execution_count": 18,
   "metadata": {
    "notebookRunGroups": {
     "groupValue": "1"
    }
   },
   "outputs": [
    {
     "name": "stdout",
     "output_type": "stream",
     "text": [
      "Configuration of normative model is valid.\n"
     ]
    }
   ],
   "source": [
    "# Create a NormConf object\n",
    "norm_conf = NormConf(\n",
    "    savemodel=True,\n",
    "    save_dir=\"/Users/stijndeboer/Projects/PCN/PCNtoolkit/example_notebooks/resources/save_dir\",\n",
    "    log_dir=\"/Users/stijndeboer/Projects/PCN/PCNtoolkit/example_notebooks/resources/log_dir\",\n",
    "    inscaler=\"standardize\",\n",
    "    outscaler=\"standardize\",\n",
    "    basis_function=\"bspline\",\n",
    "    order=3,\n",
    "    nknots=5,\n",
    ")"
   ]
  },
  {
   "cell_type": "markdown",
   "metadata": {},
   "source": [
    "## Configure the regression model\n",
    "\n",
    "HBR models need to specificy (possibly recursive) parameter configurations. Here, we configure a HBR model with a SHASHb likelihood, a bspline regression in `mu` and `sigma`, and a random effect in the intercept of `mu`. Note that because sigma has to be strictly positive, we specify a `softplus` mapping, so that the output of the linear regression is mapped to the positive domain. "
   ]
  },
  {
   "cell_type": "code",
   "execution_count": 19,
   "metadata": {
    "notebookRunGroups": {
     "groupValue": "1"
    }
   },
   "outputs": [
    {
     "name": "stdout",
     "output_type": "stream",
     "text": [
      "Configuration of regression model is valid.\n"
     ]
    }
   ],
   "source": [
    "blr_conf = BLRConf(\n",
    "    intercept=True,\n",
    "    random_intercept=False,\n",
    "    heteroskedastic=False,\n",
    "    intercept_var=False,\n",
    "    n_iter=1000,\n",
    ")"
   ]
  },
  {
   "cell_type": "markdown",
   "metadata": {},
   "source": [
    "## Combine normative and hbr conf in normative model\n",
    "We can either use the NormHBR constructor, or the factory method to create a normative HBR model"
   ]
  },
  {
   "cell_type": "code",
   "execution_count": 20,
   "metadata": {
    "notebookRunGroups": {
     "groupValue": "1"
    }
   },
   "outputs": [],
   "source": [
    "# Using the constructor\n",
    "norm_blr = NormBLR(norm_conf=norm_conf, reg_conf=blr_conf)"
   ]
  },
  {
   "cell_type": "markdown",
   "metadata": {},
   "source": [
    "## Create a runner"
   ]
  },
  {
   "cell_type": "code",
   "execution_count": 23,
   "metadata": {},
   "outputs": [],
   "source": [
    "runner = Runner(\n",
    "    norm_blr,\n",
    "    cross_validate=True,\n",
    "    cv_folds=10,\n",
    "    parallelize=True,\n",
    "    cluster_type=\"local\",\n",
    "    n_jobs=2,\n",
    ")"
   ]
  },
  {
   "cell_type": "code",
   "execution_count": 24,
   "metadata": {},
   "outputs": [
    {
     "name": "stdout",
     "output_type": "stream",
     "text": [
      "4416 - Going to fit 1 models\n",
      "\n",
      "4416 - Fitting model for rh_MeanThickness_thickness\n",
      "\n",
      "4415 - Going to fit 1 models\n",
      "\n",
      "4415 - Fitting model for WM-hypointensities\n",
      "\n",
      "4416 Saving model to /Users/stijndeboer/Projects/PCN/PCNtoolkit/example_notebooks/resources/save_dir/folds/fold_0\n",
      "4416 - Going to fit 1 models\n",
      "\n",
      "4416 - Fitting model for rh_MeanThickness_thickness\n",
      "\n",
      "4415 Saving model to /Users/stijndeboer/Projects/PCN/PCNtoolkit/example_notebooks/resources/save_dir/folds/fold_0\n",
      "4415 - Going to fit 1 models\n",
      "\n",
      "4415 - Fitting model for WM-hypointensities\n",
      "\n",
      "4416 Saving model to /Users/stijndeboer/Projects/PCN/PCNtoolkit/example_notebooks/resources/save_dir/folds/fold_1\n",
      "4416 - Going to fit 1 models\n",
      "\n",
      "4416 - Fitting model for rh_MeanThickness_thickness\n",
      "\n",
      "4415 Saving model to /Users/stijndeboer/Projects/PCN/PCNtoolkit/example_notebooks/resources/save_dir/folds/fold_1\n",
      "4415 - Going to fit 1 models\n",
      "\n",
      "4415 - Fitting model for WM-hypointensities\n",
      "\n",
      "4416 Saving model to /Users/stijndeboer/Projects/PCN/PCNtoolkit/example_notebooks/resources/save_dir/folds/fold_2\n",
      "4416 - Going to fit 1 models\n",
      "\n",
      "4416 - Fitting model for rh_MeanThickness_thickness\n",
      "\n",
      "4415 Saving model to /Users/stijndeboer/Projects/PCN/PCNtoolkit/example_notebooks/resources/save_dir/folds/fold_2\n",
      "4415 - Going to fit 1 models\n",
      "\n",
      "4415 - Fitting model for WM-hypointensities\n",
      "\n"
     ]
    },
    {
     "name": "stderr",
     "output_type": "stream",
     "text": [
      "/opt/anaconda3/envs/dev_runner/lib/python3.12/site-packages/pcntoolkit/regression_model/blr/blr_data.py:88: UserWarning: var_X is not provided, setting self.var_X to zeros\n",
      "  warnings.warn(\"var_X is not provided, setting self.var_X to zeros\")\n",
      "/opt/anaconda3/envs/dev_runner/lib/python3.12/site-packages/pcntoolkit/regression_model/blr/blr_data.py:88: UserWarning: var_X is not provided, setting self.var_X to zeros\n",
      "  warnings.warn(\"var_X is not provided, setting self.var_X to zeros\")\n",
      "/opt/anaconda3/envs/dev_runner/lib/python3.12/site-packages/pcntoolkit/regression_model/blr/blr_data.py:88: UserWarning: var_X is not provided, setting self.var_X to zeros\n",
      "  warnings.warn(\"var_X is not provided, setting self.var_X to zeros\")\n",
      "/opt/anaconda3/envs/dev_runner/lib/python3.12/site-packages/pcntoolkit/regression_model/blr/blr_data.py:88: UserWarning: var_X is not provided, setting self.var_X to zeros\n",
      "  warnings.warn(\"var_X is not provided, setting self.var_X to zeros\")\n",
      "/opt/anaconda3/envs/dev_runner/lib/python3.12/site-packages/pcntoolkit/regression_model/blr/blr_data.py:88: UserWarning: var_X is not provided, setting self.var_X to zeros\n",
      "  warnings.warn(\"var_X is not provided, setting self.var_X to zeros\")\n",
      "/opt/anaconda3/envs/dev_runner/lib/python3.12/site-packages/pcntoolkit/regression_model/blr/blr_data.py:88: UserWarning: var_X is not provided, setting self.var_X to zeros\n",
      "  warnings.warn(\"var_X is not provided, setting self.var_X to zeros\")\n",
      "/opt/anaconda3/envs/dev_runner/lib/python3.12/site-packages/pcntoolkit/regression_model/blr/blr_data.py:88: UserWarning: var_X is not provided, setting self.var_X to zeros\n",
      "  warnings.warn(\"var_X is not provided, setting self.var_X to zeros\")\n",
      "/opt/anaconda3/envs/dev_runner/lib/python3.12/site-packages/pcntoolkit/regression_model/blr/blr_data.py:88: UserWarning: var_X is not provided, setting self.var_X to zeros\n",
      "  warnings.warn(\"var_X is not provided, setting self.var_X to zeros\")\n"
     ]
    },
    {
     "name": "stdout",
     "output_type": "stream",
     "text": [
      "4416 Saving model to /Users/stijndeboer/Projects/PCN/PCNtoolkit/example_notebooks/resources/save_dir/folds/fold_3\n",
      "4416 - Going to fit 1 models\n",
      "\n",
      "4416 - Fitting model for rh_MeanThickness_thickness\n",
      "\n",
      "4415 Saving model to /Users/stijndeboer/Projects/PCN/PCNtoolkit/example_notebooks/resources/save_dir/folds/fold_3\n",
      "4415 - Going to fit 1 models\n",
      "\n",
      "4415 - Fitting model for WM-hypointensities\n",
      "\n",
      "4415 Saving model to /Users/stijndeboer/Projects/PCN/PCNtoolkit/example_notebooks/resources/save_dir/folds/fold_4\n",
      "4415 - Going to fit 1 models\n",
      "\n",
      "4415 - Fitting model for WM-hypointensities\n",
      "\n",
      "4416 Saving model to /Users/stijndeboer/Projects/PCN/PCNtoolkit/example_notebooks/resources/save_dir/folds/fold_4\n",
      "4416 - Going to fit 1 models\n",
      "\n",
      "4416 - Fitting model for rh_MeanThickness_thickness\n",
      "\n",
      "4416 Saving model to /Users/stijndeboer/Projects/PCN/PCNtoolkit/example_notebooks/resources/save_dir/folds/fold_5\n",
      "4416 - Going to fit 1 models\n",
      "\n",
      "4416 - Fitting model for rh_MeanThickness_thickness\n",
      "\n",
      "4415 Saving model to /Users/stijndeboer/Projects/PCN/PCNtoolkit/example_notebooks/resources/save_dir/folds/fold_5\n",
      "4416 Saving model to /Users/stijndeboer/Projects/PCN/PCNtoolkit/example_notebooks/resources/save_dir/folds/fold_6\n",
      "4415 - Going to fit 1 models\n",
      "\n",
      "4415 - Fitting model for WM-hypointensities\n",
      "\n",
      "4416 - Going to fit 1 models\n",
      "\n",
      "4416 - Fitting model for rh_MeanThickness_thickness\n",
      "\n",
      "4415 Saving model to /Users/stijndeboer/Projects/PCN/PCNtoolkit/example_notebooks/resources/save_dir/folds/fold_6\n",
      "4415 - Going to fit 1 models\n",
      "\n",
      "4415 - Fitting model for WM-hypointensities\n",
      "\n"
     ]
    },
    {
     "name": "stderr",
     "output_type": "stream",
     "text": [
      "/opt/anaconda3/envs/dev_runner/lib/python3.12/site-packages/pcntoolkit/regression_model/blr/blr_data.py:88: UserWarning: var_X is not provided, setting self.var_X to zeros\n",
      "  warnings.warn(\"var_X is not provided, setting self.var_X to zeros\")\n",
      "/opt/anaconda3/envs/dev_runner/lib/python3.12/site-packages/pcntoolkit/regression_model/blr/blr_data.py:88: UserWarning: var_X is not provided, setting self.var_X to zeros\n",
      "  warnings.warn(\"var_X is not provided, setting self.var_X to zeros\")\n",
      "/opt/anaconda3/envs/dev_runner/lib/python3.12/site-packages/pcntoolkit/regression_model/blr/blr_data.py:88: UserWarning: var_X is not provided, setting self.var_X to zeros\n",
      "  warnings.warn(\"var_X is not provided, setting self.var_X to zeros\")\n",
      "/opt/anaconda3/envs/dev_runner/lib/python3.12/site-packages/pcntoolkit/regression_model/blr/blr_data.py:88: UserWarning: var_X is not provided, setting self.var_X to zeros\n",
      "  warnings.warn(\"var_X is not provided, setting self.var_X to zeros\")\n",
      "/opt/anaconda3/envs/dev_runner/lib/python3.12/site-packages/pcntoolkit/regression_model/blr/blr_data.py:88: UserWarning: var_X is not provided, setting self.var_X to zeros\n",
      "  warnings.warn(\"var_X is not provided, setting self.var_X to zeros\")\n",
      "/opt/anaconda3/envs/dev_runner/lib/python3.12/site-packages/pcntoolkit/regression_model/blr/blr_data.py:88: UserWarning: var_X is not provided, setting self.var_X to zeros\n",
      "  warnings.warn(\"var_X is not provided, setting self.var_X to zeros\")\n",
      "/opt/anaconda3/envs/dev_runner/lib/python3.12/site-packages/pcntoolkit/regression_model/blr/blr_data.py:88: UserWarning: var_X is not provided, setting self.var_X to zeros\n",
      "  warnings.warn(\"var_X is not provided, setting self.var_X to zeros\")\n",
      "/opt/anaconda3/envs/dev_runner/lib/python3.12/site-packages/pcntoolkit/regression_model/blr/blr_data.py:88: UserWarning: var_X is not provided, setting self.var_X to zeros\n",
      "  warnings.warn(\"var_X is not provided, setting self.var_X to zeros\")\n"
     ]
    },
    {
     "name": "stdout",
     "output_type": "stream",
     "text": [
      "4416 Saving model to /Users/stijndeboer/Projects/PCN/PCNtoolkit/example_notebooks/resources/save_dir/folds/fold_7\n",
      "4416 - Going to fit 1 models\n",
      "\n",
      "4416 - Fitting model for rh_MeanThickness_thickness\n",
      "\n",
      "4415 Saving model to /Users/stijndeboer/Projects/PCN/PCNtoolkit/example_notebooks/resources/save_dir/folds/fold_7\n",
      "4416 Saving model to /Users/stijndeboer/Projects/PCN/PCNtoolkit/example_notebooks/resources/save_dir/folds/fold_8\n",
      "4415 - Going to fit 1 models\n",
      "\n",
      "4415 - Fitting model for WM-hypointensities\n",
      "\n",
      "4416 - Going to fit 1 models\n",
      "\n",
      "4416 - Fitting model for rh_MeanThickness_thickness\n",
      "\n",
      "4416 Saving model to /Users/stijndeboer/Projects/PCN/PCNtoolkit/example_notebooks/resources/save_dir/folds/fold_9\n",
      "4415 Saving model to /Users/stijndeboer/Projects/PCN/PCNtoolkit/example_notebooks/resources/save_dir/folds/fold_8\n",
      "4415 - Going to fit 1 models\n",
      "\n",
      "4415 - Fitting model for WM-hypointensities\n",
      "\n",
      "4415 Saving model to /Users/stijndeboer/Projects/PCN/PCNtoolkit/example_notebooks/resources/save_dir/folds/fold_9\n"
     ]
    },
    {
     "name": "stderr",
     "output_type": "stream",
     "text": [
      "/opt/anaconda3/envs/dev_runner/lib/python3.12/site-packages/pcntoolkit/regression_model/blr/blr_data.py:88: UserWarning: var_X is not provided, setting self.var_X to zeros\n",
      "  warnings.warn(\"var_X is not provided, setting self.var_X to zeros\")\n",
      "/opt/anaconda3/envs/dev_runner/lib/python3.12/site-packages/pcntoolkit/regression_model/blr/blr_data.py:88: UserWarning: var_X is not provided, setting self.var_X to zeros\n",
      "  warnings.warn(\"var_X is not provided, setting self.var_X to zeros\")\n",
      "/opt/anaconda3/envs/dev_runner/lib/python3.12/site-packages/pcntoolkit/regression_model/blr/blr_data.py:88: UserWarning: var_X is not provided, setting self.var_X to zeros\n",
      "  warnings.warn(\"var_X is not provided, setting self.var_X to zeros\")\n",
      "/opt/anaconda3/envs/dev_runner/lib/python3.12/site-packages/pcntoolkit/regression_model/blr/blr_data.py:88: UserWarning: var_X is not provided, setting self.var_X to zeros\n",
      "  warnings.warn(\"var_X is not provided, setting self.var_X to zeros\")\n"
     ]
    }
   ],
   "source": [
    "runner.fit(normdata)"
   ]
  },
  {
   "cell_type": "code",
   "execution_count": null,
   "metadata": {},
   "outputs": [],
   "source": []
  },
  {
   "cell_type": "code",
   "execution_count": null,
   "metadata": {},
   "outputs": [],
   "source": []
  }
 ],
 "metadata": {
  "kernelspec": {
   "display_name": "dev_refactor",
   "language": "python",
   "name": "python3"
  },
  "language_info": {
   "codemirror_mode": {
    "name": "ipython",
    "version": 3
   },
   "file_extension": ".py",
   "mimetype": "text/x-python",
   "name": "python",
   "nbconvert_exporter": "python",
   "pygments_lexer": "ipython3",
   "version": "3.12.0"
  }
 },
 "nbformat": 4,
 "nbformat_minor": 4
}
