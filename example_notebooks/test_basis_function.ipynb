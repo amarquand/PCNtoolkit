{
 "cells": [
  {
   "cell_type": "code",
   "execution_count": 1,
   "metadata": {},
   "outputs": [],
   "source": [
    "import numpy as np\n",
    "\n",
    "from pcntoolkit.dataio.norm_data import NormData\n",
    "from pcntoolkit.util.basis_function import create_basis_function\n",
    "\n",
    "basis_function = create_basis_function(\n",
    "    \"bspline\",\n",
    "    source_array_name=\"X\",\n",
    "    degree=3,\n",
    "    nknots=10,\n",
    ")\n",
    "# Create a normdata object from the downloaded data\n",
    "X = np.random.rand(100, 2) * 10\n",
    "X[:, 0] = np.linspace(0, 1, 100) * 5\n",
    "X[:, 1] = np.linspace(0, 1, 100) * 6\n",
    "normdata = NormData.from_ndarrays(\n",
    "    name=\"test\",\n",
    "    X=X,\n",
    "    y=np.sin(np.linspace(0, 1, 100)),\n",
    ")\n",
    "basis_function.fit(normdata)"
   ]
  },
  {
   "cell_type": "code",
   "execution_count": 7,
   "metadata": {},
   "outputs": [],
   "source": [
    "basis_function.transform(normdata)"
   ]
  },
  {
   "cell_type": "code",
   "execution_count": 8,
   "metadata": {},
   "outputs": [
    {
     "data": {
      "text/plain": [
       "{'source_array_name': 'X',\n",
       " 'basis_column': None,\n",
       " 'is_fitted': True,\n",
       " 'basis_name': 'bspline',\n",
       " 'min': {0: 0.0, 1: 0.0},\n",
       " 'max': {0: 5.0, 1: 6.0},\n",
       " 'compute_min': True,\n",
       " 'compute_max': True,\n",
       " 'degree': 3,\n",
       " 'nknots': 10,\n",
       " 'left_expand': 0.1,\n",
       " 'right_expand': 0.1,\n",
       " 'knot_method': 'uniform',\n",
       " 'knots': {0: array([-0.5       , -0.5       , -0.5       , -0.5       ,  0.16666667,\n",
       "          0.83333333,  1.5       ,  2.16666667,  2.83333333,  3.5       ,\n",
       "          4.16666667,  4.83333333,  5.5       ,  5.5       ,  5.5       ,\n",
       "          5.5       ]),\n",
       "  1: array([-0.6, -0.6, -0.6, -0.6,  0.2,  1. ,  1.8,  2.6,  3.4,  4.2,  5. ,\n",
       "          5.8,  6.6,  6.6,  6.6,  6.6])},\n",
       " 'basis_function': 'BsplineBasisFunction'}"
      ]
     },
     "execution_count": 8,
     "metadata": {},
     "output_type": "execute_result"
    }
   ],
   "source": [
    "d = basis_function.to_dict()\n",
    "d"
   ]
  },
  {
   "cell_type": "code",
   "execution_count": 9,
   "metadata": {},
   "outputs": [
    {
     "data": {
      "text/plain": [
       "<pcntoolkit.util.basis_function.BsplineBasisFunction at 0x167cccc20>"
      ]
     },
     "execution_count": 9,
     "metadata": {},
     "output_type": "execute_result"
    }
   ],
   "source": [
    "restored_basis_function = create_basis_function(d)\n",
    "restored_basis_function"
   ]
  },
  {
   "cell_type": "code",
   "execution_count": null,
   "metadata": {},
   "outputs": [],
   "source": []
  },
  {
   "cell_type": "code",
   "execution_count": null,
   "metadata": {},
   "outputs": [],
   "source": []
  }
 ],
 "metadata": {
  "kernelspec": {
   "display_name": "ptk_dev",
   "language": "python",
   "name": "python3"
  },
  "language_info": {
   "codemirror_mode": {
    "name": "ipython",
    "version": 3
   },
   "file_extension": ".py",
   "mimetype": "text/x-python",
   "name": "python",
   "nbconvert_exporter": "python",
   "pygments_lexer": "ipython3",
   "version": "3.12.0"
  }
 },
 "nbformat": 4,
 "nbformat_minor": 2
}
