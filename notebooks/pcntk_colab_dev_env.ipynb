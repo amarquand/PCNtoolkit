{
  "nbformat": 4,
  "nbformat_minor": 0,
  "metadata": {
    "colab": {
      "provenance": [],
      "authorship_tag": "ABX9TyNfYdKn7+C4d4WSym/CFRMQ",
      "include_colab_link": true
    },
    "kernelspec": {
      "name": "python3",
      "display_name": "Python 3"
    },
    "language_info": {
      "name": "python"
    }
  },
  "cells": [
    {
      "cell_type": "markdown",
      "metadata": {
        "id": "view-in-github",
        "colab_type": "text"
      },
      "source": [
        "<a href=\"https://colab.research.google.com/github/amarquand/PCNtoolkit/blob/dev/notebooks/pcntk_colab_dev_env.ipynb\" target=\"_parent\"><img src=\"https://colab.research.google.com/assets/colab-badge.svg\" alt=\"Open In Colab\"/></a>"
      ]
    },
    {
      "cell_type": "code",
      "source": [
        "!pip install https://github.com/amarquand/PCNtoolkit/archive/dev.zip\n",
        "!pip install nutpie"
      ],
      "metadata": {
        "id": "vIbnkHN9ydb3"
      },
      "execution_count": null,
      "outputs": []
    },
    {
      "cell_type": "code",
      "source": [
        "# %%\n",
        "from warnings import filterwarnings\n",
        "\n",
        "import matplotlib.pyplot as plt\n",
        "import numpy as np\n",
        "import os\n",
        "\n",
        "from pcntoolkit.normative_model.norm_utils import norm_init\n",
        "from pcntoolkit.util.utils import simulate_data\n",
        "\n",
        "filterwarnings(\"ignore\")\n",
        "\n",
        "\n",
        "########################### Experiment Settings ###############################\n",
        "\n",
        "\n",
        "random_state = 40\n",
        "working_dir = \"temp\"  # Specify a working directory to save data and results.\n",
        "os.makedirs(working_dir, exist_ok=True)\n",
        "simulation_method = \"linear\"\n",
        "n_features = 1  # The number of input features of X\n",
        "n_grps = 3  # Number of batches in data\n",
        "n_samples = 500  # Number of samples in each group (use a list for different\n",
        "# sample numbers across different batches)\n",
        "\n",
        "model_type = \"bspline\"  # modelto try 'linear, ''polynomial', 'bspline'\n",
        "\n",
        "\n",
        "############################## Data Simulation ################################\n",
        "\n",
        "\n",
        "X_train, Y_train, grp_id_train, X_test, Y_test, grp_id_test, coef = simulate_data(\n",
        "    simulation_method,\n",
        "    n_samples,\n",
        "    n_features,\n",
        "    n_grps,\n",
        "    working_dir=working_dir,\n",
        "    plot=True,\n",
        "    noise=\"heteroscedastic_nongaussian\",\n",
        "    random_state=random_state,\n",
        ")\n",
        "\n",
        "################################# Fittig and Predicting ###############################\n",
        "\n",
        "nm = norm_init(\n",
        "    X_train,\n",
        "    Y_train,\n",
        "    alg=\"hbr\",\n",
        "    model_type=model_type,\n",
        "    likelihood=\"SHASHb\",\n",
        "    linear_sigma=\"True\",\n",
        "    random_slope_mu=\"False\",\n",
        "    linear_epsilon=\"False\",\n",
        "    linear_delta=\"False\",\n",
        "    nuts_sampler=\"nutpie\",\n",
        ")\n",
        "\n",
        "nm.estimate(X_train, Y_train, trbefile=os.path.join(working_dir, \"trbefile.pkl\"))\n",
        "yhat, ys2 = nm.predict(X_test, tsbefile=os.path.join(working_dir, \"tsbefile.pkl\"))\n",
        "\n",
        "\n",
        "################################# Plotting Quantiles ###############################\n",
        "for i in range(n_features):\n",
        "    sorted_idx = X_test[:, i].argsort(axis=0).squeeze()\n",
        "    temp_X = X_test[sorted_idx, i]\n",
        "    temp_Y = Y_test[sorted_idx,]\n",
        "    temp_be = grp_id_test[sorted_idx, :].squeeze()\n",
        "    temp_yhat = yhat[sorted_idx,]\n",
        "    temp_s2 = ys2[sorted_idx,]\n",
        "\n",
        "    plt.figure()\n",
        "    for j in range(n_grps):\n",
        "        scat1 = plt.scatter(\n",
        "            temp_X[temp_be == j,], temp_Y[temp_be == j,], label=\"Group\" + str(j)\n",
        "        )\n",
        "        # Showing the quantiles\n",
        "        resolution = 200\n",
        "        synth_X = np.linspace(np.min(X_train), np.max(X_train), resolution)\n",
        "        q = nm.get_mcmc_quantiles(synth_X, batch_effects=j * np.ones(resolution))\n",
        "        col = scat1.get_facecolors()[0]\n",
        "        plt.plot(synth_X, q.T, linewidth=1, color=col, zorder=0)\n",
        "\n",
        "    plt.title(\"Model %s, Feature %d\" % (model_type, i))\n",
        "    plt.legend()\n",
        "    plt.show(block=False)\n",
        "    plt.savefig(working_dir + \"quantiles_\" + model_type + \"_feature_\" + str(i) + \".png\")\n",
        "\n",
        "    for j in range(n_grps):\n",
        "        plt.figure()\n",
        "        plt.scatter(temp_X[temp_be == j,], temp_Y[temp_be == j,])\n",
        "        plt.plot(temp_X[temp_be == j,], temp_yhat[temp_be == j,], color=\"red\")\n",
        "        plt.fill_between(\n",
        "            temp_X[temp_be == j,].squeeze(),\n",
        "            (temp_yhat[temp_be == j,] - 2 * np.sqrt(temp_s2[temp_be == j,])).squeeze(),\n",
        "            (temp_yhat[temp_be == j,] + 2 * np.sqrt(temp_s2[temp_be == j,])).squeeze(),\n",
        "            color=\"red\",\n",
        "            alpha=0.2,\n",
        "        )\n",
        "        plt.title(\"Model %s, Group %d, Feature %d\" % (model_type, j, i))\n",
        "        plt.show(block=False)\n",
        "        plt.savefig(\n",
        "            working_dir\n",
        "            + \"pred_\"\n",
        "            + model_type\n",
        "            + \"_group_\"\n",
        "            + str(j)\n",
        "            + \"_feature_\"\n",
        "            + str(i)\n",
        "            + \".png\"\n",
        "        )"
      ],
      "metadata": {
        "id": "RT0EbS7yzCNh"
      },
      "execution_count": null,
      "outputs": []
    },
    {
      "cell_type": "code",
      "source": [],
      "metadata": {
        "id": "3gneUhT80BZZ"
      },
      "execution_count": null,
      "outputs": []
    }
  ]
}