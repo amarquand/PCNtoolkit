{
  "nbformat": 4,
  "nbformat_minor": 0,
  "metadata": {
    "colab": {
      "provenance": [],
      "authorship_tag": "ABX9TyNpr04OpO9Ta6c7GFsTKsic",
      "include_colab_link": true
    },
    "kernelspec": {
      "name": "python3",
      "display_name": "Python 3"
    },
    "language_info": {
      "name": "python"
    },
    "widgets": {
      "application/vnd.jupyter.widget-state+json": {
        "76210a49be1144d58d8ed3b02aadbe72": {
          "model_module": "@jupyter-widgets/output",
          "model_name": "OutputModel",
          "model_module_version": "1.0.0",
          "state": {
            "_dom_classes": [],
            "_model_module": "@jupyter-widgets/output",
            "_model_module_version": "1.0.0",
            "_model_name": "OutputModel",
            "_view_count": null,
            "_view_module": "@jupyter-widgets/output",
            "_view_module_version": "1.0.0",
            "_view_name": "OutputView",
            "layout": "IPY_MODEL_a868d75a2c2849bca3edd651767b54f1",
            "msg_id": "",
            "outputs": [
              {
                "output_type": "display_data",
                "data": {
                  "text/plain": "Sampling chain 0, 0 divergences \u001b[38;2;23;100;244m━━━━━━━━━\u001b[0m\u001b[38;2;23;100;244m╸\u001b[0m\u001b[38;5;237m━━━━━━━━━━━━━━━━━━━━━━━━━━━━━━\u001b[0m \u001b[35m 25%\u001b[0m \u001b[36m0:32:20\u001b[0m / \u001b[33m0:06:35\u001b[0m\n",
                  "text/html": "<pre style=\"white-space:pre;overflow-x:auto;line-height:normal;font-family:Menlo,'DejaVu Sans Mono',consolas,'Courier New',monospace\">Sampling chain 0, 0 divergences <span style=\"color: #1764f4; text-decoration-color: #1764f4\">━━━━━━━━━╸</span><span style=\"color: #3a3a3a; text-decoration-color: #3a3a3a\">━━━━━━━━━━━━━━━━━━━━━━━━━━━━━━</span> <span style=\"color: #800080; text-decoration-color: #800080\"> 25%</span> <span style=\"color: #008080; text-decoration-color: #008080\">0:32:20</span> / <span style=\"color: #808000; text-decoration-color: #808000\">0:06:35</span>\n</pre>\n"
                },
                "metadata": {}
              }
            ]
          }
        },
        "a868d75a2c2849bca3edd651767b54f1": {
          "model_module": "@jupyter-widgets/base",
          "model_name": "LayoutModel",
          "model_module_version": "1.2.0",
          "state": {
            "_model_module": "@jupyter-widgets/base",
            "_model_module_version": "1.2.0",
            "_model_name": "LayoutModel",
            "_view_count": null,
            "_view_module": "@jupyter-widgets/base",
            "_view_module_version": "1.2.0",
            "_view_name": "LayoutView",
            "align_content": null,
            "align_items": null,
            "align_self": null,
            "border": null,
            "bottom": null,
            "display": null,
            "flex": null,
            "flex_flow": null,
            "grid_area": null,
            "grid_auto_columns": null,
            "grid_auto_flow": null,
            "grid_auto_rows": null,
            "grid_column": null,
            "grid_gap": null,
            "grid_row": null,
            "grid_template_areas": null,
            "grid_template_columns": null,
            "grid_template_rows": null,
            "height": null,
            "justify_content": null,
            "justify_items": null,
            "left": null,
            "margin": null,
            "max_height": null,
            "max_width": null,
            "min_height": null,
            "min_width": null,
            "object_fit": null,
            "object_position": null,
            "order": null,
            "overflow": null,
            "overflow_x": null,
            "overflow_y": null,
            "padding": null,
            "right": null,
            "top": null,
            "visibility": null,
            "width": null
          }
        }
      }
    }
  },
  "cells": [
    {
      "cell_type": "markdown",
      "metadata": {
        "id": "view-in-github",
        "colab_type": "text"
      },
      "source": [
        "<a href=\"https://colab.research.google.com/github/amarquand/PCNtoolkit/blob/dev/notebooks/pcntk_colab_env.ipynb\" target=\"_parent\"><img src=\"https://colab.research.google.com/assets/colab-badge.svg\" alt=\"Open In Colab\"/></a>"
      ]
    },
    {
      "cell_type": "code",
      "source": [
        "!pip install pcntoolkit"
      ],
      "metadata": {
        "id": "WtVP1BD3eKjV"
      },
      "execution_count": null,
      "outputs": []
    },
    {
      "cell_type": "code",
      "source": [
        "# %%\n",
        "from warnings import filterwarnings\n",
        "\n",
        "import matplotlib.pyplot as plt\n",
        "import numpy as np\n",
        "import os\n",
        "\n",
        "from pcntoolkit.normative_model.norm_utils import norm_init\n",
        "from pcntoolkit.util.utils import simulate_data\n",
        "\n",
        "filterwarnings(\"ignore\")\n",
        "\n",
        "\n",
        "########################### Experiment Settings ###############################\n",
        "\n",
        "\n",
        "random_state = 40\n",
        "working_dir = \"temp\"  # Specify a working directory to save data and results.\n",
        "os.makedirs(working_dir, exist_ok=True)\n",
        "simulation_method = \"linear\"\n",
        "n_features = 1  # The number of input features of X\n",
        "n_grps = 3  # Number of batches in data\n",
        "n_samples = 500  # Number of samples in each group (use a list for different\n",
        "# sample numbers across different batches)\n",
        "\n",
        "model_type = \"bspline\"  # modelto try 'linear, ''polynomial', 'bspline'\n",
        "\n",
        "\n",
        "############################## Data Simulation ################################\n",
        "\n",
        "\n",
        "X_train, Y_train, grp_id_train, X_test, Y_test, grp_id_test, coef = simulate_data(\n",
        "    simulation_method,\n",
        "    n_samples,\n",
        "    n_features,\n",
        "    n_grps,\n",
        "    working_dir=working_dir,\n",
        "    plot=True,\n",
        "    noise=\"heteroscedastic_nongaussian\",\n",
        "    random_state=random_state,\n",
        ")\n",
        "\n",
        "################################# Fittig and Predicting ###############################\n",
        "\n",
        "nm = norm_init(\n",
        "    X_train,\n",
        "    Y_train,\n",
        "    alg=\"hbr\",\n",
        "    model_type=model_type,\n",
        "    likelihood=\"SHASHb\",\n",
        "    linear_sigma=\"True\",\n",
        "    random_slope_mu=\"False\",\n",
        "    linear_epsilon=\"False\",\n",
        "    linear_delta=\"False\",\n",
        "    nuts_sampler=\"nutpie\",\n",
        ")\n",
        "\n",
        "nm.estimate(X_train, Y_train, trbefile=os.path.join(working_dir, \"trbefile.pkl\"))\n",
        "yhat, ys2 = nm.predict(X_test, tsbefile=os.path.join(working_dir, \"tsbefile.pkl\"))\n",
        "\n",
        "\n",
        "################################# Plotting Quantiles ###############################\n",
        "for i in range(n_features):\n",
        "    sorted_idx = X_test[:, i].argsort(axis=0).squeeze()\n",
        "    temp_X = X_test[sorted_idx, i]\n",
        "    temp_Y = Y_test[sorted_idx,]\n",
        "    temp_be = grp_id_test[sorted_idx, :].squeeze()\n",
        "    temp_yhat = yhat[sorted_idx,]\n",
        "    temp_s2 = ys2[sorted_idx,]\n",
        "\n",
        "    plt.figure()\n",
        "    for j in range(n_grps):\n",
        "        scat1 = plt.scatter(\n",
        "            temp_X[temp_be == j,], temp_Y[temp_be == j,], label=\"Group\" + str(j)\n",
        "        )\n",
        "        # Showing the quantiles\n",
        "        resolution = 200\n",
        "        synth_X = np.linspace(np.min(X_train), np.max(X_train), resolution)\n",
        "        q = nm.get_mcmc_quantiles(synth_X, batch_effects=j * np.ones(resolution))\n",
        "        col = scat1.get_facecolors()[0]\n",
        "        plt.plot(synth_X, q.T, linewidth=1, color=col, zorder=0)\n",
        "\n",
        "    plt.title(\"Model %s, Feature %d\" % (model_type, i))\n",
        "    plt.legend()\n",
        "    plt.show(block=False)\n",
        "    plt.savefig(working_dir + \"quantiles_\" + model_type + \"_feature_\" + str(i) + \".png\")\n",
        "\n",
        "    for j in range(n_grps):\n",
        "        plt.figure()\n",
        "        plt.scatter(temp_X[temp_be == j,], temp_Y[temp_be == j,])\n",
        "        plt.plot(temp_X[temp_be == j,], temp_yhat[temp_be == j,], color=\"red\")\n",
        "        plt.fill_between(\n",
        "            temp_X[temp_be == j,].squeeze(),\n",
        "            (temp_yhat[temp_be == j,] - 2 * np.sqrt(temp_s2[temp_be == j,])).squeeze(),\n",
        "            (temp_yhat[temp_be == j,] + 2 * np.sqrt(temp_s2[temp_be == j,])).squeeze(),\n",
        "            color=\"red\",\n",
        "            alpha=0.2,\n",
        "        )\n",
        "        plt.title(\"Model %s, Group %d, Feature %d\" % (model_type, j, i))\n",
        "        plt.show(block=False)\n",
        "        plt.savefig(\n",
        "            working_dir\n",
        "            + \"pred_\"\n",
        "            + model_type\n",
        "            + \"_group_\"\n",
        "            + str(j)\n",
        "            + \"_feature_\"\n",
        "            + str(i)\n",
        "            + \".png\"\n",
        "        )"
      ],
      "metadata": {
        "colab": {
          "base_uri": "https://localhost:8080/",
          "height": 129,
          "referenced_widgets": [
            "76210a49be1144d58d8ed3b02aadbe72",
            "a868d75a2c2849bca3edd651767b54f1"
          ]
        },
        "id": "CuoBYP1g2I20",
        "outputId": "ca033c81-ab9b-4cda-938d-73e19c7360ca"
      },
      "execution_count": null,
      "outputs": [
        {
          "output_type": "stream",
          "name": "stderr",
          "text": [
            "/usr/local/lib/python3.10/dist-packages/pytensor/tensor/random/op.py:84: FutureWarning: ndim_supp is deprecated. Provide signature instead.\n",
            "  warnings.warn(\n",
            "/usr/local/lib/python3.10/dist-packages/pytensor/tensor/random/op.py:94: FutureWarning: ndims_params is deprecated. Provide signature instead.\n",
            "  warnings.warn(\n"
          ]
        },
        {
          "output_type": "display_data",
          "data": {
            "text/plain": [
              "Output()"
            ],
            "application/vnd.jupyter.widget-view+json": {
              "version_major": 2,
              "version_minor": 0,
              "model_id": "76210a49be1144d58d8ed3b02aadbe72"
            }
          },
          "metadata": {}
        }
      ]
    },
    {
      "cell_type": "code",
      "source": [],
      "metadata": {
        "id": "L9gKL8bz2Jj4"
      },
      "execution_count": null,
      "outputs": []
    }
  ]
}