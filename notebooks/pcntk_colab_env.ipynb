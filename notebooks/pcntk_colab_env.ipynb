{
  "nbformat": 4,
  "nbformat_minor": 0,
  "metadata": {
    "colab": {
      "provenance": [],
      "authorship_tag": "ABX9TyPhmRD2D0nfPuaeSc4uS/Q+",
      "include_colab_link": true
    },
    "kernelspec": {
      "name": "python3",
      "display_name": "Python 3"
    },
    "language_info": {
      "name": "python"
    }
  },
  "cells": [
    {
      "cell_type": "markdown",
      "metadata": {
        "id": "view-in-github",
        "colab_type": "text"
      },
      "source": [
        "<a href=\"https://colab.research.google.com/github/amarquand/PCNtoolkit/blob/dev/notebooks/pcntk_colab_env.ipynb\" target=\"_parent\"><img src=\"https://colab.research.google.com/assets/colab-badge.svg\" alt=\"Open In Colab\"/></a>"
      ]
    },
    {
      "cell_type": "code",
      "source": [
        "## Install condacolab, which will enable us to install using conda\n",
        "## Outcomment this cell after the kernel has automatically restarted\n",
        "import os\n",
        "os.environ['PYTHONPATH'] = \"\"  # Need to clear the pythonpath to avoid some errors\n",
        "!echo \"pythonpath: $PYTHONPATH\"\n",
        "!pip install -q condacolab\n",
        "import condacolab\n",
        "condacolab.install()"
      ],
      "metadata": {
        "id": "WtVP1BD3eKjV"
      },
      "execution_count": null,
      "outputs": []
    },
    {
      "cell_type": "code",
      "source": [
        "# Check if condacolab works\n",
        "import condacolab\n",
        "condacolab.check()\n",
        "\n",
        "# Install libraries with optimized dependencies (BLAS and Rust) using conda\n",
        "!conda install pymc numba nutpie -c conda-forge\n",
        "\n",
        "# Install CPU only verion of torch using conda (go to https://pytorch.org/get-started/locally/ if you need another version for your platform)\n",
        "!conda install pytorch torchvision torchaudio cpuonly -c pytorch\n",
        "\n",
        "# # Install the pcntoolkit\n",
        "!pip install https://github.com/amarquand/PCNtoolkit/archive/dev.zip"
      ],
      "metadata": {
        "id": "cb4xm679kxnE",
        "collapsed": true
      },
      "execution_count": null,
      "outputs": []
    },
    {
      "cell_type": "code",
      "source": [
        "import pcntoolkit as ptk\n",
        "\n",
        "### If you get an error about a cffi version mismatch, bright the site-packages version of cffi up to the dist-packages version using the following line\n",
        "# !pip install --upgrade cffi==1.17.1 # works if dist-packages version is 1.17.1"
      ],
      "metadata": {
        "id": "AAtKC6emj8Rn"
      },
      "execution_count": null,
      "outputs": []
    },
    {
      "cell_type": "code",
      "source": [],
      "metadata": {
        "id": "JZlmznTwoH_t"
      },
      "execution_count": null,
      "outputs": []
    }
  ]
}